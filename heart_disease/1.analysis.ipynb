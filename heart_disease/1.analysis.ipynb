{
 "cells": [
  {
   "cell_type": "code",
   "execution_count": 69,
   "metadata": {},
   "outputs": [],
   "source": [
    "\n",
    "# change above to theme setting using pio\n",
    "import plotly.io as pio\n",
    "pio.templates.default = \"plotly_dark\"\n",
    "\n",
    "# change font (size = 14, monospace)\n",
    "pio.templates[pio.templates.default].layout.font.size = 14\n",
    "pio.templates[pio.templates.default].layout.font.family = \"monospace\""
   ]
  },
  {
   "cell_type": "code",
   "execution_count": 70,
   "metadata": {},
   "outputs": [
    {
     "data": {
      "text/html": [
       "<div>\n",
       "<style scoped>\n",
       "    .dataframe tbody tr th:only-of-type {\n",
       "        vertical-align: middle;\n",
       "    }\n",
       "\n",
       "    .dataframe tbody tr th {\n",
       "        vertical-align: top;\n",
       "    }\n",
       "\n",
       "    .dataframe thead th {\n",
       "        text-align: right;\n",
       "    }\n",
       "</style>\n",
       "<table border=\"1\" class=\"dataframe\">\n",
       "  <thead>\n",
       "    <tr style=\"text-align: right;\">\n",
       "      <th></th>\n",
       "      <th>age</th>\n",
       "      <th>sex</th>\n",
       "      <th>chest_pain_type</th>\n",
       "      <th>resting_blood_pressure</th>\n",
       "      <th>cholestoral</th>\n",
       "      <th>fasting_blood_sugar</th>\n",
       "      <th>rest_ecg</th>\n",
       "      <th>Max_heart_rate</th>\n",
       "      <th>exercise_induced_angina</th>\n",
       "      <th>oldpeak</th>\n",
       "      <th>slope</th>\n",
       "      <th>vessels_colored_by_flourosopy</th>\n",
       "      <th>thalassemia</th>\n",
       "      <th>target</th>\n",
       "    </tr>\n",
       "  </thead>\n",
       "  <tbody>\n",
       "    <tr>\n",
       "      <th>0</th>\n",
       "      <td>52</td>\n",
       "      <td>Male</td>\n",
       "      <td>Typical angina</td>\n",
       "      <td>125</td>\n",
       "      <td>212</td>\n",
       "      <td>Lower than 120 mg/ml</td>\n",
       "      <td>ST-T wave abnormality</td>\n",
       "      <td>168</td>\n",
       "      <td>No</td>\n",
       "      <td>1.0</td>\n",
       "      <td>Downsloping</td>\n",
       "      <td>Two</td>\n",
       "      <td>Reversable Defect</td>\n",
       "      <td>0</td>\n",
       "    </tr>\n",
       "    <tr>\n",
       "      <th>1</th>\n",
       "      <td>53</td>\n",
       "      <td>Male</td>\n",
       "      <td>Typical angina</td>\n",
       "      <td>140</td>\n",
       "      <td>203</td>\n",
       "      <td>Greater than 120 mg/ml</td>\n",
       "      <td>Normal</td>\n",
       "      <td>155</td>\n",
       "      <td>Yes</td>\n",
       "      <td>3.1</td>\n",
       "      <td>Upsloping</td>\n",
       "      <td>Zero</td>\n",
       "      <td>Reversable Defect</td>\n",
       "      <td>0</td>\n",
       "    </tr>\n",
       "    <tr>\n",
       "      <th>2</th>\n",
       "      <td>70</td>\n",
       "      <td>Male</td>\n",
       "      <td>Typical angina</td>\n",
       "      <td>145</td>\n",
       "      <td>174</td>\n",
       "      <td>Lower than 120 mg/ml</td>\n",
       "      <td>ST-T wave abnormality</td>\n",
       "      <td>125</td>\n",
       "      <td>Yes</td>\n",
       "      <td>2.6</td>\n",
       "      <td>Upsloping</td>\n",
       "      <td>Zero</td>\n",
       "      <td>Reversable Defect</td>\n",
       "      <td>0</td>\n",
       "    </tr>\n",
       "    <tr>\n",
       "      <th>3</th>\n",
       "      <td>61</td>\n",
       "      <td>Male</td>\n",
       "      <td>Typical angina</td>\n",
       "      <td>148</td>\n",
       "      <td>203</td>\n",
       "      <td>Lower than 120 mg/ml</td>\n",
       "      <td>ST-T wave abnormality</td>\n",
       "      <td>161</td>\n",
       "      <td>No</td>\n",
       "      <td>0.0</td>\n",
       "      <td>Downsloping</td>\n",
       "      <td>One</td>\n",
       "      <td>Reversable Defect</td>\n",
       "      <td>0</td>\n",
       "    </tr>\n",
       "    <tr>\n",
       "      <th>4</th>\n",
       "      <td>62</td>\n",
       "      <td>Female</td>\n",
       "      <td>Typical angina</td>\n",
       "      <td>138</td>\n",
       "      <td>294</td>\n",
       "      <td>Greater than 120 mg/ml</td>\n",
       "      <td>ST-T wave abnormality</td>\n",
       "      <td>106</td>\n",
       "      <td>No</td>\n",
       "      <td>1.9</td>\n",
       "      <td>Flat</td>\n",
       "      <td>Three</td>\n",
       "      <td>Fixed Defect</td>\n",
       "      <td>0</td>\n",
       "    </tr>\n",
       "    <tr>\n",
       "      <th>...</th>\n",
       "      <td>...</td>\n",
       "      <td>...</td>\n",
       "      <td>...</td>\n",
       "      <td>...</td>\n",
       "      <td>...</td>\n",
       "      <td>...</td>\n",
       "      <td>...</td>\n",
       "      <td>...</td>\n",
       "      <td>...</td>\n",
       "      <td>...</td>\n",
       "      <td>...</td>\n",
       "      <td>...</td>\n",
       "      <td>...</td>\n",
       "      <td>...</td>\n",
       "    </tr>\n",
       "    <tr>\n",
       "      <th>1020</th>\n",
       "      <td>59</td>\n",
       "      <td>Male</td>\n",
       "      <td>Atypical angina</td>\n",
       "      <td>140</td>\n",
       "      <td>221</td>\n",
       "      <td>Lower than 120 mg/ml</td>\n",
       "      <td>ST-T wave abnormality</td>\n",
       "      <td>164</td>\n",
       "      <td>Yes</td>\n",
       "      <td>0.0</td>\n",
       "      <td>Downsloping</td>\n",
       "      <td>Zero</td>\n",
       "      <td>Fixed Defect</td>\n",
       "      <td>1</td>\n",
       "    </tr>\n",
       "    <tr>\n",
       "      <th>1021</th>\n",
       "      <td>60</td>\n",
       "      <td>Male</td>\n",
       "      <td>Typical angina</td>\n",
       "      <td>125</td>\n",
       "      <td>258</td>\n",
       "      <td>Lower than 120 mg/ml</td>\n",
       "      <td>Normal</td>\n",
       "      <td>141</td>\n",
       "      <td>Yes</td>\n",
       "      <td>2.8</td>\n",
       "      <td>Flat</td>\n",
       "      <td>One</td>\n",
       "      <td>Reversable Defect</td>\n",
       "      <td>0</td>\n",
       "    </tr>\n",
       "    <tr>\n",
       "      <th>1022</th>\n",
       "      <td>47</td>\n",
       "      <td>Male</td>\n",
       "      <td>Typical angina</td>\n",
       "      <td>110</td>\n",
       "      <td>275</td>\n",
       "      <td>Lower than 120 mg/ml</td>\n",
       "      <td>Normal</td>\n",
       "      <td>118</td>\n",
       "      <td>Yes</td>\n",
       "      <td>1.0</td>\n",
       "      <td>Flat</td>\n",
       "      <td>One</td>\n",
       "      <td>Fixed Defect</td>\n",
       "      <td>0</td>\n",
       "    </tr>\n",
       "    <tr>\n",
       "      <th>1023</th>\n",
       "      <td>50</td>\n",
       "      <td>Female</td>\n",
       "      <td>Typical angina</td>\n",
       "      <td>110</td>\n",
       "      <td>254</td>\n",
       "      <td>Lower than 120 mg/ml</td>\n",
       "      <td>Normal</td>\n",
       "      <td>159</td>\n",
       "      <td>No</td>\n",
       "      <td>0.0</td>\n",
       "      <td>Downsloping</td>\n",
       "      <td>Zero</td>\n",
       "      <td>Fixed Defect</td>\n",
       "      <td>1</td>\n",
       "    </tr>\n",
       "    <tr>\n",
       "      <th>1024</th>\n",
       "      <td>54</td>\n",
       "      <td>Male</td>\n",
       "      <td>Typical angina</td>\n",
       "      <td>120</td>\n",
       "      <td>188</td>\n",
       "      <td>Lower than 120 mg/ml</td>\n",
       "      <td>ST-T wave abnormality</td>\n",
       "      <td>113</td>\n",
       "      <td>No</td>\n",
       "      <td>1.4</td>\n",
       "      <td>Flat</td>\n",
       "      <td>One</td>\n",
       "      <td>Reversable Defect</td>\n",
       "      <td>0</td>\n",
       "    </tr>\n",
       "  </tbody>\n",
       "</table>\n",
       "<p>1025 rows × 14 columns</p>\n",
       "</div>"
      ],
      "text/plain": [
       "      age     sex  chest_pain_type  resting_blood_pressure  cholestoral  \\\n",
       "0      52    Male   Typical angina                     125          212   \n",
       "1      53    Male   Typical angina                     140          203   \n",
       "2      70    Male   Typical angina                     145          174   \n",
       "3      61    Male   Typical angina                     148          203   \n",
       "4      62  Female   Typical angina                     138          294   \n",
       "...   ...     ...              ...                     ...          ...   \n",
       "1020   59    Male  Atypical angina                     140          221   \n",
       "1021   60    Male   Typical angina                     125          258   \n",
       "1022   47    Male   Typical angina                     110          275   \n",
       "1023   50  Female   Typical angina                     110          254   \n",
       "1024   54    Male   Typical angina                     120          188   \n",
       "\n",
       "         fasting_blood_sugar               rest_ecg  Max_heart_rate  \\\n",
       "0       Lower than 120 mg/ml  ST-T wave abnormality             168   \n",
       "1     Greater than 120 mg/ml                 Normal             155   \n",
       "2       Lower than 120 mg/ml  ST-T wave abnormality             125   \n",
       "3       Lower than 120 mg/ml  ST-T wave abnormality             161   \n",
       "4     Greater than 120 mg/ml  ST-T wave abnormality             106   \n",
       "...                      ...                    ...             ...   \n",
       "1020    Lower than 120 mg/ml  ST-T wave abnormality             164   \n",
       "1021    Lower than 120 mg/ml                 Normal             141   \n",
       "1022    Lower than 120 mg/ml                 Normal             118   \n",
       "1023    Lower than 120 mg/ml                 Normal             159   \n",
       "1024    Lower than 120 mg/ml  ST-T wave abnormality             113   \n",
       "\n",
       "     exercise_induced_angina  oldpeak        slope  \\\n",
       "0                         No      1.0  Downsloping   \n",
       "1                        Yes      3.1    Upsloping   \n",
       "2                        Yes      2.6    Upsloping   \n",
       "3                         No      0.0  Downsloping   \n",
       "4                         No      1.9         Flat   \n",
       "...                      ...      ...          ...   \n",
       "1020                     Yes      0.0  Downsloping   \n",
       "1021                     Yes      2.8         Flat   \n",
       "1022                     Yes      1.0         Flat   \n",
       "1023                      No      0.0  Downsloping   \n",
       "1024                      No      1.4         Flat   \n",
       "\n",
       "     vessels_colored_by_flourosopy        thalassemia  target  \n",
       "0                              Two  Reversable Defect       0  \n",
       "1                             Zero  Reversable Defect       0  \n",
       "2                             Zero  Reversable Defect       0  \n",
       "3                              One  Reversable Defect       0  \n",
       "4                            Three       Fixed Defect       0  \n",
       "...                            ...                ...     ...  \n",
       "1020                          Zero       Fixed Defect       1  \n",
       "1021                           One  Reversable Defect       0  \n",
       "1022                           One       Fixed Defect       0  \n",
       "1023                          Zero       Fixed Defect       1  \n",
       "1024                           One  Reversable Defect       0  \n",
       "\n",
       "[1025 rows x 14 columns]"
      ]
     },
     "execution_count": 70,
     "metadata": {},
     "output_type": "execute_result"
    }
   ],
   "source": [
    "import pandas as pd\n",
    "from sklearn.preprocessing import PolynomialFeatures\n",
    "\n",
    "# Load your dataset\n",
    "heart_disease_df = pd.read_csv('data/HeartDiseaseTrain-Test.csv')\n",
    "heart_disease_df"
   ]
  },
  {
   "cell_type": "code",
   "execution_count": 71,
   "metadata": {},
   "outputs": [],
   "source": [
    "# map column names to full names\n",
    "column_mapping = {\n",
    "    'age': 'Age',\n",
    "    'sex': 'Gender',\n",
    "    'chest_pain_type': 'Chest Pain Type',\n",
    "    'resting_blood_pressure': 'Resting Blood Pressure',\n",
    "    'cholestoral': 'Cholesterol',\n",
    "    'fasting_blood_sugar': 'Fasting Blood Sugar',\n",
    "    'rest_ecg': 'Rest ECG',\n",
    "    'Max_heart_rate': 'Max Heart Rate',\n",
    "    'exercise_induced_angina': 'Exercise Induced Angina',\n",
    "    'oldpeak': 'Oldpeak',\n",
    "    'slope': 'Slope',\n",
    "    'vessels_colored_by_flourosopy': 'Vessels Colored by Fluoroscopy',\n",
    "    'thalassemia': 'Thalassemia',\n",
    "    'target': 'Heart Disease'\n",
    "}\n",
    "\n",
    "# iterate over the column names and print the full names\n",
    "map = {col: column_mapping[col] for col in heart_disease_df.columns}\n"
   ]
  },
  {
   "cell_type": "markdown",
   "metadata": {},
   "source": [
    "## Checking for Missing Values"
   ]
  },
  {
   "cell_type": "code",
   "execution_count": 72,
   "metadata": {},
   "outputs": [
    {
     "data": {
      "text/plain": [
       "age                              0\n",
       "sex                              0\n",
       "chest_pain_type                  0\n",
       "resting_blood_pressure           0\n",
       "cholestoral                      0\n",
       "fasting_blood_sugar              0\n",
       "rest_ecg                         0\n",
       "Max_heart_rate                   0\n",
       "exercise_induced_angina          0\n",
       "oldpeak                          0\n",
       "slope                            0\n",
       "vessels_colored_by_flourosopy    0\n",
       "thalassemia                      0\n",
       "target                           0\n",
       "dtype: int64"
      ]
     },
     "execution_count": 72,
     "metadata": {},
     "output_type": "execute_result"
    }
   ],
   "source": [
    "# Check for missing values in the dataset\n",
    "missing_values = heart_disease_df.isnull().sum()\n",
    "\n",
    "missing_values\n"
   ]
  },
  {
   "cell_type": "markdown",
   "metadata": {},
   "source": [
    "## Checking for duplicactes"
   ]
  },
  {
   "cell_type": "code",
   "execution_count": 73,
   "metadata": {},
   "outputs": [
    {
     "data": {
      "text/plain": [
       "723"
      ]
     },
     "execution_count": 73,
     "metadata": {},
     "output_type": "execute_result"
    }
   ],
   "source": [
    "# Check for duplicates\n",
    "duplicates = heart_disease_df.duplicated().sum()\n",
    "\n",
    "duplicates"
   ]
  },
  {
   "cell_type": "markdown",
   "metadata": {},
   "source": [
    "### remove duplicates"
   ]
  },
  {
   "cell_type": "code",
   "execution_count": 74,
   "metadata": {},
   "outputs": [
    {
     "data": {
      "text/plain": [
       "(302, 14)"
      ]
     },
     "execution_count": 74,
     "metadata": {},
     "output_type": "execute_result"
    }
   ],
   "source": [
    "# Remove duplicates\n",
    "heart_disease_clean_df = heart_disease_df.drop_duplicates()\n",
    "\n",
    "# Check the new shape after removing duplicates\n",
    "cleaned_dataset_shape = heart_disease_clean_df.shape\n",
    "\n",
    "cleaned_dataset_shape\n"
   ]
  },
  {
   "cell_type": "code",
   "execution_count": 75,
   "metadata": {},
   "outputs": [],
   "source": [
    "# use cleaned heart_disease_df\n",
    "heart_disease_df = heart_disease_clean_df"
   ]
  },
  {
   "cell_type": "markdown",
   "metadata": {},
   "source": [
    "## Exploratory Data Analysis (EDA)\n",
    "* Data Types\n",
    "* Shape of the Dataset\n",
    "* Descriptive Statistics\n",
    "* Histograms of all Variables"
   ]
  },
  {
   "cell_type": "code",
   "execution_count": 76,
   "metadata": {},
   "outputs": [
    {
     "data": {
      "text/plain": [
       "age                                int64\n",
       "sex                               object\n",
       "chest_pain_type                   object\n",
       "resting_blood_pressure             int64\n",
       "cholestoral                        int64\n",
       "fasting_blood_sugar               object\n",
       "rest_ecg                          object\n",
       "Max_heart_rate                     int64\n",
       "exercise_induced_angina           object\n",
       "oldpeak                          float64\n",
       "slope                             object\n",
       "vessels_colored_by_flourosopy     object\n",
       "thalassemia                       object\n",
       "target                             int64\n",
       "dtype: object"
      ]
     },
     "execution_count": 76,
     "metadata": {},
     "output_type": "execute_result"
    }
   ],
   "source": [
    "# Check the data types of each column\n",
    "data_types = heart_disease_df.dtypes\n",
    "\n",
    "data_types\n"
   ]
  },
  {
   "cell_type": "code",
   "execution_count": 77,
   "metadata": {},
   "outputs": [
    {
     "data": {
      "text/plain": [
       "(302, 14)"
      ]
     },
     "execution_count": 77,
     "metadata": {},
     "output_type": "execute_result"
    }
   ],
   "source": [
    "# Get the shape of the dataset\n",
    "dataset_shape = heart_disease_df.shape\n",
    "\n",
    "dataset_shape\n"
   ]
  },
  {
   "cell_type": "markdown",
   "metadata": {},
   "source": [
    "### Descriptive Statistics\n"
   ]
  },
  {
   "cell_type": "code",
   "execution_count": 78,
   "metadata": {},
   "outputs": [
    {
     "data": {
      "text/html": [
       "<div>\n",
       "<style scoped>\n",
       "    .dataframe tbody tr th:only-of-type {\n",
       "        vertical-align: middle;\n",
       "    }\n",
       "\n",
       "    .dataframe tbody tr th {\n",
       "        vertical-align: top;\n",
       "    }\n",
       "\n",
       "    .dataframe thead th {\n",
       "        text-align: right;\n",
       "    }\n",
       "</style>\n",
       "<table border=\"1\" class=\"dataframe\">\n",
       "  <thead>\n",
       "    <tr style=\"text-align: right;\">\n",
       "      <th></th>\n",
       "      <th>age</th>\n",
       "      <th>resting_blood_pressure</th>\n",
       "      <th>cholestoral</th>\n",
       "      <th>Max_heart_rate</th>\n",
       "      <th>oldpeak</th>\n",
       "      <th>target</th>\n",
       "    </tr>\n",
       "  </thead>\n",
       "  <tbody>\n",
       "    <tr>\n",
       "      <th>count</th>\n",
       "      <td>302.00000</td>\n",
       "      <td>302.000000</td>\n",
       "      <td>302.000000</td>\n",
       "      <td>302.000000</td>\n",
       "      <td>302.000000</td>\n",
       "      <td>302.000000</td>\n",
       "    </tr>\n",
       "    <tr>\n",
       "      <th>mean</th>\n",
       "      <td>54.42053</td>\n",
       "      <td>131.602649</td>\n",
       "      <td>246.500000</td>\n",
       "      <td>149.569536</td>\n",
       "      <td>1.043046</td>\n",
       "      <td>0.543046</td>\n",
       "    </tr>\n",
       "    <tr>\n",
       "      <th>std</th>\n",
       "      <td>9.04797</td>\n",
       "      <td>17.563394</td>\n",
       "      <td>51.753489</td>\n",
       "      <td>22.903527</td>\n",
       "      <td>1.161452</td>\n",
       "      <td>0.498970</td>\n",
       "    </tr>\n",
       "    <tr>\n",
       "      <th>min</th>\n",
       "      <td>29.00000</td>\n",
       "      <td>94.000000</td>\n",
       "      <td>126.000000</td>\n",
       "      <td>71.000000</td>\n",
       "      <td>0.000000</td>\n",
       "      <td>0.000000</td>\n",
       "    </tr>\n",
       "    <tr>\n",
       "      <th>25%</th>\n",
       "      <td>48.00000</td>\n",
       "      <td>120.000000</td>\n",
       "      <td>211.000000</td>\n",
       "      <td>133.250000</td>\n",
       "      <td>0.000000</td>\n",
       "      <td>0.000000</td>\n",
       "    </tr>\n",
       "    <tr>\n",
       "      <th>50%</th>\n",
       "      <td>55.50000</td>\n",
       "      <td>130.000000</td>\n",
       "      <td>240.500000</td>\n",
       "      <td>152.500000</td>\n",
       "      <td>0.800000</td>\n",
       "      <td>1.000000</td>\n",
       "    </tr>\n",
       "    <tr>\n",
       "      <th>75%</th>\n",
       "      <td>61.00000</td>\n",
       "      <td>140.000000</td>\n",
       "      <td>274.750000</td>\n",
       "      <td>166.000000</td>\n",
       "      <td>1.600000</td>\n",
       "      <td>1.000000</td>\n",
       "    </tr>\n",
       "    <tr>\n",
       "      <th>max</th>\n",
       "      <td>77.00000</td>\n",
       "      <td>200.000000</td>\n",
       "      <td>564.000000</td>\n",
       "      <td>202.000000</td>\n",
       "      <td>6.200000</td>\n",
       "      <td>1.000000</td>\n",
       "    </tr>\n",
       "  </tbody>\n",
       "</table>\n",
       "</div>"
      ],
      "text/plain": [
       "             age  resting_blood_pressure  cholestoral  Max_heart_rate  \\\n",
       "count  302.00000              302.000000   302.000000      302.000000   \n",
       "mean    54.42053              131.602649   246.500000      149.569536   \n",
       "std      9.04797               17.563394    51.753489       22.903527   \n",
       "min     29.00000               94.000000   126.000000       71.000000   \n",
       "25%     48.00000              120.000000   211.000000      133.250000   \n",
       "50%     55.50000              130.000000   240.500000      152.500000   \n",
       "75%     61.00000              140.000000   274.750000      166.000000   \n",
       "max     77.00000              200.000000   564.000000      202.000000   \n",
       "\n",
       "          oldpeak      target  \n",
       "count  302.000000  302.000000  \n",
       "mean     1.043046    0.543046  \n",
       "std      1.161452    0.498970  \n",
       "min      0.000000    0.000000  \n",
       "25%      0.000000    0.000000  \n",
       "50%      0.800000    1.000000  \n",
       "75%      1.600000    1.000000  \n",
       "max      6.200000    1.000000  "
      ]
     },
     "execution_count": 78,
     "metadata": {},
     "output_type": "execute_result"
    }
   ],
   "source": [
    "# Get descriptive statistics for numeric columns\n",
    "numeric_stats = heart_disease_df.describe()\n",
    "\n",
    "numeric_stats\n"
   ]
  },
  {
   "cell_type": "markdown",
   "metadata": {},
   "source": [
    "### Histograms"
   ]
  },
  {
   "cell_type": "markdown",
   "metadata": {},
   "source": [
    "#### Numerical variables"
   ]
  },
  {
   "cell_type": "markdown",
   "metadata": {},
   "source": [
    "\n",
    "\n"
   ]
  },
  {
   "cell_type": "markdown",
   "metadata": {},
   "source": [
    "#### Categorical variables\n",
    "\n",
    "* sex\n",
    "* chest_pain_type\n",
    "* fasting_blood_sugar\n",
    "* rest_ecg\n",
    "* exercise_induced_angina\n",
    "* slope\n",
    "* vessels_colored_by_flourosopy\n",
    "* thalassemia"
   ]
  },
  {
   "cell_type": "code",
   "execution_count": 80,
   "metadata": {},
   "outputs": [],
   "source": [
    "# !pip install palettable"
   ]
  },
  {
   "cell_type": "code",
   "execution_count": 81,
   "metadata": {},
   "outputs": [],
   "source": [
    "import palettable"
   ]
  },
  {
   "cell_type": "code",
   "execution_count": 97,
   "metadata": {},
   "outputs": [],
   "source": [
    "import plotly.graph_objects as go\n",
    "import plotly.express as px\n",
    "from plotly.subplots import make_subplots\n",
    "\n",
    "# Titles for plots\n",
    "titles = {\n",
    "    'sex': 'Distribution of Gender (sex)',\n",
    "    'chest_pain_type': 'Distribution of Chest Pain Type',\n",
    "    'fasting_blood_sugar': 'Distribution of Fasting Blood Sugar',\n",
    "    'rest_ecg': 'Distribution of Resting ECG Results',\n",
    "    'exercise_induced_angina': 'Distribution of Exercise-Induced Angina',\n",
    "    'slope': 'Distribution of Slope of Peak Exercise ST Segment',\n",
    "    'vessels_colored_by_flourosopy': 'Distribution of Vessels Colored by Fluoroscopy',\n",
    "    'thalassemia': 'Distribution of Thalassemia'\n",
    "}\n",
    "\n",
    "# List of categorical variables\n",
    "categorical_columns = [\n",
    "    'sex', 'chest_pain_type', 'fasting_blood_sugar', 'rest_ecg',\n",
    "    'exercise_induced_angina', 'slope', 'vessels_colored_by_flourosopy', 'thalassemia'\n",
    "]\n",
    "\n",
    "color_palettes = [\n",
    "    \"#ffd8ec\",  # Light pinkish-beige\n",
    "    \"#ffa8cb\",  # Bright pink\n",
    "    \"#e5000c\",  # Deep red\n",
    "    \"#784283\",  # Dark purple\n",
    "    \"#ddd690\",  # Light brown\n",
    "    \"#ffefd5\",  # Ivory\n",
    "    \"#ff7f50\",  # Coral\n",
    "    \"#8b4513\",  # Saddle brown\n",
    "]\n"
   ]
  },
  {
   "cell_type": "code",
   "execution_count": 103,
   "metadata": {},
   "outputs": [
    {
     "data": {
      "application/vnd.plotly.v1+json": {
       "config": {
        "plotlyServerURL": "https://plot.ly"
       },
       "data": [
        {
         "hoverinfo": "x+y",
         "marker": {
          "color": "#ffd8ec"
         },
         "nbinsx": 20,
         "type": "histogram",
         "x": [
          52,
          53,
          70,
          61,
          62,
          58,
          58,
          55,
          46,
          54,
          71,
          43,
          34,
          51,
          52,
          51,
          54,
          50,
          58,
          60,
          67,
          45,
          63,
          42,
          61,
          44,
          58,
          56,
          55,
          44,
          57,
          70,
          50,
          46,
          51,
          59,
          64,
          57,
          65,
          54,
          61,
          55,
          42,
          41,
          66,
          66,
          60,
          58,
          57,
          38,
          49,
          55,
          56,
          48,
          67,
          57,
          29,
          67,
          59,
          59,
          53,
          42,
          37,
          62,
          59,
          61,
          56,
          59,
          48,
          47,
          48,
          63,
          52,
          50,
          49,
          44,
          59,
          62,
          68,
          54,
          62,
          62,
          45,
          57,
          53,
          65,
          76,
          43,
          57,
          54,
          52,
          47,
          51,
          62,
          40,
          54,
          44,
          53,
          57,
          59,
          63,
          43,
          42,
          60,
          65,
          61,
          60,
          66,
          52,
          57,
          51,
          58,
          64,
          41,
          57,
          63,
          61,
          34,
          47,
          40,
          51,
          41,
          52,
          39,
          54,
          58,
          63,
          40,
          67,
          41,
          77,
          51,
          48,
          56,
          57,
          43,
          45,
          43,
          56,
          56,
          39,
          54,
          56,
          64,
          56,
          64,
          60,
          42,
          45,
          57,
          64,
          41,
          56,
          69,
          67,
          58,
          45,
          60,
          50,
          64,
          42,
          42,
          50,
          49,
          65,
          46,
          57,
          51,
          54,
          44,
          52,
          56,
          60,
          41,
          49,
          57,
          62,
          54,
          51,
          44,
          39,
          55,
          35,
          62,
          35,
          38,
          44,
          48,
          67,
          58,
          71,
          43,
          44,
          66,
          57,
          41,
          45,
          35,
          41,
          64,
          71,
          58,
          58,
          61,
          58,
          52,
          46,
          51,
          52,
          62,
          56,
          74,
          53,
          53,
          48,
          45,
          66,
          57,
          70,
          63,
          37,
          54,
          60,
          54,
          60,
          65,
          52,
          43,
          62,
          57,
          46,
          59,
          59,
          62,
          53,
          58,
          48,
          58,
          51,
          58,
          46,
          59,
          64,
          58,
          59,
          35,
          63,
          45,
          68,
          70,
          42,
          51,
          54,
          57,
          47,
          65,
          41,
          67,
          47,
          52,
          63,
          49,
          69,
          58,
          41,
          58,
          59,
          54,
          44,
          58,
          67,
          59,
          60,
          53,
          50,
          44,
          68,
          67,
          50,
          54,
          46,
          55,
          64,
          63,
          66,
          55,
          43,
          69,
          65,
          61,
          65,
          66,
          55,
          39,
          60,
          52,
          64,
          68,
          44,
          52,
          59,
          54
         ],
         "xaxis": "x",
         "yaxis": "y"
        },
        {
         "hoverinfo": "x+y",
         "marker": {
          "color": "#ffa8cb"
         },
         "nbinsx": 20,
         "type": "histogram",
         "x": [
          125,
          140,
          145,
          148,
          138,
          100,
          114,
          160,
          120,
          122,
          112,
          132,
          118,
          140,
          128,
          140,
          124,
          120,
          140,
          140,
          106,
          104,
          135,
          120,
          145,
          130,
          136,
          130,
          180,
          120,
          130,
          160,
          129,
          150,
          125,
          138,
          128,
          128,
          160,
          120,
          130,
          132,
          140,
          135,
          178,
          146,
          117,
          150,
          140,
          138,
          120,
          140,
          120,
          130,
          152,
          154,
          130,
          100,
          150,
          170,
          130,
          136,
          120,
          160,
          170,
          140,
          125,
          140,
          130,
          138,
          124,
          140,
          134,
          140,
          118,
          120,
          174,
          140,
          144,
          108,
          124,
          128,
          138,
          128,
          123,
          110,
          140,
          122,
          150,
          108,
          118,
          110,
          140,
          120,
          152,
          110,
          110,
          142,
          110,
          126,
          130,
          120,
          120,
          145,
          140,
          120,
          150,
          120,
          138,
          140,
          130,
          170,
          180,
          110,
          152,
          124,
          134,
          118,
          112,
          110,
          120,
          110,
          152,
          140,
          192,
          125,
          130,
          140,
          115,
          120,
          125,
          100,
          124,
          132,
          120,
          130,
          112,
          150,
          130,
          120,
          94,
          110,
          200,
          120,
          134,
          110,
          140,
          130,
          128,
          165,
          125,
          112,
          130,
          160,
          160,
          100,
          115,
          102,
          144,
          170,
          148,
          120,
          150,
          130,
          135,
          140,
          130,
          140,
          150,
          118,
          128,
          120,
          125,
          126,
          130,
          124,
          150,
          132,
          125,
          130,
          138,
          132,
          120,
          140,
          138,
          120,
          120,
          122,
          120,
          132,
          110,
          110,
          120,
          160,
          132,
          105,
          130,
          122,
          130,
          140,
          160,
          120,
          128,
          150,
          150,
          120,
          105,
          94,
          136,
          120,
          140,
          120,
          128,
          130,
          130,
          142,
          160,
          150,
          130,
          108,
          130,
          110,
          130,
          125,
          130,
          155,
          172,
          132,
          130,
          110,
          138,
          164,
          134,
          130,
          130,
          112,
          110,
          105,
          110,
          120,
          142,
          140,
          130,
          146,
          110,
          126,
          145,
          110,
          180,
          156,
          102,
          130,
          160,
          150,
          108,
          150,
          112,
          120,
          130,
          112,
          150,
          134,
          140,
          130,
          130,
          128,
          135,
          140,
          112,
          125,
          152,
          178,
          150,
          138,
          120,
          140,
          118,
          125,
          110,
          135,
          101,
          130,
          145,
          140,
          112,
          128,
          115,
          140,
          138,
          138,
          120,
          150,
          135,
          118,
          120,
          108,
          140,
          120,
          108,
          128,
          160,
          120
         ],
         "xaxis": "x2",
         "yaxis": "y2"
        },
        {
         "hoverinfo": "x+y",
         "marker": {
          "color": "#e5000c"
         },
         "nbinsx": 20,
         "type": "histogram",
         "x": [
          212,
          203,
          174,
          203,
          294,
          248,
          318,
          289,
          249,
          286,
          149,
          341,
          210,
          298,
          204,
          308,
          266,
          244,
          211,
          185,
          223,
          208,
          252,
          209,
          307,
          233,
          319,
          256,
          327,
          169,
          131,
          269,
          196,
          231,
          213,
          271,
          263,
          229,
          360,
          258,
          330,
          342,
          226,
          203,
          228,
          278,
          230,
          283,
          241,
          175,
          188,
          217,
          193,
          245,
          212,
          232,
          204,
          299,
          212,
          288,
          197,
          315,
          215,
          164,
          326,
          207,
          249,
          177,
          256,
          257,
          255,
          187,
          201,
          233,
          149,
          220,
          249,
          268,
          193,
          267,
          209,
          208,
          236,
          303,
          282,
          248,
          197,
          213,
          126,
          309,
          186,
          275,
          299,
          281,
          223,
          206,
          197,
          226,
          335,
          218,
          254,
          177,
          295,
          282,
          417,
          260,
          240,
          302,
          223,
          192,
          256,
          225,
          325,
          235,
          274,
          197,
          234,
          182,
          204,
          167,
          295,
          172,
          298,
          321,
          283,
          300,
          330,
          199,
          564,
          157,
          304,
          222,
          274,
          184,
          354,
          315,
          160,
          247,
          283,
          240,
          199,
          239,
          288,
          246,
          409,
          211,
          293,
          180,
          308,
          289,
          309,
          250,
          221,
          234,
          286,
          234,
          260,
          318,
          200,
          227,
          244,
          240,
          243,
          266,
          254,
          311,
          236,
          261,
          232,
          242,
          205,
          236,
          258,
          306,
          269,
          261,
          244,
          288,
          245,
          219,
          220,
          353,
          198,
          394,
          183,
          231,
          226,
          222,
          237,
          224,
          265,
          211,
          263,
          228,
          207,
          198,
          234,
          192,
          204,
          313,
          302,
          340,
          259,
          243,
          270,
          325,
          204,
          227,
          196,
          267,
          294,
          269,
          216,
          264,
          275,
          309,
          246,
          276,
          322,
          269,
          250,
          214,
          206,
          273,
          253,
          269,
          199,
          247,
          263,
          201,
          243,
          176,
          204,
          231,
          246,
          230,
          229,
          240,
          175,
          284,
          177,
          221,
          303,
          218,
          239,
          282,
          233,
          264,
          274,
          245,
          265,
          305,
          201,
          168,
          243,
          225,
          268,
          229,
          253,
          230,
          407,
          271,
          254,
          197,
          214,
          216,
          234,
          239,
          290,
          220,
          277,
          270,
          258,
          234,
          219,
          235,
          277,
          254,
          254,
          304,
          197,
          262,
          212,
          195,
          212,
          205,
          303,
          239,
          282,
          166,
          177,
          226,
          250,
          219,
          178,
          233,
          335,
          211,
          141,
          255,
          273,
          188
         ],
         "xaxis": "x3",
         "yaxis": "y3"
        },
        {
         "hoverinfo": "x+y",
         "marker": {
          "color": "#784283"
         },
         "nbinsx": 20,
         "type": "histogram",
         "x": [
          168,
          155,
          125,
          161,
          106,
          122,
          140,
          145,
          144,
          116,
          125,
          136,
          192,
          122,
          156,
          142,
          109,
          162,
          165,
          155,
          142,
          148,
          172,
          173,
          146,
          179,
          152,
          142,
          117,
          144,
          115,
          112,
          163,
          147,
          125,
          182,
          105,
          150,
          151,
          147,
          169,
          166,
          178,
          132,
          165,
          152,
          160,
          162,
          123,
          173,
          139,
          111,
          162,
          180,
          150,
          164,
          202,
          125,
          157,
          159,
          152,
          125,
          170,
          145,
          140,
          138,
          144,
          162,
          150,
          156,
          175,
          144,
          158,
          163,
          126,
          170,
          143,
          160,
          141,
          167,
          163,
          140,
          152,
          159,
          95,
          158,
          116,
          165,
          173,
          156,
          190,
          118,
          173,
          103,
          181,
          108,
          177,
          111,
          143,
          134,
          147,
          120,
          162,
          142,
          157,
          140,
          171,
          151,
          169,
          148,
          149,
          146,
          154,
          153,
          88,
          136,
          145,
          174,
          143,
          114,
          157,
          158,
          178,
          182,
          195,
          171,
          132,
          178,
          160,
          182,
          162,
          143,
          166,
          105,
          163,
          162,
          138,
          171,
          103,
          169,
          179,
          126,
          133,
          96,
          150,
          144,
          170,
          150,
          170,
          124,
          131,
          179,
          163,
          131,
          108,
          156,
          185,
          160,
          126,
          155,
          178,
          194,
          128,
          171,
          127,
          120,
          174,
          186,
          165,
          149,
          184,
          178,
          141,
          163,
          163,
          141,
          154,
          159,
          166,
          188,
          152,
          132,
          130,
          157,
          182,
          182,
          169,
          186,
          71,
          173,
          130,
          161,
          173,
          138,
          168,
          168,
          175,
          174,
          172,
          133,
          162,
          172,
          130,
          137,
          111,
          172,
          172,
          154,
          169,
          99,
          153,
          121,
          115,
          143,
          139,
          147,
          120,
          112,
          109,
          169,
          187,
          158,
          132,
          152,
          144,
          148,
          162,
          143,
          97,
          126,
          152,
          90,
          162,
          146,
          173,
          165,
          168,
          154,
          123,
          160,
          160,
          164,
          122,
          105,
          142,
          156,
          150,
          132,
          150,
          143,
          122,
          142,
          163,
          174,
          152,
          114,
          172,
          129,
          179,
          160,
          154,
          162,
          146,
          131,
          168,
          131,
          161,
          160,
          153,
          144,
          172,
          145,
          157,
          160,
          158,
          180,
          151,
          163,
          159,
          170,
          156,
          155,
          132,
          179,
          132,
          130,
          181,
          151,
          174,
          125,
          140,
          114,
          161,
          140,
          96,
          147,
          158,
          115,
          175,
          161,
          125,
          113
         ],
         "xaxis": "x4",
         "yaxis": "y4"
        },
        {
         "hoverinfo": "x+y",
         "marker": {
          "color": "#ddd690"
         },
         "nbinsx": 20,
         "type": "histogram",
         "x": [
          1,
          3.1,
          2.6,
          0,
          1.9,
          1,
          4.4,
          0.8,
          0.8,
          3.2,
          1.6,
          3,
          0.7,
          4.2,
          1,
          1.5,
          2.2,
          1.1,
          0,
          3,
          0.3,
          3,
          0,
          0,
          1,
          0.4,
          0,
          0.6,
          3.4,
          2.8,
          1.2,
          2.9,
          0,
          3.6,
          1.4,
          0,
          0.2,
          0.4,
          0.8,
          0.4,
          0,
          1.2,
          0,
          0,
          1,
          0,
          1.4,
          1,
          0.2,
          0,
          2,
          5.6,
          1.9,
          0.2,
          0.8,
          0,
          0,
          0.9,
          1.6,
          0.2,
          1.2,
          1.8,
          0,
          6.2,
          3.4,
          1.9,
          1.2,
          0,
          0,
          0,
          0,
          4,
          0.8,
          0.6,
          0.8,
          0,
          0,
          3.6,
          3.4,
          0,
          0,
          0,
          0.2,
          0,
          2,
          0.6,
          1.1,
          0.2,
          0.2,
          0,
          0,
          1,
          1.6,
          1.4,
          0,
          0,
          0,
          0,
          3,
          2.2,
          1.4,
          2.5,
          0,
          2.8,
          0.8,
          3.6,
          0.9,
          0.4,
          0,
          0.4,
          0.5,
          2.8,
          0,
          0,
          1.2,
          0,
          2.6,
          0,
          0.1,
          2,
          0.6,
          0,
          1.2,
          0,
          0,
          0,
          1.8,
          1.4,
          1.6,
          0,
          0,
          1.2,
          0.5,
          2.1,
          0.6,
          1.9,
          0,
          1.5,
          1.6,
          0,
          0,
          2.8,
          4,
          2.2,
          1.9,
          1.8,
          1.2,
          0,
          0,
          1,
          1.8,
          0,
          0,
          0.1,
          1.5,
          0.1,
          0,
          0,
          0.9,
          0.6,
          0.8,
          0.8,
          2.6,
          0.6,
          2.8,
          1.8,
          0,
          0,
          1.6,
          0.3,
          0,
          0.8,
          2.8,
          0,
          0,
          0.3,
          1.4,
          0,
          2.4,
          0,
          0,
          1.2,
          1.6,
          1.2,
          1.4,
          3.8,
          0,
          0,
          1,
          3.2,
          0,
          0,
          0,
          2.3,
          0,
          0,
          0.6,
          0,
          1.4,
          0.2,
          0.4,
          0,
          3,
          1,
          0.8,
          0.2,
          0,
          0,
          0.1,
          1.8,
          1.3,
          0.2,
          0,
          0.4,
          0.2,
          0,
          0,
          0.6,
          2.4,
          1.8,
          3.5,
          1.6,
          2.4,
          0.5,
          1.4,
          0.8,
          0.5,
          0.1,
          1.2,
          1.5,
          0,
          1,
          0.8,
          1.8,
          0,
          2.5,
          1,
          0.6,
          0.6,
          1.8,
          1.4,
          0,
          2,
          2,
          1.2,
          0,
          2.3,
          1.2,
          1.6,
          0,
          0.6,
          1.2,
          0,
          1.6,
          0,
          1,
          0,
          2.6,
          0,
          0,
          4,
          0,
          2,
          0.6,
          2,
          2.2,
          0.5,
          1.2,
          0,
          0.4,
          0,
          4.2,
          2.6,
          0,
          1.6,
          0,
          1,
          0.2,
          0,
          0,
          0,
          0,
          2,
          0,
          0.1,
          2,
          1.2,
          1.8,
          1.4,
          3.6,
          0.4,
          2.6,
          1.4,
          1.2,
          0,
          0.1,
          0,
          1.5,
          0.6,
          0,
          0,
          1.4
         ],
         "xaxis": "x5",
         "yaxis": "y5"
        },
        {
         "hoverinfo": "x+y",
         "marker": {
          "color": "#ffefd5"
         },
         "nbinsx": 20,
         "type": "histogram",
         "x": [
          0,
          0,
          0,
          0,
          0,
          1,
          0,
          0,
          0,
          0,
          1,
          0,
          1,
          0,
          0,
          1,
          0,
          1,
          1,
          0,
          1,
          1,
          1,
          1,
          0,
          1,
          0,
          0,
          0,
          0,
          0,
          0,
          1,
          0,
          1,
          1,
          1,
          0,
          1,
          1,
          0,
          1,
          1,
          1,
          0,
          1,
          0,
          1,
          0,
          1,
          0,
          0,
          1,
          1,
          0,
          0,
          1,
          0,
          1,
          0,
          1,
          0,
          1,
          0,
          0,
          0,
          0,
          0,
          0,
          1,
          1,
          0,
          1,
          0,
          0,
          1,
          0,
          0,
          0,
          1,
          1,
          1,
          1,
          1,
          0,
          0,
          1,
          1,
          1,
          1,
          1,
          0,
          0,
          0,
          0,
          0,
          0,
          1,
          0,
          0,
          0,
          0,
          1,
          0,
          1,
          0,
          1,
          1,
          1,
          1,
          1,
          0,
          1,
          1,
          0,
          0,
          0,
          1,
          1,
          0,
          1,
          0,
          1,
          1,
          0,
          0,
          0,
          1,
          1,
          1,
          0,
          1,
          0,
          0,
          1,
          1,
          1,
          1,
          0,
          1,
          1,
          0,
          0,
          0,
          0,
          1,
          0,
          1,
          1,
          0,
          0,
          1,
          1,
          1,
          0,
          0,
          1,
          1,
          0,
          1,
          1,
          1,
          0,
          1,
          0,
          0,
          0,
          1,
          1,
          1,
          1,
          1,
          0,
          1,
          1,
          0,
          0,
          1,
          1,
          1,
          1,
          0,
          0,
          1,
          1,
          0,
          1,
          1,
          0,
          0,
          1,
          1,
          1,
          1,
          1,
          1,
          1,
          1,
          1,
          1,
          1,
          1,
          0,
          1,
          0,
          1,
          1,
          1,
          1,
          0,
          1,
          1,
          1,
          1,
          1,
          0,
          0,
          0,
          0,
          0,
          1,
          1,
          0,
          1,
          0,
          1,
          1,
          0,
          0,
          1,
          1,
          0,
          0,
          1,
          1,
          0,
          0,
          1,
          1,
          0,
          1,
          1,
          1,
          0,
          0,
          0,
          1,
          0,
          0,
          1,
          1,
          0,
          1,
          1,
          0,
          0,
          1,
          0,
          1,
          0,
          0,
          1,
          0,
          1,
          1,
          0,
          1,
          1,
          0,
          1,
          1,
          1,
          0,
          1,
          1,
          1,
          1,
          0,
          1,
          1,
          1,
          1,
          0,
          1,
          0,
          0,
          1,
          1,
          0,
          0,
          1,
          1,
          1,
          0,
          1,
          1,
          0,
          1,
          1,
          0,
          0,
          0
         ],
         "xaxis": "x6",
         "yaxis": "y6"
        }
       ],
       "layout": {
        "annotations": [
         {
          "font": {
           "size": 16
          },
          "showarrow": false,
          "text": "Age",
          "x": 0.225,
          "xanchor": "center",
          "xref": "paper",
          "y": 1,
          "yanchor": "bottom",
          "yref": "paper"
         },
         {
          "font": {
           "size": 16
          },
          "showarrow": false,
          "text": "Resting Blood Pressure",
          "x": 0.775,
          "xanchor": "center",
          "xref": "paper",
          "y": 1,
          "yanchor": "bottom",
          "yref": "paper"
         },
         {
          "font": {
           "size": 16
          },
          "showarrow": false,
          "text": "Cholesterol",
          "x": 0.225,
          "xanchor": "center",
          "xref": "paper",
          "y": 0.6111111111111112,
          "yanchor": "bottom",
          "yref": "paper"
         },
         {
          "font": {
           "size": 16
          },
          "showarrow": false,
          "text": "Max Heart Rate",
          "x": 0.775,
          "xanchor": "center",
          "xref": "paper",
          "y": 0.6111111111111112,
          "yanchor": "bottom",
          "yref": "paper"
         },
         {
          "font": {
           "size": 16
          },
          "showarrow": false,
          "text": "Oldpeak",
          "x": 0.225,
          "xanchor": "center",
          "xref": "paper",
          "y": 0.22222222222222224,
          "yanchor": "bottom",
          "yref": "paper"
         },
         {
          "font": {
           "size": 16
          },
          "showarrow": false,
          "text": "Heart Disease",
          "x": 0.775,
          "xanchor": "center",
          "xref": "paper",
          "y": 0.22222222222222224,
          "yanchor": "bottom",
          "yref": "paper"
         }
        ],
        "font": {
         "color": "white",
         "family": "Courier New, monospace",
         "size": 14
        },
        "height": 800,
        "showlegend": false,
        "template": {
         "data": {
          "bar": [
           {
            "error_x": {
             "color": "#f2f5fa"
            },
            "error_y": {
             "color": "#f2f5fa"
            },
            "marker": {
             "line": {
              "color": "rgb(17,17,17)",
              "width": 0.5
             },
             "pattern": {
              "fillmode": "overlay",
              "size": 10,
              "solidity": 0.2
             }
            },
            "type": "bar"
           }
          ],
          "barpolar": [
           {
            "marker": {
             "line": {
              "color": "rgb(17,17,17)",
              "width": 0.5
             },
             "pattern": {
              "fillmode": "overlay",
              "size": 10,
              "solidity": 0.2
             }
            },
            "type": "barpolar"
           }
          ],
          "carpet": [
           {
            "aaxis": {
             "endlinecolor": "#A2B1C6",
             "gridcolor": "#506784",
             "linecolor": "#506784",
             "minorgridcolor": "#506784",
             "startlinecolor": "#A2B1C6"
            },
            "baxis": {
             "endlinecolor": "#A2B1C6",
             "gridcolor": "#506784",
             "linecolor": "#506784",
             "minorgridcolor": "#506784",
             "startlinecolor": "#A2B1C6"
            },
            "type": "carpet"
           }
          ],
          "choropleth": [
           {
            "colorbar": {
             "outlinewidth": 0,
             "ticks": ""
            },
            "type": "choropleth"
           }
          ],
          "contour": [
           {
            "colorbar": {
             "outlinewidth": 0,
             "ticks": ""
            },
            "colorscale": [
             [
              0,
              "#0d0887"
             ],
             [
              0.1111111111111111,
              "#46039f"
             ],
             [
              0.2222222222222222,
              "#7201a8"
             ],
             [
              0.3333333333333333,
              "#9c179e"
             ],
             [
              0.4444444444444444,
              "#bd3786"
             ],
             [
              0.5555555555555556,
              "#d8576b"
             ],
             [
              0.6666666666666666,
              "#ed7953"
             ],
             [
              0.7777777777777778,
              "#fb9f3a"
             ],
             [
              0.8888888888888888,
              "#fdca26"
             ],
             [
              1,
              "#f0f921"
             ]
            ],
            "type": "contour"
           }
          ],
          "contourcarpet": [
           {
            "colorbar": {
             "outlinewidth": 0,
             "ticks": ""
            },
            "type": "contourcarpet"
           }
          ],
          "heatmap": [
           {
            "colorbar": {
             "outlinewidth": 0,
             "ticks": ""
            },
            "colorscale": [
             [
              0,
              "#0d0887"
             ],
             [
              0.1111111111111111,
              "#46039f"
             ],
             [
              0.2222222222222222,
              "#7201a8"
             ],
             [
              0.3333333333333333,
              "#9c179e"
             ],
             [
              0.4444444444444444,
              "#bd3786"
             ],
             [
              0.5555555555555556,
              "#d8576b"
             ],
             [
              0.6666666666666666,
              "#ed7953"
             ],
             [
              0.7777777777777778,
              "#fb9f3a"
             ],
             [
              0.8888888888888888,
              "#fdca26"
             ],
             [
              1,
              "#f0f921"
             ]
            ],
            "type": "heatmap"
           }
          ],
          "heatmapgl": [
           {
            "colorbar": {
             "outlinewidth": 0,
             "ticks": ""
            },
            "colorscale": [
             [
              0,
              "#0d0887"
             ],
             [
              0.1111111111111111,
              "#46039f"
             ],
             [
              0.2222222222222222,
              "#7201a8"
             ],
             [
              0.3333333333333333,
              "#9c179e"
             ],
             [
              0.4444444444444444,
              "#bd3786"
             ],
             [
              0.5555555555555556,
              "#d8576b"
             ],
             [
              0.6666666666666666,
              "#ed7953"
             ],
             [
              0.7777777777777778,
              "#fb9f3a"
             ],
             [
              0.8888888888888888,
              "#fdca26"
             ],
             [
              1,
              "#f0f921"
             ]
            ],
            "type": "heatmapgl"
           }
          ],
          "histogram": [
           {
            "marker": {
             "pattern": {
              "fillmode": "overlay",
              "size": 10,
              "solidity": 0.2
             }
            },
            "type": "histogram"
           }
          ],
          "histogram2d": [
           {
            "colorbar": {
             "outlinewidth": 0,
             "ticks": ""
            },
            "colorscale": [
             [
              0,
              "#0d0887"
             ],
             [
              0.1111111111111111,
              "#46039f"
             ],
             [
              0.2222222222222222,
              "#7201a8"
             ],
             [
              0.3333333333333333,
              "#9c179e"
             ],
             [
              0.4444444444444444,
              "#bd3786"
             ],
             [
              0.5555555555555556,
              "#d8576b"
             ],
             [
              0.6666666666666666,
              "#ed7953"
             ],
             [
              0.7777777777777778,
              "#fb9f3a"
             ],
             [
              0.8888888888888888,
              "#fdca26"
             ],
             [
              1,
              "#f0f921"
             ]
            ],
            "type": "histogram2d"
           }
          ],
          "histogram2dcontour": [
           {
            "colorbar": {
             "outlinewidth": 0,
             "ticks": ""
            },
            "colorscale": [
             [
              0,
              "#0d0887"
             ],
             [
              0.1111111111111111,
              "#46039f"
             ],
             [
              0.2222222222222222,
              "#7201a8"
             ],
             [
              0.3333333333333333,
              "#9c179e"
             ],
             [
              0.4444444444444444,
              "#bd3786"
             ],
             [
              0.5555555555555556,
              "#d8576b"
             ],
             [
              0.6666666666666666,
              "#ed7953"
             ],
             [
              0.7777777777777778,
              "#fb9f3a"
             ],
             [
              0.8888888888888888,
              "#fdca26"
             ],
             [
              1,
              "#f0f921"
             ]
            ],
            "type": "histogram2dcontour"
           }
          ],
          "mesh3d": [
           {
            "colorbar": {
             "outlinewidth": 0,
             "ticks": ""
            },
            "type": "mesh3d"
           }
          ],
          "parcoords": [
           {
            "line": {
             "colorbar": {
              "outlinewidth": 0,
              "ticks": ""
             }
            },
            "type": "parcoords"
           }
          ],
          "pie": [
           {
            "automargin": true,
            "type": "pie"
           }
          ],
          "scatter": [
           {
            "marker": {
             "line": {
              "color": "#283442"
             }
            },
            "type": "scatter"
           }
          ],
          "scatter3d": [
           {
            "line": {
             "colorbar": {
              "outlinewidth": 0,
              "ticks": ""
             }
            },
            "marker": {
             "colorbar": {
              "outlinewidth": 0,
              "ticks": ""
             }
            },
            "type": "scatter3d"
           }
          ],
          "scattercarpet": [
           {
            "marker": {
             "colorbar": {
              "outlinewidth": 0,
              "ticks": ""
             }
            },
            "type": "scattercarpet"
           }
          ],
          "scattergeo": [
           {
            "marker": {
             "colorbar": {
              "outlinewidth": 0,
              "ticks": ""
             }
            },
            "type": "scattergeo"
           }
          ],
          "scattergl": [
           {
            "marker": {
             "line": {
              "color": "#283442"
             }
            },
            "type": "scattergl"
           }
          ],
          "scattermapbox": [
           {
            "marker": {
             "colorbar": {
              "outlinewidth": 0,
              "ticks": ""
             }
            },
            "type": "scattermapbox"
           }
          ],
          "scatterpolar": [
           {
            "marker": {
             "colorbar": {
              "outlinewidth": 0,
              "ticks": ""
             }
            },
            "type": "scatterpolar"
           }
          ],
          "scatterpolargl": [
           {
            "marker": {
             "colorbar": {
              "outlinewidth": 0,
              "ticks": ""
             }
            },
            "type": "scatterpolargl"
           }
          ],
          "scatterternary": [
           {
            "marker": {
             "colorbar": {
              "outlinewidth": 0,
              "ticks": ""
             }
            },
            "type": "scatterternary"
           }
          ],
          "surface": [
           {
            "colorbar": {
             "outlinewidth": 0,
             "ticks": ""
            },
            "colorscale": [
             [
              0,
              "#0d0887"
             ],
             [
              0.1111111111111111,
              "#46039f"
             ],
             [
              0.2222222222222222,
              "#7201a8"
             ],
             [
              0.3333333333333333,
              "#9c179e"
             ],
             [
              0.4444444444444444,
              "#bd3786"
             ],
             [
              0.5555555555555556,
              "#d8576b"
             ],
             [
              0.6666666666666666,
              "#ed7953"
             ],
             [
              0.7777777777777778,
              "#fb9f3a"
             ],
             [
              0.8888888888888888,
              "#fdca26"
             ],
             [
              1,
              "#f0f921"
             ]
            ],
            "type": "surface"
           }
          ],
          "table": [
           {
            "cells": {
             "fill": {
              "color": "#506784"
             },
             "line": {
              "color": "rgb(17,17,17)"
             }
            },
            "header": {
             "fill": {
              "color": "#2a3f5f"
             },
             "line": {
              "color": "rgb(17,17,17)"
             }
            },
            "type": "table"
           }
          ]
         },
         "layout": {
          "annotationdefaults": {
           "arrowcolor": "#f2f5fa",
           "arrowhead": 0,
           "arrowwidth": 1
          },
          "autotypenumbers": "strict",
          "coloraxis": {
           "colorbar": {
            "outlinewidth": 0,
            "ticks": ""
           }
          },
          "colorscale": {
           "diverging": [
            [
             0,
             "#8e0152"
            ],
            [
             0.1,
             "#c51b7d"
            ],
            [
             0.2,
             "#de77ae"
            ],
            [
             0.3,
             "#f1b6da"
            ],
            [
             0.4,
             "#fde0ef"
            ],
            [
             0.5,
             "#f7f7f7"
            ],
            [
             0.6,
             "#e6f5d0"
            ],
            [
             0.7,
             "#b8e186"
            ],
            [
             0.8,
             "#7fbc41"
            ],
            [
             0.9,
             "#4d9221"
            ],
            [
             1,
             "#276419"
            ]
           ],
           "sequential": [
            [
             0,
             "#0d0887"
            ],
            [
             0.1111111111111111,
             "#46039f"
            ],
            [
             0.2222222222222222,
             "#7201a8"
            ],
            [
             0.3333333333333333,
             "#9c179e"
            ],
            [
             0.4444444444444444,
             "#bd3786"
            ],
            [
             0.5555555555555556,
             "#d8576b"
            ],
            [
             0.6666666666666666,
             "#ed7953"
            ],
            [
             0.7777777777777778,
             "#fb9f3a"
            ],
            [
             0.8888888888888888,
             "#fdca26"
            ],
            [
             1,
             "#f0f921"
            ]
           ],
           "sequentialminus": [
            [
             0,
             "#0d0887"
            ],
            [
             0.1111111111111111,
             "#46039f"
            ],
            [
             0.2222222222222222,
             "#7201a8"
            ],
            [
             0.3333333333333333,
             "#9c179e"
            ],
            [
             0.4444444444444444,
             "#bd3786"
            ],
            [
             0.5555555555555556,
             "#d8576b"
            ],
            [
             0.6666666666666666,
             "#ed7953"
            ],
            [
             0.7777777777777778,
             "#fb9f3a"
            ],
            [
             0.8888888888888888,
             "#fdca26"
            ],
            [
             1,
             "#f0f921"
            ]
           ]
          },
          "colorway": [
           "#636efa",
           "#EF553B",
           "#00cc96",
           "#ab63fa",
           "#FFA15A",
           "#19d3f3",
           "#FF6692",
           "#B6E880",
           "#FF97FF",
           "#FECB52"
          ],
          "font": {
           "color": "#f2f5fa",
           "family": "monospace",
           "size": 14
          },
          "geo": {
           "bgcolor": "rgb(17,17,17)",
           "lakecolor": "rgb(17,17,17)",
           "landcolor": "rgb(17,17,17)",
           "showlakes": true,
           "showland": true,
           "subunitcolor": "#506784"
          },
          "hoverlabel": {
           "align": "left"
          },
          "hovermode": "closest",
          "mapbox": {
           "style": "dark"
          },
          "paper_bgcolor": "rgb(17,17,17)",
          "plot_bgcolor": "rgb(17,17,17)",
          "polar": {
           "angularaxis": {
            "gridcolor": "#506784",
            "linecolor": "#506784",
            "ticks": ""
           },
           "bgcolor": "rgb(17,17,17)",
           "radialaxis": {
            "gridcolor": "#506784",
            "linecolor": "#506784",
            "ticks": ""
           }
          },
          "scene": {
           "xaxis": {
            "backgroundcolor": "rgb(17,17,17)",
            "gridcolor": "#506784",
            "gridwidth": 2,
            "linecolor": "#506784",
            "showbackground": true,
            "ticks": "",
            "zerolinecolor": "#C8D4E3"
           },
           "yaxis": {
            "backgroundcolor": "rgb(17,17,17)",
            "gridcolor": "#506784",
            "gridwidth": 2,
            "linecolor": "#506784",
            "showbackground": true,
            "ticks": "",
            "zerolinecolor": "#C8D4E3"
           },
           "zaxis": {
            "backgroundcolor": "rgb(17,17,17)",
            "gridcolor": "#506784",
            "gridwidth": 2,
            "linecolor": "#506784",
            "showbackground": true,
            "ticks": "",
            "zerolinecolor": "#C8D4E3"
           }
          },
          "shapedefaults": {
           "line": {
            "color": "#f2f5fa"
           }
          },
          "sliderdefaults": {
           "bgcolor": "#C8D4E3",
           "bordercolor": "rgb(17,17,17)",
           "borderwidth": 1,
           "tickwidth": 0
          },
          "ternary": {
           "aaxis": {
            "gridcolor": "#506784",
            "linecolor": "#506784",
            "ticks": ""
           },
           "baxis": {
            "gridcolor": "#506784",
            "linecolor": "#506784",
            "ticks": ""
           },
           "bgcolor": "rgb(17,17,17)",
           "caxis": {
            "gridcolor": "#506784",
            "linecolor": "#506784",
            "ticks": ""
           }
          },
          "title": {
           "x": 0.05
          },
          "updatemenudefaults": {
           "bgcolor": "#506784",
           "borderwidth": 0
          },
          "xaxis": {
           "automargin": true,
           "gridcolor": "#283442",
           "linecolor": "#506784",
           "ticks": "",
           "title": {
            "standoff": 15
           },
           "zerolinecolor": "#283442",
           "zerolinewidth": 2
          },
          "yaxis": {
           "automargin": true,
           "gridcolor": "#283442",
           "linecolor": "#506784",
           "ticks": "",
           "title": {
            "standoff": 15
           },
           "zerolinecolor": "#283442",
           "zerolinewidth": 2
          }
         }
        },
        "title": {
         "text": "Histograms of All Variables"
        },
        "xaxis": {
         "anchor": "y",
         "domain": [
          0,
          0.45
         ]
        },
        "xaxis2": {
         "anchor": "y2",
         "domain": [
          0.55,
          1
         ]
        },
        "xaxis3": {
         "anchor": "y3",
         "domain": [
          0,
          0.45
         ]
        },
        "xaxis4": {
         "anchor": "y4",
         "domain": [
          0.55,
          1
         ]
        },
        "xaxis5": {
         "anchor": "y5",
         "domain": [
          0,
          0.45
         ]
        },
        "xaxis6": {
         "anchor": "y6",
         "domain": [
          0.55,
          1
         ]
        },
        "yaxis": {
         "anchor": "x",
         "domain": [
          0.7777777777777778,
          1
         ]
        },
        "yaxis2": {
         "anchor": "x2",
         "domain": [
          0.7777777777777778,
          1
         ]
        },
        "yaxis3": {
         "anchor": "x3",
         "domain": [
          0.3888888888888889,
          0.6111111111111112
         ]
        },
        "yaxis4": {
         "anchor": "x4",
         "domain": [
          0.3888888888888889,
          0.6111111111111112
         ]
        },
        "yaxis5": {
         "anchor": "x5",
         "domain": [
          0,
          0.22222222222222224
         ]
        },
        "yaxis6": {
         "anchor": "x6",
         "domain": [
          0,
          0.22222222222222224
         ]
        }
       }
      }
     },
     "metadata": {},
     "output_type": "display_data"
    }
   ],
   "source": [
    "\n",
    "\n",
    "# use above except use xaxis titles from column_mapping\n",
    "def plot_histograms_plotly(df, columns, color_palette):\n",
    "    fig = make_subplots(rows=len(columns)//2, cols=2, subplot_titles=[column_mapping[col] for col in columns])\n",
    "\n",
    "    for idx, col in enumerate(columns):\n",
    "        fig.add_trace(\n",
    "            go.Histogram(\n",
    "                x=df[col],\n",
    "                marker_color=color_palette[idx % len(color_palette)],\n",
    "                nbinsx=20\n",
    "            ),\n",
    "            row=idx // 2 + 1,\n",
    "            col=idx % 2 + 1\n",
    "        )\n",
    "\n",
    "    fig.update_layout(\n",
    "        title='Histograms of All Variables',\n",
    "        template='plotly_dark',\n",
    "        font=dict(\n",
    "            family='Courier New, monospace',\n",
    "            size=14,\n",
    "            color='white'\n",
    "        ),\n",
    "        height=800,\n",
    "        showlegend=False\n",
    "    )\n",
    "\n",
    "    # change hover tooltip\n",
    "    fig.update_traces(hoverinfo='x+y')\n",
    "    fig.show()\n",
    "\n",
    "# Columns for histograms (numeric)\n",
    "numeric_columns = ['age', 'resting_blood_pressure', 'cholestoral', 'Max_heart_rate', 'oldpeak', 'target']\n",
    "\n",
    "# Plot histograms\n",
    "plot_histograms_plotly(heart_disease_clean_df, numeric_columns, color_palettes)\n",
    "\n"
   ]
  },
  {
   "cell_type": "code",
   "execution_count": 105,
   "metadata": {},
   "outputs": [
    {
     "data": {
      "application/vnd.plotly.v1+json": {
       "config": {
        "plotlyServerURL": "https://plot.ly"
       },
       "data": [
        {
         "hovertemplate": "x: %{x}<br>y: %{y}<extra></extra>",
         "marker": {
          "color": "#ffd8ec"
         },
         "text": [
          206,
          96
         ],
         "textposition": "auto",
         "type": "bar",
         "x": [
          "Male",
          "Female"
         ],
         "y": [
          206,
          96
         ]
        }
       ],
       "layout": {
        "font": {
         "color": "white",
         "family": "Courier New, monospace",
         "size": 14
        },
        "template": {
         "data": {
          "bar": [
           {
            "error_x": {
             "color": "#f2f5fa"
            },
            "error_y": {
             "color": "#f2f5fa"
            },
            "marker": {
             "line": {
              "color": "rgb(17,17,17)",
              "width": 0.5
             },
             "pattern": {
              "fillmode": "overlay",
              "size": 10,
              "solidity": 0.2
             }
            },
            "type": "bar"
           }
          ],
          "barpolar": [
           {
            "marker": {
             "line": {
              "color": "rgb(17,17,17)",
              "width": 0.5
             },
             "pattern": {
              "fillmode": "overlay",
              "size": 10,
              "solidity": 0.2
             }
            },
            "type": "barpolar"
           }
          ],
          "carpet": [
           {
            "aaxis": {
             "endlinecolor": "#A2B1C6",
             "gridcolor": "#506784",
             "linecolor": "#506784",
             "minorgridcolor": "#506784",
             "startlinecolor": "#A2B1C6"
            },
            "baxis": {
             "endlinecolor": "#A2B1C6",
             "gridcolor": "#506784",
             "linecolor": "#506784",
             "minorgridcolor": "#506784",
             "startlinecolor": "#A2B1C6"
            },
            "type": "carpet"
           }
          ],
          "choropleth": [
           {
            "colorbar": {
             "outlinewidth": 0,
             "ticks": ""
            },
            "type": "choropleth"
           }
          ],
          "contour": [
           {
            "colorbar": {
             "outlinewidth": 0,
             "ticks": ""
            },
            "colorscale": [
             [
              0,
              "#0d0887"
             ],
             [
              0.1111111111111111,
              "#46039f"
             ],
             [
              0.2222222222222222,
              "#7201a8"
             ],
             [
              0.3333333333333333,
              "#9c179e"
             ],
             [
              0.4444444444444444,
              "#bd3786"
             ],
             [
              0.5555555555555556,
              "#d8576b"
             ],
             [
              0.6666666666666666,
              "#ed7953"
             ],
             [
              0.7777777777777778,
              "#fb9f3a"
             ],
             [
              0.8888888888888888,
              "#fdca26"
             ],
             [
              1,
              "#f0f921"
             ]
            ],
            "type": "contour"
           }
          ],
          "contourcarpet": [
           {
            "colorbar": {
             "outlinewidth": 0,
             "ticks": ""
            },
            "type": "contourcarpet"
           }
          ],
          "heatmap": [
           {
            "colorbar": {
             "outlinewidth": 0,
             "ticks": ""
            },
            "colorscale": [
             [
              0,
              "#0d0887"
             ],
             [
              0.1111111111111111,
              "#46039f"
             ],
             [
              0.2222222222222222,
              "#7201a8"
             ],
             [
              0.3333333333333333,
              "#9c179e"
             ],
             [
              0.4444444444444444,
              "#bd3786"
             ],
             [
              0.5555555555555556,
              "#d8576b"
             ],
             [
              0.6666666666666666,
              "#ed7953"
             ],
             [
              0.7777777777777778,
              "#fb9f3a"
             ],
             [
              0.8888888888888888,
              "#fdca26"
             ],
             [
              1,
              "#f0f921"
             ]
            ],
            "type": "heatmap"
           }
          ],
          "heatmapgl": [
           {
            "colorbar": {
             "outlinewidth": 0,
             "ticks": ""
            },
            "colorscale": [
             [
              0,
              "#0d0887"
             ],
             [
              0.1111111111111111,
              "#46039f"
             ],
             [
              0.2222222222222222,
              "#7201a8"
             ],
             [
              0.3333333333333333,
              "#9c179e"
             ],
             [
              0.4444444444444444,
              "#bd3786"
             ],
             [
              0.5555555555555556,
              "#d8576b"
             ],
             [
              0.6666666666666666,
              "#ed7953"
             ],
             [
              0.7777777777777778,
              "#fb9f3a"
             ],
             [
              0.8888888888888888,
              "#fdca26"
             ],
             [
              1,
              "#f0f921"
             ]
            ],
            "type": "heatmapgl"
           }
          ],
          "histogram": [
           {
            "marker": {
             "pattern": {
              "fillmode": "overlay",
              "size": 10,
              "solidity": 0.2
             }
            },
            "type": "histogram"
           }
          ],
          "histogram2d": [
           {
            "colorbar": {
             "outlinewidth": 0,
             "ticks": ""
            },
            "colorscale": [
             [
              0,
              "#0d0887"
             ],
             [
              0.1111111111111111,
              "#46039f"
             ],
             [
              0.2222222222222222,
              "#7201a8"
             ],
             [
              0.3333333333333333,
              "#9c179e"
             ],
             [
              0.4444444444444444,
              "#bd3786"
             ],
             [
              0.5555555555555556,
              "#d8576b"
             ],
             [
              0.6666666666666666,
              "#ed7953"
             ],
             [
              0.7777777777777778,
              "#fb9f3a"
             ],
             [
              0.8888888888888888,
              "#fdca26"
             ],
             [
              1,
              "#f0f921"
             ]
            ],
            "type": "histogram2d"
           }
          ],
          "histogram2dcontour": [
           {
            "colorbar": {
             "outlinewidth": 0,
             "ticks": ""
            },
            "colorscale": [
             [
              0,
              "#0d0887"
             ],
             [
              0.1111111111111111,
              "#46039f"
             ],
             [
              0.2222222222222222,
              "#7201a8"
             ],
             [
              0.3333333333333333,
              "#9c179e"
             ],
             [
              0.4444444444444444,
              "#bd3786"
             ],
             [
              0.5555555555555556,
              "#d8576b"
             ],
             [
              0.6666666666666666,
              "#ed7953"
             ],
             [
              0.7777777777777778,
              "#fb9f3a"
             ],
             [
              0.8888888888888888,
              "#fdca26"
             ],
             [
              1,
              "#f0f921"
             ]
            ],
            "type": "histogram2dcontour"
           }
          ],
          "mesh3d": [
           {
            "colorbar": {
             "outlinewidth": 0,
             "ticks": ""
            },
            "type": "mesh3d"
           }
          ],
          "parcoords": [
           {
            "line": {
             "colorbar": {
              "outlinewidth": 0,
              "ticks": ""
             }
            },
            "type": "parcoords"
           }
          ],
          "pie": [
           {
            "automargin": true,
            "type": "pie"
           }
          ],
          "scatter": [
           {
            "marker": {
             "line": {
              "color": "#283442"
             }
            },
            "type": "scatter"
           }
          ],
          "scatter3d": [
           {
            "line": {
             "colorbar": {
              "outlinewidth": 0,
              "ticks": ""
             }
            },
            "marker": {
             "colorbar": {
              "outlinewidth": 0,
              "ticks": ""
             }
            },
            "type": "scatter3d"
           }
          ],
          "scattercarpet": [
           {
            "marker": {
             "colorbar": {
              "outlinewidth": 0,
              "ticks": ""
             }
            },
            "type": "scattercarpet"
           }
          ],
          "scattergeo": [
           {
            "marker": {
             "colorbar": {
              "outlinewidth": 0,
              "ticks": ""
             }
            },
            "type": "scattergeo"
           }
          ],
          "scattergl": [
           {
            "marker": {
             "line": {
              "color": "#283442"
             }
            },
            "type": "scattergl"
           }
          ],
          "scattermapbox": [
           {
            "marker": {
             "colorbar": {
              "outlinewidth": 0,
              "ticks": ""
             }
            },
            "type": "scattermapbox"
           }
          ],
          "scatterpolar": [
           {
            "marker": {
             "colorbar": {
              "outlinewidth": 0,
              "ticks": ""
             }
            },
            "type": "scatterpolar"
           }
          ],
          "scatterpolargl": [
           {
            "marker": {
             "colorbar": {
              "outlinewidth": 0,
              "ticks": ""
             }
            },
            "type": "scatterpolargl"
           }
          ],
          "scatterternary": [
           {
            "marker": {
             "colorbar": {
              "outlinewidth": 0,
              "ticks": ""
             }
            },
            "type": "scatterternary"
           }
          ],
          "surface": [
           {
            "colorbar": {
             "outlinewidth": 0,
             "ticks": ""
            },
            "colorscale": [
             [
              0,
              "#0d0887"
             ],
             [
              0.1111111111111111,
              "#46039f"
             ],
             [
              0.2222222222222222,
              "#7201a8"
             ],
             [
              0.3333333333333333,
              "#9c179e"
             ],
             [
              0.4444444444444444,
              "#bd3786"
             ],
             [
              0.5555555555555556,
              "#d8576b"
             ],
             [
              0.6666666666666666,
              "#ed7953"
             ],
             [
              0.7777777777777778,
              "#fb9f3a"
             ],
             [
              0.8888888888888888,
              "#fdca26"
             ],
             [
              1,
              "#f0f921"
             ]
            ],
            "type": "surface"
           }
          ],
          "table": [
           {
            "cells": {
             "fill": {
              "color": "#506784"
             },
             "line": {
              "color": "rgb(17,17,17)"
             }
            },
            "header": {
             "fill": {
              "color": "#2a3f5f"
             },
             "line": {
              "color": "rgb(17,17,17)"
             }
            },
            "type": "table"
           }
          ]
         },
         "layout": {
          "annotationdefaults": {
           "arrowcolor": "#f2f5fa",
           "arrowhead": 0,
           "arrowwidth": 1
          },
          "autotypenumbers": "strict",
          "coloraxis": {
           "colorbar": {
            "outlinewidth": 0,
            "ticks": ""
           }
          },
          "colorscale": {
           "diverging": [
            [
             0,
             "#8e0152"
            ],
            [
             0.1,
             "#c51b7d"
            ],
            [
             0.2,
             "#de77ae"
            ],
            [
             0.3,
             "#f1b6da"
            ],
            [
             0.4,
             "#fde0ef"
            ],
            [
             0.5,
             "#f7f7f7"
            ],
            [
             0.6,
             "#e6f5d0"
            ],
            [
             0.7,
             "#b8e186"
            ],
            [
             0.8,
             "#7fbc41"
            ],
            [
             0.9,
             "#4d9221"
            ],
            [
             1,
             "#276419"
            ]
           ],
           "sequential": [
            [
             0,
             "#0d0887"
            ],
            [
             0.1111111111111111,
             "#46039f"
            ],
            [
             0.2222222222222222,
             "#7201a8"
            ],
            [
             0.3333333333333333,
             "#9c179e"
            ],
            [
             0.4444444444444444,
             "#bd3786"
            ],
            [
             0.5555555555555556,
             "#d8576b"
            ],
            [
             0.6666666666666666,
             "#ed7953"
            ],
            [
             0.7777777777777778,
             "#fb9f3a"
            ],
            [
             0.8888888888888888,
             "#fdca26"
            ],
            [
             1,
             "#f0f921"
            ]
           ],
           "sequentialminus": [
            [
             0,
             "#0d0887"
            ],
            [
             0.1111111111111111,
             "#46039f"
            ],
            [
             0.2222222222222222,
             "#7201a8"
            ],
            [
             0.3333333333333333,
             "#9c179e"
            ],
            [
             0.4444444444444444,
             "#bd3786"
            ],
            [
             0.5555555555555556,
             "#d8576b"
            ],
            [
             0.6666666666666666,
             "#ed7953"
            ],
            [
             0.7777777777777778,
             "#fb9f3a"
            ],
            [
             0.8888888888888888,
             "#fdca26"
            ],
            [
             1,
             "#f0f921"
            ]
           ]
          },
          "colorway": [
           "#636efa",
           "#EF553B",
           "#00cc96",
           "#ab63fa",
           "#FFA15A",
           "#19d3f3",
           "#FF6692",
           "#B6E880",
           "#FF97FF",
           "#FECB52"
          ],
          "font": {
           "color": "#f2f5fa",
           "family": "monospace",
           "size": 14
          },
          "geo": {
           "bgcolor": "rgb(17,17,17)",
           "lakecolor": "rgb(17,17,17)",
           "landcolor": "rgb(17,17,17)",
           "showlakes": true,
           "showland": true,
           "subunitcolor": "#506784"
          },
          "hoverlabel": {
           "align": "left"
          },
          "hovermode": "closest",
          "mapbox": {
           "style": "dark"
          },
          "paper_bgcolor": "rgb(17,17,17)",
          "plot_bgcolor": "rgb(17,17,17)",
          "polar": {
           "angularaxis": {
            "gridcolor": "#506784",
            "linecolor": "#506784",
            "ticks": ""
           },
           "bgcolor": "rgb(17,17,17)",
           "radialaxis": {
            "gridcolor": "#506784",
            "linecolor": "#506784",
            "ticks": ""
           }
          },
          "scene": {
           "xaxis": {
            "backgroundcolor": "rgb(17,17,17)",
            "gridcolor": "#506784",
            "gridwidth": 2,
            "linecolor": "#506784",
            "showbackground": true,
            "ticks": "",
            "zerolinecolor": "#C8D4E3"
           },
           "yaxis": {
            "backgroundcolor": "rgb(17,17,17)",
            "gridcolor": "#506784",
            "gridwidth": 2,
            "linecolor": "#506784",
            "showbackground": true,
            "ticks": "",
            "zerolinecolor": "#C8D4E3"
           },
           "zaxis": {
            "backgroundcolor": "rgb(17,17,17)",
            "gridcolor": "#506784",
            "gridwidth": 2,
            "linecolor": "#506784",
            "showbackground": true,
            "ticks": "",
            "zerolinecolor": "#C8D4E3"
           }
          },
          "shapedefaults": {
           "line": {
            "color": "#f2f5fa"
           }
          },
          "sliderdefaults": {
           "bgcolor": "#C8D4E3",
           "bordercolor": "rgb(17,17,17)",
           "borderwidth": 1,
           "tickwidth": 0
          },
          "ternary": {
           "aaxis": {
            "gridcolor": "#506784",
            "linecolor": "#506784",
            "ticks": ""
           },
           "baxis": {
            "gridcolor": "#506784",
            "linecolor": "#506784",
            "ticks": ""
           },
           "bgcolor": "rgb(17,17,17)",
           "caxis": {
            "gridcolor": "#506784",
            "linecolor": "#506784",
            "ticks": ""
           }
          },
          "title": {
           "x": 0.05
          },
          "updatemenudefaults": {
           "bgcolor": "#506784",
           "borderwidth": 0
          },
          "xaxis": {
           "automargin": true,
           "gridcolor": "#283442",
           "linecolor": "#506784",
           "ticks": "",
           "title": {
            "standoff": 15
           },
           "zerolinecolor": "#283442",
           "zerolinewidth": 2
          },
          "yaxis": {
           "automargin": true,
           "gridcolor": "#283442",
           "linecolor": "#506784",
           "ticks": "",
           "title": {
            "standoff": 15
           },
           "zerolinecolor": "#283442",
           "zerolinewidth": 2
          }
         }
        },
        "title": {
         "text": "Distribution of Gender (sex)"
        },
        "xaxis": {
         "title": {
          "text": "sex"
         }
        },
        "yaxis": {
         "title": {
          "text": "Count"
         }
        }
       }
      }
     },
     "metadata": {},
     "output_type": "display_data"
    },
    {
     "data": {
      "application/vnd.plotly.v1+json": {
       "config": {
        "plotlyServerURL": "https://plot.ly"
       },
       "data": [
        {
         "hovertemplate": "x: %{x}<br>y: %{y}<extra></extra>",
         "marker": {
          "color": "#ffa8cb"
         },
         "text": [
          143,
          86,
          50,
          23
         ],
         "textposition": "auto",
         "type": "bar",
         "x": [
          "Typical angina",
          "Non-anginal pain",
          "Atypical angina",
          "Asymptomatic"
         ],
         "y": [
          143,
          86,
          50,
          23
         ]
        }
       ],
       "layout": {
        "font": {
         "color": "white",
         "family": "Courier New, monospace",
         "size": 14
        },
        "template": {
         "data": {
          "bar": [
           {
            "error_x": {
             "color": "#f2f5fa"
            },
            "error_y": {
             "color": "#f2f5fa"
            },
            "marker": {
             "line": {
              "color": "rgb(17,17,17)",
              "width": 0.5
             },
             "pattern": {
              "fillmode": "overlay",
              "size": 10,
              "solidity": 0.2
             }
            },
            "type": "bar"
           }
          ],
          "barpolar": [
           {
            "marker": {
             "line": {
              "color": "rgb(17,17,17)",
              "width": 0.5
             },
             "pattern": {
              "fillmode": "overlay",
              "size": 10,
              "solidity": 0.2
             }
            },
            "type": "barpolar"
           }
          ],
          "carpet": [
           {
            "aaxis": {
             "endlinecolor": "#A2B1C6",
             "gridcolor": "#506784",
             "linecolor": "#506784",
             "minorgridcolor": "#506784",
             "startlinecolor": "#A2B1C6"
            },
            "baxis": {
             "endlinecolor": "#A2B1C6",
             "gridcolor": "#506784",
             "linecolor": "#506784",
             "minorgridcolor": "#506784",
             "startlinecolor": "#A2B1C6"
            },
            "type": "carpet"
           }
          ],
          "choropleth": [
           {
            "colorbar": {
             "outlinewidth": 0,
             "ticks": ""
            },
            "type": "choropleth"
           }
          ],
          "contour": [
           {
            "colorbar": {
             "outlinewidth": 0,
             "ticks": ""
            },
            "colorscale": [
             [
              0,
              "#0d0887"
             ],
             [
              0.1111111111111111,
              "#46039f"
             ],
             [
              0.2222222222222222,
              "#7201a8"
             ],
             [
              0.3333333333333333,
              "#9c179e"
             ],
             [
              0.4444444444444444,
              "#bd3786"
             ],
             [
              0.5555555555555556,
              "#d8576b"
             ],
             [
              0.6666666666666666,
              "#ed7953"
             ],
             [
              0.7777777777777778,
              "#fb9f3a"
             ],
             [
              0.8888888888888888,
              "#fdca26"
             ],
             [
              1,
              "#f0f921"
             ]
            ],
            "type": "contour"
           }
          ],
          "contourcarpet": [
           {
            "colorbar": {
             "outlinewidth": 0,
             "ticks": ""
            },
            "type": "contourcarpet"
           }
          ],
          "heatmap": [
           {
            "colorbar": {
             "outlinewidth": 0,
             "ticks": ""
            },
            "colorscale": [
             [
              0,
              "#0d0887"
             ],
             [
              0.1111111111111111,
              "#46039f"
             ],
             [
              0.2222222222222222,
              "#7201a8"
             ],
             [
              0.3333333333333333,
              "#9c179e"
             ],
             [
              0.4444444444444444,
              "#bd3786"
             ],
             [
              0.5555555555555556,
              "#d8576b"
             ],
             [
              0.6666666666666666,
              "#ed7953"
             ],
             [
              0.7777777777777778,
              "#fb9f3a"
             ],
             [
              0.8888888888888888,
              "#fdca26"
             ],
             [
              1,
              "#f0f921"
             ]
            ],
            "type": "heatmap"
           }
          ],
          "heatmapgl": [
           {
            "colorbar": {
             "outlinewidth": 0,
             "ticks": ""
            },
            "colorscale": [
             [
              0,
              "#0d0887"
             ],
             [
              0.1111111111111111,
              "#46039f"
             ],
             [
              0.2222222222222222,
              "#7201a8"
             ],
             [
              0.3333333333333333,
              "#9c179e"
             ],
             [
              0.4444444444444444,
              "#bd3786"
             ],
             [
              0.5555555555555556,
              "#d8576b"
             ],
             [
              0.6666666666666666,
              "#ed7953"
             ],
             [
              0.7777777777777778,
              "#fb9f3a"
             ],
             [
              0.8888888888888888,
              "#fdca26"
             ],
             [
              1,
              "#f0f921"
             ]
            ],
            "type": "heatmapgl"
           }
          ],
          "histogram": [
           {
            "marker": {
             "pattern": {
              "fillmode": "overlay",
              "size": 10,
              "solidity": 0.2
             }
            },
            "type": "histogram"
           }
          ],
          "histogram2d": [
           {
            "colorbar": {
             "outlinewidth": 0,
             "ticks": ""
            },
            "colorscale": [
             [
              0,
              "#0d0887"
             ],
             [
              0.1111111111111111,
              "#46039f"
             ],
             [
              0.2222222222222222,
              "#7201a8"
             ],
             [
              0.3333333333333333,
              "#9c179e"
             ],
             [
              0.4444444444444444,
              "#bd3786"
             ],
             [
              0.5555555555555556,
              "#d8576b"
             ],
             [
              0.6666666666666666,
              "#ed7953"
             ],
             [
              0.7777777777777778,
              "#fb9f3a"
             ],
             [
              0.8888888888888888,
              "#fdca26"
             ],
             [
              1,
              "#f0f921"
             ]
            ],
            "type": "histogram2d"
           }
          ],
          "histogram2dcontour": [
           {
            "colorbar": {
             "outlinewidth": 0,
             "ticks": ""
            },
            "colorscale": [
             [
              0,
              "#0d0887"
             ],
             [
              0.1111111111111111,
              "#46039f"
             ],
             [
              0.2222222222222222,
              "#7201a8"
             ],
             [
              0.3333333333333333,
              "#9c179e"
             ],
             [
              0.4444444444444444,
              "#bd3786"
             ],
             [
              0.5555555555555556,
              "#d8576b"
             ],
             [
              0.6666666666666666,
              "#ed7953"
             ],
             [
              0.7777777777777778,
              "#fb9f3a"
             ],
             [
              0.8888888888888888,
              "#fdca26"
             ],
             [
              1,
              "#f0f921"
             ]
            ],
            "type": "histogram2dcontour"
           }
          ],
          "mesh3d": [
           {
            "colorbar": {
             "outlinewidth": 0,
             "ticks": ""
            },
            "type": "mesh3d"
           }
          ],
          "parcoords": [
           {
            "line": {
             "colorbar": {
              "outlinewidth": 0,
              "ticks": ""
             }
            },
            "type": "parcoords"
           }
          ],
          "pie": [
           {
            "automargin": true,
            "type": "pie"
           }
          ],
          "scatter": [
           {
            "marker": {
             "line": {
              "color": "#283442"
             }
            },
            "type": "scatter"
           }
          ],
          "scatter3d": [
           {
            "line": {
             "colorbar": {
              "outlinewidth": 0,
              "ticks": ""
             }
            },
            "marker": {
             "colorbar": {
              "outlinewidth": 0,
              "ticks": ""
             }
            },
            "type": "scatter3d"
           }
          ],
          "scattercarpet": [
           {
            "marker": {
             "colorbar": {
              "outlinewidth": 0,
              "ticks": ""
             }
            },
            "type": "scattercarpet"
           }
          ],
          "scattergeo": [
           {
            "marker": {
             "colorbar": {
              "outlinewidth": 0,
              "ticks": ""
             }
            },
            "type": "scattergeo"
           }
          ],
          "scattergl": [
           {
            "marker": {
             "line": {
              "color": "#283442"
             }
            },
            "type": "scattergl"
           }
          ],
          "scattermapbox": [
           {
            "marker": {
             "colorbar": {
              "outlinewidth": 0,
              "ticks": ""
             }
            },
            "type": "scattermapbox"
           }
          ],
          "scatterpolar": [
           {
            "marker": {
             "colorbar": {
              "outlinewidth": 0,
              "ticks": ""
             }
            },
            "type": "scatterpolar"
           }
          ],
          "scatterpolargl": [
           {
            "marker": {
             "colorbar": {
              "outlinewidth": 0,
              "ticks": ""
             }
            },
            "type": "scatterpolargl"
           }
          ],
          "scatterternary": [
           {
            "marker": {
             "colorbar": {
              "outlinewidth": 0,
              "ticks": ""
             }
            },
            "type": "scatterternary"
           }
          ],
          "surface": [
           {
            "colorbar": {
             "outlinewidth": 0,
             "ticks": ""
            },
            "colorscale": [
             [
              0,
              "#0d0887"
             ],
             [
              0.1111111111111111,
              "#46039f"
             ],
             [
              0.2222222222222222,
              "#7201a8"
             ],
             [
              0.3333333333333333,
              "#9c179e"
             ],
             [
              0.4444444444444444,
              "#bd3786"
             ],
             [
              0.5555555555555556,
              "#d8576b"
             ],
             [
              0.6666666666666666,
              "#ed7953"
             ],
             [
              0.7777777777777778,
              "#fb9f3a"
             ],
             [
              0.8888888888888888,
              "#fdca26"
             ],
             [
              1,
              "#f0f921"
             ]
            ],
            "type": "surface"
           }
          ],
          "table": [
           {
            "cells": {
             "fill": {
              "color": "#506784"
             },
             "line": {
              "color": "rgb(17,17,17)"
             }
            },
            "header": {
             "fill": {
              "color": "#2a3f5f"
             },
             "line": {
              "color": "rgb(17,17,17)"
             }
            },
            "type": "table"
           }
          ]
         },
         "layout": {
          "annotationdefaults": {
           "arrowcolor": "#f2f5fa",
           "arrowhead": 0,
           "arrowwidth": 1
          },
          "autotypenumbers": "strict",
          "coloraxis": {
           "colorbar": {
            "outlinewidth": 0,
            "ticks": ""
           }
          },
          "colorscale": {
           "diverging": [
            [
             0,
             "#8e0152"
            ],
            [
             0.1,
             "#c51b7d"
            ],
            [
             0.2,
             "#de77ae"
            ],
            [
             0.3,
             "#f1b6da"
            ],
            [
             0.4,
             "#fde0ef"
            ],
            [
             0.5,
             "#f7f7f7"
            ],
            [
             0.6,
             "#e6f5d0"
            ],
            [
             0.7,
             "#b8e186"
            ],
            [
             0.8,
             "#7fbc41"
            ],
            [
             0.9,
             "#4d9221"
            ],
            [
             1,
             "#276419"
            ]
           ],
           "sequential": [
            [
             0,
             "#0d0887"
            ],
            [
             0.1111111111111111,
             "#46039f"
            ],
            [
             0.2222222222222222,
             "#7201a8"
            ],
            [
             0.3333333333333333,
             "#9c179e"
            ],
            [
             0.4444444444444444,
             "#bd3786"
            ],
            [
             0.5555555555555556,
             "#d8576b"
            ],
            [
             0.6666666666666666,
             "#ed7953"
            ],
            [
             0.7777777777777778,
             "#fb9f3a"
            ],
            [
             0.8888888888888888,
             "#fdca26"
            ],
            [
             1,
             "#f0f921"
            ]
           ],
           "sequentialminus": [
            [
             0,
             "#0d0887"
            ],
            [
             0.1111111111111111,
             "#46039f"
            ],
            [
             0.2222222222222222,
             "#7201a8"
            ],
            [
             0.3333333333333333,
             "#9c179e"
            ],
            [
             0.4444444444444444,
             "#bd3786"
            ],
            [
             0.5555555555555556,
             "#d8576b"
            ],
            [
             0.6666666666666666,
             "#ed7953"
            ],
            [
             0.7777777777777778,
             "#fb9f3a"
            ],
            [
             0.8888888888888888,
             "#fdca26"
            ],
            [
             1,
             "#f0f921"
            ]
           ]
          },
          "colorway": [
           "#636efa",
           "#EF553B",
           "#00cc96",
           "#ab63fa",
           "#FFA15A",
           "#19d3f3",
           "#FF6692",
           "#B6E880",
           "#FF97FF",
           "#FECB52"
          ],
          "font": {
           "color": "#f2f5fa",
           "family": "monospace",
           "size": 14
          },
          "geo": {
           "bgcolor": "rgb(17,17,17)",
           "lakecolor": "rgb(17,17,17)",
           "landcolor": "rgb(17,17,17)",
           "showlakes": true,
           "showland": true,
           "subunitcolor": "#506784"
          },
          "hoverlabel": {
           "align": "left"
          },
          "hovermode": "closest",
          "mapbox": {
           "style": "dark"
          },
          "paper_bgcolor": "rgb(17,17,17)",
          "plot_bgcolor": "rgb(17,17,17)",
          "polar": {
           "angularaxis": {
            "gridcolor": "#506784",
            "linecolor": "#506784",
            "ticks": ""
           },
           "bgcolor": "rgb(17,17,17)",
           "radialaxis": {
            "gridcolor": "#506784",
            "linecolor": "#506784",
            "ticks": ""
           }
          },
          "scene": {
           "xaxis": {
            "backgroundcolor": "rgb(17,17,17)",
            "gridcolor": "#506784",
            "gridwidth": 2,
            "linecolor": "#506784",
            "showbackground": true,
            "ticks": "",
            "zerolinecolor": "#C8D4E3"
           },
           "yaxis": {
            "backgroundcolor": "rgb(17,17,17)",
            "gridcolor": "#506784",
            "gridwidth": 2,
            "linecolor": "#506784",
            "showbackground": true,
            "ticks": "",
            "zerolinecolor": "#C8D4E3"
           },
           "zaxis": {
            "backgroundcolor": "rgb(17,17,17)",
            "gridcolor": "#506784",
            "gridwidth": 2,
            "linecolor": "#506784",
            "showbackground": true,
            "ticks": "",
            "zerolinecolor": "#C8D4E3"
           }
          },
          "shapedefaults": {
           "line": {
            "color": "#f2f5fa"
           }
          },
          "sliderdefaults": {
           "bgcolor": "#C8D4E3",
           "bordercolor": "rgb(17,17,17)",
           "borderwidth": 1,
           "tickwidth": 0
          },
          "ternary": {
           "aaxis": {
            "gridcolor": "#506784",
            "linecolor": "#506784",
            "ticks": ""
           },
           "baxis": {
            "gridcolor": "#506784",
            "linecolor": "#506784",
            "ticks": ""
           },
           "bgcolor": "rgb(17,17,17)",
           "caxis": {
            "gridcolor": "#506784",
            "linecolor": "#506784",
            "ticks": ""
           }
          },
          "title": {
           "x": 0.05
          },
          "updatemenudefaults": {
           "bgcolor": "#506784",
           "borderwidth": 0
          },
          "xaxis": {
           "automargin": true,
           "gridcolor": "#283442",
           "linecolor": "#506784",
           "ticks": "",
           "title": {
            "standoff": 15
           },
           "zerolinecolor": "#283442",
           "zerolinewidth": 2
          },
          "yaxis": {
           "automargin": true,
           "gridcolor": "#283442",
           "linecolor": "#506784",
           "ticks": "",
           "title": {
            "standoff": 15
           },
           "zerolinecolor": "#283442",
           "zerolinewidth": 2
          }
         }
        },
        "title": {
         "text": "Distribution of Chest Pain Type"
        },
        "xaxis": {
         "title": {
          "text": "chest_pain_type"
         }
        },
        "yaxis": {
         "title": {
          "text": "Count"
         }
        }
       }
      }
     },
     "metadata": {},
     "output_type": "display_data"
    },
    {
     "data": {
      "application/vnd.plotly.v1+json": {
       "config": {
        "plotlyServerURL": "https://plot.ly"
       },
       "data": [
        {
         "hovertemplate": "x: %{x}<br>y: %{y}<extra></extra>",
         "marker": {
          "color": "#e5000c"
         },
         "text": [
          257,
          45
         ],
         "textposition": "auto",
         "type": "bar",
         "x": [
          "Lower than 120 mg/ml",
          "Greater than 120 mg/ml"
         ],
         "y": [
          257,
          45
         ]
        }
       ],
       "layout": {
        "font": {
         "color": "white",
         "family": "Courier New, monospace",
         "size": 14
        },
        "template": {
         "data": {
          "bar": [
           {
            "error_x": {
             "color": "#f2f5fa"
            },
            "error_y": {
             "color": "#f2f5fa"
            },
            "marker": {
             "line": {
              "color": "rgb(17,17,17)",
              "width": 0.5
             },
             "pattern": {
              "fillmode": "overlay",
              "size": 10,
              "solidity": 0.2
             }
            },
            "type": "bar"
           }
          ],
          "barpolar": [
           {
            "marker": {
             "line": {
              "color": "rgb(17,17,17)",
              "width": 0.5
             },
             "pattern": {
              "fillmode": "overlay",
              "size": 10,
              "solidity": 0.2
             }
            },
            "type": "barpolar"
           }
          ],
          "carpet": [
           {
            "aaxis": {
             "endlinecolor": "#A2B1C6",
             "gridcolor": "#506784",
             "linecolor": "#506784",
             "minorgridcolor": "#506784",
             "startlinecolor": "#A2B1C6"
            },
            "baxis": {
             "endlinecolor": "#A2B1C6",
             "gridcolor": "#506784",
             "linecolor": "#506784",
             "minorgridcolor": "#506784",
             "startlinecolor": "#A2B1C6"
            },
            "type": "carpet"
           }
          ],
          "choropleth": [
           {
            "colorbar": {
             "outlinewidth": 0,
             "ticks": ""
            },
            "type": "choropleth"
           }
          ],
          "contour": [
           {
            "colorbar": {
             "outlinewidth": 0,
             "ticks": ""
            },
            "colorscale": [
             [
              0,
              "#0d0887"
             ],
             [
              0.1111111111111111,
              "#46039f"
             ],
             [
              0.2222222222222222,
              "#7201a8"
             ],
             [
              0.3333333333333333,
              "#9c179e"
             ],
             [
              0.4444444444444444,
              "#bd3786"
             ],
             [
              0.5555555555555556,
              "#d8576b"
             ],
             [
              0.6666666666666666,
              "#ed7953"
             ],
             [
              0.7777777777777778,
              "#fb9f3a"
             ],
             [
              0.8888888888888888,
              "#fdca26"
             ],
             [
              1,
              "#f0f921"
             ]
            ],
            "type": "contour"
           }
          ],
          "contourcarpet": [
           {
            "colorbar": {
             "outlinewidth": 0,
             "ticks": ""
            },
            "type": "contourcarpet"
           }
          ],
          "heatmap": [
           {
            "colorbar": {
             "outlinewidth": 0,
             "ticks": ""
            },
            "colorscale": [
             [
              0,
              "#0d0887"
             ],
             [
              0.1111111111111111,
              "#46039f"
             ],
             [
              0.2222222222222222,
              "#7201a8"
             ],
             [
              0.3333333333333333,
              "#9c179e"
             ],
             [
              0.4444444444444444,
              "#bd3786"
             ],
             [
              0.5555555555555556,
              "#d8576b"
             ],
             [
              0.6666666666666666,
              "#ed7953"
             ],
             [
              0.7777777777777778,
              "#fb9f3a"
             ],
             [
              0.8888888888888888,
              "#fdca26"
             ],
             [
              1,
              "#f0f921"
             ]
            ],
            "type": "heatmap"
           }
          ],
          "heatmapgl": [
           {
            "colorbar": {
             "outlinewidth": 0,
             "ticks": ""
            },
            "colorscale": [
             [
              0,
              "#0d0887"
             ],
             [
              0.1111111111111111,
              "#46039f"
             ],
             [
              0.2222222222222222,
              "#7201a8"
             ],
             [
              0.3333333333333333,
              "#9c179e"
             ],
             [
              0.4444444444444444,
              "#bd3786"
             ],
             [
              0.5555555555555556,
              "#d8576b"
             ],
             [
              0.6666666666666666,
              "#ed7953"
             ],
             [
              0.7777777777777778,
              "#fb9f3a"
             ],
             [
              0.8888888888888888,
              "#fdca26"
             ],
             [
              1,
              "#f0f921"
             ]
            ],
            "type": "heatmapgl"
           }
          ],
          "histogram": [
           {
            "marker": {
             "pattern": {
              "fillmode": "overlay",
              "size": 10,
              "solidity": 0.2
             }
            },
            "type": "histogram"
           }
          ],
          "histogram2d": [
           {
            "colorbar": {
             "outlinewidth": 0,
             "ticks": ""
            },
            "colorscale": [
             [
              0,
              "#0d0887"
             ],
             [
              0.1111111111111111,
              "#46039f"
             ],
             [
              0.2222222222222222,
              "#7201a8"
             ],
             [
              0.3333333333333333,
              "#9c179e"
             ],
             [
              0.4444444444444444,
              "#bd3786"
             ],
             [
              0.5555555555555556,
              "#d8576b"
             ],
             [
              0.6666666666666666,
              "#ed7953"
             ],
             [
              0.7777777777777778,
              "#fb9f3a"
             ],
             [
              0.8888888888888888,
              "#fdca26"
             ],
             [
              1,
              "#f0f921"
             ]
            ],
            "type": "histogram2d"
           }
          ],
          "histogram2dcontour": [
           {
            "colorbar": {
             "outlinewidth": 0,
             "ticks": ""
            },
            "colorscale": [
             [
              0,
              "#0d0887"
             ],
             [
              0.1111111111111111,
              "#46039f"
             ],
             [
              0.2222222222222222,
              "#7201a8"
             ],
             [
              0.3333333333333333,
              "#9c179e"
             ],
             [
              0.4444444444444444,
              "#bd3786"
             ],
             [
              0.5555555555555556,
              "#d8576b"
             ],
             [
              0.6666666666666666,
              "#ed7953"
             ],
             [
              0.7777777777777778,
              "#fb9f3a"
             ],
             [
              0.8888888888888888,
              "#fdca26"
             ],
             [
              1,
              "#f0f921"
             ]
            ],
            "type": "histogram2dcontour"
           }
          ],
          "mesh3d": [
           {
            "colorbar": {
             "outlinewidth": 0,
             "ticks": ""
            },
            "type": "mesh3d"
           }
          ],
          "parcoords": [
           {
            "line": {
             "colorbar": {
              "outlinewidth": 0,
              "ticks": ""
             }
            },
            "type": "parcoords"
           }
          ],
          "pie": [
           {
            "automargin": true,
            "type": "pie"
           }
          ],
          "scatter": [
           {
            "marker": {
             "line": {
              "color": "#283442"
             }
            },
            "type": "scatter"
           }
          ],
          "scatter3d": [
           {
            "line": {
             "colorbar": {
              "outlinewidth": 0,
              "ticks": ""
             }
            },
            "marker": {
             "colorbar": {
              "outlinewidth": 0,
              "ticks": ""
             }
            },
            "type": "scatter3d"
           }
          ],
          "scattercarpet": [
           {
            "marker": {
             "colorbar": {
              "outlinewidth": 0,
              "ticks": ""
             }
            },
            "type": "scattercarpet"
           }
          ],
          "scattergeo": [
           {
            "marker": {
             "colorbar": {
              "outlinewidth": 0,
              "ticks": ""
             }
            },
            "type": "scattergeo"
           }
          ],
          "scattergl": [
           {
            "marker": {
             "line": {
              "color": "#283442"
             }
            },
            "type": "scattergl"
           }
          ],
          "scattermapbox": [
           {
            "marker": {
             "colorbar": {
              "outlinewidth": 0,
              "ticks": ""
             }
            },
            "type": "scattermapbox"
           }
          ],
          "scatterpolar": [
           {
            "marker": {
             "colorbar": {
              "outlinewidth": 0,
              "ticks": ""
             }
            },
            "type": "scatterpolar"
           }
          ],
          "scatterpolargl": [
           {
            "marker": {
             "colorbar": {
              "outlinewidth": 0,
              "ticks": ""
             }
            },
            "type": "scatterpolargl"
           }
          ],
          "scatterternary": [
           {
            "marker": {
             "colorbar": {
              "outlinewidth": 0,
              "ticks": ""
             }
            },
            "type": "scatterternary"
           }
          ],
          "surface": [
           {
            "colorbar": {
             "outlinewidth": 0,
             "ticks": ""
            },
            "colorscale": [
             [
              0,
              "#0d0887"
             ],
             [
              0.1111111111111111,
              "#46039f"
             ],
             [
              0.2222222222222222,
              "#7201a8"
             ],
             [
              0.3333333333333333,
              "#9c179e"
             ],
             [
              0.4444444444444444,
              "#bd3786"
             ],
             [
              0.5555555555555556,
              "#d8576b"
             ],
             [
              0.6666666666666666,
              "#ed7953"
             ],
             [
              0.7777777777777778,
              "#fb9f3a"
             ],
             [
              0.8888888888888888,
              "#fdca26"
             ],
             [
              1,
              "#f0f921"
             ]
            ],
            "type": "surface"
           }
          ],
          "table": [
           {
            "cells": {
             "fill": {
              "color": "#506784"
             },
             "line": {
              "color": "rgb(17,17,17)"
             }
            },
            "header": {
             "fill": {
              "color": "#2a3f5f"
             },
             "line": {
              "color": "rgb(17,17,17)"
             }
            },
            "type": "table"
           }
          ]
         },
         "layout": {
          "annotationdefaults": {
           "arrowcolor": "#f2f5fa",
           "arrowhead": 0,
           "arrowwidth": 1
          },
          "autotypenumbers": "strict",
          "coloraxis": {
           "colorbar": {
            "outlinewidth": 0,
            "ticks": ""
           }
          },
          "colorscale": {
           "diverging": [
            [
             0,
             "#8e0152"
            ],
            [
             0.1,
             "#c51b7d"
            ],
            [
             0.2,
             "#de77ae"
            ],
            [
             0.3,
             "#f1b6da"
            ],
            [
             0.4,
             "#fde0ef"
            ],
            [
             0.5,
             "#f7f7f7"
            ],
            [
             0.6,
             "#e6f5d0"
            ],
            [
             0.7,
             "#b8e186"
            ],
            [
             0.8,
             "#7fbc41"
            ],
            [
             0.9,
             "#4d9221"
            ],
            [
             1,
             "#276419"
            ]
           ],
           "sequential": [
            [
             0,
             "#0d0887"
            ],
            [
             0.1111111111111111,
             "#46039f"
            ],
            [
             0.2222222222222222,
             "#7201a8"
            ],
            [
             0.3333333333333333,
             "#9c179e"
            ],
            [
             0.4444444444444444,
             "#bd3786"
            ],
            [
             0.5555555555555556,
             "#d8576b"
            ],
            [
             0.6666666666666666,
             "#ed7953"
            ],
            [
             0.7777777777777778,
             "#fb9f3a"
            ],
            [
             0.8888888888888888,
             "#fdca26"
            ],
            [
             1,
             "#f0f921"
            ]
           ],
           "sequentialminus": [
            [
             0,
             "#0d0887"
            ],
            [
             0.1111111111111111,
             "#46039f"
            ],
            [
             0.2222222222222222,
             "#7201a8"
            ],
            [
             0.3333333333333333,
             "#9c179e"
            ],
            [
             0.4444444444444444,
             "#bd3786"
            ],
            [
             0.5555555555555556,
             "#d8576b"
            ],
            [
             0.6666666666666666,
             "#ed7953"
            ],
            [
             0.7777777777777778,
             "#fb9f3a"
            ],
            [
             0.8888888888888888,
             "#fdca26"
            ],
            [
             1,
             "#f0f921"
            ]
           ]
          },
          "colorway": [
           "#636efa",
           "#EF553B",
           "#00cc96",
           "#ab63fa",
           "#FFA15A",
           "#19d3f3",
           "#FF6692",
           "#B6E880",
           "#FF97FF",
           "#FECB52"
          ],
          "font": {
           "color": "#f2f5fa",
           "family": "monospace",
           "size": 14
          },
          "geo": {
           "bgcolor": "rgb(17,17,17)",
           "lakecolor": "rgb(17,17,17)",
           "landcolor": "rgb(17,17,17)",
           "showlakes": true,
           "showland": true,
           "subunitcolor": "#506784"
          },
          "hoverlabel": {
           "align": "left"
          },
          "hovermode": "closest",
          "mapbox": {
           "style": "dark"
          },
          "paper_bgcolor": "rgb(17,17,17)",
          "plot_bgcolor": "rgb(17,17,17)",
          "polar": {
           "angularaxis": {
            "gridcolor": "#506784",
            "linecolor": "#506784",
            "ticks": ""
           },
           "bgcolor": "rgb(17,17,17)",
           "radialaxis": {
            "gridcolor": "#506784",
            "linecolor": "#506784",
            "ticks": ""
           }
          },
          "scene": {
           "xaxis": {
            "backgroundcolor": "rgb(17,17,17)",
            "gridcolor": "#506784",
            "gridwidth": 2,
            "linecolor": "#506784",
            "showbackground": true,
            "ticks": "",
            "zerolinecolor": "#C8D4E3"
           },
           "yaxis": {
            "backgroundcolor": "rgb(17,17,17)",
            "gridcolor": "#506784",
            "gridwidth": 2,
            "linecolor": "#506784",
            "showbackground": true,
            "ticks": "",
            "zerolinecolor": "#C8D4E3"
           },
           "zaxis": {
            "backgroundcolor": "rgb(17,17,17)",
            "gridcolor": "#506784",
            "gridwidth": 2,
            "linecolor": "#506784",
            "showbackground": true,
            "ticks": "",
            "zerolinecolor": "#C8D4E3"
           }
          },
          "shapedefaults": {
           "line": {
            "color": "#f2f5fa"
           }
          },
          "sliderdefaults": {
           "bgcolor": "#C8D4E3",
           "bordercolor": "rgb(17,17,17)",
           "borderwidth": 1,
           "tickwidth": 0
          },
          "ternary": {
           "aaxis": {
            "gridcolor": "#506784",
            "linecolor": "#506784",
            "ticks": ""
           },
           "baxis": {
            "gridcolor": "#506784",
            "linecolor": "#506784",
            "ticks": ""
           },
           "bgcolor": "rgb(17,17,17)",
           "caxis": {
            "gridcolor": "#506784",
            "linecolor": "#506784",
            "ticks": ""
           }
          },
          "title": {
           "x": 0.05
          },
          "updatemenudefaults": {
           "bgcolor": "#506784",
           "borderwidth": 0
          },
          "xaxis": {
           "automargin": true,
           "gridcolor": "#283442",
           "linecolor": "#506784",
           "ticks": "",
           "title": {
            "standoff": 15
           },
           "zerolinecolor": "#283442",
           "zerolinewidth": 2
          },
          "yaxis": {
           "automargin": true,
           "gridcolor": "#283442",
           "linecolor": "#506784",
           "ticks": "",
           "title": {
            "standoff": 15
           },
           "zerolinecolor": "#283442",
           "zerolinewidth": 2
          }
         }
        },
        "title": {
         "text": "Distribution of Fasting Blood Sugar"
        },
        "xaxis": {
         "title": {
          "text": "fasting_blood_sugar"
         }
        },
        "yaxis": {
         "title": {
          "text": "Count"
         }
        }
       }
      }
     },
     "metadata": {},
     "output_type": "display_data"
    },
    {
     "data": {
      "application/vnd.plotly.v1+json": {
       "config": {
        "plotlyServerURL": "https://plot.ly"
       },
       "data": [
        {
         "hovertemplate": "x: %{x}<br>y: %{y}<extra></extra>",
         "marker": {
          "color": "#784283"
         },
         "text": [
          151,
          147,
          4
         ],
         "textposition": "auto",
         "type": "bar",
         "x": [
          "ST-T wave abnormality",
          "Normal",
          "Left ventricular hypertrophy"
         ],
         "y": [
          151,
          147,
          4
         ]
        }
       ],
       "layout": {
        "font": {
         "color": "white",
         "family": "Courier New, monospace",
         "size": 14
        },
        "template": {
         "data": {
          "bar": [
           {
            "error_x": {
             "color": "#f2f5fa"
            },
            "error_y": {
             "color": "#f2f5fa"
            },
            "marker": {
             "line": {
              "color": "rgb(17,17,17)",
              "width": 0.5
             },
             "pattern": {
              "fillmode": "overlay",
              "size": 10,
              "solidity": 0.2
             }
            },
            "type": "bar"
           }
          ],
          "barpolar": [
           {
            "marker": {
             "line": {
              "color": "rgb(17,17,17)",
              "width": 0.5
             },
             "pattern": {
              "fillmode": "overlay",
              "size": 10,
              "solidity": 0.2
             }
            },
            "type": "barpolar"
           }
          ],
          "carpet": [
           {
            "aaxis": {
             "endlinecolor": "#A2B1C6",
             "gridcolor": "#506784",
             "linecolor": "#506784",
             "minorgridcolor": "#506784",
             "startlinecolor": "#A2B1C6"
            },
            "baxis": {
             "endlinecolor": "#A2B1C6",
             "gridcolor": "#506784",
             "linecolor": "#506784",
             "minorgridcolor": "#506784",
             "startlinecolor": "#A2B1C6"
            },
            "type": "carpet"
           }
          ],
          "choropleth": [
           {
            "colorbar": {
             "outlinewidth": 0,
             "ticks": ""
            },
            "type": "choropleth"
           }
          ],
          "contour": [
           {
            "colorbar": {
             "outlinewidth": 0,
             "ticks": ""
            },
            "colorscale": [
             [
              0,
              "#0d0887"
             ],
             [
              0.1111111111111111,
              "#46039f"
             ],
             [
              0.2222222222222222,
              "#7201a8"
             ],
             [
              0.3333333333333333,
              "#9c179e"
             ],
             [
              0.4444444444444444,
              "#bd3786"
             ],
             [
              0.5555555555555556,
              "#d8576b"
             ],
             [
              0.6666666666666666,
              "#ed7953"
             ],
             [
              0.7777777777777778,
              "#fb9f3a"
             ],
             [
              0.8888888888888888,
              "#fdca26"
             ],
             [
              1,
              "#f0f921"
             ]
            ],
            "type": "contour"
           }
          ],
          "contourcarpet": [
           {
            "colorbar": {
             "outlinewidth": 0,
             "ticks": ""
            },
            "type": "contourcarpet"
           }
          ],
          "heatmap": [
           {
            "colorbar": {
             "outlinewidth": 0,
             "ticks": ""
            },
            "colorscale": [
             [
              0,
              "#0d0887"
             ],
             [
              0.1111111111111111,
              "#46039f"
             ],
             [
              0.2222222222222222,
              "#7201a8"
             ],
             [
              0.3333333333333333,
              "#9c179e"
             ],
             [
              0.4444444444444444,
              "#bd3786"
             ],
             [
              0.5555555555555556,
              "#d8576b"
             ],
             [
              0.6666666666666666,
              "#ed7953"
             ],
             [
              0.7777777777777778,
              "#fb9f3a"
             ],
             [
              0.8888888888888888,
              "#fdca26"
             ],
             [
              1,
              "#f0f921"
             ]
            ],
            "type": "heatmap"
           }
          ],
          "heatmapgl": [
           {
            "colorbar": {
             "outlinewidth": 0,
             "ticks": ""
            },
            "colorscale": [
             [
              0,
              "#0d0887"
             ],
             [
              0.1111111111111111,
              "#46039f"
             ],
             [
              0.2222222222222222,
              "#7201a8"
             ],
             [
              0.3333333333333333,
              "#9c179e"
             ],
             [
              0.4444444444444444,
              "#bd3786"
             ],
             [
              0.5555555555555556,
              "#d8576b"
             ],
             [
              0.6666666666666666,
              "#ed7953"
             ],
             [
              0.7777777777777778,
              "#fb9f3a"
             ],
             [
              0.8888888888888888,
              "#fdca26"
             ],
             [
              1,
              "#f0f921"
             ]
            ],
            "type": "heatmapgl"
           }
          ],
          "histogram": [
           {
            "marker": {
             "pattern": {
              "fillmode": "overlay",
              "size": 10,
              "solidity": 0.2
             }
            },
            "type": "histogram"
           }
          ],
          "histogram2d": [
           {
            "colorbar": {
             "outlinewidth": 0,
             "ticks": ""
            },
            "colorscale": [
             [
              0,
              "#0d0887"
             ],
             [
              0.1111111111111111,
              "#46039f"
             ],
             [
              0.2222222222222222,
              "#7201a8"
             ],
             [
              0.3333333333333333,
              "#9c179e"
             ],
             [
              0.4444444444444444,
              "#bd3786"
             ],
             [
              0.5555555555555556,
              "#d8576b"
             ],
             [
              0.6666666666666666,
              "#ed7953"
             ],
             [
              0.7777777777777778,
              "#fb9f3a"
             ],
             [
              0.8888888888888888,
              "#fdca26"
             ],
             [
              1,
              "#f0f921"
             ]
            ],
            "type": "histogram2d"
           }
          ],
          "histogram2dcontour": [
           {
            "colorbar": {
             "outlinewidth": 0,
             "ticks": ""
            },
            "colorscale": [
             [
              0,
              "#0d0887"
             ],
             [
              0.1111111111111111,
              "#46039f"
             ],
             [
              0.2222222222222222,
              "#7201a8"
             ],
             [
              0.3333333333333333,
              "#9c179e"
             ],
             [
              0.4444444444444444,
              "#bd3786"
             ],
             [
              0.5555555555555556,
              "#d8576b"
             ],
             [
              0.6666666666666666,
              "#ed7953"
             ],
             [
              0.7777777777777778,
              "#fb9f3a"
             ],
             [
              0.8888888888888888,
              "#fdca26"
             ],
             [
              1,
              "#f0f921"
             ]
            ],
            "type": "histogram2dcontour"
           }
          ],
          "mesh3d": [
           {
            "colorbar": {
             "outlinewidth": 0,
             "ticks": ""
            },
            "type": "mesh3d"
           }
          ],
          "parcoords": [
           {
            "line": {
             "colorbar": {
              "outlinewidth": 0,
              "ticks": ""
             }
            },
            "type": "parcoords"
           }
          ],
          "pie": [
           {
            "automargin": true,
            "type": "pie"
           }
          ],
          "scatter": [
           {
            "marker": {
             "line": {
              "color": "#283442"
             }
            },
            "type": "scatter"
           }
          ],
          "scatter3d": [
           {
            "line": {
             "colorbar": {
              "outlinewidth": 0,
              "ticks": ""
             }
            },
            "marker": {
             "colorbar": {
              "outlinewidth": 0,
              "ticks": ""
             }
            },
            "type": "scatter3d"
           }
          ],
          "scattercarpet": [
           {
            "marker": {
             "colorbar": {
              "outlinewidth": 0,
              "ticks": ""
             }
            },
            "type": "scattercarpet"
           }
          ],
          "scattergeo": [
           {
            "marker": {
             "colorbar": {
              "outlinewidth": 0,
              "ticks": ""
             }
            },
            "type": "scattergeo"
           }
          ],
          "scattergl": [
           {
            "marker": {
             "line": {
              "color": "#283442"
             }
            },
            "type": "scattergl"
           }
          ],
          "scattermapbox": [
           {
            "marker": {
             "colorbar": {
              "outlinewidth": 0,
              "ticks": ""
             }
            },
            "type": "scattermapbox"
           }
          ],
          "scatterpolar": [
           {
            "marker": {
             "colorbar": {
              "outlinewidth": 0,
              "ticks": ""
             }
            },
            "type": "scatterpolar"
           }
          ],
          "scatterpolargl": [
           {
            "marker": {
             "colorbar": {
              "outlinewidth": 0,
              "ticks": ""
             }
            },
            "type": "scatterpolargl"
           }
          ],
          "scatterternary": [
           {
            "marker": {
             "colorbar": {
              "outlinewidth": 0,
              "ticks": ""
             }
            },
            "type": "scatterternary"
           }
          ],
          "surface": [
           {
            "colorbar": {
             "outlinewidth": 0,
             "ticks": ""
            },
            "colorscale": [
             [
              0,
              "#0d0887"
             ],
             [
              0.1111111111111111,
              "#46039f"
             ],
             [
              0.2222222222222222,
              "#7201a8"
             ],
             [
              0.3333333333333333,
              "#9c179e"
             ],
             [
              0.4444444444444444,
              "#bd3786"
             ],
             [
              0.5555555555555556,
              "#d8576b"
             ],
             [
              0.6666666666666666,
              "#ed7953"
             ],
             [
              0.7777777777777778,
              "#fb9f3a"
             ],
             [
              0.8888888888888888,
              "#fdca26"
             ],
             [
              1,
              "#f0f921"
             ]
            ],
            "type": "surface"
           }
          ],
          "table": [
           {
            "cells": {
             "fill": {
              "color": "#506784"
             },
             "line": {
              "color": "rgb(17,17,17)"
             }
            },
            "header": {
             "fill": {
              "color": "#2a3f5f"
             },
             "line": {
              "color": "rgb(17,17,17)"
             }
            },
            "type": "table"
           }
          ]
         },
         "layout": {
          "annotationdefaults": {
           "arrowcolor": "#f2f5fa",
           "arrowhead": 0,
           "arrowwidth": 1
          },
          "autotypenumbers": "strict",
          "coloraxis": {
           "colorbar": {
            "outlinewidth": 0,
            "ticks": ""
           }
          },
          "colorscale": {
           "diverging": [
            [
             0,
             "#8e0152"
            ],
            [
             0.1,
             "#c51b7d"
            ],
            [
             0.2,
             "#de77ae"
            ],
            [
             0.3,
             "#f1b6da"
            ],
            [
             0.4,
             "#fde0ef"
            ],
            [
             0.5,
             "#f7f7f7"
            ],
            [
             0.6,
             "#e6f5d0"
            ],
            [
             0.7,
             "#b8e186"
            ],
            [
             0.8,
             "#7fbc41"
            ],
            [
             0.9,
             "#4d9221"
            ],
            [
             1,
             "#276419"
            ]
           ],
           "sequential": [
            [
             0,
             "#0d0887"
            ],
            [
             0.1111111111111111,
             "#46039f"
            ],
            [
             0.2222222222222222,
             "#7201a8"
            ],
            [
             0.3333333333333333,
             "#9c179e"
            ],
            [
             0.4444444444444444,
             "#bd3786"
            ],
            [
             0.5555555555555556,
             "#d8576b"
            ],
            [
             0.6666666666666666,
             "#ed7953"
            ],
            [
             0.7777777777777778,
             "#fb9f3a"
            ],
            [
             0.8888888888888888,
             "#fdca26"
            ],
            [
             1,
             "#f0f921"
            ]
           ],
           "sequentialminus": [
            [
             0,
             "#0d0887"
            ],
            [
             0.1111111111111111,
             "#46039f"
            ],
            [
             0.2222222222222222,
             "#7201a8"
            ],
            [
             0.3333333333333333,
             "#9c179e"
            ],
            [
             0.4444444444444444,
             "#bd3786"
            ],
            [
             0.5555555555555556,
             "#d8576b"
            ],
            [
             0.6666666666666666,
             "#ed7953"
            ],
            [
             0.7777777777777778,
             "#fb9f3a"
            ],
            [
             0.8888888888888888,
             "#fdca26"
            ],
            [
             1,
             "#f0f921"
            ]
           ]
          },
          "colorway": [
           "#636efa",
           "#EF553B",
           "#00cc96",
           "#ab63fa",
           "#FFA15A",
           "#19d3f3",
           "#FF6692",
           "#B6E880",
           "#FF97FF",
           "#FECB52"
          ],
          "font": {
           "color": "#f2f5fa",
           "family": "monospace",
           "size": 14
          },
          "geo": {
           "bgcolor": "rgb(17,17,17)",
           "lakecolor": "rgb(17,17,17)",
           "landcolor": "rgb(17,17,17)",
           "showlakes": true,
           "showland": true,
           "subunitcolor": "#506784"
          },
          "hoverlabel": {
           "align": "left"
          },
          "hovermode": "closest",
          "mapbox": {
           "style": "dark"
          },
          "paper_bgcolor": "rgb(17,17,17)",
          "plot_bgcolor": "rgb(17,17,17)",
          "polar": {
           "angularaxis": {
            "gridcolor": "#506784",
            "linecolor": "#506784",
            "ticks": ""
           },
           "bgcolor": "rgb(17,17,17)",
           "radialaxis": {
            "gridcolor": "#506784",
            "linecolor": "#506784",
            "ticks": ""
           }
          },
          "scene": {
           "xaxis": {
            "backgroundcolor": "rgb(17,17,17)",
            "gridcolor": "#506784",
            "gridwidth": 2,
            "linecolor": "#506784",
            "showbackground": true,
            "ticks": "",
            "zerolinecolor": "#C8D4E3"
           },
           "yaxis": {
            "backgroundcolor": "rgb(17,17,17)",
            "gridcolor": "#506784",
            "gridwidth": 2,
            "linecolor": "#506784",
            "showbackground": true,
            "ticks": "",
            "zerolinecolor": "#C8D4E3"
           },
           "zaxis": {
            "backgroundcolor": "rgb(17,17,17)",
            "gridcolor": "#506784",
            "gridwidth": 2,
            "linecolor": "#506784",
            "showbackground": true,
            "ticks": "",
            "zerolinecolor": "#C8D4E3"
           }
          },
          "shapedefaults": {
           "line": {
            "color": "#f2f5fa"
           }
          },
          "sliderdefaults": {
           "bgcolor": "#C8D4E3",
           "bordercolor": "rgb(17,17,17)",
           "borderwidth": 1,
           "tickwidth": 0
          },
          "ternary": {
           "aaxis": {
            "gridcolor": "#506784",
            "linecolor": "#506784",
            "ticks": ""
           },
           "baxis": {
            "gridcolor": "#506784",
            "linecolor": "#506784",
            "ticks": ""
           },
           "bgcolor": "rgb(17,17,17)",
           "caxis": {
            "gridcolor": "#506784",
            "linecolor": "#506784",
            "ticks": ""
           }
          },
          "title": {
           "x": 0.05
          },
          "updatemenudefaults": {
           "bgcolor": "#506784",
           "borderwidth": 0
          },
          "xaxis": {
           "automargin": true,
           "gridcolor": "#283442",
           "linecolor": "#506784",
           "ticks": "",
           "title": {
            "standoff": 15
           },
           "zerolinecolor": "#283442",
           "zerolinewidth": 2
          },
          "yaxis": {
           "automargin": true,
           "gridcolor": "#283442",
           "linecolor": "#506784",
           "ticks": "",
           "title": {
            "standoff": 15
           },
           "zerolinecolor": "#283442",
           "zerolinewidth": 2
          }
         }
        },
        "title": {
         "text": "Distribution of Resting ECG Results"
        },
        "xaxis": {
         "title": {
          "text": "rest_ecg"
         }
        },
        "yaxis": {
         "title": {
          "text": "Count"
         }
        }
       }
      }
     },
     "metadata": {},
     "output_type": "display_data"
    },
    {
     "data": {
      "application/vnd.plotly.v1+json": {
       "config": {
        "plotlyServerURL": "https://plot.ly"
       },
       "data": [
        {
         "hovertemplate": "x: %{x}<br>y: %{y}<extra></extra>",
         "marker": {
          "color": "#ddd690"
         },
         "text": [
          203,
          99
         ],
         "textposition": "auto",
         "type": "bar",
         "x": [
          "No",
          "Yes"
         ],
         "y": [
          203,
          99
         ]
        }
       ],
       "layout": {
        "font": {
         "color": "white",
         "family": "Courier New, monospace",
         "size": 14
        },
        "template": {
         "data": {
          "bar": [
           {
            "error_x": {
             "color": "#f2f5fa"
            },
            "error_y": {
             "color": "#f2f5fa"
            },
            "marker": {
             "line": {
              "color": "rgb(17,17,17)",
              "width": 0.5
             },
             "pattern": {
              "fillmode": "overlay",
              "size": 10,
              "solidity": 0.2
             }
            },
            "type": "bar"
           }
          ],
          "barpolar": [
           {
            "marker": {
             "line": {
              "color": "rgb(17,17,17)",
              "width": 0.5
             },
             "pattern": {
              "fillmode": "overlay",
              "size": 10,
              "solidity": 0.2
             }
            },
            "type": "barpolar"
           }
          ],
          "carpet": [
           {
            "aaxis": {
             "endlinecolor": "#A2B1C6",
             "gridcolor": "#506784",
             "linecolor": "#506784",
             "minorgridcolor": "#506784",
             "startlinecolor": "#A2B1C6"
            },
            "baxis": {
             "endlinecolor": "#A2B1C6",
             "gridcolor": "#506784",
             "linecolor": "#506784",
             "minorgridcolor": "#506784",
             "startlinecolor": "#A2B1C6"
            },
            "type": "carpet"
           }
          ],
          "choropleth": [
           {
            "colorbar": {
             "outlinewidth": 0,
             "ticks": ""
            },
            "type": "choropleth"
           }
          ],
          "contour": [
           {
            "colorbar": {
             "outlinewidth": 0,
             "ticks": ""
            },
            "colorscale": [
             [
              0,
              "#0d0887"
             ],
             [
              0.1111111111111111,
              "#46039f"
             ],
             [
              0.2222222222222222,
              "#7201a8"
             ],
             [
              0.3333333333333333,
              "#9c179e"
             ],
             [
              0.4444444444444444,
              "#bd3786"
             ],
             [
              0.5555555555555556,
              "#d8576b"
             ],
             [
              0.6666666666666666,
              "#ed7953"
             ],
             [
              0.7777777777777778,
              "#fb9f3a"
             ],
             [
              0.8888888888888888,
              "#fdca26"
             ],
             [
              1,
              "#f0f921"
             ]
            ],
            "type": "contour"
           }
          ],
          "contourcarpet": [
           {
            "colorbar": {
             "outlinewidth": 0,
             "ticks": ""
            },
            "type": "contourcarpet"
           }
          ],
          "heatmap": [
           {
            "colorbar": {
             "outlinewidth": 0,
             "ticks": ""
            },
            "colorscale": [
             [
              0,
              "#0d0887"
             ],
             [
              0.1111111111111111,
              "#46039f"
             ],
             [
              0.2222222222222222,
              "#7201a8"
             ],
             [
              0.3333333333333333,
              "#9c179e"
             ],
             [
              0.4444444444444444,
              "#bd3786"
             ],
             [
              0.5555555555555556,
              "#d8576b"
             ],
             [
              0.6666666666666666,
              "#ed7953"
             ],
             [
              0.7777777777777778,
              "#fb9f3a"
             ],
             [
              0.8888888888888888,
              "#fdca26"
             ],
             [
              1,
              "#f0f921"
             ]
            ],
            "type": "heatmap"
           }
          ],
          "heatmapgl": [
           {
            "colorbar": {
             "outlinewidth": 0,
             "ticks": ""
            },
            "colorscale": [
             [
              0,
              "#0d0887"
             ],
             [
              0.1111111111111111,
              "#46039f"
             ],
             [
              0.2222222222222222,
              "#7201a8"
             ],
             [
              0.3333333333333333,
              "#9c179e"
             ],
             [
              0.4444444444444444,
              "#bd3786"
             ],
             [
              0.5555555555555556,
              "#d8576b"
             ],
             [
              0.6666666666666666,
              "#ed7953"
             ],
             [
              0.7777777777777778,
              "#fb9f3a"
             ],
             [
              0.8888888888888888,
              "#fdca26"
             ],
             [
              1,
              "#f0f921"
             ]
            ],
            "type": "heatmapgl"
           }
          ],
          "histogram": [
           {
            "marker": {
             "pattern": {
              "fillmode": "overlay",
              "size": 10,
              "solidity": 0.2
             }
            },
            "type": "histogram"
           }
          ],
          "histogram2d": [
           {
            "colorbar": {
             "outlinewidth": 0,
             "ticks": ""
            },
            "colorscale": [
             [
              0,
              "#0d0887"
             ],
             [
              0.1111111111111111,
              "#46039f"
             ],
             [
              0.2222222222222222,
              "#7201a8"
             ],
             [
              0.3333333333333333,
              "#9c179e"
             ],
             [
              0.4444444444444444,
              "#bd3786"
             ],
             [
              0.5555555555555556,
              "#d8576b"
             ],
             [
              0.6666666666666666,
              "#ed7953"
             ],
             [
              0.7777777777777778,
              "#fb9f3a"
             ],
             [
              0.8888888888888888,
              "#fdca26"
             ],
             [
              1,
              "#f0f921"
             ]
            ],
            "type": "histogram2d"
           }
          ],
          "histogram2dcontour": [
           {
            "colorbar": {
             "outlinewidth": 0,
             "ticks": ""
            },
            "colorscale": [
             [
              0,
              "#0d0887"
             ],
             [
              0.1111111111111111,
              "#46039f"
             ],
             [
              0.2222222222222222,
              "#7201a8"
             ],
             [
              0.3333333333333333,
              "#9c179e"
             ],
             [
              0.4444444444444444,
              "#bd3786"
             ],
             [
              0.5555555555555556,
              "#d8576b"
             ],
             [
              0.6666666666666666,
              "#ed7953"
             ],
             [
              0.7777777777777778,
              "#fb9f3a"
             ],
             [
              0.8888888888888888,
              "#fdca26"
             ],
             [
              1,
              "#f0f921"
             ]
            ],
            "type": "histogram2dcontour"
           }
          ],
          "mesh3d": [
           {
            "colorbar": {
             "outlinewidth": 0,
             "ticks": ""
            },
            "type": "mesh3d"
           }
          ],
          "parcoords": [
           {
            "line": {
             "colorbar": {
              "outlinewidth": 0,
              "ticks": ""
             }
            },
            "type": "parcoords"
           }
          ],
          "pie": [
           {
            "automargin": true,
            "type": "pie"
           }
          ],
          "scatter": [
           {
            "marker": {
             "line": {
              "color": "#283442"
             }
            },
            "type": "scatter"
           }
          ],
          "scatter3d": [
           {
            "line": {
             "colorbar": {
              "outlinewidth": 0,
              "ticks": ""
             }
            },
            "marker": {
             "colorbar": {
              "outlinewidth": 0,
              "ticks": ""
             }
            },
            "type": "scatter3d"
           }
          ],
          "scattercarpet": [
           {
            "marker": {
             "colorbar": {
              "outlinewidth": 0,
              "ticks": ""
             }
            },
            "type": "scattercarpet"
           }
          ],
          "scattergeo": [
           {
            "marker": {
             "colorbar": {
              "outlinewidth": 0,
              "ticks": ""
             }
            },
            "type": "scattergeo"
           }
          ],
          "scattergl": [
           {
            "marker": {
             "line": {
              "color": "#283442"
             }
            },
            "type": "scattergl"
           }
          ],
          "scattermapbox": [
           {
            "marker": {
             "colorbar": {
              "outlinewidth": 0,
              "ticks": ""
             }
            },
            "type": "scattermapbox"
           }
          ],
          "scatterpolar": [
           {
            "marker": {
             "colorbar": {
              "outlinewidth": 0,
              "ticks": ""
             }
            },
            "type": "scatterpolar"
           }
          ],
          "scatterpolargl": [
           {
            "marker": {
             "colorbar": {
              "outlinewidth": 0,
              "ticks": ""
             }
            },
            "type": "scatterpolargl"
           }
          ],
          "scatterternary": [
           {
            "marker": {
             "colorbar": {
              "outlinewidth": 0,
              "ticks": ""
             }
            },
            "type": "scatterternary"
           }
          ],
          "surface": [
           {
            "colorbar": {
             "outlinewidth": 0,
             "ticks": ""
            },
            "colorscale": [
             [
              0,
              "#0d0887"
             ],
             [
              0.1111111111111111,
              "#46039f"
             ],
             [
              0.2222222222222222,
              "#7201a8"
             ],
             [
              0.3333333333333333,
              "#9c179e"
             ],
             [
              0.4444444444444444,
              "#bd3786"
             ],
             [
              0.5555555555555556,
              "#d8576b"
             ],
             [
              0.6666666666666666,
              "#ed7953"
             ],
             [
              0.7777777777777778,
              "#fb9f3a"
             ],
             [
              0.8888888888888888,
              "#fdca26"
             ],
             [
              1,
              "#f0f921"
             ]
            ],
            "type": "surface"
           }
          ],
          "table": [
           {
            "cells": {
             "fill": {
              "color": "#506784"
             },
             "line": {
              "color": "rgb(17,17,17)"
             }
            },
            "header": {
             "fill": {
              "color": "#2a3f5f"
             },
             "line": {
              "color": "rgb(17,17,17)"
             }
            },
            "type": "table"
           }
          ]
         },
         "layout": {
          "annotationdefaults": {
           "arrowcolor": "#f2f5fa",
           "arrowhead": 0,
           "arrowwidth": 1
          },
          "autotypenumbers": "strict",
          "coloraxis": {
           "colorbar": {
            "outlinewidth": 0,
            "ticks": ""
           }
          },
          "colorscale": {
           "diverging": [
            [
             0,
             "#8e0152"
            ],
            [
             0.1,
             "#c51b7d"
            ],
            [
             0.2,
             "#de77ae"
            ],
            [
             0.3,
             "#f1b6da"
            ],
            [
             0.4,
             "#fde0ef"
            ],
            [
             0.5,
             "#f7f7f7"
            ],
            [
             0.6,
             "#e6f5d0"
            ],
            [
             0.7,
             "#b8e186"
            ],
            [
             0.8,
             "#7fbc41"
            ],
            [
             0.9,
             "#4d9221"
            ],
            [
             1,
             "#276419"
            ]
           ],
           "sequential": [
            [
             0,
             "#0d0887"
            ],
            [
             0.1111111111111111,
             "#46039f"
            ],
            [
             0.2222222222222222,
             "#7201a8"
            ],
            [
             0.3333333333333333,
             "#9c179e"
            ],
            [
             0.4444444444444444,
             "#bd3786"
            ],
            [
             0.5555555555555556,
             "#d8576b"
            ],
            [
             0.6666666666666666,
             "#ed7953"
            ],
            [
             0.7777777777777778,
             "#fb9f3a"
            ],
            [
             0.8888888888888888,
             "#fdca26"
            ],
            [
             1,
             "#f0f921"
            ]
           ],
           "sequentialminus": [
            [
             0,
             "#0d0887"
            ],
            [
             0.1111111111111111,
             "#46039f"
            ],
            [
             0.2222222222222222,
             "#7201a8"
            ],
            [
             0.3333333333333333,
             "#9c179e"
            ],
            [
             0.4444444444444444,
             "#bd3786"
            ],
            [
             0.5555555555555556,
             "#d8576b"
            ],
            [
             0.6666666666666666,
             "#ed7953"
            ],
            [
             0.7777777777777778,
             "#fb9f3a"
            ],
            [
             0.8888888888888888,
             "#fdca26"
            ],
            [
             1,
             "#f0f921"
            ]
           ]
          },
          "colorway": [
           "#636efa",
           "#EF553B",
           "#00cc96",
           "#ab63fa",
           "#FFA15A",
           "#19d3f3",
           "#FF6692",
           "#B6E880",
           "#FF97FF",
           "#FECB52"
          ],
          "font": {
           "color": "#f2f5fa",
           "family": "monospace",
           "size": 14
          },
          "geo": {
           "bgcolor": "rgb(17,17,17)",
           "lakecolor": "rgb(17,17,17)",
           "landcolor": "rgb(17,17,17)",
           "showlakes": true,
           "showland": true,
           "subunitcolor": "#506784"
          },
          "hoverlabel": {
           "align": "left"
          },
          "hovermode": "closest",
          "mapbox": {
           "style": "dark"
          },
          "paper_bgcolor": "rgb(17,17,17)",
          "plot_bgcolor": "rgb(17,17,17)",
          "polar": {
           "angularaxis": {
            "gridcolor": "#506784",
            "linecolor": "#506784",
            "ticks": ""
           },
           "bgcolor": "rgb(17,17,17)",
           "radialaxis": {
            "gridcolor": "#506784",
            "linecolor": "#506784",
            "ticks": ""
           }
          },
          "scene": {
           "xaxis": {
            "backgroundcolor": "rgb(17,17,17)",
            "gridcolor": "#506784",
            "gridwidth": 2,
            "linecolor": "#506784",
            "showbackground": true,
            "ticks": "",
            "zerolinecolor": "#C8D4E3"
           },
           "yaxis": {
            "backgroundcolor": "rgb(17,17,17)",
            "gridcolor": "#506784",
            "gridwidth": 2,
            "linecolor": "#506784",
            "showbackground": true,
            "ticks": "",
            "zerolinecolor": "#C8D4E3"
           },
           "zaxis": {
            "backgroundcolor": "rgb(17,17,17)",
            "gridcolor": "#506784",
            "gridwidth": 2,
            "linecolor": "#506784",
            "showbackground": true,
            "ticks": "",
            "zerolinecolor": "#C8D4E3"
           }
          },
          "shapedefaults": {
           "line": {
            "color": "#f2f5fa"
           }
          },
          "sliderdefaults": {
           "bgcolor": "#C8D4E3",
           "bordercolor": "rgb(17,17,17)",
           "borderwidth": 1,
           "tickwidth": 0
          },
          "ternary": {
           "aaxis": {
            "gridcolor": "#506784",
            "linecolor": "#506784",
            "ticks": ""
           },
           "baxis": {
            "gridcolor": "#506784",
            "linecolor": "#506784",
            "ticks": ""
           },
           "bgcolor": "rgb(17,17,17)",
           "caxis": {
            "gridcolor": "#506784",
            "linecolor": "#506784",
            "ticks": ""
           }
          },
          "title": {
           "x": 0.05
          },
          "updatemenudefaults": {
           "bgcolor": "#506784",
           "borderwidth": 0
          },
          "xaxis": {
           "automargin": true,
           "gridcolor": "#283442",
           "linecolor": "#506784",
           "ticks": "",
           "title": {
            "standoff": 15
           },
           "zerolinecolor": "#283442",
           "zerolinewidth": 2
          },
          "yaxis": {
           "automargin": true,
           "gridcolor": "#283442",
           "linecolor": "#506784",
           "ticks": "",
           "title": {
            "standoff": 15
           },
           "zerolinecolor": "#283442",
           "zerolinewidth": 2
          }
         }
        },
        "title": {
         "text": "Distribution of Exercise-Induced Angina"
        },
        "xaxis": {
         "title": {
          "text": "exercise_induced_angina"
         }
        },
        "yaxis": {
         "title": {
          "text": "Count"
         }
        }
       }
      }
     },
     "metadata": {},
     "output_type": "display_data"
    },
    {
     "data": {
      "application/vnd.plotly.v1+json": {
       "config": {
        "plotlyServerURL": "https://plot.ly"
       },
       "data": [
        {
         "hovertemplate": "x: %{x}<br>y: %{y}<extra></extra>",
         "marker": {
          "color": "#ffefd5"
         },
         "text": [
          141,
          140,
          21
         ],
         "textposition": "auto",
         "type": "bar",
         "x": [
          "Downsloping",
          "Flat",
          "Upsloping"
         ],
         "y": [
          141,
          140,
          21
         ]
        }
       ],
       "layout": {
        "font": {
         "color": "white",
         "family": "Courier New, monospace",
         "size": 14
        },
        "template": {
         "data": {
          "bar": [
           {
            "error_x": {
             "color": "#f2f5fa"
            },
            "error_y": {
             "color": "#f2f5fa"
            },
            "marker": {
             "line": {
              "color": "rgb(17,17,17)",
              "width": 0.5
             },
             "pattern": {
              "fillmode": "overlay",
              "size": 10,
              "solidity": 0.2
             }
            },
            "type": "bar"
           }
          ],
          "barpolar": [
           {
            "marker": {
             "line": {
              "color": "rgb(17,17,17)",
              "width": 0.5
             },
             "pattern": {
              "fillmode": "overlay",
              "size": 10,
              "solidity": 0.2
             }
            },
            "type": "barpolar"
           }
          ],
          "carpet": [
           {
            "aaxis": {
             "endlinecolor": "#A2B1C6",
             "gridcolor": "#506784",
             "linecolor": "#506784",
             "minorgridcolor": "#506784",
             "startlinecolor": "#A2B1C6"
            },
            "baxis": {
             "endlinecolor": "#A2B1C6",
             "gridcolor": "#506784",
             "linecolor": "#506784",
             "minorgridcolor": "#506784",
             "startlinecolor": "#A2B1C6"
            },
            "type": "carpet"
           }
          ],
          "choropleth": [
           {
            "colorbar": {
             "outlinewidth": 0,
             "ticks": ""
            },
            "type": "choropleth"
           }
          ],
          "contour": [
           {
            "colorbar": {
             "outlinewidth": 0,
             "ticks": ""
            },
            "colorscale": [
             [
              0,
              "#0d0887"
             ],
             [
              0.1111111111111111,
              "#46039f"
             ],
             [
              0.2222222222222222,
              "#7201a8"
             ],
             [
              0.3333333333333333,
              "#9c179e"
             ],
             [
              0.4444444444444444,
              "#bd3786"
             ],
             [
              0.5555555555555556,
              "#d8576b"
             ],
             [
              0.6666666666666666,
              "#ed7953"
             ],
             [
              0.7777777777777778,
              "#fb9f3a"
             ],
             [
              0.8888888888888888,
              "#fdca26"
             ],
             [
              1,
              "#f0f921"
             ]
            ],
            "type": "contour"
           }
          ],
          "contourcarpet": [
           {
            "colorbar": {
             "outlinewidth": 0,
             "ticks": ""
            },
            "type": "contourcarpet"
           }
          ],
          "heatmap": [
           {
            "colorbar": {
             "outlinewidth": 0,
             "ticks": ""
            },
            "colorscale": [
             [
              0,
              "#0d0887"
             ],
             [
              0.1111111111111111,
              "#46039f"
             ],
             [
              0.2222222222222222,
              "#7201a8"
             ],
             [
              0.3333333333333333,
              "#9c179e"
             ],
             [
              0.4444444444444444,
              "#bd3786"
             ],
             [
              0.5555555555555556,
              "#d8576b"
             ],
             [
              0.6666666666666666,
              "#ed7953"
             ],
             [
              0.7777777777777778,
              "#fb9f3a"
             ],
             [
              0.8888888888888888,
              "#fdca26"
             ],
             [
              1,
              "#f0f921"
             ]
            ],
            "type": "heatmap"
           }
          ],
          "heatmapgl": [
           {
            "colorbar": {
             "outlinewidth": 0,
             "ticks": ""
            },
            "colorscale": [
             [
              0,
              "#0d0887"
             ],
             [
              0.1111111111111111,
              "#46039f"
             ],
             [
              0.2222222222222222,
              "#7201a8"
             ],
             [
              0.3333333333333333,
              "#9c179e"
             ],
             [
              0.4444444444444444,
              "#bd3786"
             ],
             [
              0.5555555555555556,
              "#d8576b"
             ],
             [
              0.6666666666666666,
              "#ed7953"
             ],
             [
              0.7777777777777778,
              "#fb9f3a"
             ],
             [
              0.8888888888888888,
              "#fdca26"
             ],
             [
              1,
              "#f0f921"
             ]
            ],
            "type": "heatmapgl"
           }
          ],
          "histogram": [
           {
            "marker": {
             "pattern": {
              "fillmode": "overlay",
              "size": 10,
              "solidity": 0.2
             }
            },
            "type": "histogram"
           }
          ],
          "histogram2d": [
           {
            "colorbar": {
             "outlinewidth": 0,
             "ticks": ""
            },
            "colorscale": [
             [
              0,
              "#0d0887"
             ],
             [
              0.1111111111111111,
              "#46039f"
             ],
             [
              0.2222222222222222,
              "#7201a8"
             ],
             [
              0.3333333333333333,
              "#9c179e"
             ],
             [
              0.4444444444444444,
              "#bd3786"
             ],
             [
              0.5555555555555556,
              "#d8576b"
             ],
             [
              0.6666666666666666,
              "#ed7953"
             ],
             [
              0.7777777777777778,
              "#fb9f3a"
             ],
             [
              0.8888888888888888,
              "#fdca26"
             ],
             [
              1,
              "#f0f921"
             ]
            ],
            "type": "histogram2d"
           }
          ],
          "histogram2dcontour": [
           {
            "colorbar": {
             "outlinewidth": 0,
             "ticks": ""
            },
            "colorscale": [
             [
              0,
              "#0d0887"
             ],
             [
              0.1111111111111111,
              "#46039f"
             ],
             [
              0.2222222222222222,
              "#7201a8"
             ],
             [
              0.3333333333333333,
              "#9c179e"
             ],
             [
              0.4444444444444444,
              "#bd3786"
             ],
             [
              0.5555555555555556,
              "#d8576b"
             ],
             [
              0.6666666666666666,
              "#ed7953"
             ],
             [
              0.7777777777777778,
              "#fb9f3a"
             ],
             [
              0.8888888888888888,
              "#fdca26"
             ],
             [
              1,
              "#f0f921"
             ]
            ],
            "type": "histogram2dcontour"
           }
          ],
          "mesh3d": [
           {
            "colorbar": {
             "outlinewidth": 0,
             "ticks": ""
            },
            "type": "mesh3d"
           }
          ],
          "parcoords": [
           {
            "line": {
             "colorbar": {
              "outlinewidth": 0,
              "ticks": ""
             }
            },
            "type": "parcoords"
           }
          ],
          "pie": [
           {
            "automargin": true,
            "type": "pie"
           }
          ],
          "scatter": [
           {
            "marker": {
             "line": {
              "color": "#283442"
             }
            },
            "type": "scatter"
           }
          ],
          "scatter3d": [
           {
            "line": {
             "colorbar": {
              "outlinewidth": 0,
              "ticks": ""
             }
            },
            "marker": {
             "colorbar": {
              "outlinewidth": 0,
              "ticks": ""
             }
            },
            "type": "scatter3d"
           }
          ],
          "scattercarpet": [
           {
            "marker": {
             "colorbar": {
              "outlinewidth": 0,
              "ticks": ""
             }
            },
            "type": "scattercarpet"
           }
          ],
          "scattergeo": [
           {
            "marker": {
             "colorbar": {
              "outlinewidth": 0,
              "ticks": ""
             }
            },
            "type": "scattergeo"
           }
          ],
          "scattergl": [
           {
            "marker": {
             "line": {
              "color": "#283442"
             }
            },
            "type": "scattergl"
           }
          ],
          "scattermapbox": [
           {
            "marker": {
             "colorbar": {
              "outlinewidth": 0,
              "ticks": ""
             }
            },
            "type": "scattermapbox"
           }
          ],
          "scatterpolar": [
           {
            "marker": {
             "colorbar": {
              "outlinewidth": 0,
              "ticks": ""
             }
            },
            "type": "scatterpolar"
           }
          ],
          "scatterpolargl": [
           {
            "marker": {
             "colorbar": {
              "outlinewidth": 0,
              "ticks": ""
             }
            },
            "type": "scatterpolargl"
           }
          ],
          "scatterternary": [
           {
            "marker": {
             "colorbar": {
              "outlinewidth": 0,
              "ticks": ""
             }
            },
            "type": "scatterternary"
           }
          ],
          "surface": [
           {
            "colorbar": {
             "outlinewidth": 0,
             "ticks": ""
            },
            "colorscale": [
             [
              0,
              "#0d0887"
             ],
             [
              0.1111111111111111,
              "#46039f"
             ],
             [
              0.2222222222222222,
              "#7201a8"
             ],
             [
              0.3333333333333333,
              "#9c179e"
             ],
             [
              0.4444444444444444,
              "#bd3786"
             ],
             [
              0.5555555555555556,
              "#d8576b"
             ],
             [
              0.6666666666666666,
              "#ed7953"
             ],
             [
              0.7777777777777778,
              "#fb9f3a"
             ],
             [
              0.8888888888888888,
              "#fdca26"
             ],
             [
              1,
              "#f0f921"
             ]
            ],
            "type": "surface"
           }
          ],
          "table": [
           {
            "cells": {
             "fill": {
              "color": "#506784"
             },
             "line": {
              "color": "rgb(17,17,17)"
             }
            },
            "header": {
             "fill": {
              "color": "#2a3f5f"
             },
             "line": {
              "color": "rgb(17,17,17)"
             }
            },
            "type": "table"
           }
          ]
         },
         "layout": {
          "annotationdefaults": {
           "arrowcolor": "#f2f5fa",
           "arrowhead": 0,
           "arrowwidth": 1
          },
          "autotypenumbers": "strict",
          "coloraxis": {
           "colorbar": {
            "outlinewidth": 0,
            "ticks": ""
           }
          },
          "colorscale": {
           "diverging": [
            [
             0,
             "#8e0152"
            ],
            [
             0.1,
             "#c51b7d"
            ],
            [
             0.2,
             "#de77ae"
            ],
            [
             0.3,
             "#f1b6da"
            ],
            [
             0.4,
             "#fde0ef"
            ],
            [
             0.5,
             "#f7f7f7"
            ],
            [
             0.6,
             "#e6f5d0"
            ],
            [
             0.7,
             "#b8e186"
            ],
            [
             0.8,
             "#7fbc41"
            ],
            [
             0.9,
             "#4d9221"
            ],
            [
             1,
             "#276419"
            ]
           ],
           "sequential": [
            [
             0,
             "#0d0887"
            ],
            [
             0.1111111111111111,
             "#46039f"
            ],
            [
             0.2222222222222222,
             "#7201a8"
            ],
            [
             0.3333333333333333,
             "#9c179e"
            ],
            [
             0.4444444444444444,
             "#bd3786"
            ],
            [
             0.5555555555555556,
             "#d8576b"
            ],
            [
             0.6666666666666666,
             "#ed7953"
            ],
            [
             0.7777777777777778,
             "#fb9f3a"
            ],
            [
             0.8888888888888888,
             "#fdca26"
            ],
            [
             1,
             "#f0f921"
            ]
           ],
           "sequentialminus": [
            [
             0,
             "#0d0887"
            ],
            [
             0.1111111111111111,
             "#46039f"
            ],
            [
             0.2222222222222222,
             "#7201a8"
            ],
            [
             0.3333333333333333,
             "#9c179e"
            ],
            [
             0.4444444444444444,
             "#bd3786"
            ],
            [
             0.5555555555555556,
             "#d8576b"
            ],
            [
             0.6666666666666666,
             "#ed7953"
            ],
            [
             0.7777777777777778,
             "#fb9f3a"
            ],
            [
             0.8888888888888888,
             "#fdca26"
            ],
            [
             1,
             "#f0f921"
            ]
           ]
          },
          "colorway": [
           "#636efa",
           "#EF553B",
           "#00cc96",
           "#ab63fa",
           "#FFA15A",
           "#19d3f3",
           "#FF6692",
           "#B6E880",
           "#FF97FF",
           "#FECB52"
          ],
          "font": {
           "color": "#f2f5fa",
           "family": "monospace",
           "size": 14
          },
          "geo": {
           "bgcolor": "rgb(17,17,17)",
           "lakecolor": "rgb(17,17,17)",
           "landcolor": "rgb(17,17,17)",
           "showlakes": true,
           "showland": true,
           "subunitcolor": "#506784"
          },
          "hoverlabel": {
           "align": "left"
          },
          "hovermode": "closest",
          "mapbox": {
           "style": "dark"
          },
          "paper_bgcolor": "rgb(17,17,17)",
          "plot_bgcolor": "rgb(17,17,17)",
          "polar": {
           "angularaxis": {
            "gridcolor": "#506784",
            "linecolor": "#506784",
            "ticks": ""
           },
           "bgcolor": "rgb(17,17,17)",
           "radialaxis": {
            "gridcolor": "#506784",
            "linecolor": "#506784",
            "ticks": ""
           }
          },
          "scene": {
           "xaxis": {
            "backgroundcolor": "rgb(17,17,17)",
            "gridcolor": "#506784",
            "gridwidth": 2,
            "linecolor": "#506784",
            "showbackground": true,
            "ticks": "",
            "zerolinecolor": "#C8D4E3"
           },
           "yaxis": {
            "backgroundcolor": "rgb(17,17,17)",
            "gridcolor": "#506784",
            "gridwidth": 2,
            "linecolor": "#506784",
            "showbackground": true,
            "ticks": "",
            "zerolinecolor": "#C8D4E3"
           },
           "zaxis": {
            "backgroundcolor": "rgb(17,17,17)",
            "gridcolor": "#506784",
            "gridwidth": 2,
            "linecolor": "#506784",
            "showbackground": true,
            "ticks": "",
            "zerolinecolor": "#C8D4E3"
           }
          },
          "shapedefaults": {
           "line": {
            "color": "#f2f5fa"
           }
          },
          "sliderdefaults": {
           "bgcolor": "#C8D4E3",
           "bordercolor": "rgb(17,17,17)",
           "borderwidth": 1,
           "tickwidth": 0
          },
          "ternary": {
           "aaxis": {
            "gridcolor": "#506784",
            "linecolor": "#506784",
            "ticks": ""
           },
           "baxis": {
            "gridcolor": "#506784",
            "linecolor": "#506784",
            "ticks": ""
           },
           "bgcolor": "rgb(17,17,17)",
           "caxis": {
            "gridcolor": "#506784",
            "linecolor": "#506784",
            "ticks": ""
           }
          },
          "title": {
           "x": 0.05
          },
          "updatemenudefaults": {
           "bgcolor": "#506784",
           "borderwidth": 0
          },
          "xaxis": {
           "automargin": true,
           "gridcolor": "#283442",
           "linecolor": "#506784",
           "ticks": "",
           "title": {
            "standoff": 15
           },
           "zerolinecolor": "#283442",
           "zerolinewidth": 2
          },
          "yaxis": {
           "automargin": true,
           "gridcolor": "#283442",
           "linecolor": "#506784",
           "ticks": "",
           "title": {
            "standoff": 15
           },
           "zerolinecolor": "#283442",
           "zerolinewidth": 2
          }
         }
        },
        "title": {
         "text": "Distribution of Slope of Peak Exercise ST Segment"
        },
        "xaxis": {
         "title": {
          "text": "slope"
         }
        },
        "yaxis": {
         "title": {
          "text": "Count"
         }
        }
       }
      }
     },
     "metadata": {},
     "output_type": "display_data"
    },
    {
     "data": {
      "application/vnd.plotly.v1+json": {
       "config": {
        "plotlyServerURL": "https://plot.ly"
       },
       "data": [
        {
         "hovertemplate": "x: %{x}<br>y: %{y}<extra></extra>",
         "marker": {
          "color": "#ff7f50"
         },
         "text": [
          175,
          65,
          38,
          20,
          4
         ],
         "textposition": "auto",
         "type": "bar",
         "x": [
          "Zero",
          "One",
          "Two",
          "Three",
          "Four"
         ],
         "y": [
          175,
          65,
          38,
          20,
          4
         ]
        }
       ],
       "layout": {
        "font": {
         "color": "white",
         "family": "Courier New, monospace",
         "size": 14
        },
        "template": {
         "data": {
          "bar": [
           {
            "error_x": {
             "color": "#f2f5fa"
            },
            "error_y": {
             "color": "#f2f5fa"
            },
            "marker": {
             "line": {
              "color": "rgb(17,17,17)",
              "width": 0.5
             },
             "pattern": {
              "fillmode": "overlay",
              "size": 10,
              "solidity": 0.2
             }
            },
            "type": "bar"
           }
          ],
          "barpolar": [
           {
            "marker": {
             "line": {
              "color": "rgb(17,17,17)",
              "width": 0.5
             },
             "pattern": {
              "fillmode": "overlay",
              "size": 10,
              "solidity": 0.2
             }
            },
            "type": "barpolar"
           }
          ],
          "carpet": [
           {
            "aaxis": {
             "endlinecolor": "#A2B1C6",
             "gridcolor": "#506784",
             "linecolor": "#506784",
             "minorgridcolor": "#506784",
             "startlinecolor": "#A2B1C6"
            },
            "baxis": {
             "endlinecolor": "#A2B1C6",
             "gridcolor": "#506784",
             "linecolor": "#506784",
             "minorgridcolor": "#506784",
             "startlinecolor": "#A2B1C6"
            },
            "type": "carpet"
           }
          ],
          "choropleth": [
           {
            "colorbar": {
             "outlinewidth": 0,
             "ticks": ""
            },
            "type": "choropleth"
           }
          ],
          "contour": [
           {
            "colorbar": {
             "outlinewidth": 0,
             "ticks": ""
            },
            "colorscale": [
             [
              0,
              "#0d0887"
             ],
             [
              0.1111111111111111,
              "#46039f"
             ],
             [
              0.2222222222222222,
              "#7201a8"
             ],
             [
              0.3333333333333333,
              "#9c179e"
             ],
             [
              0.4444444444444444,
              "#bd3786"
             ],
             [
              0.5555555555555556,
              "#d8576b"
             ],
             [
              0.6666666666666666,
              "#ed7953"
             ],
             [
              0.7777777777777778,
              "#fb9f3a"
             ],
             [
              0.8888888888888888,
              "#fdca26"
             ],
             [
              1,
              "#f0f921"
             ]
            ],
            "type": "contour"
           }
          ],
          "contourcarpet": [
           {
            "colorbar": {
             "outlinewidth": 0,
             "ticks": ""
            },
            "type": "contourcarpet"
           }
          ],
          "heatmap": [
           {
            "colorbar": {
             "outlinewidth": 0,
             "ticks": ""
            },
            "colorscale": [
             [
              0,
              "#0d0887"
             ],
             [
              0.1111111111111111,
              "#46039f"
             ],
             [
              0.2222222222222222,
              "#7201a8"
             ],
             [
              0.3333333333333333,
              "#9c179e"
             ],
             [
              0.4444444444444444,
              "#bd3786"
             ],
             [
              0.5555555555555556,
              "#d8576b"
             ],
             [
              0.6666666666666666,
              "#ed7953"
             ],
             [
              0.7777777777777778,
              "#fb9f3a"
             ],
             [
              0.8888888888888888,
              "#fdca26"
             ],
             [
              1,
              "#f0f921"
             ]
            ],
            "type": "heatmap"
           }
          ],
          "heatmapgl": [
           {
            "colorbar": {
             "outlinewidth": 0,
             "ticks": ""
            },
            "colorscale": [
             [
              0,
              "#0d0887"
             ],
             [
              0.1111111111111111,
              "#46039f"
             ],
             [
              0.2222222222222222,
              "#7201a8"
             ],
             [
              0.3333333333333333,
              "#9c179e"
             ],
             [
              0.4444444444444444,
              "#bd3786"
             ],
             [
              0.5555555555555556,
              "#d8576b"
             ],
             [
              0.6666666666666666,
              "#ed7953"
             ],
             [
              0.7777777777777778,
              "#fb9f3a"
             ],
             [
              0.8888888888888888,
              "#fdca26"
             ],
             [
              1,
              "#f0f921"
             ]
            ],
            "type": "heatmapgl"
           }
          ],
          "histogram": [
           {
            "marker": {
             "pattern": {
              "fillmode": "overlay",
              "size": 10,
              "solidity": 0.2
             }
            },
            "type": "histogram"
           }
          ],
          "histogram2d": [
           {
            "colorbar": {
             "outlinewidth": 0,
             "ticks": ""
            },
            "colorscale": [
             [
              0,
              "#0d0887"
             ],
             [
              0.1111111111111111,
              "#46039f"
             ],
             [
              0.2222222222222222,
              "#7201a8"
             ],
             [
              0.3333333333333333,
              "#9c179e"
             ],
             [
              0.4444444444444444,
              "#bd3786"
             ],
             [
              0.5555555555555556,
              "#d8576b"
             ],
             [
              0.6666666666666666,
              "#ed7953"
             ],
             [
              0.7777777777777778,
              "#fb9f3a"
             ],
             [
              0.8888888888888888,
              "#fdca26"
             ],
             [
              1,
              "#f0f921"
             ]
            ],
            "type": "histogram2d"
           }
          ],
          "histogram2dcontour": [
           {
            "colorbar": {
             "outlinewidth": 0,
             "ticks": ""
            },
            "colorscale": [
             [
              0,
              "#0d0887"
             ],
             [
              0.1111111111111111,
              "#46039f"
             ],
             [
              0.2222222222222222,
              "#7201a8"
             ],
             [
              0.3333333333333333,
              "#9c179e"
             ],
             [
              0.4444444444444444,
              "#bd3786"
             ],
             [
              0.5555555555555556,
              "#d8576b"
             ],
             [
              0.6666666666666666,
              "#ed7953"
             ],
             [
              0.7777777777777778,
              "#fb9f3a"
             ],
             [
              0.8888888888888888,
              "#fdca26"
             ],
             [
              1,
              "#f0f921"
             ]
            ],
            "type": "histogram2dcontour"
           }
          ],
          "mesh3d": [
           {
            "colorbar": {
             "outlinewidth": 0,
             "ticks": ""
            },
            "type": "mesh3d"
           }
          ],
          "parcoords": [
           {
            "line": {
             "colorbar": {
              "outlinewidth": 0,
              "ticks": ""
             }
            },
            "type": "parcoords"
           }
          ],
          "pie": [
           {
            "automargin": true,
            "type": "pie"
           }
          ],
          "scatter": [
           {
            "marker": {
             "line": {
              "color": "#283442"
             }
            },
            "type": "scatter"
           }
          ],
          "scatter3d": [
           {
            "line": {
             "colorbar": {
              "outlinewidth": 0,
              "ticks": ""
             }
            },
            "marker": {
             "colorbar": {
              "outlinewidth": 0,
              "ticks": ""
             }
            },
            "type": "scatter3d"
           }
          ],
          "scattercarpet": [
           {
            "marker": {
             "colorbar": {
              "outlinewidth": 0,
              "ticks": ""
             }
            },
            "type": "scattercarpet"
           }
          ],
          "scattergeo": [
           {
            "marker": {
             "colorbar": {
              "outlinewidth": 0,
              "ticks": ""
             }
            },
            "type": "scattergeo"
           }
          ],
          "scattergl": [
           {
            "marker": {
             "line": {
              "color": "#283442"
             }
            },
            "type": "scattergl"
           }
          ],
          "scattermapbox": [
           {
            "marker": {
             "colorbar": {
              "outlinewidth": 0,
              "ticks": ""
             }
            },
            "type": "scattermapbox"
           }
          ],
          "scatterpolar": [
           {
            "marker": {
             "colorbar": {
              "outlinewidth": 0,
              "ticks": ""
             }
            },
            "type": "scatterpolar"
           }
          ],
          "scatterpolargl": [
           {
            "marker": {
             "colorbar": {
              "outlinewidth": 0,
              "ticks": ""
             }
            },
            "type": "scatterpolargl"
           }
          ],
          "scatterternary": [
           {
            "marker": {
             "colorbar": {
              "outlinewidth": 0,
              "ticks": ""
             }
            },
            "type": "scatterternary"
           }
          ],
          "surface": [
           {
            "colorbar": {
             "outlinewidth": 0,
             "ticks": ""
            },
            "colorscale": [
             [
              0,
              "#0d0887"
             ],
             [
              0.1111111111111111,
              "#46039f"
             ],
             [
              0.2222222222222222,
              "#7201a8"
             ],
             [
              0.3333333333333333,
              "#9c179e"
             ],
             [
              0.4444444444444444,
              "#bd3786"
             ],
             [
              0.5555555555555556,
              "#d8576b"
             ],
             [
              0.6666666666666666,
              "#ed7953"
             ],
             [
              0.7777777777777778,
              "#fb9f3a"
             ],
             [
              0.8888888888888888,
              "#fdca26"
             ],
             [
              1,
              "#f0f921"
             ]
            ],
            "type": "surface"
           }
          ],
          "table": [
           {
            "cells": {
             "fill": {
              "color": "#506784"
             },
             "line": {
              "color": "rgb(17,17,17)"
             }
            },
            "header": {
             "fill": {
              "color": "#2a3f5f"
             },
             "line": {
              "color": "rgb(17,17,17)"
             }
            },
            "type": "table"
           }
          ]
         },
         "layout": {
          "annotationdefaults": {
           "arrowcolor": "#f2f5fa",
           "arrowhead": 0,
           "arrowwidth": 1
          },
          "autotypenumbers": "strict",
          "coloraxis": {
           "colorbar": {
            "outlinewidth": 0,
            "ticks": ""
           }
          },
          "colorscale": {
           "diverging": [
            [
             0,
             "#8e0152"
            ],
            [
             0.1,
             "#c51b7d"
            ],
            [
             0.2,
             "#de77ae"
            ],
            [
             0.3,
             "#f1b6da"
            ],
            [
             0.4,
             "#fde0ef"
            ],
            [
             0.5,
             "#f7f7f7"
            ],
            [
             0.6,
             "#e6f5d0"
            ],
            [
             0.7,
             "#b8e186"
            ],
            [
             0.8,
             "#7fbc41"
            ],
            [
             0.9,
             "#4d9221"
            ],
            [
             1,
             "#276419"
            ]
           ],
           "sequential": [
            [
             0,
             "#0d0887"
            ],
            [
             0.1111111111111111,
             "#46039f"
            ],
            [
             0.2222222222222222,
             "#7201a8"
            ],
            [
             0.3333333333333333,
             "#9c179e"
            ],
            [
             0.4444444444444444,
             "#bd3786"
            ],
            [
             0.5555555555555556,
             "#d8576b"
            ],
            [
             0.6666666666666666,
             "#ed7953"
            ],
            [
             0.7777777777777778,
             "#fb9f3a"
            ],
            [
             0.8888888888888888,
             "#fdca26"
            ],
            [
             1,
             "#f0f921"
            ]
           ],
           "sequentialminus": [
            [
             0,
             "#0d0887"
            ],
            [
             0.1111111111111111,
             "#46039f"
            ],
            [
             0.2222222222222222,
             "#7201a8"
            ],
            [
             0.3333333333333333,
             "#9c179e"
            ],
            [
             0.4444444444444444,
             "#bd3786"
            ],
            [
             0.5555555555555556,
             "#d8576b"
            ],
            [
             0.6666666666666666,
             "#ed7953"
            ],
            [
             0.7777777777777778,
             "#fb9f3a"
            ],
            [
             0.8888888888888888,
             "#fdca26"
            ],
            [
             1,
             "#f0f921"
            ]
           ]
          },
          "colorway": [
           "#636efa",
           "#EF553B",
           "#00cc96",
           "#ab63fa",
           "#FFA15A",
           "#19d3f3",
           "#FF6692",
           "#B6E880",
           "#FF97FF",
           "#FECB52"
          ],
          "font": {
           "color": "#f2f5fa",
           "family": "monospace",
           "size": 14
          },
          "geo": {
           "bgcolor": "rgb(17,17,17)",
           "lakecolor": "rgb(17,17,17)",
           "landcolor": "rgb(17,17,17)",
           "showlakes": true,
           "showland": true,
           "subunitcolor": "#506784"
          },
          "hoverlabel": {
           "align": "left"
          },
          "hovermode": "closest",
          "mapbox": {
           "style": "dark"
          },
          "paper_bgcolor": "rgb(17,17,17)",
          "plot_bgcolor": "rgb(17,17,17)",
          "polar": {
           "angularaxis": {
            "gridcolor": "#506784",
            "linecolor": "#506784",
            "ticks": ""
           },
           "bgcolor": "rgb(17,17,17)",
           "radialaxis": {
            "gridcolor": "#506784",
            "linecolor": "#506784",
            "ticks": ""
           }
          },
          "scene": {
           "xaxis": {
            "backgroundcolor": "rgb(17,17,17)",
            "gridcolor": "#506784",
            "gridwidth": 2,
            "linecolor": "#506784",
            "showbackground": true,
            "ticks": "",
            "zerolinecolor": "#C8D4E3"
           },
           "yaxis": {
            "backgroundcolor": "rgb(17,17,17)",
            "gridcolor": "#506784",
            "gridwidth": 2,
            "linecolor": "#506784",
            "showbackground": true,
            "ticks": "",
            "zerolinecolor": "#C8D4E3"
           },
           "zaxis": {
            "backgroundcolor": "rgb(17,17,17)",
            "gridcolor": "#506784",
            "gridwidth": 2,
            "linecolor": "#506784",
            "showbackground": true,
            "ticks": "",
            "zerolinecolor": "#C8D4E3"
           }
          },
          "shapedefaults": {
           "line": {
            "color": "#f2f5fa"
           }
          },
          "sliderdefaults": {
           "bgcolor": "#C8D4E3",
           "bordercolor": "rgb(17,17,17)",
           "borderwidth": 1,
           "tickwidth": 0
          },
          "ternary": {
           "aaxis": {
            "gridcolor": "#506784",
            "linecolor": "#506784",
            "ticks": ""
           },
           "baxis": {
            "gridcolor": "#506784",
            "linecolor": "#506784",
            "ticks": ""
           },
           "bgcolor": "rgb(17,17,17)",
           "caxis": {
            "gridcolor": "#506784",
            "linecolor": "#506784",
            "ticks": ""
           }
          },
          "title": {
           "x": 0.05
          },
          "updatemenudefaults": {
           "bgcolor": "#506784",
           "borderwidth": 0
          },
          "xaxis": {
           "automargin": true,
           "gridcolor": "#283442",
           "linecolor": "#506784",
           "ticks": "",
           "title": {
            "standoff": 15
           },
           "zerolinecolor": "#283442",
           "zerolinewidth": 2
          },
          "yaxis": {
           "automargin": true,
           "gridcolor": "#283442",
           "linecolor": "#506784",
           "ticks": "",
           "title": {
            "standoff": 15
           },
           "zerolinecolor": "#283442",
           "zerolinewidth": 2
          }
         }
        },
        "title": {
         "text": "Distribution of Vessels Colored by Fluoroscopy"
        },
        "xaxis": {
         "title": {
          "text": "vessels_colored_by_flourosopy"
         }
        },
        "yaxis": {
         "title": {
          "text": "Count"
         }
        }
       }
      }
     },
     "metadata": {},
     "output_type": "display_data"
    },
    {
     "data": {
      "application/vnd.plotly.v1+json": {
       "config": {
        "plotlyServerURL": "https://plot.ly"
       },
       "data": [
        {
         "hovertemplate": "x: %{x}<br>y: %{y}<extra></extra>",
         "marker": {
          "color": "#8b4513"
         },
         "text": [
          165,
          117,
          18,
          2
         ],
         "textposition": "auto",
         "type": "bar",
         "x": [
          "Fixed Defect",
          "Reversable Defect",
          "Normal",
          "No"
         ],
         "y": [
          165,
          117,
          18,
          2
         ]
        }
       ],
       "layout": {
        "font": {
         "color": "white",
         "family": "Courier New, monospace",
         "size": 14
        },
        "template": {
         "data": {
          "bar": [
           {
            "error_x": {
             "color": "#f2f5fa"
            },
            "error_y": {
             "color": "#f2f5fa"
            },
            "marker": {
             "line": {
              "color": "rgb(17,17,17)",
              "width": 0.5
             },
             "pattern": {
              "fillmode": "overlay",
              "size": 10,
              "solidity": 0.2
             }
            },
            "type": "bar"
           }
          ],
          "barpolar": [
           {
            "marker": {
             "line": {
              "color": "rgb(17,17,17)",
              "width": 0.5
             },
             "pattern": {
              "fillmode": "overlay",
              "size": 10,
              "solidity": 0.2
             }
            },
            "type": "barpolar"
           }
          ],
          "carpet": [
           {
            "aaxis": {
             "endlinecolor": "#A2B1C6",
             "gridcolor": "#506784",
             "linecolor": "#506784",
             "minorgridcolor": "#506784",
             "startlinecolor": "#A2B1C6"
            },
            "baxis": {
             "endlinecolor": "#A2B1C6",
             "gridcolor": "#506784",
             "linecolor": "#506784",
             "minorgridcolor": "#506784",
             "startlinecolor": "#A2B1C6"
            },
            "type": "carpet"
           }
          ],
          "choropleth": [
           {
            "colorbar": {
             "outlinewidth": 0,
             "ticks": ""
            },
            "type": "choropleth"
           }
          ],
          "contour": [
           {
            "colorbar": {
             "outlinewidth": 0,
             "ticks": ""
            },
            "colorscale": [
             [
              0,
              "#0d0887"
             ],
             [
              0.1111111111111111,
              "#46039f"
             ],
             [
              0.2222222222222222,
              "#7201a8"
             ],
             [
              0.3333333333333333,
              "#9c179e"
             ],
             [
              0.4444444444444444,
              "#bd3786"
             ],
             [
              0.5555555555555556,
              "#d8576b"
             ],
             [
              0.6666666666666666,
              "#ed7953"
             ],
             [
              0.7777777777777778,
              "#fb9f3a"
             ],
             [
              0.8888888888888888,
              "#fdca26"
             ],
             [
              1,
              "#f0f921"
             ]
            ],
            "type": "contour"
           }
          ],
          "contourcarpet": [
           {
            "colorbar": {
             "outlinewidth": 0,
             "ticks": ""
            },
            "type": "contourcarpet"
           }
          ],
          "heatmap": [
           {
            "colorbar": {
             "outlinewidth": 0,
             "ticks": ""
            },
            "colorscale": [
             [
              0,
              "#0d0887"
             ],
             [
              0.1111111111111111,
              "#46039f"
             ],
             [
              0.2222222222222222,
              "#7201a8"
             ],
             [
              0.3333333333333333,
              "#9c179e"
             ],
             [
              0.4444444444444444,
              "#bd3786"
             ],
             [
              0.5555555555555556,
              "#d8576b"
             ],
             [
              0.6666666666666666,
              "#ed7953"
             ],
             [
              0.7777777777777778,
              "#fb9f3a"
             ],
             [
              0.8888888888888888,
              "#fdca26"
             ],
             [
              1,
              "#f0f921"
             ]
            ],
            "type": "heatmap"
           }
          ],
          "heatmapgl": [
           {
            "colorbar": {
             "outlinewidth": 0,
             "ticks": ""
            },
            "colorscale": [
             [
              0,
              "#0d0887"
             ],
             [
              0.1111111111111111,
              "#46039f"
             ],
             [
              0.2222222222222222,
              "#7201a8"
             ],
             [
              0.3333333333333333,
              "#9c179e"
             ],
             [
              0.4444444444444444,
              "#bd3786"
             ],
             [
              0.5555555555555556,
              "#d8576b"
             ],
             [
              0.6666666666666666,
              "#ed7953"
             ],
             [
              0.7777777777777778,
              "#fb9f3a"
             ],
             [
              0.8888888888888888,
              "#fdca26"
             ],
             [
              1,
              "#f0f921"
             ]
            ],
            "type": "heatmapgl"
           }
          ],
          "histogram": [
           {
            "marker": {
             "pattern": {
              "fillmode": "overlay",
              "size": 10,
              "solidity": 0.2
             }
            },
            "type": "histogram"
           }
          ],
          "histogram2d": [
           {
            "colorbar": {
             "outlinewidth": 0,
             "ticks": ""
            },
            "colorscale": [
             [
              0,
              "#0d0887"
             ],
             [
              0.1111111111111111,
              "#46039f"
             ],
             [
              0.2222222222222222,
              "#7201a8"
             ],
             [
              0.3333333333333333,
              "#9c179e"
             ],
             [
              0.4444444444444444,
              "#bd3786"
             ],
             [
              0.5555555555555556,
              "#d8576b"
             ],
             [
              0.6666666666666666,
              "#ed7953"
             ],
             [
              0.7777777777777778,
              "#fb9f3a"
             ],
             [
              0.8888888888888888,
              "#fdca26"
             ],
             [
              1,
              "#f0f921"
             ]
            ],
            "type": "histogram2d"
           }
          ],
          "histogram2dcontour": [
           {
            "colorbar": {
             "outlinewidth": 0,
             "ticks": ""
            },
            "colorscale": [
             [
              0,
              "#0d0887"
             ],
             [
              0.1111111111111111,
              "#46039f"
             ],
             [
              0.2222222222222222,
              "#7201a8"
             ],
             [
              0.3333333333333333,
              "#9c179e"
             ],
             [
              0.4444444444444444,
              "#bd3786"
             ],
             [
              0.5555555555555556,
              "#d8576b"
             ],
             [
              0.6666666666666666,
              "#ed7953"
             ],
             [
              0.7777777777777778,
              "#fb9f3a"
             ],
             [
              0.8888888888888888,
              "#fdca26"
             ],
             [
              1,
              "#f0f921"
             ]
            ],
            "type": "histogram2dcontour"
           }
          ],
          "mesh3d": [
           {
            "colorbar": {
             "outlinewidth": 0,
             "ticks": ""
            },
            "type": "mesh3d"
           }
          ],
          "parcoords": [
           {
            "line": {
             "colorbar": {
              "outlinewidth": 0,
              "ticks": ""
             }
            },
            "type": "parcoords"
           }
          ],
          "pie": [
           {
            "automargin": true,
            "type": "pie"
           }
          ],
          "scatter": [
           {
            "marker": {
             "line": {
              "color": "#283442"
             }
            },
            "type": "scatter"
           }
          ],
          "scatter3d": [
           {
            "line": {
             "colorbar": {
              "outlinewidth": 0,
              "ticks": ""
             }
            },
            "marker": {
             "colorbar": {
              "outlinewidth": 0,
              "ticks": ""
             }
            },
            "type": "scatter3d"
           }
          ],
          "scattercarpet": [
           {
            "marker": {
             "colorbar": {
              "outlinewidth": 0,
              "ticks": ""
             }
            },
            "type": "scattercarpet"
           }
          ],
          "scattergeo": [
           {
            "marker": {
             "colorbar": {
              "outlinewidth": 0,
              "ticks": ""
             }
            },
            "type": "scattergeo"
           }
          ],
          "scattergl": [
           {
            "marker": {
             "line": {
              "color": "#283442"
             }
            },
            "type": "scattergl"
           }
          ],
          "scattermapbox": [
           {
            "marker": {
             "colorbar": {
              "outlinewidth": 0,
              "ticks": ""
             }
            },
            "type": "scattermapbox"
           }
          ],
          "scatterpolar": [
           {
            "marker": {
             "colorbar": {
              "outlinewidth": 0,
              "ticks": ""
             }
            },
            "type": "scatterpolar"
           }
          ],
          "scatterpolargl": [
           {
            "marker": {
             "colorbar": {
              "outlinewidth": 0,
              "ticks": ""
             }
            },
            "type": "scatterpolargl"
           }
          ],
          "scatterternary": [
           {
            "marker": {
             "colorbar": {
              "outlinewidth": 0,
              "ticks": ""
             }
            },
            "type": "scatterternary"
           }
          ],
          "surface": [
           {
            "colorbar": {
             "outlinewidth": 0,
             "ticks": ""
            },
            "colorscale": [
             [
              0,
              "#0d0887"
             ],
             [
              0.1111111111111111,
              "#46039f"
             ],
             [
              0.2222222222222222,
              "#7201a8"
             ],
             [
              0.3333333333333333,
              "#9c179e"
             ],
             [
              0.4444444444444444,
              "#bd3786"
             ],
             [
              0.5555555555555556,
              "#d8576b"
             ],
             [
              0.6666666666666666,
              "#ed7953"
             ],
             [
              0.7777777777777778,
              "#fb9f3a"
             ],
             [
              0.8888888888888888,
              "#fdca26"
             ],
             [
              1,
              "#f0f921"
             ]
            ],
            "type": "surface"
           }
          ],
          "table": [
           {
            "cells": {
             "fill": {
              "color": "#506784"
             },
             "line": {
              "color": "rgb(17,17,17)"
             }
            },
            "header": {
             "fill": {
              "color": "#2a3f5f"
             },
             "line": {
              "color": "rgb(17,17,17)"
             }
            },
            "type": "table"
           }
          ]
         },
         "layout": {
          "annotationdefaults": {
           "arrowcolor": "#f2f5fa",
           "arrowhead": 0,
           "arrowwidth": 1
          },
          "autotypenumbers": "strict",
          "coloraxis": {
           "colorbar": {
            "outlinewidth": 0,
            "ticks": ""
           }
          },
          "colorscale": {
           "diverging": [
            [
             0,
             "#8e0152"
            ],
            [
             0.1,
             "#c51b7d"
            ],
            [
             0.2,
             "#de77ae"
            ],
            [
             0.3,
             "#f1b6da"
            ],
            [
             0.4,
             "#fde0ef"
            ],
            [
             0.5,
             "#f7f7f7"
            ],
            [
             0.6,
             "#e6f5d0"
            ],
            [
             0.7,
             "#b8e186"
            ],
            [
             0.8,
             "#7fbc41"
            ],
            [
             0.9,
             "#4d9221"
            ],
            [
             1,
             "#276419"
            ]
           ],
           "sequential": [
            [
             0,
             "#0d0887"
            ],
            [
             0.1111111111111111,
             "#46039f"
            ],
            [
             0.2222222222222222,
             "#7201a8"
            ],
            [
             0.3333333333333333,
             "#9c179e"
            ],
            [
             0.4444444444444444,
             "#bd3786"
            ],
            [
             0.5555555555555556,
             "#d8576b"
            ],
            [
             0.6666666666666666,
             "#ed7953"
            ],
            [
             0.7777777777777778,
             "#fb9f3a"
            ],
            [
             0.8888888888888888,
             "#fdca26"
            ],
            [
             1,
             "#f0f921"
            ]
           ],
           "sequentialminus": [
            [
             0,
             "#0d0887"
            ],
            [
             0.1111111111111111,
             "#46039f"
            ],
            [
             0.2222222222222222,
             "#7201a8"
            ],
            [
             0.3333333333333333,
             "#9c179e"
            ],
            [
             0.4444444444444444,
             "#bd3786"
            ],
            [
             0.5555555555555556,
             "#d8576b"
            ],
            [
             0.6666666666666666,
             "#ed7953"
            ],
            [
             0.7777777777777778,
             "#fb9f3a"
            ],
            [
             0.8888888888888888,
             "#fdca26"
            ],
            [
             1,
             "#f0f921"
            ]
           ]
          },
          "colorway": [
           "#636efa",
           "#EF553B",
           "#00cc96",
           "#ab63fa",
           "#FFA15A",
           "#19d3f3",
           "#FF6692",
           "#B6E880",
           "#FF97FF",
           "#FECB52"
          ],
          "font": {
           "color": "#f2f5fa",
           "family": "monospace",
           "size": 14
          },
          "geo": {
           "bgcolor": "rgb(17,17,17)",
           "lakecolor": "rgb(17,17,17)",
           "landcolor": "rgb(17,17,17)",
           "showlakes": true,
           "showland": true,
           "subunitcolor": "#506784"
          },
          "hoverlabel": {
           "align": "left"
          },
          "hovermode": "closest",
          "mapbox": {
           "style": "dark"
          },
          "paper_bgcolor": "rgb(17,17,17)",
          "plot_bgcolor": "rgb(17,17,17)",
          "polar": {
           "angularaxis": {
            "gridcolor": "#506784",
            "linecolor": "#506784",
            "ticks": ""
           },
           "bgcolor": "rgb(17,17,17)",
           "radialaxis": {
            "gridcolor": "#506784",
            "linecolor": "#506784",
            "ticks": ""
           }
          },
          "scene": {
           "xaxis": {
            "backgroundcolor": "rgb(17,17,17)",
            "gridcolor": "#506784",
            "gridwidth": 2,
            "linecolor": "#506784",
            "showbackground": true,
            "ticks": "",
            "zerolinecolor": "#C8D4E3"
           },
           "yaxis": {
            "backgroundcolor": "rgb(17,17,17)",
            "gridcolor": "#506784",
            "gridwidth": 2,
            "linecolor": "#506784",
            "showbackground": true,
            "ticks": "",
            "zerolinecolor": "#C8D4E3"
           },
           "zaxis": {
            "backgroundcolor": "rgb(17,17,17)",
            "gridcolor": "#506784",
            "gridwidth": 2,
            "linecolor": "#506784",
            "showbackground": true,
            "ticks": "",
            "zerolinecolor": "#C8D4E3"
           }
          },
          "shapedefaults": {
           "line": {
            "color": "#f2f5fa"
           }
          },
          "sliderdefaults": {
           "bgcolor": "#C8D4E3",
           "bordercolor": "rgb(17,17,17)",
           "borderwidth": 1,
           "tickwidth": 0
          },
          "ternary": {
           "aaxis": {
            "gridcolor": "#506784",
            "linecolor": "#506784",
            "ticks": ""
           },
           "baxis": {
            "gridcolor": "#506784",
            "linecolor": "#506784",
            "ticks": ""
           },
           "bgcolor": "rgb(17,17,17)",
           "caxis": {
            "gridcolor": "#506784",
            "linecolor": "#506784",
            "ticks": ""
           }
          },
          "title": {
           "x": 0.05
          },
          "updatemenudefaults": {
           "bgcolor": "#506784",
           "borderwidth": 0
          },
          "xaxis": {
           "automargin": true,
           "gridcolor": "#283442",
           "linecolor": "#506784",
           "ticks": "",
           "title": {
            "standoff": 15
           },
           "zerolinecolor": "#283442",
           "zerolinewidth": 2
          },
          "yaxis": {
           "automargin": true,
           "gridcolor": "#283442",
           "linecolor": "#506784",
           "ticks": "",
           "title": {
            "standoff": 15
           },
           "zerolinecolor": "#283442",
           "zerolinewidth": 2
          }
         }
        },
        "title": {
         "text": "Distribution of Thalassemia"
        },
        "xaxis": {
         "title": {
          "text": "thalassemia"
         }
        },
        "yaxis": {
         "title": {
          "text": "Count"
         }
        }
       }
      }
     },
     "metadata": {},
     "output_type": "display_data"
    }
   ],
   "source": [
    "\n",
    "\n",
    "\n",
    "# Function to create bar plots using plotly\n",
    "def plot_categorical_variable_plotly(heart_disease_df, column, title, color):\n",
    "    value_counts = heart_disease_df[column].value_counts()\n",
    "    fig = go.Figure(\n",
    "        data=[go.Bar(\n",
    "            x=value_counts.index,\n",
    "            y=value_counts.values,\n",
    "            text=value_counts.values,\n",
    "            textposition='auto',\n",
    "            marker_color=color,\n",
    "                        hovertemplate='x: %{x}<br>y: %{y}<extra></extra>'\n",
    "        )]\n",
    "    )\n",
    "    fig.update_layout(\n",
    "        title=title,\n",
    "        xaxis_title=column,\n",
    "        yaxis_title='Count',\n",
    "        template='plotly_dark',\n",
    "        font=dict(\n",
    "            family='Courier New, monospace',\n",
    "            size=14,\n",
    "            color='white'\n",
    "        )\n",
    "    )\n",
    "    fig.show()\n",
    "\n",
    "# create color palette using palettable\n",
    "# color_palettes = palettable.tableau.TableauMedium_10.hex_colors\n",
    "\n",
    "# Plot each categorical variable using Plotly\n",
    "for idx, column in enumerate(categorical_columns):\n",
    "    plot_categorical_variable_plotly(heart_disease_clean_df, column, titles[column], color_palettes[idx])\n",
    "\n",
    "# Histograms using Plotly\n",
    "def plot_histograms_plotly(df, columns, color_palette):\n",
    "    fig = make_subplots(rows=len(columns)//2, cols=2, subplot_titles=columns)\n",
    "\n",
    "    for idx, col in enumerate(columns):\n",
    "        fig.add_trace(\n",
    "            go.Histogram(\n",
    "                x=df[col],\n",
    "                marker_color=color_palette[idx % len(color_palette)],\n",
    "                nbinsx=20\n",
    "            ),\n",
    "            row=idx // 2 + 1,\n",
    "            col=idx % 2 + 1\n",
    "        )\n",
    "\n",
    "    fig.update_layout(\n",
    "        title='Histograms of All Variables',\n",
    "        template='plotly_dark',\n",
    "        font=dict(\n",
    "            family='Courier New, monospace',\n",
    "            size=14,\n",
    "            color='white'\n",
    "        ),\n",
    "        height=800,\n",
    "        showlegend=False\n",
    "    )\n",
    "    fig.show()\n",
    "\n",
    "\n"
   ]
  },
  {
   "cell_type": "markdown",
   "metadata": {},
   "source": [
    "##### Analysis of Categorical Variable Distribution\n",
    "\n",
    "- **sex**:\n",
    "    \n",
    "    - Majority of patients are male.\n",
    "- **chest\\_pain\\_type**:\n",
    "    \n",
    "    - Most patients have `Asymptomatic` or `Non-anginal` chest pain.\n",
    "- **fasting\\_blood\\_sugar**:\n",
    "    \n",
    "    - Majority have fasting blood sugar less than 120 mg/dl.\n",
    "- **rest\\_ecg**:\n",
    "    \n",
    "    - Majority of patients have `Normal` or `ST-T wave abnormality` results.\n",
    "- **exercise\\_induced\\_angina**:\n",
    "    \n",
    "    - Most patients do not have exercise-induced angina.\n",
    "- **slope**:\n",
    "    \n",
    "    - Most patients have `Upsloping` or `Flat` slope.\n",
    "- **vessels\\_colored\\_by\\_flourosopy**:\n",
    "    \n",
    "    - Majority have no major vessels colored by fluoroscopy.\n",
    "- **thalassemia**:\n",
    "    \n",
    "    - Most patients have `Reversible defect` or `Fixed defect`."
   ]
  },
  {
   "cell_type": "markdown",
   "metadata": {},
   "source": [
    "### Violin Plots"
   ]
  },
  {
   "cell_type": "code",
   "execution_count": 83,
   "metadata": {},
   "outputs": [],
   "source": [
    "def plot_violin_plotly(df, x_col, y_col, title, color_palette):\n",
    "    fig = px.violin(\n",
    "        df,\n",
    "        x=x_col,\n",
    "        y=y_col,\n",
    "        color=x_col,\n",
    "        box=True,\n",
    "        points=\"all\",\n",
    "        color_discrete_sequence=color_palette,\n",
    "        template='plotly_dark'\n",
    "    )\n",
    "    fig.update_layout(\n",
    "        title=title,\n",
    "        xaxis_title=x_col,\n",
    "        yaxis_title=y_col,\n",
    "        font=dict(\n",
    "            family='Courier New, monospace',\n",
    "            size=14,\n",
    "            color='white'\n",
    "        )\n",
    "    )\n",
    "    # Hide the legend\n",
    "    fig.update_layout(showlegend=False)\n",
    "    return fig"
   ]
  },
  {
   "cell_type": "code",
   "execution_count": 84,
   "metadata": {},
   "outputs": [],
   "source": [
    "# Variables for violin plots\n",
    "violin_vars = [\n",
    "    ('sex', 'age', 'Age Distribution by Sex'),\n",
    "    ('chest_pain_type', 'resting_blood_pressure', 'Resting Blood Pressure by Chest Pain Type'),\n",
    "    ('fasting_blood_sugar', 'cholestoral', 'Cholesterol Levels by Fasting Blood Sugar Levels'),\n",
    "    ('rest_ecg', 'Max_heart_rate', 'Maximum Heart Rate by Rest ECG Results'),\n",
    "    ('exercise_induced_angina', 'oldpeak', 'ST Depression (Oldpeak) by Exercise-Induced Angina'),\n",
    "    ('slope', 'age', 'Age Distribution by Slope of Peak Exercise ST Segment')\n",
    "]"
   ]
  },
  {
   "cell_type": "code",
   "execution_count": 85,
   "metadata": {},
   "outputs": [
    {
     "data": {
      "text/plain": [
       "'/home/gr00stl/Nextcloud/UNI/wdwa/heart_disease'"
      ]
     },
     "execution_count": 85,
     "metadata": {},
     "output_type": "execute_result"
    }
   ],
   "source": [
    "# print current working directory\n",
    "import os\n",
    "os.getcwd()"
   ]
  },
  {
   "cell_type": "code",
   "execution_count": 86,
   "metadata": {},
   "outputs": [
    {
     "data": {
      "application/vnd.plotly.v1+json": {
       "config": {
        "plotlyServerURL": "https://plot.ly"
       },
       "data": [
        {
         "alignmentgroup": "True",
         "box": {
          "visible": true
         },
         "hovertemplate": "sex=%{x}<br>age=%{y}<extra></extra>",
         "legendgroup": "Male",
         "marker": {
          "color": "#ffd8ec"
         },
         "name": "Male",
         "offsetgroup": "Male",
         "orientation": "v",
         "points": "all",
         "scalegroup": "True",
         "showlegend": true,
         "type": "violin",
         "x": [
          "Male",
          "Male",
          "Male",
          "Male",
          "Male",
          "Male",
          "Male",
          "Male",
          "Male",
          "Male",
          "Male",
          "Male",
          "Male",
          "Male",
          "Male",
          "Male",
          "Male",
          "Male",
          "Male",
          "Male",
          "Male",
          "Male",
          "Male",
          "Male",
          "Male",
          "Male",
          "Male",
          "Male",
          "Male",
          "Male",
          "Male",
          "Male",
          "Male",
          "Male",
          "Male",
          "Male",
          "Male",
          "Male",
          "Male",
          "Male",
          "Male",
          "Male",
          "Male",
          "Male",
          "Male",
          "Male",
          "Male",
          "Male",
          "Male",
          "Male",
          "Male",
          "Male",
          "Male",
          "Male",
          "Male",
          "Male",
          "Male",
          "Male",
          "Male",
          "Male",
          "Male",
          "Male",
          "Male",
          "Male",
          "Male",
          "Male",
          "Male",
          "Male",
          "Male",
          "Male",
          "Male",
          "Male",
          "Male",
          "Male",
          "Male",
          "Male",
          "Male",
          "Male",
          "Male",
          "Male",
          "Male",
          "Male",
          "Male",
          "Male",
          "Male",
          "Male",
          "Male",
          "Male",
          "Male",
          "Male",
          "Male",
          "Male",
          "Male",
          "Male",
          "Male",
          "Male",
          "Male",
          "Male",
          "Male",
          "Male",
          "Male",
          "Male",
          "Male",
          "Male",
          "Male",
          "Male",
          "Male",
          "Male",
          "Male",
          "Male",
          "Male",
          "Male",
          "Male",
          "Male",
          "Male",
          "Male",
          "Male",
          "Male",
          "Male",
          "Male",
          "Male",
          "Male",
          "Male",
          "Male",
          "Male",
          "Male",
          "Male",
          "Male",
          "Male",
          "Male",
          "Male",
          "Male",
          "Male",
          "Male",
          "Male",
          "Male",
          "Male",
          "Male",
          "Male",
          "Male",
          "Male",
          "Male",
          "Male",
          "Male",
          "Male",
          "Male",
          "Male",
          "Male",
          "Male",
          "Male",
          "Male",
          "Male",
          "Male",
          "Male",
          "Male",
          "Male",
          "Male",
          "Male",
          "Male",
          "Male",
          "Male",
          "Male",
          "Male",
          "Male",
          "Male",
          "Male",
          "Male",
          "Male",
          "Male",
          "Male",
          "Male",
          "Male",
          "Male",
          "Male",
          "Male",
          "Male",
          "Male",
          "Male",
          "Male",
          "Male",
          "Male",
          "Male",
          "Male",
          "Male",
          "Male",
          "Male",
          "Male",
          "Male",
          "Male",
          "Male",
          "Male",
          "Male",
          "Male",
          "Male",
          "Male",
          "Male",
          "Male",
          "Male",
          "Male",
          "Male",
          "Male",
          "Male",
          "Male",
          "Male",
          "Male",
          "Male"
         ],
         "x0": " ",
         "xaxis": "x",
         "y": [
          52,
          53,
          70,
          61,
          58,
          55,
          46,
          54,
          51,
          52,
          54,
          58,
          60,
          45,
          44,
          56,
          44,
          57,
          70,
          50,
          46,
          51,
          59,
          64,
          57,
          54,
          42,
          41,
          60,
          38,
          49,
          55,
          56,
          48,
          67,
          57,
          29,
          67,
          59,
          59,
          53,
          42,
          59,
          61,
          56,
          59,
          48,
          47,
          48,
          63,
          52,
          50,
          49,
          44,
          68,
          62,
          53,
          65,
          57,
          54,
          52,
          47,
          51,
          62,
          40,
          54,
          44,
          53,
          57,
          59,
          63,
          43,
          42,
          60,
          61,
          66,
          52,
          57,
          41,
          57,
          61,
          34,
          47,
          40,
          41,
          52,
          39,
          54,
          58,
          63,
          40,
          41,
          77,
          51,
          48,
          56,
          43,
          43,
          56,
          56,
          54,
          64,
          64,
          60,
          42,
          45,
          57,
          64,
          41,
          56,
          69,
          67,
          58,
          45,
          50,
          64,
          42,
          42,
          50,
          49,
          65,
          46,
          51,
          54,
          52,
          56,
          60,
          57,
          51,
          44,
          55,
          35,
          38,
          44,
          48,
          67,
          58,
          43,
          44,
          66,
          57,
          35,
          58,
          61,
          58,
          52,
          51,
          62,
          45,
          66,
          57,
          70,
          37,
          60,
          54,
          60,
          52,
          43,
          57,
          59,
          59,
          62,
          53,
          58,
          48,
          58,
          51,
          58,
          59,
          58,
          59,
          35,
          63,
          45,
          68,
          70,
          57,
          47,
          67,
          47,
          52,
          69,
          41,
          58,
          59,
          54,
          44,
          58,
          59,
          44,
          68,
          67,
          46,
          55,
          64,
          66,
          43,
          65,
          61,
          65,
          39,
          52,
          64,
          52,
          59,
          54
         ],
         "y0": " ",
         "yaxis": "y"
        },
        {
         "alignmentgroup": "True",
         "box": {
          "visible": true
         },
         "hovertemplate": "sex=%{x}<br>age=%{y}<extra></extra>",
         "legendgroup": "Female",
         "marker": {
          "color": "#ffd8ec"
         },
         "name": "Female",
         "offsetgroup": "Female",
         "orientation": "v",
         "points": "all",
         "scalegroup": "True",
         "showlegend": true,
         "type": "violin",
         "x": [
          "Female",
          "Female",
          "Female",
          "Female",
          "Female",
          "Female",
          "Female",
          "Female",
          "Female",
          "Female",
          "Female",
          "Female",
          "Female",
          "Female",
          "Female",
          "Female",
          "Female",
          "Female",
          "Female",
          "Female",
          "Female",
          "Female",
          "Female",
          "Female",
          "Female",
          "Female",
          "Female",
          "Female",
          "Female",
          "Female",
          "Female",
          "Female",
          "Female",
          "Female",
          "Female",
          "Female",
          "Female",
          "Female",
          "Female",
          "Female",
          "Female",
          "Female",
          "Female",
          "Female",
          "Female",
          "Female",
          "Female",
          "Female",
          "Female",
          "Female",
          "Female",
          "Female",
          "Female",
          "Female",
          "Female",
          "Female",
          "Female",
          "Female",
          "Female",
          "Female",
          "Female",
          "Female",
          "Female",
          "Female",
          "Female",
          "Female",
          "Female",
          "Female",
          "Female",
          "Female",
          "Female",
          "Female",
          "Female",
          "Female",
          "Female",
          "Female",
          "Female",
          "Female",
          "Female",
          "Female",
          "Female",
          "Female",
          "Female",
          "Female",
          "Female",
          "Female",
          "Female",
          "Female",
          "Female",
          "Female",
          "Female",
          "Female",
          "Female",
          "Female",
          "Female",
          "Female"
         ],
         "x0": " ",
         "xaxis": "x",
         "y": [
          62,
          58,
          71,
          43,
          34,
          51,
          50,
          67,
          63,
          42,
          61,
          58,
          55,
          65,
          61,
          55,
          66,
          66,
          58,
          57,
          37,
          62,
          59,
          62,
          54,
          62,
          45,
          57,
          76,
          43,
          65,
          60,
          51,
          58,
          64,
          63,
          51,
          67,
          57,
          45,
          39,
          56,
          56,
          60,
          57,
          44,
          41,
          49,
          62,
          54,
          39,
          62,
          35,
          71,
          41,
          45,
          41,
          64,
          71,
          58,
          46,
          52,
          56,
          74,
          53,
          53,
          48,
          63,
          54,
          65,
          62,
          46,
          46,
          64,
          42,
          51,
          54,
          65,
          41,
          63,
          49,
          58,
          67,
          60,
          53,
          50,
          50,
          54,
          63,
          55,
          69,
          66,
          55,
          60,
          68,
          44
         ],
         "y0": " ",
         "yaxis": "y"
        }
       ],
       "layout": {
        "font": {
         "color": "white",
         "family": "Courier New, monospace",
         "size": 14
        },
        "legend": {
         "title": {
          "text": "sex"
         },
         "tracegroupgap": 0
        },
        "margin": {
         "t": 60
        },
        "showlegend": false,
        "template": {
         "data": {
          "bar": [
           {
            "error_x": {
             "color": "#f2f5fa"
            },
            "error_y": {
             "color": "#f2f5fa"
            },
            "marker": {
             "line": {
              "color": "rgb(17,17,17)",
              "width": 0.5
             },
             "pattern": {
              "fillmode": "overlay",
              "size": 10,
              "solidity": 0.2
             }
            },
            "type": "bar"
           }
          ],
          "barpolar": [
           {
            "marker": {
             "line": {
              "color": "rgb(17,17,17)",
              "width": 0.5
             },
             "pattern": {
              "fillmode": "overlay",
              "size": 10,
              "solidity": 0.2
             }
            },
            "type": "barpolar"
           }
          ],
          "carpet": [
           {
            "aaxis": {
             "endlinecolor": "#A2B1C6",
             "gridcolor": "#506784",
             "linecolor": "#506784",
             "minorgridcolor": "#506784",
             "startlinecolor": "#A2B1C6"
            },
            "baxis": {
             "endlinecolor": "#A2B1C6",
             "gridcolor": "#506784",
             "linecolor": "#506784",
             "minorgridcolor": "#506784",
             "startlinecolor": "#A2B1C6"
            },
            "type": "carpet"
           }
          ],
          "choropleth": [
           {
            "colorbar": {
             "outlinewidth": 0,
             "ticks": ""
            },
            "type": "choropleth"
           }
          ],
          "contour": [
           {
            "colorbar": {
             "outlinewidth": 0,
             "ticks": ""
            },
            "colorscale": [
             [
              0,
              "#0d0887"
             ],
             [
              0.1111111111111111,
              "#46039f"
             ],
             [
              0.2222222222222222,
              "#7201a8"
             ],
             [
              0.3333333333333333,
              "#9c179e"
             ],
             [
              0.4444444444444444,
              "#bd3786"
             ],
             [
              0.5555555555555556,
              "#d8576b"
             ],
             [
              0.6666666666666666,
              "#ed7953"
             ],
             [
              0.7777777777777778,
              "#fb9f3a"
             ],
             [
              0.8888888888888888,
              "#fdca26"
             ],
             [
              1,
              "#f0f921"
             ]
            ],
            "type": "contour"
           }
          ],
          "contourcarpet": [
           {
            "colorbar": {
             "outlinewidth": 0,
             "ticks": ""
            },
            "type": "contourcarpet"
           }
          ],
          "heatmap": [
           {
            "colorbar": {
             "outlinewidth": 0,
             "ticks": ""
            },
            "colorscale": [
             [
              0,
              "#0d0887"
             ],
             [
              0.1111111111111111,
              "#46039f"
             ],
             [
              0.2222222222222222,
              "#7201a8"
             ],
             [
              0.3333333333333333,
              "#9c179e"
             ],
             [
              0.4444444444444444,
              "#bd3786"
             ],
             [
              0.5555555555555556,
              "#d8576b"
             ],
             [
              0.6666666666666666,
              "#ed7953"
             ],
             [
              0.7777777777777778,
              "#fb9f3a"
             ],
             [
              0.8888888888888888,
              "#fdca26"
             ],
             [
              1,
              "#f0f921"
             ]
            ],
            "type": "heatmap"
           }
          ],
          "heatmapgl": [
           {
            "colorbar": {
             "outlinewidth": 0,
             "ticks": ""
            },
            "colorscale": [
             [
              0,
              "#0d0887"
             ],
             [
              0.1111111111111111,
              "#46039f"
             ],
             [
              0.2222222222222222,
              "#7201a8"
             ],
             [
              0.3333333333333333,
              "#9c179e"
             ],
             [
              0.4444444444444444,
              "#bd3786"
             ],
             [
              0.5555555555555556,
              "#d8576b"
             ],
             [
              0.6666666666666666,
              "#ed7953"
             ],
             [
              0.7777777777777778,
              "#fb9f3a"
             ],
             [
              0.8888888888888888,
              "#fdca26"
             ],
             [
              1,
              "#f0f921"
             ]
            ],
            "type": "heatmapgl"
           }
          ],
          "histogram": [
           {
            "marker": {
             "pattern": {
              "fillmode": "overlay",
              "size": 10,
              "solidity": 0.2
             }
            },
            "type": "histogram"
           }
          ],
          "histogram2d": [
           {
            "colorbar": {
             "outlinewidth": 0,
             "ticks": ""
            },
            "colorscale": [
             [
              0,
              "#0d0887"
             ],
             [
              0.1111111111111111,
              "#46039f"
             ],
             [
              0.2222222222222222,
              "#7201a8"
             ],
             [
              0.3333333333333333,
              "#9c179e"
             ],
             [
              0.4444444444444444,
              "#bd3786"
             ],
             [
              0.5555555555555556,
              "#d8576b"
             ],
             [
              0.6666666666666666,
              "#ed7953"
             ],
             [
              0.7777777777777778,
              "#fb9f3a"
             ],
             [
              0.8888888888888888,
              "#fdca26"
             ],
             [
              1,
              "#f0f921"
             ]
            ],
            "type": "histogram2d"
           }
          ],
          "histogram2dcontour": [
           {
            "colorbar": {
             "outlinewidth": 0,
             "ticks": ""
            },
            "colorscale": [
             [
              0,
              "#0d0887"
             ],
             [
              0.1111111111111111,
              "#46039f"
             ],
             [
              0.2222222222222222,
              "#7201a8"
             ],
             [
              0.3333333333333333,
              "#9c179e"
             ],
             [
              0.4444444444444444,
              "#bd3786"
             ],
             [
              0.5555555555555556,
              "#d8576b"
             ],
             [
              0.6666666666666666,
              "#ed7953"
             ],
             [
              0.7777777777777778,
              "#fb9f3a"
             ],
             [
              0.8888888888888888,
              "#fdca26"
             ],
             [
              1,
              "#f0f921"
             ]
            ],
            "type": "histogram2dcontour"
           }
          ],
          "mesh3d": [
           {
            "colorbar": {
             "outlinewidth": 0,
             "ticks": ""
            },
            "type": "mesh3d"
           }
          ],
          "parcoords": [
           {
            "line": {
             "colorbar": {
              "outlinewidth": 0,
              "ticks": ""
             }
            },
            "type": "parcoords"
           }
          ],
          "pie": [
           {
            "automargin": true,
            "type": "pie"
           }
          ],
          "scatter": [
           {
            "marker": {
             "line": {
              "color": "#283442"
             }
            },
            "type": "scatter"
           }
          ],
          "scatter3d": [
           {
            "line": {
             "colorbar": {
              "outlinewidth": 0,
              "ticks": ""
             }
            },
            "marker": {
             "colorbar": {
              "outlinewidth": 0,
              "ticks": ""
             }
            },
            "type": "scatter3d"
           }
          ],
          "scattercarpet": [
           {
            "marker": {
             "colorbar": {
              "outlinewidth": 0,
              "ticks": ""
             }
            },
            "type": "scattercarpet"
           }
          ],
          "scattergeo": [
           {
            "marker": {
             "colorbar": {
              "outlinewidth": 0,
              "ticks": ""
             }
            },
            "type": "scattergeo"
           }
          ],
          "scattergl": [
           {
            "marker": {
             "line": {
              "color": "#283442"
             }
            },
            "type": "scattergl"
           }
          ],
          "scattermapbox": [
           {
            "marker": {
             "colorbar": {
              "outlinewidth": 0,
              "ticks": ""
             }
            },
            "type": "scattermapbox"
           }
          ],
          "scatterpolar": [
           {
            "marker": {
             "colorbar": {
              "outlinewidth": 0,
              "ticks": ""
             }
            },
            "type": "scatterpolar"
           }
          ],
          "scatterpolargl": [
           {
            "marker": {
             "colorbar": {
              "outlinewidth": 0,
              "ticks": ""
             }
            },
            "type": "scatterpolargl"
           }
          ],
          "scatterternary": [
           {
            "marker": {
             "colorbar": {
              "outlinewidth": 0,
              "ticks": ""
             }
            },
            "type": "scatterternary"
           }
          ],
          "surface": [
           {
            "colorbar": {
             "outlinewidth": 0,
             "ticks": ""
            },
            "colorscale": [
             [
              0,
              "#0d0887"
             ],
             [
              0.1111111111111111,
              "#46039f"
             ],
             [
              0.2222222222222222,
              "#7201a8"
             ],
             [
              0.3333333333333333,
              "#9c179e"
             ],
             [
              0.4444444444444444,
              "#bd3786"
             ],
             [
              0.5555555555555556,
              "#d8576b"
             ],
             [
              0.6666666666666666,
              "#ed7953"
             ],
             [
              0.7777777777777778,
              "#fb9f3a"
             ],
             [
              0.8888888888888888,
              "#fdca26"
             ],
             [
              1,
              "#f0f921"
             ]
            ],
            "type": "surface"
           }
          ],
          "table": [
           {
            "cells": {
             "fill": {
              "color": "#506784"
             },
             "line": {
              "color": "rgb(17,17,17)"
             }
            },
            "header": {
             "fill": {
              "color": "#2a3f5f"
             },
             "line": {
              "color": "rgb(17,17,17)"
             }
            },
            "type": "table"
           }
          ]
         },
         "layout": {
          "annotationdefaults": {
           "arrowcolor": "#f2f5fa",
           "arrowhead": 0,
           "arrowwidth": 1
          },
          "autotypenumbers": "strict",
          "coloraxis": {
           "colorbar": {
            "outlinewidth": 0,
            "ticks": ""
           }
          },
          "colorscale": {
           "diverging": [
            [
             0,
             "#8e0152"
            ],
            [
             0.1,
             "#c51b7d"
            ],
            [
             0.2,
             "#de77ae"
            ],
            [
             0.3,
             "#f1b6da"
            ],
            [
             0.4,
             "#fde0ef"
            ],
            [
             0.5,
             "#f7f7f7"
            ],
            [
             0.6,
             "#e6f5d0"
            ],
            [
             0.7,
             "#b8e186"
            ],
            [
             0.8,
             "#7fbc41"
            ],
            [
             0.9,
             "#4d9221"
            ],
            [
             1,
             "#276419"
            ]
           ],
           "sequential": [
            [
             0,
             "#0d0887"
            ],
            [
             0.1111111111111111,
             "#46039f"
            ],
            [
             0.2222222222222222,
             "#7201a8"
            ],
            [
             0.3333333333333333,
             "#9c179e"
            ],
            [
             0.4444444444444444,
             "#bd3786"
            ],
            [
             0.5555555555555556,
             "#d8576b"
            ],
            [
             0.6666666666666666,
             "#ed7953"
            ],
            [
             0.7777777777777778,
             "#fb9f3a"
            ],
            [
             0.8888888888888888,
             "#fdca26"
            ],
            [
             1,
             "#f0f921"
            ]
           ],
           "sequentialminus": [
            [
             0,
             "#0d0887"
            ],
            [
             0.1111111111111111,
             "#46039f"
            ],
            [
             0.2222222222222222,
             "#7201a8"
            ],
            [
             0.3333333333333333,
             "#9c179e"
            ],
            [
             0.4444444444444444,
             "#bd3786"
            ],
            [
             0.5555555555555556,
             "#d8576b"
            ],
            [
             0.6666666666666666,
             "#ed7953"
            ],
            [
             0.7777777777777778,
             "#fb9f3a"
            ],
            [
             0.8888888888888888,
             "#fdca26"
            ],
            [
             1,
             "#f0f921"
            ]
           ]
          },
          "colorway": [
           "#636efa",
           "#EF553B",
           "#00cc96",
           "#ab63fa",
           "#FFA15A",
           "#19d3f3",
           "#FF6692",
           "#B6E880",
           "#FF97FF",
           "#FECB52"
          ],
          "font": {
           "color": "#f2f5fa",
           "family": "monospace",
           "size": 14
          },
          "geo": {
           "bgcolor": "rgb(17,17,17)",
           "lakecolor": "rgb(17,17,17)",
           "landcolor": "rgb(17,17,17)",
           "showlakes": true,
           "showland": true,
           "subunitcolor": "#506784"
          },
          "hoverlabel": {
           "align": "left"
          },
          "hovermode": "closest",
          "mapbox": {
           "style": "dark"
          },
          "paper_bgcolor": "rgb(17,17,17)",
          "plot_bgcolor": "rgb(17,17,17)",
          "polar": {
           "angularaxis": {
            "gridcolor": "#506784",
            "linecolor": "#506784",
            "ticks": ""
           },
           "bgcolor": "rgb(17,17,17)",
           "radialaxis": {
            "gridcolor": "#506784",
            "linecolor": "#506784",
            "ticks": ""
           }
          },
          "scene": {
           "xaxis": {
            "backgroundcolor": "rgb(17,17,17)",
            "gridcolor": "#506784",
            "gridwidth": 2,
            "linecolor": "#506784",
            "showbackground": true,
            "ticks": "",
            "zerolinecolor": "#C8D4E3"
           },
           "yaxis": {
            "backgroundcolor": "rgb(17,17,17)",
            "gridcolor": "#506784",
            "gridwidth": 2,
            "linecolor": "#506784",
            "showbackground": true,
            "ticks": "",
            "zerolinecolor": "#C8D4E3"
           },
           "zaxis": {
            "backgroundcolor": "rgb(17,17,17)",
            "gridcolor": "#506784",
            "gridwidth": 2,
            "linecolor": "#506784",
            "showbackground": true,
            "ticks": "",
            "zerolinecolor": "#C8D4E3"
           }
          },
          "shapedefaults": {
           "line": {
            "color": "#f2f5fa"
           }
          },
          "sliderdefaults": {
           "bgcolor": "#C8D4E3",
           "bordercolor": "rgb(17,17,17)",
           "borderwidth": 1,
           "tickwidth": 0
          },
          "ternary": {
           "aaxis": {
            "gridcolor": "#506784",
            "linecolor": "#506784",
            "ticks": ""
           },
           "baxis": {
            "gridcolor": "#506784",
            "linecolor": "#506784",
            "ticks": ""
           },
           "bgcolor": "rgb(17,17,17)",
           "caxis": {
            "gridcolor": "#506784",
            "linecolor": "#506784",
            "ticks": ""
           }
          },
          "title": {
           "x": 0.05
          },
          "updatemenudefaults": {
           "bgcolor": "#506784",
           "borderwidth": 0
          },
          "xaxis": {
           "automargin": true,
           "gridcolor": "#283442",
           "linecolor": "#506784",
           "ticks": "",
           "title": {
            "standoff": 15
           },
           "zerolinecolor": "#283442",
           "zerolinewidth": 2
          },
          "yaxis": {
           "automargin": true,
           "gridcolor": "#283442",
           "linecolor": "#506784",
           "ticks": "",
           "title": {
            "standoff": 15
           },
           "zerolinecolor": "#283442",
           "zerolinewidth": 2
          }
         }
        },
        "title": {
         "text": "Age Distribution by Sex"
        },
        "violinmode": "overlay",
        "xaxis": {
         "anchor": "y",
         "categoryarray": [
          "Male",
          "Female"
         ],
         "categoryorder": "array",
         "domain": [
          0,
          1
         ],
         "title": {
          "text": "sex"
         }
        },
        "yaxis": {
         "anchor": "x",
         "domain": [
          0,
          1
         ],
         "title": {
          "text": "age"
         }
        }
       }
      }
     },
     "metadata": {},
     "output_type": "display_data"
    },
    {
     "data": {
      "application/vnd.plotly.v1+json": {
       "config": {
        "plotlyServerURL": "https://plot.ly"
       },
       "data": [
        {
         "alignmentgroup": "True",
         "box": {
          "visible": true
         },
         "hovertemplate": "chest_pain_type=%{x}<br>resting_blood_pressure=%{y}<extra></extra>",
         "legendgroup": "Typical angina",
         "marker": {
          "color": "#ffa8cb"
         },
         "name": "Typical angina",
         "offsetgroup": "Typical angina",
         "orientation": "v",
         "points": "all",
         "scalegroup": "True",
         "showlegend": true,
         "type": "violin",
         "x": [
          "Typical angina",
          "Typical angina",
          "Typical angina",
          "Typical angina",
          "Typical angina",
          "Typical angina",
          "Typical angina",
          "Typical angina",
          "Typical angina",
          "Typical angina",
          "Typical angina",
          "Typical angina",
          "Typical angina",
          "Typical angina",
          "Typical angina",
          "Typical angina",
          "Typical angina",
          "Typical angina",
          "Typical angina",
          "Typical angina",
          "Typical angina",
          "Typical angina",
          "Typical angina",
          "Typical angina",
          "Typical angina",
          "Typical angina",
          "Typical angina",
          "Typical angina",
          "Typical angina",
          "Typical angina",
          "Typical angina",
          "Typical angina",
          "Typical angina",
          "Typical angina",
          "Typical angina",
          "Typical angina",
          "Typical angina",
          "Typical angina",
          "Typical angina",
          "Typical angina",
          "Typical angina",
          "Typical angina",
          "Typical angina",
          "Typical angina",
          "Typical angina",
          "Typical angina",
          "Typical angina",
          "Typical angina",
          "Typical angina",
          "Typical angina",
          "Typical angina",
          "Typical angina",
          "Typical angina",
          "Typical angina",
          "Typical angina",
          "Typical angina",
          "Typical angina",
          "Typical angina",
          "Typical angina",
          "Typical angina",
          "Typical angina",
          "Typical angina",
          "Typical angina",
          "Typical angina",
          "Typical angina",
          "Typical angina",
          "Typical angina",
          "Typical angina",
          "Typical angina",
          "Typical angina",
          "Typical angina",
          "Typical angina",
          "Typical angina",
          "Typical angina",
          "Typical angina",
          "Typical angina",
          "Typical angina",
          "Typical angina",
          "Typical angina",
          "Typical angina",
          "Typical angina",
          "Typical angina",
          "Typical angina",
          "Typical angina",
          "Typical angina",
          "Typical angina",
          "Typical angina",
          "Typical angina",
          "Typical angina",
          "Typical angina",
          "Typical angina",
          "Typical angina",
          "Typical angina",
          "Typical angina",
          "Typical angina",
          "Typical angina",
          "Typical angina",
          "Typical angina",
          "Typical angina",
          "Typical angina",
          "Typical angina",
          "Typical angina",
          "Typical angina",
          "Typical angina",
          "Typical angina",
          "Typical angina",
          "Typical angina",
          "Typical angina",
          "Typical angina",
          "Typical angina",
          "Typical angina",
          "Typical angina",
          "Typical angina",
          "Typical angina",
          "Typical angina",
          "Typical angina",
          "Typical angina",
          "Typical angina",
          "Typical angina",
          "Typical angina",
          "Typical angina",
          "Typical angina",
          "Typical angina",
          "Typical angina",
          "Typical angina",
          "Typical angina",
          "Typical angina",
          "Typical angina",
          "Typical angina",
          "Typical angina",
          "Typical angina",
          "Typical angina",
          "Typical angina",
          "Typical angina",
          "Typical angina",
          "Typical angina",
          "Typical angina",
          "Typical angina",
          "Typical angina",
          "Typical angina",
          "Typical angina",
          "Typical angina",
          "Typical angina"
         ],
         "x0": " ",
         "xaxis": "x",
         "y": [
          125,
          140,
          145,
          148,
          138,
          100,
          114,
          160,
          120,
          122,
          112,
          132,
          140,
          128,
          124,
          106,
          104,
          145,
          180,
          120,
          130,
          138,
          128,
          130,
          140,
          178,
          117,
          140,
          140,
          100,
          136,
          160,
          170,
          140,
          125,
          140,
          130,
          140,
          174,
          140,
          144,
          124,
          138,
          128,
          123,
          110,
          110,
          140,
          152,
          110,
          110,
          142,
          110,
          130,
          120,
          145,
          120,
          120,
          140,
          170,
          180,
          152,
          124,
          112,
          110,
          110,
          125,
          130,
          125,
          124,
          132,
          120,
          150,
          130,
          110,
          200,
          120,
          134,
          140,
          165,
          160,
          100,
          115,
          144,
          150,
          135,
          140,
          140,
          125,
          130,
          150,
          132,
          120,
          140,
          138,
          122,
          120,
          110,
          160,
          132,
          128,
          150,
          120,
          130,
          142,
          150,
          130,
          108,
          130,
          130,
          132,
          110,
          138,
          164,
          130,
          146,
          110,
          126,
          102,
          130,
          150,
          120,
          112,
          150,
          130,
          128,
          135,
          140,
          112,
          150,
          138,
          125,
          110,
          145,
          112,
          128,
          115,
          138,
          120,
          118,
          108,
          128,
          120
         ],
         "y0": " ",
         "yaxis": "y"
        },
        {
         "alignmentgroup": "True",
         "box": {
          "visible": true
         },
         "hovertemplate": "chest_pain_type=%{x}<br>resting_blood_pressure=%{y}<extra></extra>",
         "legendgroup": "Atypical angina",
         "marker": {
          "color": "#ffa8cb"
         },
         "name": "Atypical angina",
         "offsetgroup": "Atypical angina",
         "orientation": "v",
         "points": "all",
         "scalegroup": "True",
         "showlegend": true,
         "type": "violin",
         "x": [
          "Atypical angina",
          "Atypical angina",
          "Atypical angina",
          "Atypical angina",
          "Atypical angina",
          "Atypical angina",
          "Atypical angina",
          "Atypical angina",
          "Atypical angina",
          "Atypical angina",
          "Atypical angina",
          "Atypical angina",
          "Atypical angina",
          "Atypical angina",
          "Atypical angina",
          "Atypical angina",
          "Atypical angina",
          "Atypical angina",
          "Atypical angina",
          "Atypical angina",
          "Atypical angina",
          "Atypical angina",
          "Atypical angina",
          "Atypical angina",
          "Atypical angina",
          "Atypical angina",
          "Atypical angina",
          "Atypical angina",
          "Atypical angina",
          "Atypical angina",
          "Atypical angina",
          "Atypical angina",
          "Atypical angina",
          "Atypical angina",
          "Atypical angina",
          "Atypical angina",
          "Atypical angina",
          "Atypical angina",
          "Atypical angina",
          "Atypical angina",
          "Atypical angina",
          "Atypical angina",
          "Atypical angina",
          "Atypical angina",
          "Atypical angina",
          "Atypical angina",
          "Atypical angina",
          "Atypical angina",
          "Atypical angina",
          "Atypical angina"
         ],
         "x0": " ",
         "xaxis": "x",
         "y": [
          118,
          120,
          136,
          132,
          135,
          130,
          154,
          130,
          134,
          120,
          128,
          108,
          120,
          120,
          110,
          192,
          120,
          112,
          120,
          128,
          130,
          130,
          130,
          128,
          120,
          126,
          124,
          132,
          130,
          120,
          105,
          130,
          122,
          130,
          160,
          120,
          105,
          140,
          120,
          160,
          110,
          120,
          140,
          156,
          134,
          125,
          101,
          130,
          140,
          135
         ],
         "y0": " ",
         "yaxis": "y"
        },
        {
         "alignmentgroup": "True",
         "box": {
          "visible": true
         },
         "hovertemplate": "chest_pain_type=%{x}<br>resting_blood_pressure=%{y}<extra></extra>",
         "legendgroup": "Non-anginal pain",
         "marker": {
          "color": "#ffa8cb"
         },
         "name": "Non-anginal pain",
         "offsetgroup": "Non-anginal pain",
         "orientation": "v",
         "points": "all",
         "scalegroup": "True",
         "showlegend": true,
         "type": "violin",
         "x": [
          "Non-anginal pain",
          "Non-anginal pain",
          "Non-anginal pain",
          "Non-anginal pain",
          "Non-anginal pain",
          "Non-anginal pain",
          "Non-anginal pain",
          "Non-anginal pain",
          "Non-anginal pain",
          "Non-anginal pain",
          "Non-anginal pain",
          "Non-anginal pain",
          "Non-anginal pain",
          "Non-anginal pain",
          "Non-anginal pain",
          "Non-anginal pain",
          "Non-anginal pain",
          "Non-anginal pain",
          "Non-anginal pain",
          "Non-anginal pain",
          "Non-anginal pain",
          "Non-anginal pain",
          "Non-anginal pain",
          "Non-anginal pain",
          "Non-anginal pain",
          "Non-anginal pain",
          "Non-anginal pain",
          "Non-anginal pain",
          "Non-anginal pain",
          "Non-anginal pain",
          "Non-anginal pain",
          "Non-anginal pain",
          "Non-anginal pain",
          "Non-anginal pain",
          "Non-anginal pain",
          "Non-anginal pain",
          "Non-anginal pain",
          "Non-anginal pain",
          "Non-anginal pain",
          "Non-anginal pain",
          "Non-anginal pain",
          "Non-anginal pain",
          "Non-anginal pain",
          "Non-anginal pain",
          "Non-anginal pain",
          "Non-anginal pain",
          "Non-anginal pain",
          "Non-anginal pain",
          "Non-anginal pain",
          "Non-anginal pain",
          "Non-anginal pain",
          "Non-anginal pain",
          "Non-anginal pain",
          "Non-anginal pain",
          "Non-anginal pain",
          "Non-anginal pain",
          "Non-anginal pain",
          "Non-anginal pain",
          "Non-anginal pain",
          "Non-anginal pain",
          "Non-anginal pain",
          "Non-anginal pain",
          "Non-anginal pain",
          "Non-anginal pain",
          "Non-anginal pain",
          "Non-anginal pain",
          "Non-anginal pain",
          "Non-anginal pain",
          "Non-anginal pain",
          "Non-anginal pain",
          "Non-anginal pain",
          "Non-anginal pain",
          "Non-anginal pain",
          "Non-anginal pain",
          "Non-anginal pain",
          "Non-anginal pain",
          "Non-anginal pain",
          "Non-anginal pain",
          "Non-anginal pain",
          "Non-anginal pain",
          "Non-anginal pain",
          "Non-anginal pain",
          "Non-anginal pain",
          "Non-anginal pain",
          "Non-anginal pain",
          "Non-anginal pain"
         ],
         "x0": " ",
         "xaxis": "x",
         "y": [
          140,
          140,
          140,
          135,
          120,
          130,
          130,
          160,
          129,
          150,
          128,
          160,
          120,
          146,
          138,
          120,
          152,
          150,
          130,
          120,
          138,
          124,
          140,
          118,
          108,
          140,
          122,
          150,
          126,
          140,
          138,
          130,
          120,
          140,
          115,
          100,
          130,
          94,
          130,
          125,
          112,
          102,
          120,
          150,
          118,
          125,
          138,
          120,
          132,
          110,
          140,
          120,
          150,
          94,
          136,
          128,
          130,
          130,
          110,
          125,
          155,
          172,
          130,
          130,
          130,
          112,
          105,
          110,
          142,
          180,
          160,
          150,
          108,
          112,
          130,
          140,
          130,
          152,
          120,
          140,
          118,
          135,
          120,
          140,
          120,
          108
         ],
         "y0": " ",
         "yaxis": "y"
        },
        {
         "alignmentgroup": "True",
         "box": {
          "visible": true
         },
         "hovertemplate": "chest_pain_type=%{x}<br>resting_blood_pressure=%{y}<extra></extra>",
         "legendgroup": "Asymptomatic",
         "marker": {
          "color": "#ffa8cb"
         },
         "name": "Asymptomatic",
         "offsetgroup": "Asymptomatic",
         "orientation": "v",
         "points": "all",
         "scalegroup": "True",
         "showlegend": true,
         "type": "violin",
         "x": [
          "Asymptomatic",
          "Asymptomatic",
          "Asymptomatic",
          "Asymptomatic",
          "Asymptomatic",
          "Asymptomatic",
          "Asymptomatic",
          "Asymptomatic",
          "Asymptomatic",
          "Asymptomatic",
          "Asymptomatic",
          "Asymptomatic",
          "Asymptomatic",
          "Asymptomatic",
          "Asymptomatic",
          "Asymptomatic",
          "Asymptomatic",
          "Asymptomatic",
          "Asymptomatic",
          "Asymptomatic",
          "Asymptomatic",
          "Asymptomatic",
          "Asymptomatic"
         ],
         "x0": " ",
         "xaxis": "x",
         "y": [
          125,
          150,
          120,
          170,
          118,
          150,
          134,
          118,
          152,
          140,
          110,
          160,
          170,
          148,
          120,
          134,
          145,
          110,
          178,
          140,
          138,
          150,
          160
         ],
         "y0": " ",
         "yaxis": "y"
        }
       ],
       "layout": {
        "font": {
         "color": "white",
         "family": "Courier New, monospace",
         "size": 14
        },
        "legend": {
         "title": {
          "text": "chest_pain_type"
         },
         "tracegroupgap": 0
        },
        "margin": {
         "t": 60
        },
        "showlegend": false,
        "template": {
         "data": {
          "bar": [
           {
            "error_x": {
             "color": "#f2f5fa"
            },
            "error_y": {
             "color": "#f2f5fa"
            },
            "marker": {
             "line": {
              "color": "rgb(17,17,17)",
              "width": 0.5
             },
             "pattern": {
              "fillmode": "overlay",
              "size": 10,
              "solidity": 0.2
             }
            },
            "type": "bar"
           }
          ],
          "barpolar": [
           {
            "marker": {
             "line": {
              "color": "rgb(17,17,17)",
              "width": 0.5
             },
             "pattern": {
              "fillmode": "overlay",
              "size": 10,
              "solidity": 0.2
             }
            },
            "type": "barpolar"
           }
          ],
          "carpet": [
           {
            "aaxis": {
             "endlinecolor": "#A2B1C6",
             "gridcolor": "#506784",
             "linecolor": "#506784",
             "minorgridcolor": "#506784",
             "startlinecolor": "#A2B1C6"
            },
            "baxis": {
             "endlinecolor": "#A2B1C6",
             "gridcolor": "#506784",
             "linecolor": "#506784",
             "minorgridcolor": "#506784",
             "startlinecolor": "#A2B1C6"
            },
            "type": "carpet"
           }
          ],
          "choropleth": [
           {
            "colorbar": {
             "outlinewidth": 0,
             "ticks": ""
            },
            "type": "choropleth"
           }
          ],
          "contour": [
           {
            "colorbar": {
             "outlinewidth": 0,
             "ticks": ""
            },
            "colorscale": [
             [
              0,
              "#0d0887"
             ],
             [
              0.1111111111111111,
              "#46039f"
             ],
             [
              0.2222222222222222,
              "#7201a8"
             ],
             [
              0.3333333333333333,
              "#9c179e"
             ],
             [
              0.4444444444444444,
              "#bd3786"
             ],
             [
              0.5555555555555556,
              "#d8576b"
             ],
             [
              0.6666666666666666,
              "#ed7953"
             ],
             [
              0.7777777777777778,
              "#fb9f3a"
             ],
             [
              0.8888888888888888,
              "#fdca26"
             ],
             [
              1,
              "#f0f921"
             ]
            ],
            "type": "contour"
           }
          ],
          "contourcarpet": [
           {
            "colorbar": {
             "outlinewidth": 0,
             "ticks": ""
            },
            "type": "contourcarpet"
           }
          ],
          "heatmap": [
           {
            "colorbar": {
             "outlinewidth": 0,
             "ticks": ""
            },
            "colorscale": [
             [
              0,
              "#0d0887"
             ],
             [
              0.1111111111111111,
              "#46039f"
             ],
             [
              0.2222222222222222,
              "#7201a8"
             ],
             [
              0.3333333333333333,
              "#9c179e"
             ],
             [
              0.4444444444444444,
              "#bd3786"
             ],
             [
              0.5555555555555556,
              "#d8576b"
             ],
             [
              0.6666666666666666,
              "#ed7953"
             ],
             [
              0.7777777777777778,
              "#fb9f3a"
             ],
             [
              0.8888888888888888,
              "#fdca26"
             ],
             [
              1,
              "#f0f921"
             ]
            ],
            "type": "heatmap"
           }
          ],
          "heatmapgl": [
           {
            "colorbar": {
             "outlinewidth": 0,
             "ticks": ""
            },
            "colorscale": [
             [
              0,
              "#0d0887"
             ],
             [
              0.1111111111111111,
              "#46039f"
             ],
             [
              0.2222222222222222,
              "#7201a8"
             ],
             [
              0.3333333333333333,
              "#9c179e"
             ],
             [
              0.4444444444444444,
              "#bd3786"
             ],
             [
              0.5555555555555556,
              "#d8576b"
             ],
             [
              0.6666666666666666,
              "#ed7953"
             ],
             [
              0.7777777777777778,
              "#fb9f3a"
             ],
             [
              0.8888888888888888,
              "#fdca26"
             ],
             [
              1,
              "#f0f921"
             ]
            ],
            "type": "heatmapgl"
           }
          ],
          "histogram": [
           {
            "marker": {
             "pattern": {
              "fillmode": "overlay",
              "size": 10,
              "solidity": 0.2
             }
            },
            "type": "histogram"
           }
          ],
          "histogram2d": [
           {
            "colorbar": {
             "outlinewidth": 0,
             "ticks": ""
            },
            "colorscale": [
             [
              0,
              "#0d0887"
             ],
             [
              0.1111111111111111,
              "#46039f"
             ],
             [
              0.2222222222222222,
              "#7201a8"
             ],
             [
              0.3333333333333333,
              "#9c179e"
             ],
             [
              0.4444444444444444,
              "#bd3786"
             ],
             [
              0.5555555555555556,
              "#d8576b"
             ],
             [
              0.6666666666666666,
              "#ed7953"
             ],
             [
              0.7777777777777778,
              "#fb9f3a"
             ],
             [
              0.8888888888888888,
              "#fdca26"
             ],
             [
              1,
              "#f0f921"
             ]
            ],
            "type": "histogram2d"
           }
          ],
          "histogram2dcontour": [
           {
            "colorbar": {
             "outlinewidth": 0,
             "ticks": ""
            },
            "colorscale": [
             [
              0,
              "#0d0887"
             ],
             [
              0.1111111111111111,
              "#46039f"
             ],
             [
              0.2222222222222222,
              "#7201a8"
             ],
             [
              0.3333333333333333,
              "#9c179e"
             ],
             [
              0.4444444444444444,
              "#bd3786"
             ],
             [
              0.5555555555555556,
              "#d8576b"
             ],
             [
              0.6666666666666666,
              "#ed7953"
             ],
             [
              0.7777777777777778,
              "#fb9f3a"
             ],
             [
              0.8888888888888888,
              "#fdca26"
             ],
             [
              1,
              "#f0f921"
             ]
            ],
            "type": "histogram2dcontour"
           }
          ],
          "mesh3d": [
           {
            "colorbar": {
             "outlinewidth": 0,
             "ticks": ""
            },
            "type": "mesh3d"
           }
          ],
          "parcoords": [
           {
            "line": {
             "colorbar": {
              "outlinewidth": 0,
              "ticks": ""
             }
            },
            "type": "parcoords"
           }
          ],
          "pie": [
           {
            "automargin": true,
            "type": "pie"
           }
          ],
          "scatter": [
           {
            "marker": {
             "line": {
              "color": "#283442"
             }
            },
            "type": "scatter"
           }
          ],
          "scatter3d": [
           {
            "line": {
             "colorbar": {
              "outlinewidth": 0,
              "ticks": ""
             }
            },
            "marker": {
             "colorbar": {
              "outlinewidth": 0,
              "ticks": ""
             }
            },
            "type": "scatter3d"
           }
          ],
          "scattercarpet": [
           {
            "marker": {
             "colorbar": {
              "outlinewidth": 0,
              "ticks": ""
             }
            },
            "type": "scattercarpet"
           }
          ],
          "scattergeo": [
           {
            "marker": {
             "colorbar": {
              "outlinewidth": 0,
              "ticks": ""
             }
            },
            "type": "scattergeo"
           }
          ],
          "scattergl": [
           {
            "marker": {
             "line": {
              "color": "#283442"
             }
            },
            "type": "scattergl"
           }
          ],
          "scattermapbox": [
           {
            "marker": {
             "colorbar": {
              "outlinewidth": 0,
              "ticks": ""
             }
            },
            "type": "scattermapbox"
           }
          ],
          "scatterpolar": [
           {
            "marker": {
             "colorbar": {
              "outlinewidth": 0,
              "ticks": ""
             }
            },
            "type": "scatterpolar"
           }
          ],
          "scatterpolargl": [
           {
            "marker": {
             "colorbar": {
              "outlinewidth": 0,
              "ticks": ""
             }
            },
            "type": "scatterpolargl"
           }
          ],
          "scatterternary": [
           {
            "marker": {
             "colorbar": {
              "outlinewidth": 0,
              "ticks": ""
             }
            },
            "type": "scatterternary"
           }
          ],
          "surface": [
           {
            "colorbar": {
             "outlinewidth": 0,
             "ticks": ""
            },
            "colorscale": [
             [
              0,
              "#0d0887"
             ],
             [
              0.1111111111111111,
              "#46039f"
             ],
             [
              0.2222222222222222,
              "#7201a8"
             ],
             [
              0.3333333333333333,
              "#9c179e"
             ],
             [
              0.4444444444444444,
              "#bd3786"
             ],
             [
              0.5555555555555556,
              "#d8576b"
             ],
             [
              0.6666666666666666,
              "#ed7953"
             ],
             [
              0.7777777777777778,
              "#fb9f3a"
             ],
             [
              0.8888888888888888,
              "#fdca26"
             ],
             [
              1,
              "#f0f921"
             ]
            ],
            "type": "surface"
           }
          ],
          "table": [
           {
            "cells": {
             "fill": {
              "color": "#506784"
             },
             "line": {
              "color": "rgb(17,17,17)"
             }
            },
            "header": {
             "fill": {
              "color": "#2a3f5f"
             },
             "line": {
              "color": "rgb(17,17,17)"
             }
            },
            "type": "table"
           }
          ]
         },
         "layout": {
          "annotationdefaults": {
           "arrowcolor": "#f2f5fa",
           "arrowhead": 0,
           "arrowwidth": 1
          },
          "autotypenumbers": "strict",
          "coloraxis": {
           "colorbar": {
            "outlinewidth": 0,
            "ticks": ""
           }
          },
          "colorscale": {
           "diverging": [
            [
             0,
             "#8e0152"
            ],
            [
             0.1,
             "#c51b7d"
            ],
            [
             0.2,
             "#de77ae"
            ],
            [
             0.3,
             "#f1b6da"
            ],
            [
             0.4,
             "#fde0ef"
            ],
            [
             0.5,
             "#f7f7f7"
            ],
            [
             0.6,
             "#e6f5d0"
            ],
            [
             0.7,
             "#b8e186"
            ],
            [
             0.8,
             "#7fbc41"
            ],
            [
             0.9,
             "#4d9221"
            ],
            [
             1,
             "#276419"
            ]
           ],
           "sequential": [
            [
             0,
             "#0d0887"
            ],
            [
             0.1111111111111111,
             "#46039f"
            ],
            [
             0.2222222222222222,
             "#7201a8"
            ],
            [
             0.3333333333333333,
             "#9c179e"
            ],
            [
             0.4444444444444444,
             "#bd3786"
            ],
            [
             0.5555555555555556,
             "#d8576b"
            ],
            [
             0.6666666666666666,
             "#ed7953"
            ],
            [
             0.7777777777777778,
             "#fb9f3a"
            ],
            [
             0.8888888888888888,
             "#fdca26"
            ],
            [
             1,
             "#f0f921"
            ]
           ],
           "sequentialminus": [
            [
             0,
             "#0d0887"
            ],
            [
             0.1111111111111111,
             "#46039f"
            ],
            [
             0.2222222222222222,
             "#7201a8"
            ],
            [
             0.3333333333333333,
             "#9c179e"
            ],
            [
             0.4444444444444444,
             "#bd3786"
            ],
            [
             0.5555555555555556,
             "#d8576b"
            ],
            [
             0.6666666666666666,
             "#ed7953"
            ],
            [
             0.7777777777777778,
             "#fb9f3a"
            ],
            [
             0.8888888888888888,
             "#fdca26"
            ],
            [
             1,
             "#f0f921"
            ]
           ]
          },
          "colorway": [
           "#636efa",
           "#EF553B",
           "#00cc96",
           "#ab63fa",
           "#FFA15A",
           "#19d3f3",
           "#FF6692",
           "#B6E880",
           "#FF97FF",
           "#FECB52"
          ],
          "font": {
           "color": "#f2f5fa",
           "family": "monospace",
           "size": 14
          },
          "geo": {
           "bgcolor": "rgb(17,17,17)",
           "lakecolor": "rgb(17,17,17)",
           "landcolor": "rgb(17,17,17)",
           "showlakes": true,
           "showland": true,
           "subunitcolor": "#506784"
          },
          "hoverlabel": {
           "align": "left"
          },
          "hovermode": "closest",
          "mapbox": {
           "style": "dark"
          },
          "paper_bgcolor": "rgb(17,17,17)",
          "plot_bgcolor": "rgb(17,17,17)",
          "polar": {
           "angularaxis": {
            "gridcolor": "#506784",
            "linecolor": "#506784",
            "ticks": ""
           },
           "bgcolor": "rgb(17,17,17)",
           "radialaxis": {
            "gridcolor": "#506784",
            "linecolor": "#506784",
            "ticks": ""
           }
          },
          "scene": {
           "xaxis": {
            "backgroundcolor": "rgb(17,17,17)",
            "gridcolor": "#506784",
            "gridwidth": 2,
            "linecolor": "#506784",
            "showbackground": true,
            "ticks": "",
            "zerolinecolor": "#C8D4E3"
           },
           "yaxis": {
            "backgroundcolor": "rgb(17,17,17)",
            "gridcolor": "#506784",
            "gridwidth": 2,
            "linecolor": "#506784",
            "showbackground": true,
            "ticks": "",
            "zerolinecolor": "#C8D4E3"
           },
           "zaxis": {
            "backgroundcolor": "rgb(17,17,17)",
            "gridcolor": "#506784",
            "gridwidth": 2,
            "linecolor": "#506784",
            "showbackground": true,
            "ticks": "",
            "zerolinecolor": "#C8D4E3"
           }
          },
          "shapedefaults": {
           "line": {
            "color": "#f2f5fa"
           }
          },
          "sliderdefaults": {
           "bgcolor": "#C8D4E3",
           "bordercolor": "rgb(17,17,17)",
           "borderwidth": 1,
           "tickwidth": 0
          },
          "ternary": {
           "aaxis": {
            "gridcolor": "#506784",
            "linecolor": "#506784",
            "ticks": ""
           },
           "baxis": {
            "gridcolor": "#506784",
            "linecolor": "#506784",
            "ticks": ""
           },
           "bgcolor": "rgb(17,17,17)",
           "caxis": {
            "gridcolor": "#506784",
            "linecolor": "#506784",
            "ticks": ""
           }
          },
          "title": {
           "x": 0.05
          },
          "updatemenudefaults": {
           "bgcolor": "#506784",
           "borderwidth": 0
          },
          "xaxis": {
           "automargin": true,
           "gridcolor": "#283442",
           "linecolor": "#506784",
           "ticks": "",
           "title": {
            "standoff": 15
           },
           "zerolinecolor": "#283442",
           "zerolinewidth": 2
          },
          "yaxis": {
           "automargin": true,
           "gridcolor": "#283442",
           "linecolor": "#506784",
           "ticks": "",
           "title": {
            "standoff": 15
           },
           "zerolinecolor": "#283442",
           "zerolinewidth": 2
          }
         }
        },
        "title": {
         "text": "Resting Blood Pressure by Chest Pain Type"
        },
        "violinmode": "overlay",
        "xaxis": {
         "anchor": "y",
         "categoryarray": [
          "Typical angina",
          "Atypical angina",
          "Non-anginal pain",
          "Asymptomatic"
         ],
         "categoryorder": "array",
         "domain": [
          0,
          1
         ],
         "title": {
          "text": "chest_pain_type"
         }
        },
        "yaxis": {
         "anchor": "x",
         "domain": [
          0,
          1
         ],
         "title": {
          "text": "resting_blood_pressure"
         }
        }
       }
      }
     },
     "metadata": {},
     "output_type": "display_data"
    },
    {
     "data": {
      "application/vnd.plotly.v1+json": {
       "config": {
        "plotlyServerURL": "https://plot.ly"
       },
       "data": [
        {
         "alignmentgroup": "True",
         "box": {
          "visible": true
         },
         "hovertemplate": "fasting_blood_sugar=%{x}<br>cholestoral=%{y}<extra></extra>",
         "legendgroup": "Lower than 120 mg/ml",
         "marker": {
          "color": "#e5000c"
         },
         "name": "Lower than 120 mg/ml",
         "offsetgroup": "Lower than 120 mg/ml",
         "orientation": "v",
         "points": "all",
         "scalegroup": "True",
         "showlegend": true,
         "type": "violin",
         "x": [
          "Lower than 120 mg/ml",
          "Lower than 120 mg/ml",
          "Lower than 120 mg/ml",
          "Lower than 120 mg/ml",
          "Lower than 120 mg/ml",
          "Lower than 120 mg/ml",
          "Lower than 120 mg/ml",
          "Lower than 120 mg/ml",
          "Lower than 120 mg/ml",
          "Lower than 120 mg/ml",
          "Lower than 120 mg/ml",
          "Lower than 120 mg/ml",
          "Lower than 120 mg/ml",
          "Lower than 120 mg/ml",
          "Lower than 120 mg/ml",
          "Lower than 120 mg/ml",
          "Lower than 120 mg/ml",
          "Lower than 120 mg/ml",
          "Lower than 120 mg/ml",
          "Lower than 120 mg/ml",
          "Lower than 120 mg/ml",
          "Lower than 120 mg/ml",
          "Lower than 120 mg/ml",
          "Lower than 120 mg/ml",
          "Lower than 120 mg/ml",
          "Lower than 120 mg/ml",
          "Lower than 120 mg/ml",
          "Lower than 120 mg/ml",
          "Lower than 120 mg/ml",
          "Lower than 120 mg/ml",
          "Lower than 120 mg/ml",
          "Lower than 120 mg/ml",
          "Lower than 120 mg/ml",
          "Lower than 120 mg/ml",
          "Lower than 120 mg/ml",
          "Lower than 120 mg/ml",
          "Lower than 120 mg/ml",
          "Lower than 120 mg/ml",
          "Lower than 120 mg/ml",
          "Lower than 120 mg/ml",
          "Lower than 120 mg/ml",
          "Lower than 120 mg/ml",
          "Lower than 120 mg/ml",
          "Lower than 120 mg/ml",
          "Lower than 120 mg/ml",
          "Lower than 120 mg/ml",
          "Lower than 120 mg/ml",
          "Lower than 120 mg/ml",
          "Lower than 120 mg/ml",
          "Lower than 120 mg/ml",
          "Lower than 120 mg/ml",
          "Lower than 120 mg/ml",
          "Lower than 120 mg/ml",
          "Lower than 120 mg/ml",
          "Lower than 120 mg/ml",
          "Lower than 120 mg/ml",
          "Lower than 120 mg/ml",
          "Lower than 120 mg/ml",
          "Lower than 120 mg/ml",
          "Lower than 120 mg/ml",
          "Lower than 120 mg/ml",
          "Lower than 120 mg/ml",
          "Lower than 120 mg/ml",
          "Lower than 120 mg/ml",
          "Lower than 120 mg/ml",
          "Lower than 120 mg/ml",
          "Lower than 120 mg/ml",
          "Lower than 120 mg/ml",
          "Lower than 120 mg/ml",
          "Lower than 120 mg/ml",
          "Lower than 120 mg/ml",
          "Lower than 120 mg/ml",
          "Lower than 120 mg/ml",
          "Lower than 120 mg/ml",
          "Lower than 120 mg/ml",
          "Lower than 120 mg/ml",
          "Lower than 120 mg/ml",
          "Lower than 120 mg/ml",
          "Lower than 120 mg/ml",
          "Lower than 120 mg/ml",
          "Lower than 120 mg/ml",
          "Lower than 120 mg/ml",
          "Lower than 120 mg/ml",
          "Lower than 120 mg/ml",
          "Lower than 120 mg/ml",
          "Lower than 120 mg/ml",
          "Lower than 120 mg/ml",
          "Lower than 120 mg/ml",
          "Lower than 120 mg/ml",
          "Lower than 120 mg/ml",
          "Lower than 120 mg/ml",
          "Lower than 120 mg/ml",
          "Lower than 120 mg/ml",
          "Lower than 120 mg/ml",
          "Lower than 120 mg/ml",
          "Lower than 120 mg/ml",
          "Lower than 120 mg/ml",
          "Lower than 120 mg/ml",
          "Lower than 120 mg/ml",
          "Lower than 120 mg/ml",
          "Lower than 120 mg/ml",
          "Lower than 120 mg/ml",
          "Lower than 120 mg/ml",
          "Lower than 120 mg/ml",
          "Lower than 120 mg/ml",
          "Lower than 120 mg/ml",
          "Lower than 120 mg/ml",
          "Lower than 120 mg/ml",
          "Lower than 120 mg/ml",
          "Lower than 120 mg/ml",
          "Lower than 120 mg/ml",
          "Lower than 120 mg/ml",
          "Lower than 120 mg/ml",
          "Lower than 120 mg/ml",
          "Lower than 120 mg/ml",
          "Lower than 120 mg/ml",
          "Lower than 120 mg/ml",
          "Lower than 120 mg/ml",
          "Lower than 120 mg/ml",
          "Lower than 120 mg/ml",
          "Lower than 120 mg/ml",
          "Lower than 120 mg/ml",
          "Lower than 120 mg/ml",
          "Lower than 120 mg/ml",
          "Lower than 120 mg/ml",
          "Lower than 120 mg/ml",
          "Lower than 120 mg/ml",
          "Lower than 120 mg/ml",
          "Lower than 120 mg/ml",
          "Lower than 120 mg/ml",
          "Lower than 120 mg/ml",
          "Lower than 120 mg/ml",
          "Lower than 120 mg/ml",
          "Lower than 120 mg/ml",
          "Lower than 120 mg/ml",
          "Lower than 120 mg/ml",
          "Lower than 120 mg/ml",
          "Lower than 120 mg/ml",
          "Lower than 120 mg/ml",
          "Lower than 120 mg/ml",
          "Lower than 120 mg/ml",
          "Lower than 120 mg/ml",
          "Lower than 120 mg/ml",
          "Lower than 120 mg/ml",
          "Lower than 120 mg/ml",
          "Lower than 120 mg/ml",
          "Lower than 120 mg/ml",
          "Lower than 120 mg/ml",
          "Lower than 120 mg/ml",
          "Lower than 120 mg/ml",
          "Lower than 120 mg/ml",
          "Lower than 120 mg/ml",
          "Lower than 120 mg/ml",
          "Lower than 120 mg/ml",
          "Lower than 120 mg/ml",
          "Lower than 120 mg/ml",
          "Lower than 120 mg/ml",
          "Lower than 120 mg/ml",
          "Lower than 120 mg/ml",
          "Lower than 120 mg/ml",
          "Lower than 120 mg/ml",
          "Lower than 120 mg/ml",
          "Lower than 120 mg/ml",
          "Lower than 120 mg/ml",
          "Lower than 120 mg/ml",
          "Lower than 120 mg/ml",
          "Lower than 120 mg/ml",
          "Lower than 120 mg/ml",
          "Lower than 120 mg/ml",
          "Lower than 120 mg/ml",
          "Lower than 120 mg/ml",
          "Lower than 120 mg/ml",
          "Lower than 120 mg/ml",
          "Lower than 120 mg/ml",
          "Lower than 120 mg/ml",
          "Lower than 120 mg/ml",
          "Lower than 120 mg/ml",
          "Lower than 120 mg/ml",
          "Lower than 120 mg/ml",
          "Lower than 120 mg/ml",
          "Lower than 120 mg/ml",
          "Lower than 120 mg/ml",
          "Lower than 120 mg/ml",
          "Lower than 120 mg/ml",
          "Lower than 120 mg/ml",
          "Lower than 120 mg/ml",
          "Lower than 120 mg/ml",
          "Lower than 120 mg/ml",
          "Lower than 120 mg/ml",
          "Lower than 120 mg/ml",
          "Lower than 120 mg/ml",
          "Lower than 120 mg/ml",
          "Lower than 120 mg/ml",
          "Lower than 120 mg/ml",
          "Lower than 120 mg/ml",
          "Lower than 120 mg/ml",
          "Lower than 120 mg/ml",
          "Lower than 120 mg/ml",
          "Lower than 120 mg/ml",
          "Lower than 120 mg/ml",
          "Lower than 120 mg/ml",
          "Lower than 120 mg/ml",
          "Lower than 120 mg/ml",
          "Lower than 120 mg/ml",
          "Lower than 120 mg/ml",
          "Lower than 120 mg/ml",
          "Lower than 120 mg/ml",
          "Lower than 120 mg/ml",
          "Lower than 120 mg/ml",
          "Lower than 120 mg/ml",
          "Lower than 120 mg/ml",
          "Lower than 120 mg/ml",
          "Lower than 120 mg/ml",
          "Lower than 120 mg/ml",
          "Lower than 120 mg/ml",
          "Lower than 120 mg/ml",
          "Lower than 120 mg/ml",
          "Lower than 120 mg/ml",
          "Lower than 120 mg/ml",
          "Lower than 120 mg/ml",
          "Lower than 120 mg/ml",
          "Lower than 120 mg/ml",
          "Lower than 120 mg/ml",
          "Lower than 120 mg/ml",
          "Lower than 120 mg/ml",
          "Lower than 120 mg/ml",
          "Lower than 120 mg/ml",
          "Lower than 120 mg/ml",
          "Lower than 120 mg/ml",
          "Lower than 120 mg/ml",
          "Lower than 120 mg/ml",
          "Lower than 120 mg/ml",
          "Lower than 120 mg/ml",
          "Lower than 120 mg/ml",
          "Lower than 120 mg/ml",
          "Lower than 120 mg/ml",
          "Lower than 120 mg/ml",
          "Lower than 120 mg/ml",
          "Lower than 120 mg/ml",
          "Lower than 120 mg/ml",
          "Lower than 120 mg/ml",
          "Lower than 120 mg/ml",
          "Lower than 120 mg/ml",
          "Lower than 120 mg/ml",
          "Lower than 120 mg/ml",
          "Lower than 120 mg/ml",
          "Lower than 120 mg/ml",
          "Lower than 120 mg/ml",
          "Lower than 120 mg/ml",
          "Lower than 120 mg/ml",
          "Lower than 120 mg/ml",
          "Lower than 120 mg/ml",
          "Lower than 120 mg/ml",
          "Lower than 120 mg/ml",
          "Lower than 120 mg/ml",
          "Lower than 120 mg/ml",
          "Lower than 120 mg/ml"
         ],
         "x0": " ",
         "xaxis": "x",
         "y": [
          212,
          174,
          203,
          248,
          318,
          289,
          249,
          286,
          149,
          210,
          298,
          308,
          266,
          244,
          185,
          223,
          208,
          252,
          209,
          307,
          233,
          327,
          169,
          131,
          269,
          196,
          231,
          213,
          271,
          263,
          229,
          360,
          258,
          330,
          342,
          226,
          203,
          278,
          241,
          175,
          188,
          217,
          193,
          245,
          212,
          232,
          204,
          299,
          288,
          315,
          215,
          164,
          326,
          207,
          177,
          257,
          187,
          201,
          233,
          149,
          220,
          249,
          268,
          267,
          209,
          236,
          303,
          282,
          248,
          197,
          213,
          309,
          186,
          275,
          299,
          281,
          223,
          206,
          197,
          226,
          335,
          254,
          177,
          295,
          282,
          260,
          240,
          302,
          223,
          192,
          256,
          325,
          235,
          274,
          197,
          234,
          182,
          204,
          167,
          295,
          172,
          321,
          283,
          300,
          199,
          564,
          157,
          304,
          222,
          274,
          184,
          354,
          315,
          160,
          247,
          240,
          199,
          239,
          246,
          409,
          211,
          293,
          180,
          308,
          309,
          250,
          221,
          286,
          234,
          260,
          318,
          200,
          227,
          244,
          243,
          266,
          254,
          311,
          236,
          261,
          232,
          242,
          236,
          258,
          306,
          269,
          261,
          244,
          219,
          220,
          353,
          198,
          394,
          183,
          231,
          226,
          222,
          237,
          224,
          211,
          263,
          228,
          207,
          198,
          234,
          192,
          204,
          313,
          302,
          340,
          259,
          270,
          325,
          204,
          227,
          196,
          267,
          294,
          269,
          216,
          264,
          275,
          309,
          246,
          276,
          322,
          269,
          250,
          214,
          206,
          273,
          253,
          269,
          263,
          201,
          243,
          204,
          231,
          230,
          229,
          240,
          175,
          284,
          177,
          221,
          303,
          218,
          239,
          282,
          264,
          245,
          265,
          305,
          201,
          168,
          243,
          225,
          268,
          229,
          253,
          230,
          407,
          271,
          254,
          197,
          214,
          216,
          234,
          239,
          290,
          220,
          277,
          270,
          258,
          234,
          219,
          235,
          277,
          254,
          262,
          212,
          195,
          212,
          205,
          303,
          239,
          166,
          177,
          226,
          250,
          219,
          335,
          211,
          141,
          255,
          273,
          188
         ],
         "y0": " ",
         "yaxis": "y"
        },
        {
         "alignmentgroup": "True",
         "box": {
          "visible": true
         },
         "hovertemplate": "fasting_blood_sugar=%{x}<br>cholestoral=%{y}<extra></extra>",
         "legendgroup": "Greater than 120 mg/ml",
         "marker": {
          "color": "#e5000c"
         },
         "name": "Greater than 120 mg/ml",
         "offsetgroup": "Greater than 120 mg/ml",
         "orientation": "v",
         "points": "all",
         "scalegroup": "True",
         "showlegend": true,
         "type": "violin",
         "x": [
          "Greater than 120 mg/ml",
          "Greater than 120 mg/ml",
          "Greater than 120 mg/ml",
          "Greater than 120 mg/ml",
          "Greater than 120 mg/ml",
          "Greater than 120 mg/ml",
          "Greater than 120 mg/ml",
          "Greater than 120 mg/ml",
          "Greater than 120 mg/ml",
          "Greater than 120 mg/ml",
          "Greater than 120 mg/ml",
          "Greater than 120 mg/ml",
          "Greater than 120 mg/ml",
          "Greater than 120 mg/ml",
          "Greater than 120 mg/ml",
          "Greater than 120 mg/ml",
          "Greater than 120 mg/ml",
          "Greater than 120 mg/ml",
          "Greater than 120 mg/ml",
          "Greater than 120 mg/ml",
          "Greater than 120 mg/ml",
          "Greater than 120 mg/ml",
          "Greater than 120 mg/ml",
          "Greater than 120 mg/ml",
          "Greater than 120 mg/ml",
          "Greater than 120 mg/ml",
          "Greater than 120 mg/ml",
          "Greater than 120 mg/ml",
          "Greater than 120 mg/ml",
          "Greater than 120 mg/ml",
          "Greater than 120 mg/ml",
          "Greater than 120 mg/ml",
          "Greater than 120 mg/ml",
          "Greater than 120 mg/ml",
          "Greater than 120 mg/ml",
          "Greater than 120 mg/ml",
          "Greater than 120 mg/ml",
          "Greater than 120 mg/ml",
          "Greater than 120 mg/ml",
          "Greater than 120 mg/ml",
          "Greater than 120 mg/ml",
          "Greater than 120 mg/ml",
          "Greater than 120 mg/ml",
          "Greater than 120 mg/ml",
          "Greater than 120 mg/ml"
         ],
         "x0": " ",
         "xaxis": "x",
         "y": [
          203,
          294,
          341,
          204,
          211,
          319,
          256,
          228,
          230,
          283,
          212,
          197,
          249,
          256,
          255,
          193,
          208,
          126,
          218,
          417,
          225,
          298,
          330,
          283,
          288,
          289,
          234,
          240,
          205,
          288,
          245,
          265,
          243,
          199,
          247,
          176,
          246,
          233,
          274,
          254,
          304,
          197,
          282,
          178,
          233
         ],
         "y0": " ",
         "yaxis": "y"
        }
       ],
       "layout": {
        "font": {
         "color": "white",
         "family": "Courier New, monospace",
         "size": 14
        },
        "legend": {
         "title": {
          "text": "fasting_blood_sugar"
         },
         "tracegroupgap": 0
        },
        "margin": {
         "t": 60
        },
        "showlegend": false,
        "template": {
         "data": {
          "bar": [
           {
            "error_x": {
             "color": "#f2f5fa"
            },
            "error_y": {
             "color": "#f2f5fa"
            },
            "marker": {
             "line": {
              "color": "rgb(17,17,17)",
              "width": 0.5
             },
             "pattern": {
              "fillmode": "overlay",
              "size": 10,
              "solidity": 0.2
             }
            },
            "type": "bar"
           }
          ],
          "barpolar": [
           {
            "marker": {
             "line": {
              "color": "rgb(17,17,17)",
              "width": 0.5
             },
             "pattern": {
              "fillmode": "overlay",
              "size": 10,
              "solidity": 0.2
             }
            },
            "type": "barpolar"
           }
          ],
          "carpet": [
           {
            "aaxis": {
             "endlinecolor": "#A2B1C6",
             "gridcolor": "#506784",
             "linecolor": "#506784",
             "minorgridcolor": "#506784",
             "startlinecolor": "#A2B1C6"
            },
            "baxis": {
             "endlinecolor": "#A2B1C6",
             "gridcolor": "#506784",
             "linecolor": "#506784",
             "minorgridcolor": "#506784",
             "startlinecolor": "#A2B1C6"
            },
            "type": "carpet"
           }
          ],
          "choropleth": [
           {
            "colorbar": {
             "outlinewidth": 0,
             "ticks": ""
            },
            "type": "choropleth"
           }
          ],
          "contour": [
           {
            "colorbar": {
             "outlinewidth": 0,
             "ticks": ""
            },
            "colorscale": [
             [
              0,
              "#0d0887"
             ],
             [
              0.1111111111111111,
              "#46039f"
             ],
             [
              0.2222222222222222,
              "#7201a8"
             ],
             [
              0.3333333333333333,
              "#9c179e"
             ],
             [
              0.4444444444444444,
              "#bd3786"
             ],
             [
              0.5555555555555556,
              "#d8576b"
             ],
             [
              0.6666666666666666,
              "#ed7953"
             ],
             [
              0.7777777777777778,
              "#fb9f3a"
             ],
             [
              0.8888888888888888,
              "#fdca26"
             ],
             [
              1,
              "#f0f921"
             ]
            ],
            "type": "contour"
           }
          ],
          "contourcarpet": [
           {
            "colorbar": {
             "outlinewidth": 0,
             "ticks": ""
            },
            "type": "contourcarpet"
           }
          ],
          "heatmap": [
           {
            "colorbar": {
             "outlinewidth": 0,
             "ticks": ""
            },
            "colorscale": [
             [
              0,
              "#0d0887"
             ],
             [
              0.1111111111111111,
              "#46039f"
             ],
             [
              0.2222222222222222,
              "#7201a8"
             ],
             [
              0.3333333333333333,
              "#9c179e"
             ],
             [
              0.4444444444444444,
              "#bd3786"
             ],
             [
              0.5555555555555556,
              "#d8576b"
             ],
             [
              0.6666666666666666,
              "#ed7953"
             ],
             [
              0.7777777777777778,
              "#fb9f3a"
             ],
             [
              0.8888888888888888,
              "#fdca26"
             ],
             [
              1,
              "#f0f921"
             ]
            ],
            "type": "heatmap"
           }
          ],
          "heatmapgl": [
           {
            "colorbar": {
             "outlinewidth": 0,
             "ticks": ""
            },
            "colorscale": [
             [
              0,
              "#0d0887"
             ],
             [
              0.1111111111111111,
              "#46039f"
             ],
             [
              0.2222222222222222,
              "#7201a8"
             ],
             [
              0.3333333333333333,
              "#9c179e"
             ],
             [
              0.4444444444444444,
              "#bd3786"
             ],
             [
              0.5555555555555556,
              "#d8576b"
             ],
             [
              0.6666666666666666,
              "#ed7953"
             ],
             [
              0.7777777777777778,
              "#fb9f3a"
             ],
             [
              0.8888888888888888,
              "#fdca26"
             ],
             [
              1,
              "#f0f921"
             ]
            ],
            "type": "heatmapgl"
           }
          ],
          "histogram": [
           {
            "marker": {
             "pattern": {
              "fillmode": "overlay",
              "size": 10,
              "solidity": 0.2
             }
            },
            "type": "histogram"
           }
          ],
          "histogram2d": [
           {
            "colorbar": {
             "outlinewidth": 0,
             "ticks": ""
            },
            "colorscale": [
             [
              0,
              "#0d0887"
             ],
             [
              0.1111111111111111,
              "#46039f"
             ],
             [
              0.2222222222222222,
              "#7201a8"
             ],
             [
              0.3333333333333333,
              "#9c179e"
             ],
             [
              0.4444444444444444,
              "#bd3786"
             ],
             [
              0.5555555555555556,
              "#d8576b"
             ],
             [
              0.6666666666666666,
              "#ed7953"
             ],
             [
              0.7777777777777778,
              "#fb9f3a"
             ],
             [
              0.8888888888888888,
              "#fdca26"
             ],
             [
              1,
              "#f0f921"
             ]
            ],
            "type": "histogram2d"
           }
          ],
          "histogram2dcontour": [
           {
            "colorbar": {
             "outlinewidth": 0,
             "ticks": ""
            },
            "colorscale": [
             [
              0,
              "#0d0887"
             ],
             [
              0.1111111111111111,
              "#46039f"
             ],
             [
              0.2222222222222222,
              "#7201a8"
             ],
             [
              0.3333333333333333,
              "#9c179e"
             ],
             [
              0.4444444444444444,
              "#bd3786"
             ],
             [
              0.5555555555555556,
              "#d8576b"
             ],
             [
              0.6666666666666666,
              "#ed7953"
             ],
             [
              0.7777777777777778,
              "#fb9f3a"
             ],
             [
              0.8888888888888888,
              "#fdca26"
             ],
             [
              1,
              "#f0f921"
             ]
            ],
            "type": "histogram2dcontour"
           }
          ],
          "mesh3d": [
           {
            "colorbar": {
             "outlinewidth": 0,
             "ticks": ""
            },
            "type": "mesh3d"
           }
          ],
          "parcoords": [
           {
            "line": {
             "colorbar": {
              "outlinewidth": 0,
              "ticks": ""
             }
            },
            "type": "parcoords"
           }
          ],
          "pie": [
           {
            "automargin": true,
            "type": "pie"
           }
          ],
          "scatter": [
           {
            "marker": {
             "line": {
              "color": "#283442"
             }
            },
            "type": "scatter"
           }
          ],
          "scatter3d": [
           {
            "line": {
             "colorbar": {
              "outlinewidth": 0,
              "ticks": ""
             }
            },
            "marker": {
             "colorbar": {
              "outlinewidth": 0,
              "ticks": ""
             }
            },
            "type": "scatter3d"
           }
          ],
          "scattercarpet": [
           {
            "marker": {
             "colorbar": {
              "outlinewidth": 0,
              "ticks": ""
             }
            },
            "type": "scattercarpet"
           }
          ],
          "scattergeo": [
           {
            "marker": {
             "colorbar": {
              "outlinewidth": 0,
              "ticks": ""
             }
            },
            "type": "scattergeo"
           }
          ],
          "scattergl": [
           {
            "marker": {
             "line": {
              "color": "#283442"
             }
            },
            "type": "scattergl"
           }
          ],
          "scattermapbox": [
           {
            "marker": {
             "colorbar": {
              "outlinewidth": 0,
              "ticks": ""
             }
            },
            "type": "scattermapbox"
           }
          ],
          "scatterpolar": [
           {
            "marker": {
             "colorbar": {
              "outlinewidth": 0,
              "ticks": ""
             }
            },
            "type": "scatterpolar"
           }
          ],
          "scatterpolargl": [
           {
            "marker": {
             "colorbar": {
              "outlinewidth": 0,
              "ticks": ""
             }
            },
            "type": "scatterpolargl"
           }
          ],
          "scatterternary": [
           {
            "marker": {
             "colorbar": {
              "outlinewidth": 0,
              "ticks": ""
             }
            },
            "type": "scatterternary"
           }
          ],
          "surface": [
           {
            "colorbar": {
             "outlinewidth": 0,
             "ticks": ""
            },
            "colorscale": [
             [
              0,
              "#0d0887"
             ],
             [
              0.1111111111111111,
              "#46039f"
             ],
             [
              0.2222222222222222,
              "#7201a8"
             ],
             [
              0.3333333333333333,
              "#9c179e"
             ],
             [
              0.4444444444444444,
              "#bd3786"
             ],
             [
              0.5555555555555556,
              "#d8576b"
             ],
             [
              0.6666666666666666,
              "#ed7953"
             ],
             [
              0.7777777777777778,
              "#fb9f3a"
             ],
             [
              0.8888888888888888,
              "#fdca26"
             ],
             [
              1,
              "#f0f921"
             ]
            ],
            "type": "surface"
           }
          ],
          "table": [
           {
            "cells": {
             "fill": {
              "color": "#506784"
             },
             "line": {
              "color": "rgb(17,17,17)"
             }
            },
            "header": {
             "fill": {
              "color": "#2a3f5f"
             },
             "line": {
              "color": "rgb(17,17,17)"
             }
            },
            "type": "table"
           }
          ]
         },
         "layout": {
          "annotationdefaults": {
           "arrowcolor": "#f2f5fa",
           "arrowhead": 0,
           "arrowwidth": 1
          },
          "autotypenumbers": "strict",
          "coloraxis": {
           "colorbar": {
            "outlinewidth": 0,
            "ticks": ""
           }
          },
          "colorscale": {
           "diverging": [
            [
             0,
             "#8e0152"
            ],
            [
             0.1,
             "#c51b7d"
            ],
            [
             0.2,
             "#de77ae"
            ],
            [
             0.3,
             "#f1b6da"
            ],
            [
             0.4,
             "#fde0ef"
            ],
            [
             0.5,
             "#f7f7f7"
            ],
            [
             0.6,
             "#e6f5d0"
            ],
            [
             0.7,
             "#b8e186"
            ],
            [
             0.8,
             "#7fbc41"
            ],
            [
             0.9,
             "#4d9221"
            ],
            [
             1,
             "#276419"
            ]
           ],
           "sequential": [
            [
             0,
             "#0d0887"
            ],
            [
             0.1111111111111111,
             "#46039f"
            ],
            [
             0.2222222222222222,
             "#7201a8"
            ],
            [
             0.3333333333333333,
             "#9c179e"
            ],
            [
             0.4444444444444444,
             "#bd3786"
            ],
            [
             0.5555555555555556,
             "#d8576b"
            ],
            [
             0.6666666666666666,
             "#ed7953"
            ],
            [
             0.7777777777777778,
             "#fb9f3a"
            ],
            [
             0.8888888888888888,
             "#fdca26"
            ],
            [
             1,
             "#f0f921"
            ]
           ],
           "sequentialminus": [
            [
             0,
             "#0d0887"
            ],
            [
             0.1111111111111111,
             "#46039f"
            ],
            [
             0.2222222222222222,
             "#7201a8"
            ],
            [
             0.3333333333333333,
             "#9c179e"
            ],
            [
             0.4444444444444444,
             "#bd3786"
            ],
            [
             0.5555555555555556,
             "#d8576b"
            ],
            [
             0.6666666666666666,
             "#ed7953"
            ],
            [
             0.7777777777777778,
             "#fb9f3a"
            ],
            [
             0.8888888888888888,
             "#fdca26"
            ],
            [
             1,
             "#f0f921"
            ]
           ]
          },
          "colorway": [
           "#636efa",
           "#EF553B",
           "#00cc96",
           "#ab63fa",
           "#FFA15A",
           "#19d3f3",
           "#FF6692",
           "#B6E880",
           "#FF97FF",
           "#FECB52"
          ],
          "font": {
           "color": "#f2f5fa",
           "family": "monospace",
           "size": 14
          },
          "geo": {
           "bgcolor": "rgb(17,17,17)",
           "lakecolor": "rgb(17,17,17)",
           "landcolor": "rgb(17,17,17)",
           "showlakes": true,
           "showland": true,
           "subunitcolor": "#506784"
          },
          "hoverlabel": {
           "align": "left"
          },
          "hovermode": "closest",
          "mapbox": {
           "style": "dark"
          },
          "paper_bgcolor": "rgb(17,17,17)",
          "plot_bgcolor": "rgb(17,17,17)",
          "polar": {
           "angularaxis": {
            "gridcolor": "#506784",
            "linecolor": "#506784",
            "ticks": ""
           },
           "bgcolor": "rgb(17,17,17)",
           "radialaxis": {
            "gridcolor": "#506784",
            "linecolor": "#506784",
            "ticks": ""
           }
          },
          "scene": {
           "xaxis": {
            "backgroundcolor": "rgb(17,17,17)",
            "gridcolor": "#506784",
            "gridwidth": 2,
            "linecolor": "#506784",
            "showbackground": true,
            "ticks": "",
            "zerolinecolor": "#C8D4E3"
           },
           "yaxis": {
            "backgroundcolor": "rgb(17,17,17)",
            "gridcolor": "#506784",
            "gridwidth": 2,
            "linecolor": "#506784",
            "showbackground": true,
            "ticks": "",
            "zerolinecolor": "#C8D4E3"
           },
           "zaxis": {
            "backgroundcolor": "rgb(17,17,17)",
            "gridcolor": "#506784",
            "gridwidth": 2,
            "linecolor": "#506784",
            "showbackground": true,
            "ticks": "",
            "zerolinecolor": "#C8D4E3"
           }
          },
          "shapedefaults": {
           "line": {
            "color": "#f2f5fa"
           }
          },
          "sliderdefaults": {
           "bgcolor": "#C8D4E3",
           "bordercolor": "rgb(17,17,17)",
           "borderwidth": 1,
           "tickwidth": 0
          },
          "ternary": {
           "aaxis": {
            "gridcolor": "#506784",
            "linecolor": "#506784",
            "ticks": ""
           },
           "baxis": {
            "gridcolor": "#506784",
            "linecolor": "#506784",
            "ticks": ""
           },
           "bgcolor": "rgb(17,17,17)",
           "caxis": {
            "gridcolor": "#506784",
            "linecolor": "#506784",
            "ticks": ""
           }
          },
          "title": {
           "x": 0.05
          },
          "updatemenudefaults": {
           "bgcolor": "#506784",
           "borderwidth": 0
          },
          "xaxis": {
           "automargin": true,
           "gridcolor": "#283442",
           "linecolor": "#506784",
           "ticks": "",
           "title": {
            "standoff": 15
           },
           "zerolinecolor": "#283442",
           "zerolinewidth": 2
          },
          "yaxis": {
           "automargin": true,
           "gridcolor": "#283442",
           "linecolor": "#506784",
           "ticks": "",
           "title": {
            "standoff": 15
           },
           "zerolinecolor": "#283442",
           "zerolinewidth": 2
          }
         }
        },
        "title": {
         "text": "Cholesterol Levels by Fasting Blood Sugar Levels"
        },
        "violinmode": "overlay",
        "xaxis": {
         "anchor": "y",
         "categoryarray": [
          "Lower than 120 mg/ml",
          "Greater than 120 mg/ml"
         ],
         "categoryorder": "array",
         "domain": [
          0,
          1
         ],
         "title": {
          "text": "fasting_blood_sugar"
         }
        },
        "yaxis": {
         "anchor": "x",
         "domain": [
          0,
          1
         ],
         "title": {
          "text": "cholestoral"
         }
        }
       }
      }
     },
     "metadata": {},
     "output_type": "display_data"
    },
    {
     "data": {
      "application/vnd.plotly.v1+json": {
       "config": {
        "plotlyServerURL": "https://plot.ly"
       },
       "data": [
        {
         "alignmentgroup": "True",
         "box": {
          "visible": true
         },
         "hovertemplate": "rest_ecg=%{x}<br>Max_heart_rate=%{y}<extra></extra>",
         "legendgroup": "ST-T wave abnormality",
         "marker": {
          "color": "#784283"
         },
         "name": "ST-T wave abnormality",
         "offsetgroup": "ST-T wave abnormality",
         "orientation": "v",
         "points": "all",
         "scalegroup": "True",
         "showlegend": true,
         "type": "violin",
         "x": [
          "ST-T wave abnormality",
          "ST-T wave abnormality",
          "ST-T wave abnormality",
          "ST-T wave abnormality",
          "ST-T wave abnormality",
          "ST-T wave abnormality",
          "ST-T wave abnormality",
          "ST-T wave abnormality",
          "ST-T wave abnormality",
          "ST-T wave abnormality",
          "ST-T wave abnormality",
          "ST-T wave abnormality",
          "ST-T wave abnormality",
          "ST-T wave abnormality",
          "ST-T wave abnormality",
          "ST-T wave abnormality",
          "ST-T wave abnormality",
          "ST-T wave abnormality",
          "ST-T wave abnormality",
          "ST-T wave abnormality",
          "ST-T wave abnormality",
          "ST-T wave abnormality",
          "ST-T wave abnormality",
          "ST-T wave abnormality",
          "ST-T wave abnormality",
          "ST-T wave abnormality",
          "ST-T wave abnormality",
          "ST-T wave abnormality",
          "ST-T wave abnormality",
          "ST-T wave abnormality",
          "ST-T wave abnormality",
          "ST-T wave abnormality",
          "ST-T wave abnormality",
          "ST-T wave abnormality",
          "ST-T wave abnormality",
          "ST-T wave abnormality",
          "ST-T wave abnormality",
          "ST-T wave abnormality",
          "ST-T wave abnormality",
          "ST-T wave abnormality",
          "ST-T wave abnormality",
          "ST-T wave abnormality",
          "ST-T wave abnormality",
          "ST-T wave abnormality",
          "ST-T wave abnormality",
          "ST-T wave abnormality",
          "ST-T wave abnormality",
          "ST-T wave abnormality",
          "ST-T wave abnormality",
          "ST-T wave abnormality",
          "ST-T wave abnormality",
          "ST-T wave abnormality",
          "ST-T wave abnormality",
          "ST-T wave abnormality",
          "ST-T wave abnormality",
          "ST-T wave abnormality",
          "ST-T wave abnormality",
          "ST-T wave abnormality",
          "ST-T wave abnormality",
          "ST-T wave abnormality",
          "ST-T wave abnormality",
          "ST-T wave abnormality",
          "ST-T wave abnormality",
          "ST-T wave abnormality",
          "ST-T wave abnormality",
          "ST-T wave abnormality",
          "ST-T wave abnormality",
          "ST-T wave abnormality",
          "ST-T wave abnormality",
          "ST-T wave abnormality",
          "ST-T wave abnormality",
          "ST-T wave abnormality",
          "ST-T wave abnormality",
          "ST-T wave abnormality",
          "ST-T wave abnormality",
          "ST-T wave abnormality",
          "ST-T wave abnormality",
          "ST-T wave abnormality",
          "ST-T wave abnormality",
          "ST-T wave abnormality",
          "ST-T wave abnormality",
          "ST-T wave abnormality",
          "ST-T wave abnormality",
          "ST-T wave abnormality",
          "ST-T wave abnormality",
          "ST-T wave abnormality",
          "ST-T wave abnormality",
          "ST-T wave abnormality",
          "ST-T wave abnormality",
          "ST-T wave abnormality",
          "ST-T wave abnormality",
          "ST-T wave abnormality",
          "ST-T wave abnormality",
          "ST-T wave abnormality",
          "ST-T wave abnormality",
          "ST-T wave abnormality",
          "ST-T wave abnormality",
          "ST-T wave abnormality",
          "ST-T wave abnormality",
          "ST-T wave abnormality",
          "ST-T wave abnormality",
          "ST-T wave abnormality",
          "ST-T wave abnormality",
          "ST-T wave abnormality",
          "ST-T wave abnormality",
          "ST-T wave abnormality",
          "ST-T wave abnormality",
          "ST-T wave abnormality",
          "ST-T wave abnormality",
          "ST-T wave abnormality",
          "ST-T wave abnormality",
          "ST-T wave abnormality",
          "ST-T wave abnormality",
          "ST-T wave abnormality",
          "ST-T wave abnormality",
          "ST-T wave abnormality",
          "ST-T wave abnormality",
          "ST-T wave abnormality",
          "ST-T wave abnormality",
          "ST-T wave abnormality",
          "ST-T wave abnormality",
          "ST-T wave abnormality",
          "ST-T wave abnormality",
          "ST-T wave abnormality",
          "ST-T wave abnormality",
          "ST-T wave abnormality",
          "ST-T wave abnormality",
          "ST-T wave abnormality",
          "ST-T wave abnormality",
          "ST-T wave abnormality",
          "ST-T wave abnormality",
          "ST-T wave abnormality",
          "ST-T wave abnormality",
          "ST-T wave abnormality",
          "ST-T wave abnormality",
          "ST-T wave abnormality",
          "ST-T wave abnormality",
          "ST-T wave abnormality",
          "ST-T wave abnormality",
          "ST-T wave abnormality",
          "ST-T wave abnormality",
          "ST-T wave abnormality",
          "ST-T wave abnormality",
          "ST-T wave abnormality",
          "ST-T wave abnormality",
          "ST-T wave abnormality",
          "ST-T wave abnormality",
          "ST-T wave abnormality",
          "ST-T wave abnormality",
          "ST-T wave abnormality",
          "ST-T wave abnormality"
         ],
         "x0": " ",
         "xaxis": "x",
         "y": [
          168,
          125,
          161,
          106,
          125,
          192,
          122,
          156,
          162,
          142,
          173,
          179,
          144,
          115,
          112,
          163,
          147,
          105,
          166,
          178,
          132,
          165,
          160,
          123,
          173,
          139,
          111,
          157,
          125,
          170,
          162,
          175,
          158,
          163,
          170,
          143,
          141,
          163,
          95,
          165,
          173,
          156,
          173,
          181,
          143,
          134,
          162,
          140,
          171,
          169,
          148,
          154,
          153,
          88,
          136,
          145,
          143,
          178,
          178,
          182,
          143,
          163,
          162,
          138,
          171,
          169,
          179,
          126,
          150,
          131,
          179,
          156,
          160,
          194,
          171,
          120,
          149,
          184,
          178,
          163,
          163,
          141,
          154,
          152,
          132,
          130,
          182,
          182,
          169,
          71,
          161,
          173,
          168,
          168,
          174,
          133,
          162,
          172,
          137,
          172,
          172,
          154,
          99,
          139,
          120,
          169,
          187,
          158,
          144,
          148,
          162,
          97,
          126,
          162,
          146,
          168,
          123,
          164,
          122,
          105,
          132,
          142,
          163,
          174,
          152,
          179,
          160,
          162,
          131,
          161,
          160,
          144,
          172,
          158,
          151,
          163,
          170,
          156,
          155,
          179,
          181,
          151,
          140,
          114,
          140,
          96,
          147,
          158,
          175,
          161,
          113
         ],
         "y0": " ",
         "yaxis": "y"
        },
        {
         "alignmentgroup": "True",
         "box": {
          "visible": true
         },
         "hovertemplate": "rest_ecg=%{x}<br>Max_heart_rate=%{y}<extra></extra>",
         "legendgroup": "Normal",
         "marker": {
          "color": "#784283"
         },
         "name": "Normal",
         "offsetgroup": "Normal",
         "orientation": "v",
         "points": "all",
         "scalegroup": "True",
         "showlegend": true,
         "type": "violin",
         "x": [
          "Normal",
          "Normal",
          "Normal",
          "Normal",
          "Normal",
          "Normal",
          "Normal",
          "Normal",
          "Normal",
          "Normal",
          "Normal",
          "Normal",
          "Normal",
          "Normal",
          "Normal",
          "Normal",
          "Normal",
          "Normal",
          "Normal",
          "Normal",
          "Normal",
          "Normal",
          "Normal",
          "Normal",
          "Normal",
          "Normal",
          "Normal",
          "Normal",
          "Normal",
          "Normal",
          "Normal",
          "Normal",
          "Normal",
          "Normal",
          "Normal",
          "Normal",
          "Normal",
          "Normal",
          "Normal",
          "Normal",
          "Normal",
          "Normal",
          "Normal",
          "Normal",
          "Normal",
          "Normal",
          "Normal",
          "Normal",
          "Normal",
          "Normal",
          "Normal",
          "Normal",
          "Normal",
          "Normal",
          "Normal",
          "Normal",
          "Normal",
          "Normal",
          "Normal",
          "Normal",
          "Normal",
          "Normal",
          "Normal",
          "Normal",
          "Normal",
          "Normal",
          "Normal",
          "Normal",
          "Normal",
          "Normal",
          "Normal",
          "Normal",
          "Normal",
          "Normal",
          "Normal",
          "Normal",
          "Normal",
          "Normal",
          "Normal",
          "Normal",
          "Normal",
          "Normal",
          "Normal",
          "Normal",
          "Normal",
          "Normal",
          "Normal",
          "Normal",
          "Normal",
          "Normal",
          "Normal",
          "Normal",
          "Normal",
          "Normal",
          "Normal",
          "Normal",
          "Normal",
          "Normal",
          "Normal",
          "Normal",
          "Normal",
          "Normal",
          "Normal",
          "Normal",
          "Normal",
          "Normal",
          "Normal",
          "Normal",
          "Normal",
          "Normal",
          "Normal",
          "Normal",
          "Normal",
          "Normal",
          "Normal",
          "Normal",
          "Normal",
          "Normal",
          "Normal",
          "Normal",
          "Normal",
          "Normal",
          "Normal",
          "Normal",
          "Normal",
          "Normal",
          "Normal",
          "Normal",
          "Normal",
          "Normal",
          "Normal",
          "Normal",
          "Normal",
          "Normal",
          "Normal",
          "Normal",
          "Normal",
          "Normal",
          "Normal",
          "Normal",
          "Normal",
          "Normal",
          "Normal",
          "Normal",
          "Normal",
          "Normal",
          "Normal"
         ],
         "x0": " ",
         "xaxis": "x",
         "y": [
          155,
          122,
          145,
          144,
          116,
          136,
          142,
          109,
          165,
          155,
          148,
          172,
          146,
          152,
          142,
          125,
          182,
          150,
          151,
          147,
          169,
          152,
          162,
          162,
          180,
          150,
          164,
          202,
          125,
          159,
          152,
          145,
          140,
          138,
          144,
          150,
          156,
          144,
          126,
          160,
          167,
          140,
          152,
          159,
          158,
          190,
          118,
          103,
          108,
          177,
          111,
          147,
          120,
          142,
          157,
          151,
          149,
          146,
          174,
          114,
          157,
          158,
          182,
          195,
          171,
          132,
          160,
          162,
          166,
          105,
          103,
          133,
          96,
          150,
          144,
          170,
          170,
          124,
          163,
          131,
          108,
          185,
          126,
          155,
          178,
          128,
          127,
          174,
          186,
          165,
          141,
          159,
          166,
          188,
          157,
          186,
          173,
          130,
          138,
          175,
          172,
          130,
          111,
          169,
          153,
          121,
          115,
          143,
          147,
          112,
          109,
          132,
          152,
          143,
          152,
          90,
          173,
          165,
          154,
          160,
          160,
          142,
          156,
          150,
          150,
          143,
          122,
          114,
          172,
          129,
          154,
          146,
          168,
          131,
          153,
          145,
          157,
          160,
          180,
          159,
          132,
          132,
          174,
          125,
          161,
          115,
          125
         ],
         "y0": " ",
         "yaxis": "y"
        },
        {
         "alignmentgroup": "True",
         "box": {
          "visible": true
         },
         "hovertemplate": "rest_ecg=%{x}<br>Max_heart_rate=%{y}<extra></extra>",
         "legendgroup": "Left ventricular hypertrophy",
         "marker": {
          "color": "#784283"
         },
         "name": "Left ventricular hypertrophy",
         "offsetgroup": "Left ventricular hypertrophy",
         "orientation": "v",
         "points": "all",
         "scalegroup": "True",
         "showlegend": true,
         "type": "violin",
         "x": [
          "Left ventricular hypertrophy",
          "Left ventricular hypertrophy",
          "Left ventricular hypertrophy",
          "Left ventricular hypertrophy"
         ],
         "x0": " ",
         "xaxis": "x",
         "y": [
          140,
          117,
          116,
          130
         ],
         "y0": " ",
         "yaxis": "y"
        }
       ],
       "layout": {
        "font": {
         "color": "white",
         "family": "Courier New, monospace",
         "size": 14
        },
        "legend": {
         "title": {
          "text": "rest_ecg"
         },
         "tracegroupgap": 0
        },
        "margin": {
         "t": 60
        },
        "showlegend": false,
        "template": {
         "data": {
          "bar": [
           {
            "error_x": {
             "color": "#f2f5fa"
            },
            "error_y": {
             "color": "#f2f5fa"
            },
            "marker": {
             "line": {
              "color": "rgb(17,17,17)",
              "width": 0.5
             },
             "pattern": {
              "fillmode": "overlay",
              "size": 10,
              "solidity": 0.2
             }
            },
            "type": "bar"
           }
          ],
          "barpolar": [
           {
            "marker": {
             "line": {
              "color": "rgb(17,17,17)",
              "width": 0.5
             },
             "pattern": {
              "fillmode": "overlay",
              "size": 10,
              "solidity": 0.2
             }
            },
            "type": "barpolar"
           }
          ],
          "carpet": [
           {
            "aaxis": {
             "endlinecolor": "#A2B1C6",
             "gridcolor": "#506784",
             "linecolor": "#506784",
             "minorgridcolor": "#506784",
             "startlinecolor": "#A2B1C6"
            },
            "baxis": {
             "endlinecolor": "#A2B1C6",
             "gridcolor": "#506784",
             "linecolor": "#506784",
             "minorgridcolor": "#506784",
             "startlinecolor": "#A2B1C6"
            },
            "type": "carpet"
           }
          ],
          "choropleth": [
           {
            "colorbar": {
             "outlinewidth": 0,
             "ticks": ""
            },
            "type": "choropleth"
           }
          ],
          "contour": [
           {
            "colorbar": {
             "outlinewidth": 0,
             "ticks": ""
            },
            "colorscale": [
             [
              0,
              "#0d0887"
             ],
             [
              0.1111111111111111,
              "#46039f"
             ],
             [
              0.2222222222222222,
              "#7201a8"
             ],
             [
              0.3333333333333333,
              "#9c179e"
             ],
             [
              0.4444444444444444,
              "#bd3786"
             ],
             [
              0.5555555555555556,
              "#d8576b"
             ],
             [
              0.6666666666666666,
              "#ed7953"
             ],
             [
              0.7777777777777778,
              "#fb9f3a"
             ],
             [
              0.8888888888888888,
              "#fdca26"
             ],
             [
              1,
              "#f0f921"
             ]
            ],
            "type": "contour"
           }
          ],
          "contourcarpet": [
           {
            "colorbar": {
             "outlinewidth": 0,
             "ticks": ""
            },
            "type": "contourcarpet"
           }
          ],
          "heatmap": [
           {
            "colorbar": {
             "outlinewidth": 0,
             "ticks": ""
            },
            "colorscale": [
             [
              0,
              "#0d0887"
             ],
             [
              0.1111111111111111,
              "#46039f"
             ],
             [
              0.2222222222222222,
              "#7201a8"
             ],
             [
              0.3333333333333333,
              "#9c179e"
             ],
             [
              0.4444444444444444,
              "#bd3786"
             ],
             [
              0.5555555555555556,
              "#d8576b"
             ],
             [
              0.6666666666666666,
              "#ed7953"
             ],
             [
              0.7777777777777778,
              "#fb9f3a"
             ],
             [
              0.8888888888888888,
              "#fdca26"
             ],
             [
              1,
              "#f0f921"
             ]
            ],
            "type": "heatmap"
           }
          ],
          "heatmapgl": [
           {
            "colorbar": {
             "outlinewidth": 0,
             "ticks": ""
            },
            "colorscale": [
             [
              0,
              "#0d0887"
             ],
             [
              0.1111111111111111,
              "#46039f"
             ],
             [
              0.2222222222222222,
              "#7201a8"
             ],
             [
              0.3333333333333333,
              "#9c179e"
             ],
             [
              0.4444444444444444,
              "#bd3786"
             ],
             [
              0.5555555555555556,
              "#d8576b"
             ],
             [
              0.6666666666666666,
              "#ed7953"
             ],
             [
              0.7777777777777778,
              "#fb9f3a"
             ],
             [
              0.8888888888888888,
              "#fdca26"
             ],
             [
              1,
              "#f0f921"
             ]
            ],
            "type": "heatmapgl"
           }
          ],
          "histogram": [
           {
            "marker": {
             "pattern": {
              "fillmode": "overlay",
              "size": 10,
              "solidity": 0.2
             }
            },
            "type": "histogram"
           }
          ],
          "histogram2d": [
           {
            "colorbar": {
             "outlinewidth": 0,
             "ticks": ""
            },
            "colorscale": [
             [
              0,
              "#0d0887"
             ],
             [
              0.1111111111111111,
              "#46039f"
             ],
             [
              0.2222222222222222,
              "#7201a8"
             ],
             [
              0.3333333333333333,
              "#9c179e"
             ],
             [
              0.4444444444444444,
              "#bd3786"
             ],
             [
              0.5555555555555556,
              "#d8576b"
             ],
             [
              0.6666666666666666,
              "#ed7953"
             ],
             [
              0.7777777777777778,
              "#fb9f3a"
             ],
             [
              0.8888888888888888,
              "#fdca26"
             ],
             [
              1,
              "#f0f921"
             ]
            ],
            "type": "histogram2d"
           }
          ],
          "histogram2dcontour": [
           {
            "colorbar": {
             "outlinewidth": 0,
             "ticks": ""
            },
            "colorscale": [
             [
              0,
              "#0d0887"
             ],
             [
              0.1111111111111111,
              "#46039f"
             ],
             [
              0.2222222222222222,
              "#7201a8"
             ],
             [
              0.3333333333333333,
              "#9c179e"
             ],
             [
              0.4444444444444444,
              "#bd3786"
             ],
             [
              0.5555555555555556,
              "#d8576b"
             ],
             [
              0.6666666666666666,
              "#ed7953"
             ],
             [
              0.7777777777777778,
              "#fb9f3a"
             ],
             [
              0.8888888888888888,
              "#fdca26"
             ],
             [
              1,
              "#f0f921"
             ]
            ],
            "type": "histogram2dcontour"
           }
          ],
          "mesh3d": [
           {
            "colorbar": {
             "outlinewidth": 0,
             "ticks": ""
            },
            "type": "mesh3d"
           }
          ],
          "parcoords": [
           {
            "line": {
             "colorbar": {
              "outlinewidth": 0,
              "ticks": ""
             }
            },
            "type": "parcoords"
           }
          ],
          "pie": [
           {
            "automargin": true,
            "type": "pie"
           }
          ],
          "scatter": [
           {
            "marker": {
             "line": {
              "color": "#283442"
             }
            },
            "type": "scatter"
           }
          ],
          "scatter3d": [
           {
            "line": {
             "colorbar": {
              "outlinewidth": 0,
              "ticks": ""
             }
            },
            "marker": {
             "colorbar": {
              "outlinewidth": 0,
              "ticks": ""
             }
            },
            "type": "scatter3d"
           }
          ],
          "scattercarpet": [
           {
            "marker": {
             "colorbar": {
              "outlinewidth": 0,
              "ticks": ""
             }
            },
            "type": "scattercarpet"
           }
          ],
          "scattergeo": [
           {
            "marker": {
             "colorbar": {
              "outlinewidth": 0,
              "ticks": ""
             }
            },
            "type": "scattergeo"
           }
          ],
          "scattergl": [
           {
            "marker": {
             "line": {
              "color": "#283442"
             }
            },
            "type": "scattergl"
           }
          ],
          "scattermapbox": [
           {
            "marker": {
             "colorbar": {
              "outlinewidth": 0,
              "ticks": ""
             }
            },
            "type": "scattermapbox"
           }
          ],
          "scatterpolar": [
           {
            "marker": {
             "colorbar": {
              "outlinewidth": 0,
              "ticks": ""
             }
            },
            "type": "scatterpolar"
           }
          ],
          "scatterpolargl": [
           {
            "marker": {
             "colorbar": {
              "outlinewidth": 0,
              "ticks": ""
             }
            },
            "type": "scatterpolargl"
           }
          ],
          "scatterternary": [
           {
            "marker": {
             "colorbar": {
              "outlinewidth": 0,
              "ticks": ""
             }
            },
            "type": "scatterternary"
           }
          ],
          "surface": [
           {
            "colorbar": {
             "outlinewidth": 0,
             "ticks": ""
            },
            "colorscale": [
             [
              0,
              "#0d0887"
             ],
             [
              0.1111111111111111,
              "#46039f"
             ],
             [
              0.2222222222222222,
              "#7201a8"
             ],
             [
              0.3333333333333333,
              "#9c179e"
             ],
             [
              0.4444444444444444,
              "#bd3786"
             ],
             [
              0.5555555555555556,
              "#d8576b"
             ],
             [
              0.6666666666666666,
              "#ed7953"
             ],
             [
              0.7777777777777778,
              "#fb9f3a"
             ],
             [
              0.8888888888888888,
              "#fdca26"
             ],
             [
              1,
              "#f0f921"
             ]
            ],
            "type": "surface"
           }
          ],
          "table": [
           {
            "cells": {
             "fill": {
              "color": "#506784"
             },
             "line": {
              "color": "rgb(17,17,17)"
             }
            },
            "header": {
             "fill": {
              "color": "#2a3f5f"
             },
             "line": {
              "color": "rgb(17,17,17)"
             }
            },
            "type": "table"
           }
          ]
         },
         "layout": {
          "annotationdefaults": {
           "arrowcolor": "#f2f5fa",
           "arrowhead": 0,
           "arrowwidth": 1
          },
          "autotypenumbers": "strict",
          "coloraxis": {
           "colorbar": {
            "outlinewidth": 0,
            "ticks": ""
           }
          },
          "colorscale": {
           "diverging": [
            [
             0,
             "#8e0152"
            ],
            [
             0.1,
             "#c51b7d"
            ],
            [
             0.2,
             "#de77ae"
            ],
            [
             0.3,
             "#f1b6da"
            ],
            [
             0.4,
             "#fde0ef"
            ],
            [
             0.5,
             "#f7f7f7"
            ],
            [
             0.6,
             "#e6f5d0"
            ],
            [
             0.7,
             "#b8e186"
            ],
            [
             0.8,
             "#7fbc41"
            ],
            [
             0.9,
             "#4d9221"
            ],
            [
             1,
             "#276419"
            ]
           ],
           "sequential": [
            [
             0,
             "#0d0887"
            ],
            [
             0.1111111111111111,
             "#46039f"
            ],
            [
             0.2222222222222222,
             "#7201a8"
            ],
            [
             0.3333333333333333,
             "#9c179e"
            ],
            [
             0.4444444444444444,
             "#bd3786"
            ],
            [
             0.5555555555555556,
             "#d8576b"
            ],
            [
             0.6666666666666666,
             "#ed7953"
            ],
            [
             0.7777777777777778,
             "#fb9f3a"
            ],
            [
             0.8888888888888888,
             "#fdca26"
            ],
            [
             1,
             "#f0f921"
            ]
           ],
           "sequentialminus": [
            [
             0,
             "#0d0887"
            ],
            [
             0.1111111111111111,
             "#46039f"
            ],
            [
             0.2222222222222222,
             "#7201a8"
            ],
            [
             0.3333333333333333,
             "#9c179e"
            ],
            [
             0.4444444444444444,
             "#bd3786"
            ],
            [
             0.5555555555555556,
             "#d8576b"
            ],
            [
             0.6666666666666666,
             "#ed7953"
            ],
            [
             0.7777777777777778,
             "#fb9f3a"
            ],
            [
             0.8888888888888888,
             "#fdca26"
            ],
            [
             1,
             "#f0f921"
            ]
           ]
          },
          "colorway": [
           "#636efa",
           "#EF553B",
           "#00cc96",
           "#ab63fa",
           "#FFA15A",
           "#19d3f3",
           "#FF6692",
           "#B6E880",
           "#FF97FF",
           "#FECB52"
          ],
          "font": {
           "color": "#f2f5fa",
           "family": "monospace",
           "size": 14
          },
          "geo": {
           "bgcolor": "rgb(17,17,17)",
           "lakecolor": "rgb(17,17,17)",
           "landcolor": "rgb(17,17,17)",
           "showlakes": true,
           "showland": true,
           "subunitcolor": "#506784"
          },
          "hoverlabel": {
           "align": "left"
          },
          "hovermode": "closest",
          "mapbox": {
           "style": "dark"
          },
          "paper_bgcolor": "rgb(17,17,17)",
          "plot_bgcolor": "rgb(17,17,17)",
          "polar": {
           "angularaxis": {
            "gridcolor": "#506784",
            "linecolor": "#506784",
            "ticks": ""
           },
           "bgcolor": "rgb(17,17,17)",
           "radialaxis": {
            "gridcolor": "#506784",
            "linecolor": "#506784",
            "ticks": ""
           }
          },
          "scene": {
           "xaxis": {
            "backgroundcolor": "rgb(17,17,17)",
            "gridcolor": "#506784",
            "gridwidth": 2,
            "linecolor": "#506784",
            "showbackground": true,
            "ticks": "",
            "zerolinecolor": "#C8D4E3"
           },
           "yaxis": {
            "backgroundcolor": "rgb(17,17,17)",
            "gridcolor": "#506784",
            "gridwidth": 2,
            "linecolor": "#506784",
            "showbackground": true,
            "ticks": "",
            "zerolinecolor": "#C8D4E3"
           },
           "zaxis": {
            "backgroundcolor": "rgb(17,17,17)",
            "gridcolor": "#506784",
            "gridwidth": 2,
            "linecolor": "#506784",
            "showbackground": true,
            "ticks": "",
            "zerolinecolor": "#C8D4E3"
           }
          },
          "shapedefaults": {
           "line": {
            "color": "#f2f5fa"
           }
          },
          "sliderdefaults": {
           "bgcolor": "#C8D4E3",
           "bordercolor": "rgb(17,17,17)",
           "borderwidth": 1,
           "tickwidth": 0
          },
          "ternary": {
           "aaxis": {
            "gridcolor": "#506784",
            "linecolor": "#506784",
            "ticks": ""
           },
           "baxis": {
            "gridcolor": "#506784",
            "linecolor": "#506784",
            "ticks": ""
           },
           "bgcolor": "rgb(17,17,17)",
           "caxis": {
            "gridcolor": "#506784",
            "linecolor": "#506784",
            "ticks": ""
           }
          },
          "title": {
           "x": 0.05
          },
          "updatemenudefaults": {
           "bgcolor": "#506784",
           "borderwidth": 0
          },
          "xaxis": {
           "automargin": true,
           "gridcolor": "#283442",
           "linecolor": "#506784",
           "ticks": "",
           "title": {
            "standoff": 15
           },
           "zerolinecolor": "#283442",
           "zerolinewidth": 2
          },
          "yaxis": {
           "automargin": true,
           "gridcolor": "#283442",
           "linecolor": "#506784",
           "ticks": "",
           "title": {
            "standoff": 15
           },
           "zerolinecolor": "#283442",
           "zerolinewidth": 2
          }
         }
        },
        "title": {
         "text": "Maximum Heart Rate by Rest ECG Results"
        },
        "violinmode": "overlay",
        "xaxis": {
         "anchor": "y",
         "categoryarray": [
          "ST-T wave abnormality",
          "Normal",
          "Left ventricular hypertrophy"
         ],
         "categoryorder": "array",
         "domain": [
          0,
          1
         ],
         "title": {
          "text": "rest_ecg"
         }
        },
        "yaxis": {
         "anchor": "x",
         "domain": [
          0,
          1
         ],
         "title": {
          "text": "Max_heart_rate"
         }
        }
       }
      }
     },
     "metadata": {},
     "output_type": "display_data"
    },
    {
     "data": {
      "application/vnd.plotly.v1+json": {
       "config": {
        "plotlyServerURL": "https://plot.ly"
       },
       "data": [
        {
         "alignmentgroup": "True",
         "box": {
          "visible": true
         },
         "hovertemplate": "exercise_induced_angina=%{x}<br>oldpeak=%{y}<extra></extra>",
         "legendgroup": "No",
         "marker": {
          "color": "#ddd690"
         },
         "name": "No",
         "offsetgroup": "No",
         "orientation": "v",
         "points": "all",
         "scalegroup": "True",
         "showlegend": true,
         "type": "violin",
         "x": [
          "No",
          "No",
          "No",
          "No",
          "No",
          "No",
          "No",
          "No",
          "No",
          "No",
          "No",
          "No",
          "No",
          "No",
          "No",
          "No",
          "No",
          "No",
          "No",
          "No",
          "No",
          "No",
          "No",
          "No",
          "No",
          "No",
          "No",
          "No",
          "No",
          "No",
          "No",
          "No",
          "No",
          "No",
          "No",
          "No",
          "No",
          "No",
          "No",
          "No",
          "No",
          "No",
          "No",
          "No",
          "No",
          "No",
          "No",
          "No",
          "No",
          "No",
          "No",
          "No",
          "No",
          "No",
          "No",
          "No",
          "No",
          "No",
          "No",
          "No",
          "No",
          "No",
          "No",
          "No",
          "No",
          "No",
          "No",
          "No",
          "No",
          "No",
          "No",
          "No",
          "No",
          "No",
          "No",
          "No",
          "No",
          "No",
          "No",
          "No",
          "No",
          "No",
          "No",
          "No",
          "No",
          "No",
          "No",
          "No",
          "No",
          "No",
          "No",
          "No",
          "No",
          "No",
          "No",
          "No",
          "No",
          "No",
          "No",
          "No",
          "No",
          "No",
          "No",
          "No",
          "No",
          "No",
          "No",
          "No",
          "No",
          "No",
          "No",
          "No",
          "No",
          "No",
          "No",
          "No",
          "No",
          "No",
          "No",
          "No",
          "No",
          "No",
          "No",
          "No",
          "No",
          "No",
          "No",
          "No",
          "No",
          "No",
          "No",
          "No",
          "No",
          "No",
          "No",
          "No",
          "No",
          "No",
          "No",
          "No",
          "No",
          "No",
          "No",
          "No",
          "No",
          "No",
          "No",
          "No",
          "No",
          "No",
          "No",
          "No",
          "No",
          "No",
          "No",
          "No",
          "No",
          "No",
          "No",
          "No",
          "No",
          "No",
          "No",
          "No",
          "No",
          "No",
          "No",
          "No",
          "No",
          "No",
          "No",
          "No",
          "No",
          "No",
          "No",
          "No",
          "No",
          "No",
          "No",
          "No",
          "No",
          "No",
          "No",
          "No",
          "No",
          "No",
          "No",
          "No",
          "No",
          "No",
          "No",
          "No",
          "No",
          "No",
          "No",
          "No",
          "No",
          "No",
          "No",
          "No",
          "No",
          "No",
          "No"
         ],
         "x0": " ",
         "xaxis": "x",
         "y": [
          1,
          0,
          1.9,
          1,
          4.4,
          0.8,
          1.6,
          0.7,
          1.5,
          1.1,
          0,
          3,
          0.3,
          0,
          0,
          0,
          0,
          3.6,
          0,
          0.4,
          0.8,
          0.4,
          0,
          1.2,
          0,
          0,
          0,
          1,
          0,
          2,
          1.9,
          0.2,
          0.8,
          0,
          0,
          1.6,
          0.2,
          1.2,
          0,
          6.2,
          0,
          0,
          0.8,
          0.6,
          0.8,
          0,
          3.6,
          3.4,
          0,
          0,
          0,
          0,
          0.6,
          1.1,
          0.2,
          0.2,
          0,
          0,
          1.4,
          0,
          0,
          2.2,
          1.4,
          0,
          0.8,
          0.9,
          0.4,
          0,
          0.4,
          0.5,
          0,
          2.6,
          0,
          0.1,
          0.6,
          0,
          1.2,
          0,
          0,
          0,
          1.6,
          0,
          0.5,
          1.9,
          0,
          1.5,
          0,
          0,
          1.2,
          0,
          0,
          1,
          0,
          0,
          0.1,
          0.1,
          0,
          0,
          0.6,
          0.8,
          0.8,
          2.6,
          0.6,
          2.8,
          0,
          1.6,
          0.3,
          0,
          0.8,
          0,
          0,
          0.3,
          2.4,
          0,
          0,
          1.2,
          1.4,
          0,
          0,
          1,
          3.2,
          0,
          0,
          0,
          2.3,
          0,
          0.6,
          0,
          1.4,
          0.2,
          0.4,
          0,
          0.2,
          0,
          0.1,
          1.3,
          0,
          0.4,
          0.2,
          2.4,
          3.5,
          1.6,
          0.5,
          0.8,
          0.5,
          1.2,
          1,
          0.8,
          1.8,
          0,
          2.5,
          1,
          0.6,
          1.8,
          2,
          2,
          2.3,
          1.2,
          0,
          0.6,
          0,
          1.6,
          0,
          1,
          0,
          0,
          4,
          0,
          2,
          0.6,
          2,
          0.5,
          1.2,
          0,
          0.4,
          0,
          4.2,
          2.6,
          0,
          1.6,
          0,
          1,
          0.2,
          0,
          0,
          0,
          0,
          2,
          0,
          1.2,
          1.8,
          1.4,
          0.4,
          2.6,
          1.4,
          1.2,
          0,
          0.1,
          0,
          1.5,
          0.6,
          0,
          1.4
         ],
         "y0": " ",
         "yaxis": "y"
        },
        {
         "alignmentgroup": "True",
         "box": {
          "visible": true
         },
         "hovertemplate": "exercise_induced_angina=%{x}<br>oldpeak=%{y}<extra></extra>",
         "legendgroup": "Yes",
         "marker": {
          "color": "#ddd690"
         },
         "name": "Yes",
         "offsetgroup": "Yes",
         "orientation": "v",
         "points": "all",
         "scalegroup": "True",
         "showlegend": true,
         "type": "violin",
         "x": [
          "Yes",
          "Yes",
          "Yes",
          "Yes",
          "Yes",
          "Yes",
          "Yes",
          "Yes",
          "Yes",
          "Yes",
          "Yes",
          "Yes",
          "Yes",
          "Yes",
          "Yes",
          "Yes",
          "Yes",
          "Yes",
          "Yes",
          "Yes",
          "Yes",
          "Yes",
          "Yes",
          "Yes",
          "Yes",
          "Yes",
          "Yes",
          "Yes",
          "Yes",
          "Yes",
          "Yes",
          "Yes",
          "Yes",
          "Yes",
          "Yes",
          "Yes",
          "Yes",
          "Yes",
          "Yes",
          "Yes",
          "Yes",
          "Yes",
          "Yes",
          "Yes",
          "Yes",
          "Yes",
          "Yes",
          "Yes",
          "Yes",
          "Yes",
          "Yes",
          "Yes",
          "Yes",
          "Yes",
          "Yes",
          "Yes",
          "Yes",
          "Yes",
          "Yes",
          "Yes",
          "Yes",
          "Yes",
          "Yes",
          "Yes",
          "Yes",
          "Yes",
          "Yes",
          "Yes",
          "Yes",
          "Yes",
          "Yes",
          "Yes",
          "Yes",
          "Yes",
          "Yes",
          "Yes",
          "Yes",
          "Yes",
          "Yes",
          "Yes",
          "Yes",
          "Yes",
          "Yes",
          "Yes",
          "Yes",
          "Yes",
          "Yes",
          "Yes",
          "Yes",
          "Yes",
          "Yes",
          "Yes",
          "Yes",
          "Yes",
          "Yes",
          "Yes",
          "Yes",
          "Yes",
          "Yes"
         ],
         "x0": " ",
         "xaxis": "x",
         "y": [
          3.1,
          2.6,
          0.8,
          3.2,
          3,
          4.2,
          1,
          2.2,
          3,
          1,
          0.4,
          0.6,
          3.4,
          2.8,
          1.2,
          2.9,
          1.4,
          0.2,
          1,
          1.4,
          0.2,
          5.6,
          0.9,
          1.8,
          3.4,
          1.9,
          1.2,
          0,
          0,
          4,
          0,
          0.2,
          2,
          1,
          1.6,
          0,
          0,
          3,
          2.5,
          2.8,
          3.6,
          2.8,
          0,
          1.2,
          0,
          2,
          1.8,
          1.4,
          0,
          1.2,
          2.1,
          0.6,
          1.6,
          2.8,
          4,
          2.2,
          1.9,
          1.8,
          1.8,
          1.5,
          0.9,
          1.8,
          0,
          2.8,
          1.4,
          0,
          1.2,
          1.6,
          3.8,
          0,
          3,
          1,
          0.8,
          0,
          1.8,
          0.2,
          0,
          0,
          0.6,
          1.8,
          2.4,
          1.4,
          0.1,
          1.5,
          0,
          0.6,
          1.4,
          0,
          1.2,
          0,
          1.6,
          1.2,
          0,
          2.6,
          2.2,
          0.1,
          2,
          3.6,
          0
         ],
         "y0": " ",
         "yaxis": "y"
        }
       ],
       "layout": {
        "font": {
         "color": "white",
         "family": "Courier New, monospace",
         "size": 14
        },
        "legend": {
         "title": {
          "text": "exercise_induced_angina"
         },
         "tracegroupgap": 0
        },
        "margin": {
         "t": 60
        },
        "showlegend": false,
        "template": {
         "data": {
          "bar": [
           {
            "error_x": {
             "color": "#f2f5fa"
            },
            "error_y": {
             "color": "#f2f5fa"
            },
            "marker": {
             "line": {
              "color": "rgb(17,17,17)",
              "width": 0.5
             },
             "pattern": {
              "fillmode": "overlay",
              "size": 10,
              "solidity": 0.2
             }
            },
            "type": "bar"
           }
          ],
          "barpolar": [
           {
            "marker": {
             "line": {
              "color": "rgb(17,17,17)",
              "width": 0.5
             },
             "pattern": {
              "fillmode": "overlay",
              "size": 10,
              "solidity": 0.2
             }
            },
            "type": "barpolar"
           }
          ],
          "carpet": [
           {
            "aaxis": {
             "endlinecolor": "#A2B1C6",
             "gridcolor": "#506784",
             "linecolor": "#506784",
             "minorgridcolor": "#506784",
             "startlinecolor": "#A2B1C6"
            },
            "baxis": {
             "endlinecolor": "#A2B1C6",
             "gridcolor": "#506784",
             "linecolor": "#506784",
             "minorgridcolor": "#506784",
             "startlinecolor": "#A2B1C6"
            },
            "type": "carpet"
           }
          ],
          "choropleth": [
           {
            "colorbar": {
             "outlinewidth": 0,
             "ticks": ""
            },
            "type": "choropleth"
           }
          ],
          "contour": [
           {
            "colorbar": {
             "outlinewidth": 0,
             "ticks": ""
            },
            "colorscale": [
             [
              0,
              "#0d0887"
             ],
             [
              0.1111111111111111,
              "#46039f"
             ],
             [
              0.2222222222222222,
              "#7201a8"
             ],
             [
              0.3333333333333333,
              "#9c179e"
             ],
             [
              0.4444444444444444,
              "#bd3786"
             ],
             [
              0.5555555555555556,
              "#d8576b"
             ],
             [
              0.6666666666666666,
              "#ed7953"
             ],
             [
              0.7777777777777778,
              "#fb9f3a"
             ],
             [
              0.8888888888888888,
              "#fdca26"
             ],
             [
              1,
              "#f0f921"
             ]
            ],
            "type": "contour"
           }
          ],
          "contourcarpet": [
           {
            "colorbar": {
             "outlinewidth": 0,
             "ticks": ""
            },
            "type": "contourcarpet"
           }
          ],
          "heatmap": [
           {
            "colorbar": {
             "outlinewidth": 0,
             "ticks": ""
            },
            "colorscale": [
             [
              0,
              "#0d0887"
             ],
             [
              0.1111111111111111,
              "#46039f"
             ],
             [
              0.2222222222222222,
              "#7201a8"
             ],
             [
              0.3333333333333333,
              "#9c179e"
             ],
             [
              0.4444444444444444,
              "#bd3786"
             ],
             [
              0.5555555555555556,
              "#d8576b"
             ],
             [
              0.6666666666666666,
              "#ed7953"
             ],
             [
              0.7777777777777778,
              "#fb9f3a"
             ],
             [
              0.8888888888888888,
              "#fdca26"
             ],
             [
              1,
              "#f0f921"
             ]
            ],
            "type": "heatmap"
           }
          ],
          "heatmapgl": [
           {
            "colorbar": {
             "outlinewidth": 0,
             "ticks": ""
            },
            "colorscale": [
             [
              0,
              "#0d0887"
             ],
             [
              0.1111111111111111,
              "#46039f"
             ],
             [
              0.2222222222222222,
              "#7201a8"
             ],
             [
              0.3333333333333333,
              "#9c179e"
             ],
             [
              0.4444444444444444,
              "#bd3786"
             ],
             [
              0.5555555555555556,
              "#d8576b"
             ],
             [
              0.6666666666666666,
              "#ed7953"
             ],
             [
              0.7777777777777778,
              "#fb9f3a"
             ],
             [
              0.8888888888888888,
              "#fdca26"
             ],
             [
              1,
              "#f0f921"
             ]
            ],
            "type": "heatmapgl"
           }
          ],
          "histogram": [
           {
            "marker": {
             "pattern": {
              "fillmode": "overlay",
              "size": 10,
              "solidity": 0.2
             }
            },
            "type": "histogram"
           }
          ],
          "histogram2d": [
           {
            "colorbar": {
             "outlinewidth": 0,
             "ticks": ""
            },
            "colorscale": [
             [
              0,
              "#0d0887"
             ],
             [
              0.1111111111111111,
              "#46039f"
             ],
             [
              0.2222222222222222,
              "#7201a8"
             ],
             [
              0.3333333333333333,
              "#9c179e"
             ],
             [
              0.4444444444444444,
              "#bd3786"
             ],
             [
              0.5555555555555556,
              "#d8576b"
             ],
             [
              0.6666666666666666,
              "#ed7953"
             ],
             [
              0.7777777777777778,
              "#fb9f3a"
             ],
             [
              0.8888888888888888,
              "#fdca26"
             ],
             [
              1,
              "#f0f921"
             ]
            ],
            "type": "histogram2d"
           }
          ],
          "histogram2dcontour": [
           {
            "colorbar": {
             "outlinewidth": 0,
             "ticks": ""
            },
            "colorscale": [
             [
              0,
              "#0d0887"
             ],
             [
              0.1111111111111111,
              "#46039f"
             ],
             [
              0.2222222222222222,
              "#7201a8"
             ],
             [
              0.3333333333333333,
              "#9c179e"
             ],
             [
              0.4444444444444444,
              "#bd3786"
             ],
             [
              0.5555555555555556,
              "#d8576b"
             ],
             [
              0.6666666666666666,
              "#ed7953"
             ],
             [
              0.7777777777777778,
              "#fb9f3a"
             ],
             [
              0.8888888888888888,
              "#fdca26"
             ],
             [
              1,
              "#f0f921"
             ]
            ],
            "type": "histogram2dcontour"
           }
          ],
          "mesh3d": [
           {
            "colorbar": {
             "outlinewidth": 0,
             "ticks": ""
            },
            "type": "mesh3d"
           }
          ],
          "parcoords": [
           {
            "line": {
             "colorbar": {
              "outlinewidth": 0,
              "ticks": ""
             }
            },
            "type": "parcoords"
           }
          ],
          "pie": [
           {
            "automargin": true,
            "type": "pie"
           }
          ],
          "scatter": [
           {
            "marker": {
             "line": {
              "color": "#283442"
             }
            },
            "type": "scatter"
           }
          ],
          "scatter3d": [
           {
            "line": {
             "colorbar": {
              "outlinewidth": 0,
              "ticks": ""
             }
            },
            "marker": {
             "colorbar": {
              "outlinewidth": 0,
              "ticks": ""
             }
            },
            "type": "scatter3d"
           }
          ],
          "scattercarpet": [
           {
            "marker": {
             "colorbar": {
              "outlinewidth": 0,
              "ticks": ""
             }
            },
            "type": "scattercarpet"
           }
          ],
          "scattergeo": [
           {
            "marker": {
             "colorbar": {
              "outlinewidth": 0,
              "ticks": ""
             }
            },
            "type": "scattergeo"
           }
          ],
          "scattergl": [
           {
            "marker": {
             "line": {
              "color": "#283442"
             }
            },
            "type": "scattergl"
           }
          ],
          "scattermapbox": [
           {
            "marker": {
             "colorbar": {
              "outlinewidth": 0,
              "ticks": ""
             }
            },
            "type": "scattermapbox"
           }
          ],
          "scatterpolar": [
           {
            "marker": {
             "colorbar": {
              "outlinewidth": 0,
              "ticks": ""
             }
            },
            "type": "scatterpolar"
           }
          ],
          "scatterpolargl": [
           {
            "marker": {
             "colorbar": {
              "outlinewidth": 0,
              "ticks": ""
             }
            },
            "type": "scatterpolargl"
           }
          ],
          "scatterternary": [
           {
            "marker": {
             "colorbar": {
              "outlinewidth": 0,
              "ticks": ""
             }
            },
            "type": "scatterternary"
           }
          ],
          "surface": [
           {
            "colorbar": {
             "outlinewidth": 0,
             "ticks": ""
            },
            "colorscale": [
             [
              0,
              "#0d0887"
             ],
             [
              0.1111111111111111,
              "#46039f"
             ],
             [
              0.2222222222222222,
              "#7201a8"
             ],
             [
              0.3333333333333333,
              "#9c179e"
             ],
             [
              0.4444444444444444,
              "#bd3786"
             ],
             [
              0.5555555555555556,
              "#d8576b"
             ],
             [
              0.6666666666666666,
              "#ed7953"
             ],
             [
              0.7777777777777778,
              "#fb9f3a"
             ],
             [
              0.8888888888888888,
              "#fdca26"
             ],
             [
              1,
              "#f0f921"
             ]
            ],
            "type": "surface"
           }
          ],
          "table": [
           {
            "cells": {
             "fill": {
              "color": "#506784"
             },
             "line": {
              "color": "rgb(17,17,17)"
             }
            },
            "header": {
             "fill": {
              "color": "#2a3f5f"
             },
             "line": {
              "color": "rgb(17,17,17)"
             }
            },
            "type": "table"
           }
          ]
         },
         "layout": {
          "annotationdefaults": {
           "arrowcolor": "#f2f5fa",
           "arrowhead": 0,
           "arrowwidth": 1
          },
          "autotypenumbers": "strict",
          "coloraxis": {
           "colorbar": {
            "outlinewidth": 0,
            "ticks": ""
           }
          },
          "colorscale": {
           "diverging": [
            [
             0,
             "#8e0152"
            ],
            [
             0.1,
             "#c51b7d"
            ],
            [
             0.2,
             "#de77ae"
            ],
            [
             0.3,
             "#f1b6da"
            ],
            [
             0.4,
             "#fde0ef"
            ],
            [
             0.5,
             "#f7f7f7"
            ],
            [
             0.6,
             "#e6f5d0"
            ],
            [
             0.7,
             "#b8e186"
            ],
            [
             0.8,
             "#7fbc41"
            ],
            [
             0.9,
             "#4d9221"
            ],
            [
             1,
             "#276419"
            ]
           ],
           "sequential": [
            [
             0,
             "#0d0887"
            ],
            [
             0.1111111111111111,
             "#46039f"
            ],
            [
             0.2222222222222222,
             "#7201a8"
            ],
            [
             0.3333333333333333,
             "#9c179e"
            ],
            [
             0.4444444444444444,
             "#bd3786"
            ],
            [
             0.5555555555555556,
             "#d8576b"
            ],
            [
             0.6666666666666666,
             "#ed7953"
            ],
            [
             0.7777777777777778,
             "#fb9f3a"
            ],
            [
             0.8888888888888888,
             "#fdca26"
            ],
            [
             1,
             "#f0f921"
            ]
           ],
           "sequentialminus": [
            [
             0,
             "#0d0887"
            ],
            [
             0.1111111111111111,
             "#46039f"
            ],
            [
             0.2222222222222222,
             "#7201a8"
            ],
            [
             0.3333333333333333,
             "#9c179e"
            ],
            [
             0.4444444444444444,
             "#bd3786"
            ],
            [
             0.5555555555555556,
             "#d8576b"
            ],
            [
             0.6666666666666666,
             "#ed7953"
            ],
            [
             0.7777777777777778,
             "#fb9f3a"
            ],
            [
             0.8888888888888888,
             "#fdca26"
            ],
            [
             1,
             "#f0f921"
            ]
           ]
          },
          "colorway": [
           "#636efa",
           "#EF553B",
           "#00cc96",
           "#ab63fa",
           "#FFA15A",
           "#19d3f3",
           "#FF6692",
           "#B6E880",
           "#FF97FF",
           "#FECB52"
          ],
          "font": {
           "color": "#f2f5fa",
           "family": "monospace",
           "size": 14
          },
          "geo": {
           "bgcolor": "rgb(17,17,17)",
           "lakecolor": "rgb(17,17,17)",
           "landcolor": "rgb(17,17,17)",
           "showlakes": true,
           "showland": true,
           "subunitcolor": "#506784"
          },
          "hoverlabel": {
           "align": "left"
          },
          "hovermode": "closest",
          "mapbox": {
           "style": "dark"
          },
          "paper_bgcolor": "rgb(17,17,17)",
          "plot_bgcolor": "rgb(17,17,17)",
          "polar": {
           "angularaxis": {
            "gridcolor": "#506784",
            "linecolor": "#506784",
            "ticks": ""
           },
           "bgcolor": "rgb(17,17,17)",
           "radialaxis": {
            "gridcolor": "#506784",
            "linecolor": "#506784",
            "ticks": ""
           }
          },
          "scene": {
           "xaxis": {
            "backgroundcolor": "rgb(17,17,17)",
            "gridcolor": "#506784",
            "gridwidth": 2,
            "linecolor": "#506784",
            "showbackground": true,
            "ticks": "",
            "zerolinecolor": "#C8D4E3"
           },
           "yaxis": {
            "backgroundcolor": "rgb(17,17,17)",
            "gridcolor": "#506784",
            "gridwidth": 2,
            "linecolor": "#506784",
            "showbackground": true,
            "ticks": "",
            "zerolinecolor": "#C8D4E3"
           },
           "zaxis": {
            "backgroundcolor": "rgb(17,17,17)",
            "gridcolor": "#506784",
            "gridwidth": 2,
            "linecolor": "#506784",
            "showbackground": true,
            "ticks": "",
            "zerolinecolor": "#C8D4E3"
           }
          },
          "shapedefaults": {
           "line": {
            "color": "#f2f5fa"
           }
          },
          "sliderdefaults": {
           "bgcolor": "#C8D4E3",
           "bordercolor": "rgb(17,17,17)",
           "borderwidth": 1,
           "tickwidth": 0
          },
          "ternary": {
           "aaxis": {
            "gridcolor": "#506784",
            "linecolor": "#506784",
            "ticks": ""
           },
           "baxis": {
            "gridcolor": "#506784",
            "linecolor": "#506784",
            "ticks": ""
           },
           "bgcolor": "rgb(17,17,17)",
           "caxis": {
            "gridcolor": "#506784",
            "linecolor": "#506784",
            "ticks": ""
           }
          },
          "title": {
           "x": 0.05
          },
          "updatemenudefaults": {
           "bgcolor": "#506784",
           "borderwidth": 0
          },
          "xaxis": {
           "automargin": true,
           "gridcolor": "#283442",
           "linecolor": "#506784",
           "ticks": "",
           "title": {
            "standoff": 15
           },
           "zerolinecolor": "#283442",
           "zerolinewidth": 2
          },
          "yaxis": {
           "automargin": true,
           "gridcolor": "#283442",
           "linecolor": "#506784",
           "ticks": "",
           "title": {
            "standoff": 15
           },
           "zerolinecolor": "#283442",
           "zerolinewidth": 2
          }
         }
        },
        "title": {
         "text": "ST Depression (Oldpeak) by Exercise-Induced Angina"
        },
        "violinmode": "overlay",
        "xaxis": {
         "anchor": "y",
         "categoryarray": [
          "No",
          "Yes"
         ],
         "categoryorder": "array",
         "domain": [
          0,
          1
         ],
         "title": {
          "text": "exercise_induced_angina"
         }
        },
        "yaxis": {
         "anchor": "x",
         "domain": [
          0,
          1
         ],
         "title": {
          "text": "oldpeak"
         }
        }
       }
      }
     },
     "metadata": {},
     "output_type": "display_data"
    },
    {
     "data": {
      "application/vnd.plotly.v1+json": {
       "config": {
        "plotlyServerURL": "https://plot.ly"
       },
       "data": [
        {
         "alignmentgroup": "True",
         "box": {
          "visible": true
         },
         "hovertemplate": "slope=%{x}<br>age=%{y}<extra></extra>",
         "legendgroup": "Downsloping",
         "marker": {
          "color": "#ffefd5"
         },
         "name": "Downsloping",
         "offsetgroup": "Downsloping",
         "orientation": "v",
         "points": "all",
         "scalegroup": "True",
         "showlegend": true,
         "type": "violin",
         "x": [
          "Downsloping",
          "Downsloping",
          "Downsloping",
          "Downsloping",
          "Downsloping",
          "Downsloping",
          "Downsloping",
          "Downsloping",
          "Downsloping",
          "Downsloping",
          "Downsloping",
          "Downsloping",
          "Downsloping",
          "Downsloping",
          "Downsloping",
          "Downsloping",
          "Downsloping",
          "Downsloping",
          "Downsloping",
          "Downsloping",
          "Downsloping",
          "Downsloping",
          "Downsloping",
          "Downsloping",
          "Downsloping",
          "Downsloping",
          "Downsloping",
          "Downsloping",
          "Downsloping",
          "Downsloping",
          "Downsloping",
          "Downsloping",
          "Downsloping",
          "Downsloping",
          "Downsloping",
          "Downsloping",
          "Downsloping",
          "Downsloping",
          "Downsloping",
          "Downsloping",
          "Downsloping",
          "Downsloping",
          "Downsloping",
          "Downsloping",
          "Downsloping",
          "Downsloping",
          "Downsloping",
          "Downsloping",
          "Downsloping",
          "Downsloping",
          "Downsloping",
          "Downsloping",
          "Downsloping",
          "Downsloping",
          "Downsloping",
          "Downsloping",
          "Downsloping",
          "Downsloping",
          "Downsloping",
          "Downsloping",
          "Downsloping",
          "Downsloping",
          "Downsloping",
          "Downsloping",
          "Downsloping",
          "Downsloping",
          "Downsloping",
          "Downsloping",
          "Downsloping",
          "Downsloping",
          "Downsloping",
          "Downsloping",
          "Downsloping",
          "Downsloping",
          "Downsloping",
          "Downsloping",
          "Downsloping",
          "Downsloping",
          "Downsloping",
          "Downsloping",
          "Downsloping",
          "Downsloping",
          "Downsloping",
          "Downsloping",
          "Downsloping",
          "Downsloping",
          "Downsloping",
          "Downsloping",
          "Downsloping",
          "Downsloping",
          "Downsloping",
          "Downsloping",
          "Downsloping",
          "Downsloping",
          "Downsloping",
          "Downsloping",
          "Downsloping",
          "Downsloping",
          "Downsloping",
          "Downsloping",
          "Downsloping",
          "Downsloping",
          "Downsloping",
          "Downsloping",
          "Downsloping",
          "Downsloping",
          "Downsloping",
          "Downsloping",
          "Downsloping",
          "Downsloping",
          "Downsloping",
          "Downsloping",
          "Downsloping",
          "Downsloping",
          "Downsloping",
          "Downsloping",
          "Downsloping",
          "Downsloping",
          "Downsloping",
          "Downsloping",
          "Downsloping",
          "Downsloping",
          "Downsloping",
          "Downsloping",
          "Downsloping",
          "Downsloping",
          "Downsloping",
          "Downsloping",
          "Downsloping",
          "Downsloping",
          "Downsloping",
          "Downsloping",
          "Downsloping",
          "Downsloping",
          "Downsloping",
          "Downsloping",
          "Downsloping",
          "Downsloping",
          "Downsloping",
          "Downsloping",
          "Downsloping"
         ],
         "x0": " ",
         "xaxis": "x",
         "y": [
          52,
          61,
          46,
          34,
          51,
          50,
          58,
          67,
          63,
          44,
          58,
          50,
          51,
          59,
          65,
          61,
          55,
          42,
          60,
          58,
          38,
          57,
          29,
          59,
          37,
          61,
          59,
          48,
          47,
          48,
          63,
          52,
          49,
          44,
          54,
          62,
          62,
          57,
          65,
          57,
          54,
          51,
          40,
          44,
          53,
          42,
          65,
          60,
          52,
          51,
          64,
          41,
          34,
          47,
          51,
          41,
          39,
          54,
          58,
          63,
          40,
          41,
          77,
          57,
          43,
          43,
          39,
          42,
          45,
          41,
          56,
          58,
          45,
          60,
          42,
          49,
          51,
          54,
          52,
          56,
          41,
          49,
          57,
          54,
          44,
          35,
          44,
          48,
          58,
          71,
          43,
          44,
          66,
          57,
          41,
          35,
          41,
          64,
          71,
          58,
          58,
          52,
          46,
          51,
          74,
          53,
          48,
          60,
          65,
          52,
          59,
          53,
          51,
          59,
          35,
          70,
          54,
          57,
          47,
          41,
          47,
          52,
          54,
          44,
          67,
          53,
          44,
          68,
          50,
          54,
          46,
          55,
          63,
          66,
          69,
          65,
          60,
          52,
          64,
          52,
          59
         ],
         "y0": " ",
         "yaxis": "y"
        },
        {
         "alignmentgroup": "True",
         "box": {
          "visible": true
         },
         "hovertemplate": "slope=%{x}<br>age=%{y}<extra></extra>",
         "legendgroup": "Upsloping",
         "marker": {
          "color": "#ffefd5"
         },
         "name": "Upsloping",
         "offsetgroup": "Upsloping",
         "orientation": "v",
         "points": "all",
         "scalegroup": "True",
         "showlegend": true,
         "type": "violin",
         "x": [
          "Upsloping",
          "Upsloping",
          "Upsloping",
          "Upsloping",
          "Upsloping",
          "Upsloping",
          "Upsloping",
          "Upsloping",
          "Upsloping",
          "Upsloping",
          "Upsloping",
          "Upsloping",
          "Upsloping",
          "Upsloping",
          "Upsloping",
          "Upsloping",
          "Upsloping",
          "Upsloping",
          "Upsloping",
          "Upsloping",
          "Upsloping"
         ],
         "x0": " ",
         "xaxis": "x",
         "y": [
          53,
          70,
          58,
          44,
          55,
          53,
          62,
          59,
          62,
          56,
          56,
          56,
          64,
          42,
          37,
          54,
          48,
          46,
          63,
          59,
          66
         ],
         "y0": " ",
         "yaxis": "y"
        },
        {
         "alignmentgroup": "True",
         "box": {
          "visible": true
         },
         "hovertemplate": "slope=%{x}<br>age=%{y}<extra></extra>",
         "legendgroup": "Flat",
         "marker": {
          "color": "#ffefd5"
         },
         "name": "Flat",
         "offsetgroup": "Flat",
         "orientation": "v",
         "points": "all",
         "scalegroup": "True",
         "showlegend": true,
         "type": "violin",
         "x": [
          "Flat",
          "Flat",
          "Flat",
          "Flat",
          "Flat",
          "Flat",
          "Flat",
          "Flat",
          "Flat",
          "Flat",
          "Flat",
          "Flat",
          "Flat",
          "Flat",
          "Flat",
          "Flat",
          "Flat",
          "Flat",
          "Flat",
          "Flat",
          "Flat",
          "Flat",
          "Flat",
          "Flat",
          "Flat",
          "Flat",
          "Flat",
          "Flat",
          "Flat",
          "Flat",
          "Flat",
          "Flat",
          "Flat",
          "Flat",
          "Flat",
          "Flat",
          "Flat",
          "Flat",
          "Flat",
          "Flat",
          "Flat",
          "Flat",
          "Flat",
          "Flat",
          "Flat",
          "Flat",
          "Flat",
          "Flat",
          "Flat",
          "Flat",
          "Flat",
          "Flat",
          "Flat",
          "Flat",
          "Flat",
          "Flat",
          "Flat",
          "Flat",
          "Flat",
          "Flat",
          "Flat",
          "Flat",
          "Flat",
          "Flat",
          "Flat",
          "Flat",
          "Flat",
          "Flat",
          "Flat",
          "Flat",
          "Flat",
          "Flat",
          "Flat",
          "Flat",
          "Flat",
          "Flat",
          "Flat",
          "Flat",
          "Flat",
          "Flat",
          "Flat",
          "Flat",
          "Flat",
          "Flat",
          "Flat",
          "Flat",
          "Flat",
          "Flat",
          "Flat",
          "Flat",
          "Flat",
          "Flat",
          "Flat",
          "Flat",
          "Flat",
          "Flat",
          "Flat",
          "Flat",
          "Flat",
          "Flat",
          "Flat",
          "Flat",
          "Flat",
          "Flat",
          "Flat",
          "Flat",
          "Flat",
          "Flat",
          "Flat",
          "Flat",
          "Flat",
          "Flat",
          "Flat",
          "Flat",
          "Flat",
          "Flat",
          "Flat",
          "Flat",
          "Flat",
          "Flat",
          "Flat",
          "Flat",
          "Flat",
          "Flat",
          "Flat",
          "Flat",
          "Flat",
          "Flat",
          "Flat",
          "Flat",
          "Flat",
          "Flat",
          "Flat",
          "Flat",
          "Flat",
          "Flat",
          "Flat",
          "Flat",
          "Flat",
          "Flat"
         ],
         "x0": " ",
         "xaxis": "x",
         "y": [
          62,
          58,
          55,
          54,
          71,
          43,
          51,
          52,
          54,
          60,
          45,
          42,
          61,
          56,
          55,
          57,
          70,
          46,
          64,
          57,
          54,
          41,
          66,
          66,
          57,
          49,
          56,
          48,
          67,
          67,
          59,
          42,
          56,
          50,
          59,
          68,
          45,
          53,
          76,
          43,
          52,
          47,
          62,
          54,
          57,
          59,
          63,
          43,
          60,
          61,
          66,
          57,
          58,
          57,
          63,
          61,
          40,
          52,
          67,
          51,
          48,
          56,
          45,
          54,
          56,
          64,
          60,
          57,
          64,
          69,
          67,
          50,
          64,
          50,
          65,
          46,
          57,
          44,
          60,
          62,
          51,
          39,
          55,
          35,
          62,
          38,
          67,
          45,
          58,
          61,
          52,
          62,
          56,
          53,
          45,
          66,
          57,
          70,
          63,
          54,
          60,
          43,
          62,
          57,
          46,
          59,
          62,
          58,
          58,
          58,
          64,
          58,
          59,
          45,
          68,
          42,
          51,
          65,
          67,
          63,
          49,
          69,
          58,
          41,
          58,
          59,
          58,
          60,
          50,
          67,
          64,
          55,
          43,
          65,
          61,
          55,
          39,
          68,
          44,
          54
         ],
         "y0": " ",
         "yaxis": "y"
        }
       ],
       "layout": {
        "font": {
         "color": "white",
         "family": "Courier New, monospace",
         "size": 14
        },
        "legend": {
         "title": {
          "text": "slope"
         },
         "tracegroupgap": 0
        },
        "margin": {
         "t": 60
        },
        "showlegend": false,
        "template": {
         "data": {
          "bar": [
           {
            "error_x": {
             "color": "#f2f5fa"
            },
            "error_y": {
             "color": "#f2f5fa"
            },
            "marker": {
             "line": {
              "color": "rgb(17,17,17)",
              "width": 0.5
             },
             "pattern": {
              "fillmode": "overlay",
              "size": 10,
              "solidity": 0.2
             }
            },
            "type": "bar"
           }
          ],
          "barpolar": [
           {
            "marker": {
             "line": {
              "color": "rgb(17,17,17)",
              "width": 0.5
             },
             "pattern": {
              "fillmode": "overlay",
              "size": 10,
              "solidity": 0.2
             }
            },
            "type": "barpolar"
           }
          ],
          "carpet": [
           {
            "aaxis": {
             "endlinecolor": "#A2B1C6",
             "gridcolor": "#506784",
             "linecolor": "#506784",
             "minorgridcolor": "#506784",
             "startlinecolor": "#A2B1C6"
            },
            "baxis": {
             "endlinecolor": "#A2B1C6",
             "gridcolor": "#506784",
             "linecolor": "#506784",
             "minorgridcolor": "#506784",
             "startlinecolor": "#A2B1C6"
            },
            "type": "carpet"
           }
          ],
          "choropleth": [
           {
            "colorbar": {
             "outlinewidth": 0,
             "ticks": ""
            },
            "type": "choropleth"
           }
          ],
          "contour": [
           {
            "colorbar": {
             "outlinewidth": 0,
             "ticks": ""
            },
            "colorscale": [
             [
              0,
              "#0d0887"
             ],
             [
              0.1111111111111111,
              "#46039f"
             ],
             [
              0.2222222222222222,
              "#7201a8"
             ],
             [
              0.3333333333333333,
              "#9c179e"
             ],
             [
              0.4444444444444444,
              "#bd3786"
             ],
             [
              0.5555555555555556,
              "#d8576b"
             ],
             [
              0.6666666666666666,
              "#ed7953"
             ],
             [
              0.7777777777777778,
              "#fb9f3a"
             ],
             [
              0.8888888888888888,
              "#fdca26"
             ],
             [
              1,
              "#f0f921"
             ]
            ],
            "type": "contour"
           }
          ],
          "contourcarpet": [
           {
            "colorbar": {
             "outlinewidth": 0,
             "ticks": ""
            },
            "type": "contourcarpet"
           }
          ],
          "heatmap": [
           {
            "colorbar": {
             "outlinewidth": 0,
             "ticks": ""
            },
            "colorscale": [
             [
              0,
              "#0d0887"
             ],
             [
              0.1111111111111111,
              "#46039f"
             ],
             [
              0.2222222222222222,
              "#7201a8"
             ],
             [
              0.3333333333333333,
              "#9c179e"
             ],
             [
              0.4444444444444444,
              "#bd3786"
             ],
             [
              0.5555555555555556,
              "#d8576b"
             ],
             [
              0.6666666666666666,
              "#ed7953"
             ],
             [
              0.7777777777777778,
              "#fb9f3a"
             ],
             [
              0.8888888888888888,
              "#fdca26"
             ],
             [
              1,
              "#f0f921"
             ]
            ],
            "type": "heatmap"
           }
          ],
          "heatmapgl": [
           {
            "colorbar": {
             "outlinewidth": 0,
             "ticks": ""
            },
            "colorscale": [
             [
              0,
              "#0d0887"
             ],
             [
              0.1111111111111111,
              "#46039f"
             ],
             [
              0.2222222222222222,
              "#7201a8"
             ],
             [
              0.3333333333333333,
              "#9c179e"
             ],
             [
              0.4444444444444444,
              "#bd3786"
             ],
             [
              0.5555555555555556,
              "#d8576b"
             ],
             [
              0.6666666666666666,
              "#ed7953"
             ],
             [
              0.7777777777777778,
              "#fb9f3a"
             ],
             [
              0.8888888888888888,
              "#fdca26"
             ],
             [
              1,
              "#f0f921"
             ]
            ],
            "type": "heatmapgl"
           }
          ],
          "histogram": [
           {
            "marker": {
             "pattern": {
              "fillmode": "overlay",
              "size": 10,
              "solidity": 0.2
             }
            },
            "type": "histogram"
           }
          ],
          "histogram2d": [
           {
            "colorbar": {
             "outlinewidth": 0,
             "ticks": ""
            },
            "colorscale": [
             [
              0,
              "#0d0887"
             ],
             [
              0.1111111111111111,
              "#46039f"
             ],
             [
              0.2222222222222222,
              "#7201a8"
             ],
             [
              0.3333333333333333,
              "#9c179e"
             ],
             [
              0.4444444444444444,
              "#bd3786"
             ],
             [
              0.5555555555555556,
              "#d8576b"
             ],
             [
              0.6666666666666666,
              "#ed7953"
             ],
             [
              0.7777777777777778,
              "#fb9f3a"
             ],
             [
              0.8888888888888888,
              "#fdca26"
             ],
             [
              1,
              "#f0f921"
             ]
            ],
            "type": "histogram2d"
           }
          ],
          "histogram2dcontour": [
           {
            "colorbar": {
             "outlinewidth": 0,
             "ticks": ""
            },
            "colorscale": [
             [
              0,
              "#0d0887"
             ],
             [
              0.1111111111111111,
              "#46039f"
             ],
             [
              0.2222222222222222,
              "#7201a8"
             ],
             [
              0.3333333333333333,
              "#9c179e"
             ],
             [
              0.4444444444444444,
              "#bd3786"
             ],
             [
              0.5555555555555556,
              "#d8576b"
             ],
             [
              0.6666666666666666,
              "#ed7953"
             ],
             [
              0.7777777777777778,
              "#fb9f3a"
             ],
             [
              0.8888888888888888,
              "#fdca26"
             ],
             [
              1,
              "#f0f921"
             ]
            ],
            "type": "histogram2dcontour"
           }
          ],
          "mesh3d": [
           {
            "colorbar": {
             "outlinewidth": 0,
             "ticks": ""
            },
            "type": "mesh3d"
           }
          ],
          "parcoords": [
           {
            "line": {
             "colorbar": {
              "outlinewidth": 0,
              "ticks": ""
             }
            },
            "type": "parcoords"
           }
          ],
          "pie": [
           {
            "automargin": true,
            "type": "pie"
           }
          ],
          "scatter": [
           {
            "marker": {
             "line": {
              "color": "#283442"
             }
            },
            "type": "scatter"
           }
          ],
          "scatter3d": [
           {
            "line": {
             "colorbar": {
              "outlinewidth": 0,
              "ticks": ""
             }
            },
            "marker": {
             "colorbar": {
              "outlinewidth": 0,
              "ticks": ""
             }
            },
            "type": "scatter3d"
           }
          ],
          "scattercarpet": [
           {
            "marker": {
             "colorbar": {
              "outlinewidth": 0,
              "ticks": ""
             }
            },
            "type": "scattercarpet"
           }
          ],
          "scattergeo": [
           {
            "marker": {
             "colorbar": {
              "outlinewidth": 0,
              "ticks": ""
             }
            },
            "type": "scattergeo"
           }
          ],
          "scattergl": [
           {
            "marker": {
             "line": {
              "color": "#283442"
             }
            },
            "type": "scattergl"
           }
          ],
          "scattermapbox": [
           {
            "marker": {
             "colorbar": {
              "outlinewidth": 0,
              "ticks": ""
             }
            },
            "type": "scattermapbox"
           }
          ],
          "scatterpolar": [
           {
            "marker": {
             "colorbar": {
              "outlinewidth": 0,
              "ticks": ""
             }
            },
            "type": "scatterpolar"
           }
          ],
          "scatterpolargl": [
           {
            "marker": {
             "colorbar": {
              "outlinewidth": 0,
              "ticks": ""
             }
            },
            "type": "scatterpolargl"
           }
          ],
          "scatterternary": [
           {
            "marker": {
             "colorbar": {
              "outlinewidth": 0,
              "ticks": ""
             }
            },
            "type": "scatterternary"
           }
          ],
          "surface": [
           {
            "colorbar": {
             "outlinewidth": 0,
             "ticks": ""
            },
            "colorscale": [
             [
              0,
              "#0d0887"
             ],
             [
              0.1111111111111111,
              "#46039f"
             ],
             [
              0.2222222222222222,
              "#7201a8"
             ],
             [
              0.3333333333333333,
              "#9c179e"
             ],
             [
              0.4444444444444444,
              "#bd3786"
             ],
             [
              0.5555555555555556,
              "#d8576b"
             ],
             [
              0.6666666666666666,
              "#ed7953"
             ],
             [
              0.7777777777777778,
              "#fb9f3a"
             ],
             [
              0.8888888888888888,
              "#fdca26"
             ],
             [
              1,
              "#f0f921"
             ]
            ],
            "type": "surface"
           }
          ],
          "table": [
           {
            "cells": {
             "fill": {
              "color": "#506784"
             },
             "line": {
              "color": "rgb(17,17,17)"
             }
            },
            "header": {
             "fill": {
              "color": "#2a3f5f"
             },
             "line": {
              "color": "rgb(17,17,17)"
             }
            },
            "type": "table"
           }
          ]
         },
         "layout": {
          "annotationdefaults": {
           "arrowcolor": "#f2f5fa",
           "arrowhead": 0,
           "arrowwidth": 1
          },
          "autotypenumbers": "strict",
          "coloraxis": {
           "colorbar": {
            "outlinewidth": 0,
            "ticks": ""
           }
          },
          "colorscale": {
           "diverging": [
            [
             0,
             "#8e0152"
            ],
            [
             0.1,
             "#c51b7d"
            ],
            [
             0.2,
             "#de77ae"
            ],
            [
             0.3,
             "#f1b6da"
            ],
            [
             0.4,
             "#fde0ef"
            ],
            [
             0.5,
             "#f7f7f7"
            ],
            [
             0.6,
             "#e6f5d0"
            ],
            [
             0.7,
             "#b8e186"
            ],
            [
             0.8,
             "#7fbc41"
            ],
            [
             0.9,
             "#4d9221"
            ],
            [
             1,
             "#276419"
            ]
           ],
           "sequential": [
            [
             0,
             "#0d0887"
            ],
            [
             0.1111111111111111,
             "#46039f"
            ],
            [
             0.2222222222222222,
             "#7201a8"
            ],
            [
             0.3333333333333333,
             "#9c179e"
            ],
            [
             0.4444444444444444,
             "#bd3786"
            ],
            [
             0.5555555555555556,
             "#d8576b"
            ],
            [
             0.6666666666666666,
             "#ed7953"
            ],
            [
             0.7777777777777778,
             "#fb9f3a"
            ],
            [
             0.8888888888888888,
             "#fdca26"
            ],
            [
             1,
             "#f0f921"
            ]
           ],
           "sequentialminus": [
            [
             0,
             "#0d0887"
            ],
            [
             0.1111111111111111,
             "#46039f"
            ],
            [
             0.2222222222222222,
             "#7201a8"
            ],
            [
             0.3333333333333333,
             "#9c179e"
            ],
            [
             0.4444444444444444,
             "#bd3786"
            ],
            [
             0.5555555555555556,
             "#d8576b"
            ],
            [
             0.6666666666666666,
             "#ed7953"
            ],
            [
             0.7777777777777778,
             "#fb9f3a"
            ],
            [
             0.8888888888888888,
             "#fdca26"
            ],
            [
             1,
             "#f0f921"
            ]
           ]
          },
          "colorway": [
           "#636efa",
           "#EF553B",
           "#00cc96",
           "#ab63fa",
           "#FFA15A",
           "#19d3f3",
           "#FF6692",
           "#B6E880",
           "#FF97FF",
           "#FECB52"
          ],
          "font": {
           "color": "#f2f5fa",
           "family": "monospace",
           "size": 14
          },
          "geo": {
           "bgcolor": "rgb(17,17,17)",
           "lakecolor": "rgb(17,17,17)",
           "landcolor": "rgb(17,17,17)",
           "showlakes": true,
           "showland": true,
           "subunitcolor": "#506784"
          },
          "hoverlabel": {
           "align": "left"
          },
          "hovermode": "closest",
          "mapbox": {
           "style": "dark"
          },
          "paper_bgcolor": "rgb(17,17,17)",
          "plot_bgcolor": "rgb(17,17,17)",
          "polar": {
           "angularaxis": {
            "gridcolor": "#506784",
            "linecolor": "#506784",
            "ticks": ""
           },
           "bgcolor": "rgb(17,17,17)",
           "radialaxis": {
            "gridcolor": "#506784",
            "linecolor": "#506784",
            "ticks": ""
           }
          },
          "scene": {
           "xaxis": {
            "backgroundcolor": "rgb(17,17,17)",
            "gridcolor": "#506784",
            "gridwidth": 2,
            "linecolor": "#506784",
            "showbackground": true,
            "ticks": "",
            "zerolinecolor": "#C8D4E3"
           },
           "yaxis": {
            "backgroundcolor": "rgb(17,17,17)",
            "gridcolor": "#506784",
            "gridwidth": 2,
            "linecolor": "#506784",
            "showbackground": true,
            "ticks": "",
            "zerolinecolor": "#C8D4E3"
           },
           "zaxis": {
            "backgroundcolor": "rgb(17,17,17)",
            "gridcolor": "#506784",
            "gridwidth": 2,
            "linecolor": "#506784",
            "showbackground": true,
            "ticks": "",
            "zerolinecolor": "#C8D4E3"
           }
          },
          "shapedefaults": {
           "line": {
            "color": "#f2f5fa"
           }
          },
          "sliderdefaults": {
           "bgcolor": "#C8D4E3",
           "bordercolor": "rgb(17,17,17)",
           "borderwidth": 1,
           "tickwidth": 0
          },
          "ternary": {
           "aaxis": {
            "gridcolor": "#506784",
            "linecolor": "#506784",
            "ticks": ""
           },
           "baxis": {
            "gridcolor": "#506784",
            "linecolor": "#506784",
            "ticks": ""
           },
           "bgcolor": "rgb(17,17,17)",
           "caxis": {
            "gridcolor": "#506784",
            "linecolor": "#506784",
            "ticks": ""
           }
          },
          "title": {
           "x": 0.05
          },
          "updatemenudefaults": {
           "bgcolor": "#506784",
           "borderwidth": 0
          },
          "xaxis": {
           "automargin": true,
           "gridcolor": "#283442",
           "linecolor": "#506784",
           "ticks": "",
           "title": {
            "standoff": 15
           },
           "zerolinecolor": "#283442",
           "zerolinewidth": 2
          },
          "yaxis": {
           "automargin": true,
           "gridcolor": "#283442",
           "linecolor": "#506784",
           "ticks": "",
           "title": {
            "standoff": 15
           },
           "zerolinecolor": "#283442",
           "zerolinewidth": 2
          }
         }
        },
        "title": {
         "text": "Age Distribution by Slope of Peak Exercise ST Segment"
        },
        "violinmode": "overlay",
        "xaxis": {
         "anchor": "y",
         "categoryarray": [
          "Downsloping",
          "Upsloping",
          "Flat"
         ],
         "categoryorder": "array",
         "domain": [
          0,
          1
         ],
         "title": {
          "text": "slope"
         }
        },
        "yaxis": {
         "anchor": "x",
         "domain": [
          0,
          1
         ],
         "title": {
          "text": "age"
         }
        }
       }
      }
     },
     "metadata": {},
     "output_type": "display_data"
    }
   ],
   "source": [
    "# Generate violin plots for each pair\n",
    "for idx, (x_col, y_col, title) in enumerate(violin_vars):\n",
    "    fig = plot_violin_plotly(heart_disease_clean_df, x_col, y_col, title, [color_palettes[idx % len(color_palettes)]])\n",
    "    # save the plot - title is used as the filename\n",
    "    fig.write_image(f\"eda/violin_plots/{title}.png\")\n",
    "    fig.show()\n"
   ]
  },
  {
   "cell_type": "markdown",
   "metadata": {},
   "source": [
    "\n",
    "#### 1 Violin Plot of ST Depression (Oldpeak) by Exercise-Induced Angina\n",
    "\n",
    "ST Depression (Oldpeak) by Exercise-Induced Angina\n",
    "\n",
    "- **No Exercise-Induced Angina**: The distribution is centered around a median Oldpeak value of approximately 0.5, with a wide spread of values up to 6. There are several outliers above 4.\n",
    "- **Yes Exercise-Induced Angina**: The distribution is centered around a median Oldpeak value of approximately 1.5, with a narrower spread compared to the \"No\" group. There are fewer outliers.\n",
    "- **Observation**: Individuals with exercise-induced angina tend to have higher Oldpeak values, indicating more significant ST depression during exercise.\n",
    "\n",
    "#### 2 Violin Plot of Resting Blood Pressure by Chest Pain Type\n",
    "\n",
    "Resting Blood Pressure by Chest Pain Type\n",
    "\n",
    "- **Typical Angina**: The median resting blood pressure is around 130 mmHg, with a wide spread of values.\n",
    "- **Atypical Angina**: The median resting blood pressure is slightly lower, around 125 mmHg, with a narrower spread.\n",
    "- **Non-Anginal Pain**: The median resting blood pressure is around 130 mmHg, similar to typical angina, but with a wider spread.\n",
    "- **Asymptomatic**: The median resting blood pressure is around 140 mmHg, with a wide spread of values.\n",
    "- **Observation**: Individuals with asymptomatic chest pain tend to have higher resting blood pressure compared to other chest pain types.\n",
    "\n",
    "#### 3 Violin Plot of Age Distribution by Slope of Peak Exercise ST Segment\n",
    "\n",
    "Age Distribution by Slope of Peak Exercise ST Segment\n",
    "\n",
    "- **Downsloping**: The median age is around 60, with a wide spread of ages from 30 to 77.\n",
    "- **Upsloping**: The median age is around 55, with a narrower spread compared to downsloping.\n",
    "- **Flat**: The median age is around 58, with a wide spread of ages.\n",
    "- **Observation**: The age distribution varies slightly with the slope of the peak exercise ST segment, with downsloping and flat slopes showing a wider age range compared to upsloping.\n",
    "\n",
    "#### 4 Violin Plot of Maximum Heart Rate by Rest ECG Results\n",
    "\n",
    "Maximum Heart Rate by Rest ECG Results\n",
    "- **ST-T Wave Abnormality**: The distribution is centered around a median maximum heart rate of approximately 140 bpm, with a wide spread of values from 60 to 200 bpm.\n",
    "- **Normal**: The distribution is centered around a median maximum heart rate of approximately 160 bpm, with a similar wide spread of values.\n",
    "- **Left Ventricular Hypertrophy**: The distribution is centered around a median maximum heart rate of approximately 120 bpm, with a narrower spread compared to the other groups.\n",
    "- **Observation**: Individuals with normal ECG results tend to have higher maximum heart rates, while those with left ventricular hypertrophy tend to have lower maximum heart rates.\n",
    "\n",
    "#### 5 Violin Plot of Cholesterol Levels by Fasting Blood Sugar Levels\n",
    "\n",
    "Cholesterol Levels by Fasting Blood Sugar Levels\n",
    "- **Lower than 120 mg/ml**: The distribution is centered around a median cholesterol level of approximately 240 mg/dL, with a wide spread of values from 100 to 600 mg/dL.\n",
    "- **Greater than 120 mg/ml**: The distribution is centered around a median cholesterol level of approximately 260 mg/dL, with a narrower spread compared to the \"Lower\" group.\n",
    "- **Observation**: Individuals with fasting blood sugar levels greater than 120 mg/ml tend to have slightly higher cholesterol levels compared to those with lower fasting blood sugar levels.\n",
    "\n",
    "#### 6 Violin Plot of Age Distribution by Sex\n",
    "\n",
    "Age Distribution by Sex\n",
    "- **Male**: The distribution is centered around a median age of approximately 55 years, with a wide spread of ages from 30 to 80 years.\n",
    "- **Female**: The distribution is centered around a median age of approximately 60 years, with a similar wide spread of ages.\n",
    "- **Observation**: The age distribution is slightly higher for females compared to males, with both groups showing a wide range of ages.\n",
    "\n",
    "#### 7 Summary\n",
    "\n",
    "- **Oldpeak by Exercise-Induced Angina**: Higher Oldpeak values in individuals with exercise-induced angina.\n",
    "- **Resting Blood Pressure by Chest Pain Type**: Higher resting blood pressure in individuals with asymptomatic chest pain.\n",
    "- **Age by Slope of Peak Exercise ST Segment**: Downsloping and flat slopes show a wider age range compared to upsloping.\n",
    "- **Maximum Heart Rate by Rest ECG Results**: Higher maximum heart rates are associated with normal ECG results, while lower maximum heart rates are associated with left ventricular hypertrophy.\n",
    "- **Cholesterol Levels by Fasting Blood Sugar Levels**: Higher cholesterol levels are associated with fasting blood sugar levels greater than 120 mg/ml.\n",
    "- **Age Distribution by Sex**: Females tend to be slightly older on average compared to males."
   ]
  },
  {
   "cell_type": "code",
   "execution_count": 87,
   "metadata": {},
   "outputs": [
    {
     "data": {
      "text/html": [
       "<div>\n",
       "<style scoped>\n",
       "    .dataframe tbody tr th:only-of-type {\n",
       "        vertical-align: middle;\n",
       "    }\n",
       "\n",
       "    .dataframe tbody tr th {\n",
       "        vertical-align: top;\n",
       "    }\n",
       "\n",
       "    .dataframe thead th {\n",
       "        text-align: right;\n",
       "    }\n",
       "</style>\n",
       "<table border=\"1\" class=\"dataframe\">\n",
       "  <thead>\n",
       "    <tr style=\"text-align: right;\">\n",
       "      <th></th>\n",
       "      <th>age</th>\n",
       "      <th>sex</th>\n",
       "      <th>chest_pain_type</th>\n",
       "      <th>resting_blood_pressure</th>\n",
       "      <th>cholestoral</th>\n",
       "      <th>fasting_blood_sugar</th>\n",
       "      <th>rest_ecg</th>\n",
       "      <th>Max_heart_rate</th>\n",
       "      <th>exercise_induced_angina</th>\n",
       "      <th>oldpeak</th>\n",
       "      <th>slope</th>\n",
       "      <th>vessels_colored_by_flourosopy</th>\n",
       "      <th>thalassemia</th>\n",
       "      <th>target</th>\n",
       "    </tr>\n",
       "  </thead>\n",
       "  <tbody>\n",
       "    <tr>\n",
       "      <th>0</th>\n",
       "      <td>52</td>\n",
       "      <td>Male</td>\n",
       "      <td>Typical angina</td>\n",
       "      <td>125</td>\n",
       "      <td>212</td>\n",
       "      <td>Lower than 120 mg/ml</td>\n",
       "      <td>ST-T wave abnormality</td>\n",
       "      <td>168</td>\n",
       "      <td>No</td>\n",
       "      <td>1.0</td>\n",
       "      <td>Downsloping</td>\n",
       "      <td>Two</td>\n",
       "      <td>Reversable Defect</td>\n",
       "      <td>0</td>\n",
       "    </tr>\n",
       "    <tr>\n",
       "      <th>1</th>\n",
       "      <td>53</td>\n",
       "      <td>Male</td>\n",
       "      <td>Typical angina</td>\n",
       "      <td>140</td>\n",
       "      <td>203</td>\n",
       "      <td>Greater than 120 mg/ml</td>\n",
       "      <td>Normal</td>\n",
       "      <td>155</td>\n",
       "      <td>Yes</td>\n",
       "      <td>3.1</td>\n",
       "      <td>Upsloping</td>\n",
       "      <td>Zero</td>\n",
       "      <td>Reversable Defect</td>\n",
       "      <td>0</td>\n",
       "    </tr>\n",
       "    <tr>\n",
       "      <th>2</th>\n",
       "      <td>70</td>\n",
       "      <td>Male</td>\n",
       "      <td>Typical angina</td>\n",
       "      <td>145</td>\n",
       "      <td>174</td>\n",
       "      <td>Lower than 120 mg/ml</td>\n",
       "      <td>ST-T wave abnormality</td>\n",
       "      <td>125</td>\n",
       "      <td>Yes</td>\n",
       "      <td>2.6</td>\n",
       "      <td>Upsloping</td>\n",
       "      <td>Zero</td>\n",
       "      <td>Reversable Defect</td>\n",
       "      <td>0</td>\n",
       "    </tr>\n",
       "    <tr>\n",
       "      <th>3</th>\n",
       "      <td>61</td>\n",
       "      <td>Male</td>\n",
       "      <td>Typical angina</td>\n",
       "      <td>148</td>\n",
       "      <td>203</td>\n",
       "      <td>Lower than 120 mg/ml</td>\n",
       "      <td>ST-T wave abnormality</td>\n",
       "      <td>161</td>\n",
       "      <td>No</td>\n",
       "      <td>0.0</td>\n",
       "      <td>Downsloping</td>\n",
       "      <td>One</td>\n",
       "      <td>Reversable Defect</td>\n",
       "      <td>0</td>\n",
       "    </tr>\n",
       "    <tr>\n",
       "      <th>4</th>\n",
       "      <td>62</td>\n",
       "      <td>Female</td>\n",
       "      <td>Typical angina</td>\n",
       "      <td>138</td>\n",
       "      <td>294</td>\n",
       "      <td>Greater than 120 mg/ml</td>\n",
       "      <td>ST-T wave abnormality</td>\n",
       "      <td>106</td>\n",
       "      <td>No</td>\n",
       "      <td>1.9</td>\n",
       "      <td>Flat</td>\n",
       "      <td>Three</td>\n",
       "      <td>Fixed Defect</td>\n",
       "      <td>0</td>\n",
       "    </tr>\n",
       "    <tr>\n",
       "      <th>...</th>\n",
       "      <td>...</td>\n",
       "      <td>...</td>\n",
       "      <td>...</td>\n",
       "      <td>...</td>\n",
       "      <td>...</td>\n",
       "      <td>...</td>\n",
       "      <td>...</td>\n",
       "      <td>...</td>\n",
       "      <td>...</td>\n",
       "      <td>...</td>\n",
       "      <td>...</td>\n",
       "      <td>...</td>\n",
       "      <td>...</td>\n",
       "      <td>...</td>\n",
       "    </tr>\n",
       "    <tr>\n",
       "      <th>723</th>\n",
       "      <td>68</td>\n",
       "      <td>Female</td>\n",
       "      <td>Non-anginal pain</td>\n",
       "      <td>120</td>\n",
       "      <td>211</td>\n",
       "      <td>Lower than 120 mg/ml</td>\n",
       "      <td>Normal</td>\n",
       "      <td>115</td>\n",
       "      <td>No</td>\n",
       "      <td>1.5</td>\n",
       "      <td>Flat</td>\n",
       "      <td>Zero</td>\n",
       "      <td>Fixed Defect</td>\n",
       "      <td>1</td>\n",
       "    </tr>\n",
       "    <tr>\n",
       "      <th>733</th>\n",
       "      <td>44</td>\n",
       "      <td>Female</td>\n",
       "      <td>Non-anginal pain</td>\n",
       "      <td>108</td>\n",
       "      <td>141</td>\n",
       "      <td>Lower than 120 mg/ml</td>\n",
       "      <td>ST-T wave abnormality</td>\n",
       "      <td>175</td>\n",
       "      <td>No</td>\n",
       "      <td>0.6</td>\n",
       "      <td>Flat</td>\n",
       "      <td>Zero</td>\n",
       "      <td>Fixed Defect</td>\n",
       "      <td>1</td>\n",
       "    </tr>\n",
       "    <tr>\n",
       "      <th>739</th>\n",
       "      <td>52</td>\n",
       "      <td>Male</td>\n",
       "      <td>Typical angina</td>\n",
       "      <td>128</td>\n",
       "      <td>255</td>\n",
       "      <td>Lower than 120 mg/ml</td>\n",
       "      <td>ST-T wave abnormality</td>\n",
       "      <td>161</td>\n",
       "      <td>Yes</td>\n",
       "      <td>0.0</td>\n",
       "      <td>Downsloping</td>\n",
       "      <td>One</td>\n",
       "      <td>Reversable Defect</td>\n",
       "      <td>0</td>\n",
       "    </tr>\n",
       "    <tr>\n",
       "      <th>843</th>\n",
       "      <td>59</td>\n",
       "      <td>Male</td>\n",
       "      <td>Asymptomatic</td>\n",
       "      <td>160</td>\n",
       "      <td>273</td>\n",
       "      <td>Lower than 120 mg/ml</td>\n",
       "      <td>Normal</td>\n",
       "      <td>125</td>\n",
       "      <td>No</td>\n",
       "      <td>0.0</td>\n",
       "      <td>Downsloping</td>\n",
       "      <td>Zero</td>\n",
       "      <td>Fixed Defect</td>\n",
       "      <td>0</td>\n",
       "    </tr>\n",
       "    <tr>\n",
       "      <th>878</th>\n",
       "      <td>54</td>\n",
       "      <td>Male</td>\n",
       "      <td>Typical angina</td>\n",
       "      <td>120</td>\n",
       "      <td>188</td>\n",
       "      <td>Lower than 120 mg/ml</td>\n",
       "      <td>ST-T wave abnormality</td>\n",
       "      <td>113</td>\n",
       "      <td>No</td>\n",
       "      <td>1.4</td>\n",
       "      <td>Flat</td>\n",
       "      <td>One</td>\n",
       "      <td>Reversable Defect</td>\n",
       "      <td>0</td>\n",
       "    </tr>\n",
       "  </tbody>\n",
       "</table>\n",
       "<p>302 rows × 14 columns</p>\n",
       "</div>"
      ],
      "text/plain": [
       "     age     sex   chest_pain_type  resting_blood_pressure  cholestoral  \\\n",
       "0     52    Male    Typical angina                     125          212   \n",
       "1     53    Male    Typical angina                     140          203   \n",
       "2     70    Male    Typical angina                     145          174   \n",
       "3     61    Male    Typical angina                     148          203   \n",
       "4     62  Female    Typical angina                     138          294   \n",
       "..   ...     ...               ...                     ...          ...   \n",
       "723   68  Female  Non-anginal pain                     120          211   \n",
       "733   44  Female  Non-anginal pain                     108          141   \n",
       "739   52    Male    Typical angina                     128          255   \n",
       "843   59    Male      Asymptomatic                     160          273   \n",
       "878   54    Male    Typical angina                     120          188   \n",
       "\n",
       "        fasting_blood_sugar               rest_ecg  Max_heart_rate  \\\n",
       "0      Lower than 120 mg/ml  ST-T wave abnormality             168   \n",
       "1    Greater than 120 mg/ml                 Normal             155   \n",
       "2      Lower than 120 mg/ml  ST-T wave abnormality             125   \n",
       "3      Lower than 120 mg/ml  ST-T wave abnormality             161   \n",
       "4    Greater than 120 mg/ml  ST-T wave abnormality             106   \n",
       "..                      ...                    ...             ...   \n",
       "723    Lower than 120 mg/ml                 Normal             115   \n",
       "733    Lower than 120 mg/ml  ST-T wave abnormality             175   \n",
       "739    Lower than 120 mg/ml  ST-T wave abnormality             161   \n",
       "843    Lower than 120 mg/ml                 Normal             125   \n",
       "878    Lower than 120 mg/ml  ST-T wave abnormality             113   \n",
       "\n",
       "    exercise_induced_angina  oldpeak        slope  \\\n",
       "0                        No      1.0  Downsloping   \n",
       "1                       Yes      3.1    Upsloping   \n",
       "2                       Yes      2.6    Upsloping   \n",
       "3                        No      0.0  Downsloping   \n",
       "4                        No      1.9         Flat   \n",
       "..                      ...      ...          ...   \n",
       "723                      No      1.5         Flat   \n",
       "733                      No      0.6         Flat   \n",
       "739                     Yes      0.0  Downsloping   \n",
       "843                      No      0.0  Downsloping   \n",
       "878                      No      1.4         Flat   \n",
       "\n",
       "    vessels_colored_by_flourosopy        thalassemia  target  \n",
       "0                             Two  Reversable Defect       0  \n",
       "1                            Zero  Reversable Defect       0  \n",
       "2                            Zero  Reversable Defect       0  \n",
       "3                             One  Reversable Defect       0  \n",
       "4                           Three       Fixed Defect       0  \n",
       "..                            ...                ...     ...  \n",
       "723                          Zero       Fixed Defect       1  \n",
       "733                          Zero       Fixed Defect       1  \n",
       "739                           One  Reversable Defect       0  \n",
       "843                          Zero       Fixed Defect       0  \n",
       "878                           One  Reversable Defect       0  \n",
       "\n",
       "[302 rows x 14 columns]"
      ]
     },
     "execution_count": 87,
     "metadata": {},
     "output_type": "execute_result"
    }
   ],
   "source": [
    "heart_disease_df"
   ]
  },
  {
   "cell_type": "markdown",
   "metadata": {},
   "source": [
    "## Parallel coordinates plot"
   ]
  },
  {
   "cell_type": "markdown",
   "metadata": {},
   "source": [
    "till about ~150 of max heart rate there are majority of black coordinates"
   ]
  },
  {
   "cell_type": "code",
   "execution_count": 88,
   "metadata": {},
   "outputs": [
    {
     "data": {
      "text/html": [
       "<div>\n",
       "<style scoped>\n",
       "    .dataframe tbody tr th:only-of-type {\n",
       "        vertical-align: middle;\n",
       "    }\n",
       "\n",
       "    .dataframe tbody tr th {\n",
       "        vertical-align: top;\n",
       "    }\n",
       "\n",
       "    .dataframe thead th {\n",
       "        text-align: right;\n",
       "    }\n",
       "</style>\n",
       "<table border=\"1\" class=\"dataframe\">\n",
       "  <thead>\n",
       "    <tr style=\"text-align: right;\">\n",
       "      <th></th>\n",
       "      <th>Column</th>\n",
       "      <th>Average</th>\n",
       "      <th>Q1</th>\n",
       "      <th>Median</th>\n",
       "      <th>Q3</th>\n",
       "    </tr>\n",
       "  </thead>\n",
       "  <tbody>\n",
       "    <tr>\n",
       "      <th>0</th>\n",
       "      <td>age</td>\n",
       "      <td>54.420530</td>\n",
       "      <td>48.00</td>\n",
       "      <td>55.5</td>\n",
       "      <td>61.00</td>\n",
       "    </tr>\n",
       "    <tr>\n",
       "      <th>1</th>\n",
       "      <td>resting_blood_pressure</td>\n",
       "      <td>131.602649</td>\n",
       "      <td>120.00</td>\n",
       "      <td>130.0</td>\n",
       "      <td>140.00</td>\n",
       "    </tr>\n",
       "    <tr>\n",
       "      <th>2</th>\n",
       "      <td>cholestoral</td>\n",
       "      <td>246.500000</td>\n",
       "      <td>211.00</td>\n",
       "      <td>240.5</td>\n",
       "      <td>274.75</td>\n",
       "    </tr>\n",
       "    <tr>\n",
       "      <th>3</th>\n",
       "      <td>Max_heart_rate</td>\n",
       "      <td>149.569536</td>\n",
       "      <td>133.25</td>\n",
       "      <td>152.5</td>\n",
       "      <td>166.00</td>\n",
       "    </tr>\n",
       "    <tr>\n",
       "      <th>4</th>\n",
       "      <td>oldpeak</td>\n",
       "      <td>1.043046</td>\n",
       "      <td>0.00</td>\n",
       "      <td>0.8</td>\n",
       "      <td>1.60</td>\n",
       "    </tr>\n",
       "    <tr>\n",
       "      <th>5</th>\n",
       "      <td>target</td>\n",
       "      <td>0.543046</td>\n",
       "      <td>0.00</td>\n",
       "      <td>1.0</td>\n",
       "      <td>1.00</td>\n",
       "    </tr>\n",
       "  </tbody>\n",
       "</table>\n",
       "</div>"
      ],
      "text/plain": [
       "                   Column     Average      Q1  Median      Q3\n",
       "0                     age   54.420530   48.00    55.5   61.00\n",
       "1  resting_blood_pressure  131.602649  120.00   130.0  140.00\n",
       "2             cholestoral  246.500000  211.00   240.5  274.75\n",
       "3          Max_heart_rate  149.569536  133.25   152.5  166.00\n",
       "4                 oldpeak    1.043046    0.00     0.8    1.60\n",
       "5                  target    0.543046    0.00     1.0    1.00"
      ]
     },
     "execution_count": 88,
     "metadata": {},
     "output_type": "execute_result"
    }
   ],
   "source": [
    "# compute [average, 1/4 quartile, 2/4 quartile median, 3/4 quartile] for columns\n",
    "\n",
    "\n",
    "# change the function to return a dataframe\n",
    "def compute_quantiles(df):\n",
    "    quantiles = []\n",
    "    for col in df.columns:\n",
    "\n",
    "        # check if column is numeric\n",
    "        if df[col].dtype not in ['int64', 'float64']:\n",
    "            # skip non-numeric columns\n",
    "            continue\n",
    "\n",
    "        # compute quantiles\n",
    "\n",
    "        q1 = df[col].quantile(0.25)\n",
    "        median = df[col].quantile(0.5)\n",
    "        q3 = df[col].quantile(0.75)\n",
    "        avg = df[col].mean()\n",
    "        quantiles.append([col, avg, q1, median, q3])\n",
    "    return pd.DataFrame(quantiles, columns=['Column', 'Average', 'Q1', 'Median', 'Q3'])\n",
    "\n",
    "# compute quantiles\n",
    "\n",
    "statistics = compute_quantiles(heart_disease_df)\n",
    "statistics\n",
    "\n"
   ]
  },
  {
   "cell_type": "code",
   "execution_count": 89,
   "metadata": {},
   "outputs": [],
   "source": [
    "columns_to_include = ['age', 'resting_blood_pressure', 'cholestoral', 'Max_heart_rate', 'oldpeak']"
   ]
  },
  {
   "cell_type": "code",
   "execution_count": 162,
   "metadata": {},
   "outputs": [
    {
     "data": {
      "application/vnd.plotly.v1+json": {
       "config": {
        "plotlyServerURL": "https://plot.ly"
       },
       "data": [
        {
         "hovertemplate": "color=no<br>age=%{x}<br>cholestoral=%{y}<extra></extra>",
         "legendgroup": "no",
         "marker": {
          "color": "#00cc96",
          "opacity": 0.2,
          "size": 9,
          "symbol": "circle"
         },
         "mode": "markers",
         "name": "no",
         "orientation": "v",
         "showlegend": true,
         "type": "scatter",
         "x": [
          52,
          53,
          70,
          61,
          62,
          58,
          55,
          46,
          54,
          43,
          51,
          52,
          54,
          60,
          61,
          58,
          56,
          55,
          44,
          57,
          70,
          46,
          57,
          61,
          66,
          60,
          57,
          49,
          55,
          67,
          57,
          67,
          59,
          42,
          62,
          59,
          61,
          56,
          59,
          48,
          63,
          50,
          49,
          59,
          62,
          68,
          53,
          65,
          47,
          51,
          62,
          40,
          54,
          44,
          57,
          59,
          63,
          43,
          60,
          61,
          58,
          57,
          63,
          61,
          40,
          41,
          54,
          58,
          63,
          77,
          48,
          56,
          56,
          54,
          56,
          64,
          56,
          60,
          57,
          64,
          67,
          58,
          50,
          50,
          65,
          46,
          57,
          60,
          57,
          62,
          55,
          35,
          38,
          67,
          58,
          58,
          58,
          62,
          45,
          66,
          57,
          70,
          63,
          60,
          60,
          43,
          62,
          59,
          59,
          58,
          48,
          58,
          58,
          59,
          35,
          45,
          68,
          51,
          47,
          65,
          67,
          52,
          63,
          69,
          58,
          44,
          60,
          67,
          64,
          66,
          55,
          65,
          61,
          39,
          64,
          52,
          59,
          54
         ],
         "xaxis": "x",
         "y": [
          212,
          203,
          174,
          203,
          294,
          318,
          289,
          249,
          286,
          341,
          298,
          204,
          266,
          185,
          307,
          319,
          256,
          327,
          169,
          131,
          269,
          231,
          229,
          330,
          228,
          230,
          241,
          188,
          217,
          212,
          232,
          299,
          288,
          315,
          164,
          326,
          207,
          249,
          177,
          256,
          187,
          233,
          149,
          249,
          268,
          193,
          282,
          248,
          275,
          299,
          281,
          223,
          206,
          197,
          335,
          218,
          254,
          177,
          282,
          260,
          225,
          274,
          197,
          234,
          167,
          172,
          283,
          300,
          330,
          304,
          274,
          184,
          283,
          239,
          288,
          246,
          409,
          293,
          289,
          309,
          286,
          234,
          200,
          243,
          254,
          311,
          236,
          258,
          261,
          244,
          353,
          198,
          231,
          237,
          224,
          259,
          270,
          267,
          309,
          246,
          276,
          322,
          269,
          206,
          253,
          247,
          263,
          176,
          204,
          230,
          229,
          284,
          218,
          239,
          282,
          264,
          274,
          305,
          243,
          225,
          229,
          230,
          407,
          254,
          216,
          290,
          258,
          254,
          212,
          212,
          205,
          282,
          166,
          219,
          335,
          255,
          273,
          188
         ],
         "yaxis": "y"
        },
        {
         "hovertemplate": "color=yes<br>age=%{x}<br>cholestoral=%{y}<extra></extra>",
         "legendgroup": "yes",
         "marker": {
          "color": "#ab63fa",
          "opacity": 0.2,
          "size": 9,
          "symbol": "circle"
         },
         "mode": "markers",
         "name": "yes",
         "orientation": "v",
         "showlegend": true,
         "type": "scatter",
         "x": [
          58,
          71,
          34,
          51,
          50,
          58,
          67,
          45,
          63,
          42,
          44,
          50,
          51,
          59,
          64,
          65,
          54,
          55,
          42,
          41,
          66,
          58,
          38,
          56,
          48,
          29,
          59,
          53,
          37,
          47,
          48,
          52,
          44,
          54,
          62,
          62,
          45,
          57,
          76,
          43,
          57,
          54,
          52,
          53,
          42,
          65,
          60,
          66,
          52,
          57,
          51,
          64,
          41,
          34,
          47,
          51,
          52,
          39,
          40,
          67,
          41,
          51,
          57,
          43,
          45,
          43,
          56,
          39,
          64,
          42,
          45,
          41,
          56,
          69,
          45,
          60,
          64,
          42,
          42,
          49,
          51,
          54,
          44,
          52,
          56,
          41,
          49,
          54,
          51,
          44,
          39,
          62,
          35,
          44,
          48,
          71,
          43,
          44,
          66,
          57,
          41,
          45,
          35,
          41,
          64,
          71,
          58,
          61,
          52,
          46,
          51,
          52,
          56,
          74,
          53,
          53,
          48,
          37,
          54,
          54,
          65,
          52,
          57,
          46,
          62,
          53,
          58,
          51,
          46,
          59,
          64,
          63,
          70,
          42,
          54,
          57,
          41,
          47,
          49,
          58,
          41,
          59,
          54,
          58,
          67,
          59,
          53,
          50,
          44,
          68,
          50,
          54,
          46,
          55,
          63,
          43,
          69,
          65,
          66,
          55,
          60,
          52,
          68,
          44
         ],
         "xaxis": "x",
         "y": [
          248,
          149,
          210,
          308,
          244,
          211,
          223,
          208,
          252,
          209,
          233,
          196,
          213,
          271,
          263,
          360,
          258,
          342,
          226,
          203,
          278,
          283,
          175,
          193,
          245,
          204,
          212,
          197,
          215,
          257,
          255,
          201,
          220,
          267,
          209,
          208,
          236,
          303,
          197,
          213,
          126,
          309,
          186,
          226,
          295,
          417,
          240,
          302,
          223,
          192,
          256,
          325,
          235,
          182,
          204,
          295,
          298,
          321,
          199,
          564,
          157,
          222,
          354,
          315,
          160,
          247,
          240,
          199,
          211,
          180,
          308,
          250,
          221,
          234,
          260,
          318,
          227,
          244,
          240,
          266,
          261,
          232,
          242,
          205,
          236,
          306,
          269,
          288,
          245,
          219,
          220,
          394,
          183,
          226,
          222,
          265,
          211,
          263,
          228,
          207,
          198,
          234,
          192,
          204,
          313,
          302,
          340,
          243,
          325,
          204,
          227,
          196,
          294,
          269,
          216,
          264,
          275,
          250,
          214,
          273,
          269,
          199,
          201,
          243,
          231,
          246,
          240,
          175,
          177,
          221,
          303,
          233,
          245,
          265,
          201,
          168,
          268,
          253,
          271,
          197,
          214,
          234,
          239,
          220,
          277,
          270,
          234,
          219,
          235,
          277,
          254,
          304,
          197,
          262,
          195,
          303,
          239,
          177,
          226,
          250,
          178,
          233,
          211,
          141
         ],
         "yaxis": "y"
        }
       ],
       "layout": {
        "legend": {
         "title": {
          "text": "Heart Disease"
         },
         "tracegroupgap": 0,
         "traceorder": "normal"
        },
        "template": {
         "data": {
          "bar": [
           {
            "error_x": {
             "color": "#f2f5fa"
            },
            "error_y": {
             "color": "#f2f5fa"
            },
            "marker": {
             "line": {
              "color": "rgb(17,17,17)",
              "width": 0.5
             },
             "pattern": {
              "fillmode": "overlay",
              "size": 10,
              "solidity": 0.2
             }
            },
            "type": "bar"
           }
          ],
          "barpolar": [
           {
            "marker": {
             "line": {
              "color": "rgb(17,17,17)",
              "width": 0.5
             },
             "pattern": {
              "fillmode": "overlay",
              "size": 10,
              "solidity": 0.2
             }
            },
            "type": "barpolar"
           }
          ],
          "carpet": [
           {
            "aaxis": {
             "endlinecolor": "#A2B1C6",
             "gridcolor": "#506784",
             "linecolor": "#506784",
             "minorgridcolor": "#506784",
             "startlinecolor": "#A2B1C6"
            },
            "baxis": {
             "endlinecolor": "#A2B1C6",
             "gridcolor": "#506784",
             "linecolor": "#506784",
             "minorgridcolor": "#506784",
             "startlinecolor": "#A2B1C6"
            },
            "type": "carpet"
           }
          ],
          "choropleth": [
           {
            "colorbar": {
             "outlinewidth": 0,
             "ticks": ""
            },
            "type": "choropleth"
           }
          ],
          "contour": [
           {
            "colorbar": {
             "outlinewidth": 0,
             "ticks": ""
            },
            "colorscale": [
             [
              0,
              "#0d0887"
             ],
             [
              0.1111111111111111,
              "#46039f"
             ],
             [
              0.2222222222222222,
              "#7201a8"
             ],
             [
              0.3333333333333333,
              "#9c179e"
             ],
             [
              0.4444444444444444,
              "#bd3786"
             ],
             [
              0.5555555555555556,
              "#d8576b"
             ],
             [
              0.6666666666666666,
              "#ed7953"
             ],
             [
              0.7777777777777778,
              "#fb9f3a"
             ],
             [
              0.8888888888888888,
              "#fdca26"
             ],
             [
              1,
              "#f0f921"
             ]
            ],
            "type": "contour"
           }
          ],
          "contourcarpet": [
           {
            "colorbar": {
             "outlinewidth": 0,
             "ticks": ""
            },
            "type": "contourcarpet"
           }
          ],
          "heatmap": [
           {
            "colorbar": {
             "outlinewidth": 0,
             "ticks": ""
            },
            "colorscale": [
             [
              0,
              "#0d0887"
             ],
             [
              0.1111111111111111,
              "#46039f"
             ],
             [
              0.2222222222222222,
              "#7201a8"
             ],
             [
              0.3333333333333333,
              "#9c179e"
             ],
             [
              0.4444444444444444,
              "#bd3786"
             ],
             [
              0.5555555555555556,
              "#d8576b"
             ],
             [
              0.6666666666666666,
              "#ed7953"
             ],
             [
              0.7777777777777778,
              "#fb9f3a"
             ],
             [
              0.8888888888888888,
              "#fdca26"
             ],
             [
              1,
              "#f0f921"
             ]
            ],
            "type": "heatmap"
           }
          ],
          "heatmapgl": [
           {
            "colorbar": {
             "outlinewidth": 0,
             "ticks": ""
            },
            "colorscale": [
             [
              0,
              "#0d0887"
             ],
             [
              0.1111111111111111,
              "#46039f"
             ],
             [
              0.2222222222222222,
              "#7201a8"
             ],
             [
              0.3333333333333333,
              "#9c179e"
             ],
             [
              0.4444444444444444,
              "#bd3786"
             ],
             [
              0.5555555555555556,
              "#d8576b"
             ],
             [
              0.6666666666666666,
              "#ed7953"
             ],
             [
              0.7777777777777778,
              "#fb9f3a"
             ],
             [
              0.8888888888888888,
              "#fdca26"
             ],
             [
              1,
              "#f0f921"
             ]
            ],
            "type": "heatmapgl"
           }
          ],
          "histogram": [
           {
            "marker": {
             "pattern": {
              "fillmode": "overlay",
              "size": 10,
              "solidity": 0.2
             }
            },
            "type": "histogram"
           }
          ],
          "histogram2d": [
           {
            "colorbar": {
             "outlinewidth": 0,
             "ticks": ""
            },
            "colorscale": [
             [
              0,
              "#0d0887"
             ],
             [
              0.1111111111111111,
              "#46039f"
             ],
             [
              0.2222222222222222,
              "#7201a8"
             ],
             [
              0.3333333333333333,
              "#9c179e"
             ],
             [
              0.4444444444444444,
              "#bd3786"
             ],
             [
              0.5555555555555556,
              "#d8576b"
             ],
             [
              0.6666666666666666,
              "#ed7953"
             ],
             [
              0.7777777777777778,
              "#fb9f3a"
             ],
             [
              0.8888888888888888,
              "#fdca26"
             ],
             [
              1,
              "#f0f921"
             ]
            ],
            "type": "histogram2d"
           }
          ],
          "histogram2dcontour": [
           {
            "colorbar": {
             "outlinewidth": 0,
             "ticks": ""
            },
            "colorscale": [
             [
              0,
              "#0d0887"
             ],
             [
              0.1111111111111111,
              "#46039f"
             ],
             [
              0.2222222222222222,
              "#7201a8"
             ],
             [
              0.3333333333333333,
              "#9c179e"
             ],
             [
              0.4444444444444444,
              "#bd3786"
             ],
             [
              0.5555555555555556,
              "#d8576b"
             ],
             [
              0.6666666666666666,
              "#ed7953"
             ],
             [
              0.7777777777777778,
              "#fb9f3a"
             ],
             [
              0.8888888888888888,
              "#fdca26"
             ],
             [
              1,
              "#f0f921"
             ]
            ],
            "type": "histogram2dcontour"
           }
          ],
          "mesh3d": [
           {
            "colorbar": {
             "outlinewidth": 0,
             "ticks": ""
            },
            "type": "mesh3d"
           }
          ],
          "parcoords": [
           {
            "line": {
             "colorbar": {
              "outlinewidth": 0,
              "ticks": ""
             }
            },
            "type": "parcoords"
           }
          ],
          "pie": [
           {
            "automargin": true,
            "type": "pie"
           }
          ],
          "scatter": [
           {
            "marker": {
             "line": {
              "color": "#283442"
             }
            },
            "type": "scatter"
           }
          ],
          "scatter3d": [
           {
            "line": {
             "colorbar": {
              "outlinewidth": 0,
              "ticks": ""
             }
            },
            "marker": {
             "colorbar": {
              "outlinewidth": 0,
              "ticks": ""
             }
            },
            "type": "scatter3d"
           }
          ],
          "scattercarpet": [
           {
            "marker": {
             "colorbar": {
              "outlinewidth": 0,
              "ticks": ""
             }
            },
            "type": "scattercarpet"
           }
          ],
          "scattergeo": [
           {
            "marker": {
             "colorbar": {
              "outlinewidth": 0,
              "ticks": ""
             }
            },
            "type": "scattergeo"
           }
          ],
          "scattergl": [
           {
            "marker": {
             "line": {
              "color": "#283442"
             }
            },
            "type": "scattergl"
           }
          ],
          "scattermapbox": [
           {
            "marker": {
             "colorbar": {
              "outlinewidth": 0,
              "ticks": ""
             }
            },
            "type": "scattermapbox"
           }
          ],
          "scatterpolar": [
           {
            "marker": {
             "colorbar": {
              "outlinewidth": 0,
              "ticks": ""
             }
            },
            "type": "scatterpolar"
           }
          ],
          "scatterpolargl": [
           {
            "marker": {
             "colorbar": {
              "outlinewidth": 0,
              "ticks": ""
             }
            },
            "type": "scatterpolargl"
           }
          ],
          "scatterternary": [
           {
            "marker": {
             "colorbar": {
              "outlinewidth": 0,
              "ticks": ""
             }
            },
            "type": "scatterternary"
           }
          ],
          "surface": [
           {
            "colorbar": {
             "outlinewidth": 0,
             "ticks": ""
            },
            "colorscale": [
             [
              0,
              "#0d0887"
             ],
             [
              0.1111111111111111,
              "#46039f"
             ],
             [
              0.2222222222222222,
              "#7201a8"
             ],
             [
              0.3333333333333333,
              "#9c179e"
             ],
             [
              0.4444444444444444,
              "#bd3786"
             ],
             [
              0.5555555555555556,
              "#d8576b"
             ],
             [
              0.6666666666666666,
              "#ed7953"
             ],
             [
              0.7777777777777778,
              "#fb9f3a"
             ],
             [
              0.8888888888888888,
              "#fdca26"
             ],
             [
              1,
              "#f0f921"
             ]
            ],
            "type": "surface"
           }
          ],
          "table": [
           {
            "cells": {
             "fill": {
              "color": "#506784"
             },
             "line": {
              "color": "rgb(17,17,17)"
             }
            },
            "header": {
             "fill": {
              "color": "#2a3f5f"
             },
             "line": {
              "color": "rgb(17,17,17)"
             }
            },
            "type": "table"
           }
          ]
         },
         "layout": {
          "annotationdefaults": {
           "arrowcolor": "#f2f5fa",
           "arrowhead": 0,
           "arrowwidth": 1
          },
          "autotypenumbers": "strict",
          "coloraxis": {
           "colorbar": {
            "outlinewidth": 0,
            "ticks": ""
           }
          },
          "colorscale": {
           "diverging": [
            [
             0,
             "#8e0152"
            ],
            [
             0.1,
             "#c51b7d"
            ],
            [
             0.2,
             "#de77ae"
            ],
            [
             0.3,
             "#f1b6da"
            ],
            [
             0.4,
             "#fde0ef"
            ],
            [
             0.5,
             "#f7f7f7"
            ],
            [
             0.6,
             "#e6f5d0"
            ],
            [
             0.7,
             "#b8e186"
            ],
            [
             0.8,
             "#7fbc41"
            ],
            [
             0.9,
             "#4d9221"
            ],
            [
             1,
             "#276419"
            ]
           ],
           "sequential": [
            [
             0,
             "#0d0887"
            ],
            [
             0.1111111111111111,
             "#46039f"
            ],
            [
             0.2222222222222222,
             "#7201a8"
            ],
            [
             0.3333333333333333,
             "#9c179e"
            ],
            [
             0.4444444444444444,
             "#bd3786"
            ],
            [
             0.5555555555555556,
             "#d8576b"
            ],
            [
             0.6666666666666666,
             "#ed7953"
            ],
            [
             0.7777777777777778,
             "#fb9f3a"
            ],
            [
             0.8888888888888888,
             "#fdca26"
            ],
            [
             1,
             "#f0f921"
            ]
           ],
           "sequentialminus": [
            [
             0,
             "#0d0887"
            ],
            [
             0.1111111111111111,
             "#46039f"
            ],
            [
             0.2222222222222222,
             "#7201a8"
            ],
            [
             0.3333333333333333,
             "#9c179e"
            ],
            [
             0.4444444444444444,
             "#bd3786"
            ],
            [
             0.5555555555555556,
             "#d8576b"
            ],
            [
             0.6666666666666666,
             "#ed7953"
            ],
            [
             0.7777777777777778,
             "#fb9f3a"
            ],
            [
             0.8888888888888888,
             "#fdca26"
            ],
            [
             1,
             "#f0f921"
            ]
           ]
          },
          "colorway": [
           "#636efa",
           "#EF553B",
           "#00cc96",
           "#ab63fa",
           "#FFA15A",
           "#19d3f3",
           "#FF6692",
           "#B6E880",
           "#FF97FF",
           "#FECB52"
          ],
          "font": {
           "color": "#f2f5fa",
           "family": "monospace",
           "size": 14
          },
          "geo": {
           "bgcolor": "rgb(17,17,17)",
           "lakecolor": "rgb(17,17,17)",
           "landcolor": "rgb(17,17,17)",
           "showlakes": true,
           "showland": true,
           "subunitcolor": "#506784"
          },
          "hoverlabel": {
           "align": "left"
          },
          "hovermode": "closest",
          "mapbox": {
           "style": "dark"
          },
          "paper_bgcolor": "rgb(17,17,17)",
          "plot_bgcolor": "rgb(17,17,17)",
          "polar": {
           "angularaxis": {
            "gridcolor": "#506784",
            "linecolor": "#506784",
            "ticks": ""
           },
           "bgcolor": "rgb(17,17,17)",
           "radialaxis": {
            "gridcolor": "#506784",
            "linecolor": "#506784",
            "ticks": ""
           }
          },
          "scene": {
           "xaxis": {
            "backgroundcolor": "rgb(17,17,17)",
            "gridcolor": "#506784",
            "gridwidth": 2,
            "linecolor": "#506784",
            "showbackground": true,
            "ticks": "",
            "zerolinecolor": "#C8D4E3"
           },
           "yaxis": {
            "backgroundcolor": "rgb(17,17,17)",
            "gridcolor": "#506784",
            "gridwidth": 2,
            "linecolor": "#506784",
            "showbackground": true,
            "ticks": "",
            "zerolinecolor": "#C8D4E3"
           },
           "zaxis": {
            "backgroundcolor": "rgb(17,17,17)",
            "gridcolor": "#506784",
            "gridwidth": 2,
            "linecolor": "#506784",
            "showbackground": true,
            "ticks": "",
            "zerolinecolor": "#C8D4E3"
           }
          },
          "shapedefaults": {
           "line": {
            "color": "#f2f5fa"
           }
          },
          "sliderdefaults": {
           "bgcolor": "#C8D4E3",
           "bordercolor": "rgb(17,17,17)",
           "borderwidth": 1,
           "tickwidth": 0
          },
          "ternary": {
           "aaxis": {
            "gridcolor": "#506784",
            "linecolor": "#506784",
            "ticks": ""
           },
           "baxis": {
            "gridcolor": "#506784",
            "linecolor": "#506784",
            "ticks": ""
           },
           "bgcolor": "rgb(17,17,17)",
           "caxis": {
            "gridcolor": "#506784",
            "linecolor": "#506784",
            "ticks": ""
           }
          },
          "title": {
           "x": 0.05
          },
          "updatemenudefaults": {
           "bgcolor": "#506784",
           "borderwidth": 0
          },
          "xaxis": {
           "automargin": true,
           "gridcolor": "#283442",
           "linecolor": "#506784",
           "ticks": "",
           "title": {
            "standoff": 15
           },
           "zerolinecolor": "#283442",
           "zerolinewidth": 2
          },
          "yaxis": {
           "automargin": true,
           "gridcolor": "#283442",
           "linecolor": "#506784",
           "ticks": "",
           "title": {
            "standoff": 15
           },
           "zerolinecolor": "#283442",
           "zerolinewidth": 2
          }
         }
        },
        "title": {
         "text": "Cholesterol Levels by Age and Heart Disease Status"
        },
        "xaxis": {
         "anchor": "y",
         "domain": [
          0,
          1
         ],
         "title": {
          "text": "Age"
         }
        },
        "yaxis": {
         "anchor": "x",
         "domain": [
          0,
          1
         ],
         "title": {
          "text": "Cholesterol"
         }
        }
       }
      }
     },
     "metadata": {},
     "output_type": "display_data"
    }
   ],
   "source": [
    "# mark boxplots on parallel coordinates plot\n",
    "def plot_parallel_coordinates(df, quantiles, column_mapping):\n",
    "\n",
    "    color_map = {0: 'no', 1: 'yes'}\n",
    "\n",
    "    fig = px.scatter(\n",
    "        df,\n",
    "        x='age',\n",
    "        y='cholestoral',\n",
    "        color=df['target'].map(color_map),\n",
    "        color_discrete_map=color_map,\n",
    "        title='Cholesterol Levels by Age and Heart Disease Status'\n",
    "    )\n",
    "\n",
    "    fig.update_traces(marker=dict(size=5))\n",
    "\n",
    "    fig.update_layout(\n",
    "        legend_title_text='Heart Disease',\n",
    "        xaxis_title='Age',\n",
    "        yaxis_title='Cholesterol'\n",
    "    )\n",
    "    fig.update_layout(legend_traceorder='normal')\n",
    "\n",
    "    # change legend titles -> green = no heart disease, red = heart disease\n",
    "    fig.update_traces(\n",
    "        marker=dict(\n",
    "            size=9,\n",
    "            opacity=0.2,\n",
    "        )\n",
    "    )\n",
    "\n",
    "    # change color labels\n",
    "    # change theme\n",
    "    # fig.update_layout(template='plotly_dark')\n",
    "\n",
    "    # save\n",
    "    fig.write_image(\"eda/parallel_coordinates_plot.png\")\n",
    "\n",
    "    fig.show()\n",
    "\n",
    "# plot parallel coordinates with boxplots\n",
    "plot_parallel_coordinates(heart_disease_df, statistics, column_mapping)"
   ]
  },
  {
   "cell_type": "markdown",
   "metadata": {},
   "source": [
    "1. **Age**:\n",
    "- The age range spans from 29 to 77 years.\n",
    "- There is no clear distinction in age distribution between individuals with and without heart disease.\n",
    "\n",
    "2. **Resting Blood Pressure**:\n",
    "- Values range from 94 to 200 mmHg.\n",
    "- Individuals with heart disease (red lines) tend to have higher resting blood pressure compared to those without heart disease (blue lines).\n",
    "\n",
    "3. **Cholesterol**:\n",
    "- Cholesterol levels range from 126 to 564 mg/dL.\n",
    "- There is a wide spread of cholesterol levels for both groups, but individuals with heart disease show a tendency towards higher cholesterol levels.\n",
    "\n",
    "4. **Max Heart Rate**:\n",
    "- The maximum heart rate achieved ranges from 71 to 202 bpm.\n",
    "- Individuals with heart disease generally have lower maximum heart rates compared to those without heart disease.\n",
    "\n",
    "5. **Oldpeak**:\n",
    "- Oldpeak values range from 0 to 6.2.\n",
    "- Individuals with heart disease tend to have higher Oldpeak values, indicating more significant ST depression during exercise."
   ]
  },
  {
   "cell_type": "code",
   "execution_count": 91,
   "metadata": {},
   "outputs": [
    {
     "data": {
      "application/vnd.plotly.v1+json": {
       "config": {
        "plotlyServerURL": "https://plot.ly"
       },
       "data": [
        {
         "alignmentgroup": "True",
         "hovertemplate": "Heart Disease=%{x}<br>Age=%{y}<extra></extra>",
         "legendgroup": "0",
         "marker": {
          "color": "#636efa"
         },
         "name": "0",
         "notched": false,
         "offsetgroup": "0",
         "orientation": "v",
         "showlegend": true,
         "type": "box",
         "x": [
          0,
          0,
          0,
          0,
          0,
          0,
          0,
          0,
          0,
          0,
          0,
          0,
          0,
          0,
          0,
          0,
          0,
          0,
          0,
          0,
          0,
          0,
          0,
          0,
          0,
          0,
          0,
          0,
          0,
          0,
          0,
          0,
          0,
          0,
          0,
          0,
          0,
          0,
          0,
          0,
          0,
          0,
          0,
          0,
          0,
          0,
          0,
          0,
          0,
          0,
          0,
          0,
          0,
          0,
          0,
          0,
          0,
          0,
          0,
          0,
          0,
          0,
          0,
          0,
          0,
          0,
          0,
          0,
          0,
          0,
          0,
          0,
          0,
          0,
          0,
          0,
          0,
          0,
          0,
          0,
          0,
          0,
          0,
          0,
          0,
          0,
          0,
          0,
          0,
          0,
          0,
          0,
          0,
          0,
          0,
          0,
          0,
          0,
          0,
          0,
          0,
          0,
          0,
          0,
          0,
          0,
          0,
          0,
          0,
          0,
          0,
          0,
          0,
          0,
          0,
          0,
          0,
          0,
          0,
          0,
          0,
          0,
          0,
          0,
          0,
          0,
          0,
          0,
          0,
          0,
          0,
          0,
          0,
          0,
          0,
          0,
          0,
          0
         ],
         "x0": " ",
         "xaxis": "x",
         "y": [
          52,
          53,
          70,
          61,
          62,
          58,
          55,
          46,
          54,
          43,
          51,
          52,
          54,
          60,
          61,
          58,
          56,
          55,
          44,
          57,
          70,
          46,
          57,
          61,
          66,
          60,
          57,
          49,
          55,
          67,
          57,
          67,
          59,
          42,
          62,
          59,
          61,
          56,
          59,
          48,
          63,
          50,
          49,
          59,
          62,
          68,
          53,
          65,
          47,
          51,
          62,
          40,
          54,
          44,
          57,
          59,
          63,
          43,
          60,
          61,
          58,
          57,
          63,
          61,
          40,
          41,
          54,
          58,
          63,
          77,
          48,
          56,
          56,
          54,
          56,
          64,
          56,
          60,
          57,
          64,
          67,
          58,
          50,
          50,
          65,
          46,
          57,
          60,
          57,
          62,
          55,
          35,
          38,
          67,
          58,
          58,
          58,
          62,
          45,
          66,
          57,
          70,
          63,
          60,
          60,
          43,
          62,
          59,
          59,
          58,
          48,
          58,
          58,
          59,
          35,
          45,
          68,
          51,
          47,
          65,
          67,
          52,
          63,
          69,
          58,
          44,
          60,
          67,
          64,
          66,
          55,
          65,
          61,
          39,
          64,
          52,
          59,
          54
         ],
         "y0": " ",
         "yaxis": "y"
        },
        {
         "alignmentgroup": "True",
         "hovertemplate": "Heart Disease=%{x}<br>Age=%{y}<extra></extra>",
         "legendgroup": "1",
         "marker": {
          "color": "#EF553B"
         },
         "name": "1",
         "notched": false,
         "offsetgroup": "1",
         "orientation": "v",
         "showlegend": true,
         "type": "box",
         "x": [
          1,
          1,
          1,
          1,
          1,
          1,
          1,
          1,
          1,
          1,
          1,
          1,
          1,
          1,
          1,
          1,
          1,
          1,
          1,
          1,
          1,
          1,
          1,
          1,
          1,
          1,
          1,
          1,
          1,
          1,
          1,
          1,
          1,
          1,
          1,
          1,
          1,
          1,
          1,
          1,
          1,
          1,
          1,
          1,
          1,
          1,
          1,
          1,
          1,
          1,
          1,
          1,
          1,
          1,
          1,
          1,
          1,
          1,
          1,
          1,
          1,
          1,
          1,
          1,
          1,
          1,
          1,
          1,
          1,
          1,
          1,
          1,
          1,
          1,
          1,
          1,
          1,
          1,
          1,
          1,
          1,
          1,
          1,
          1,
          1,
          1,
          1,
          1,
          1,
          1,
          1,
          1,
          1,
          1,
          1,
          1,
          1,
          1,
          1,
          1,
          1,
          1,
          1,
          1,
          1,
          1,
          1,
          1,
          1,
          1,
          1,
          1,
          1,
          1,
          1,
          1,
          1,
          1,
          1,
          1,
          1,
          1,
          1,
          1,
          1,
          1,
          1,
          1,
          1,
          1,
          1,
          1,
          1,
          1,
          1,
          1,
          1,
          1,
          1,
          1,
          1,
          1,
          1,
          1,
          1,
          1,
          1,
          1,
          1,
          1,
          1,
          1,
          1,
          1,
          1,
          1,
          1,
          1,
          1,
          1,
          1,
          1,
          1,
          1
         ],
         "x0": " ",
         "xaxis": "x",
         "y": [
          58,
          71,
          34,
          51,
          50,
          58,
          67,
          45,
          63,
          42,
          44,
          50,
          51,
          59,
          64,
          65,
          54,
          55,
          42,
          41,
          66,
          58,
          38,
          56,
          48,
          29,
          59,
          53,
          37,
          47,
          48,
          52,
          44,
          54,
          62,
          62,
          45,
          57,
          76,
          43,
          57,
          54,
          52,
          53,
          42,
          65,
          60,
          66,
          52,
          57,
          51,
          64,
          41,
          34,
          47,
          51,
          52,
          39,
          40,
          67,
          41,
          51,
          57,
          43,
          45,
          43,
          56,
          39,
          64,
          42,
          45,
          41,
          56,
          69,
          45,
          60,
          64,
          42,
          42,
          49,
          51,
          54,
          44,
          52,
          56,
          41,
          49,
          54,
          51,
          44,
          39,
          62,
          35,
          44,
          48,
          71,
          43,
          44,
          66,
          57,
          41,
          45,
          35,
          41,
          64,
          71,
          58,
          61,
          52,
          46,
          51,
          52,
          56,
          74,
          53,
          53,
          48,
          37,
          54,
          54,
          65,
          52,
          57,
          46,
          62,
          53,
          58,
          51,
          46,
          59,
          64,
          63,
          70,
          42,
          54,
          57,
          41,
          47,
          49,
          58,
          41,
          59,
          54,
          58,
          67,
          59,
          53,
          50,
          44,
          68,
          50,
          54,
          46,
          55,
          63,
          43,
          69,
          65,
          66,
          55,
          60,
          52,
          68,
          44
         ],
         "y0": " ",
         "yaxis": "y"
        }
       ],
       "layout": {
        "boxmode": "overlay",
        "legend": {
         "title": {
          "text": "Heart Disease"
         },
         "tracegroupgap": 0
        },
        "template": {
         "data": {
          "bar": [
           {
            "error_x": {
             "color": "#f2f5fa"
            },
            "error_y": {
             "color": "#f2f5fa"
            },
            "marker": {
             "line": {
              "color": "rgb(17,17,17)",
              "width": 0.5
             },
             "pattern": {
              "fillmode": "overlay",
              "size": 10,
              "solidity": 0.2
             }
            },
            "type": "bar"
           }
          ],
          "barpolar": [
           {
            "marker": {
             "line": {
              "color": "rgb(17,17,17)",
              "width": 0.5
             },
             "pattern": {
              "fillmode": "overlay",
              "size": 10,
              "solidity": 0.2
             }
            },
            "type": "barpolar"
           }
          ],
          "carpet": [
           {
            "aaxis": {
             "endlinecolor": "#A2B1C6",
             "gridcolor": "#506784",
             "linecolor": "#506784",
             "minorgridcolor": "#506784",
             "startlinecolor": "#A2B1C6"
            },
            "baxis": {
             "endlinecolor": "#A2B1C6",
             "gridcolor": "#506784",
             "linecolor": "#506784",
             "minorgridcolor": "#506784",
             "startlinecolor": "#A2B1C6"
            },
            "type": "carpet"
           }
          ],
          "choropleth": [
           {
            "colorbar": {
             "outlinewidth": 0,
             "ticks": ""
            },
            "type": "choropleth"
           }
          ],
          "contour": [
           {
            "colorbar": {
             "outlinewidth": 0,
             "ticks": ""
            },
            "colorscale": [
             [
              0,
              "#0d0887"
             ],
             [
              0.1111111111111111,
              "#46039f"
             ],
             [
              0.2222222222222222,
              "#7201a8"
             ],
             [
              0.3333333333333333,
              "#9c179e"
             ],
             [
              0.4444444444444444,
              "#bd3786"
             ],
             [
              0.5555555555555556,
              "#d8576b"
             ],
             [
              0.6666666666666666,
              "#ed7953"
             ],
             [
              0.7777777777777778,
              "#fb9f3a"
             ],
             [
              0.8888888888888888,
              "#fdca26"
             ],
             [
              1,
              "#f0f921"
             ]
            ],
            "type": "contour"
           }
          ],
          "contourcarpet": [
           {
            "colorbar": {
             "outlinewidth": 0,
             "ticks": ""
            },
            "type": "contourcarpet"
           }
          ],
          "heatmap": [
           {
            "colorbar": {
             "outlinewidth": 0,
             "ticks": ""
            },
            "colorscale": [
             [
              0,
              "#0d0887"
             ],
             [
              0.1111111111111111,
              "#46039f"
             ],
             [
              0.2222222222222222,
              "#7201a8"
             ],
             [
              0.3333333333333333,
              "#9c179e"
             ],
             [
              0.4444444444444444,
              "#bd3786"
             ],
             [
              0.5555555555555556,
              "#d8576b"
             ],
             [
              0.6666666666666666,
              "#ed7953"
             ],
             [
              0.7777777777777778,
              "#fb9f3a"
             ],
             [
              0.8888888888888888,
              "#fdca26"
             ],
             [
              1,
              "#f0f921"
             ]
            ],
            "type": "heatmap"
           }
          ],
          "heatmapgl": [
           {
            "colorbar": {
             "outlinewidth": 0,
             "ticks": ""
            },
            "colorscale": [
             [
              0,
              "#0d0887"
             ],
             [
              0.1111111111111111,
              "#46039f"
             ],
             [
              0.2222222222222222,
              "#7201a8"
             ],
             [
              0.3333333333333333,
              "#9c179e"
             ],
             [
              0.4444444444444444,
              "#bd3786"
             ],
             [
              0.5555555555555556,
              "#d8576b"
             ],
             [
              0.6666666666666666,
              "#ed7953"
             ],
             [
              0.7777777777777778,
              "#fb9f3a"
             ],
             [
              0.8888888888888888,
              "#fdca26"
             ],
             [
              1,
              "#f0f921"
             ]
            ],
            "type": "heatmapgl"
           }
          ],
          "histogram": [
           {
            "marker": {
             "pattern": {
              "fillmode": "overlay",
              "size": 10,
              "solidity": 0.2
             }
            },
            "type": "histogram"
           }
          ],
          "histogram2d": [
           {
            "colorbar": {
             "outlinewidth": 0,
             "ticks": ""
            },
            "colorscale": [
             [
              0,
              "#0d0887"
             ],
             [
              0.1111111111111111,
              "#46039f"
             ],
             [
              0.2222222222222222,
              "#7201a8"
             ],
             [
              0.3333333333333333,
              "#9c179e"
             ],
             [
              0.4444444444444444,
              "#bd3786"
             ],
             [
              0.5555555555555556,
              "#d8576b"
             ],
             [
              0.6666666666666666,
              "#ed7953"
             ],
             [
              0.7777777777777778,
              "#fb9f3a"
             ],
             [
              0.8888888888888888,
              "#fdca26"
             ],
             [
              1,
              "#f0f921"
             ]
            ],
            "type": "histogram2d"
           }
          ],
          "histogram2dcontour": [
           {
            "colorbar": {
             "outlinewidth": 0,
             "ticks": ""
            },
            "colorscale": [
             [
              0,
              "#0d0887"
             ],
             [
              0.1111111111111111,
              "#46039f"
             ],
             [
              0.2222222222222222,
              "#7201a8"
             ],
             [
              0.3333333333333333,
              "#9c179e"
             ],
             [
              0.4444444444444444,
              "#bd3786"
             ],
             [
              0.5555555555555556,
              "#d8576b"
             ],
             [
              0.6666666666666666,
              "#ed7953"
             ],
             [
              0.7777777777777778,
              "#fb9f3a"
             ],
             [
              0.8888888888888888,
              "#fdca26"
             ],
             [
              1,
              "#f0f921"
             ]
            ],
            "type": "histogram2dcontour"
           }
          ],
          "mesh3d": [
           {
            "colorbar": {
             "outlinewidth": 0,
             "ticks": ""
            },
            "type": "mesh3d"
           }
          ],
          "parcoords": [
           {
            "line": {
             "colorbar": {
              "outlinewidth": 0,
              "ticks": ""
             }
            },
            "type": "parcoords"
           }
          ],
          "pie": [
           {
            "automargin": true,
            "type": "pie"
           }
          ],
          "scatter": [
           {
            "marker": {
             "line": {
              "color": "#283442"
             }
            },
            "type": "scatter"
           }
          ],
          "scatter3d": [
           {
            "line": {
             "colorbar": {
              "outlinewidth": 0,
              "ticks": ""
             }
            },
            "marker": {
             "colorbar": {
              "outlinewidth": 0,
              "ticks": ""
             }
            },
            "type": "scatter3d"
           }
          ],
          "scattercarpet": [
           {
            "marker": {
             "colorbar": {
              "outlinewidth": 0,
              "ticks": ""
             }
            },
            "type": "scattercarpet"
           }
          ],
          "scattergeo": [
           {
            "marker": {
             "colorbar": {
              "outlinewidth": 0,
              "ticks": ""
             }
            },
            "type": "scattergeo"
           }
          ],
          "scattergl": [
           {
            "marker": {
             "line": {
              "color": "#283442"
             }
            },
            "type": "scattergl"
           }
          ],
          "scattermapbox": [
           {
            "marker": {
             "colorbar": {
              "outlinewidth": 0,
              "ticks": ""
             }
            },
            "type": "scattermapbox"
           }
          ],
          "scatterpolar": [
           {
            "marker": {
             "colorbar": {
              "outlinewidth": 0,
              "ticks": ""
             }
            },
            "type": "scatterpolar"
           }
          ],
          "scatterpolargl": [
           {
            "marker": {
             "colorbar": {
              "outlinewidth": 0,
              "ticks": ""
             }
            },
            "type": "scatterpolargl"
           }
          ],
          "scatterternary": [
           {
            "marker": {
             "colorbar": {
              "outlinewidth": 0,
              "ticks": ""
             }
            },
            "type": "scatterternary"
           }
          ],
          "surface": [
           {
            "colorbar": {
             "outlinewidth": 0,
             "ticks": ""
            },
            "colorscale": [
             [
              0,
              "#0d0887"
             ],
             [
              0.1111111111111111,
              "#46039f"
             ],
             [
              0.2222222222222222,
              "#7201a8"
             ],
             [
              0.3333333333333333,
              "#9c179e"
             ],
             [
              0.4444444444444444,
              "#bd3786"
             ],
             [
              0.5555555555555556,
              "#d8576b"
             ],
             [
              0.6666666666666666,
              "#ed7953"
             ],
             [
              0.7777777777777778,
              "#fb9f3a"
             ],
             [
              0.8888888888888888,
              "#fdca26"
             ],
             [
              1,
              "#f0f921"
             ]
            ],
            "type": "surface"
           }
          ],
          "table": [
           {
            "cells": {
             "fill": {
              "color": "#506784"
             },
             "line": {
              "color": "rgb(17,17,17)"
             }
            },
            "header": {
             "fill": {
              "color": "#2a3f5f"
             },
             "line": {
              "color": "rgb(17,17,17)"
             }
            },
            "type": "table"
           }
          ]
         },
         "layout": {
          "annotationdefaults": {
           "arrowcolor": "#f2f5fa",
           "arrowhead": 0,
           "arrowwidth": 1
          },
          "autotypenumbers": "strict",
          "coloraxis": {
           "colorbar": {
            "outlinewidth": 0,
            "ticks": ""
           }
          },
          "colorscale": {
           "diverging": [
            [
             0,
             "#8e0152"
            ],
            [
             0.1,
             "#c51b7d"
            ],
            [
             0.2,
             "#de77ae"
            ],
            [
             0.3,
             "#f1b6da"
            ],
            [
             0.4,
             "#fde0ef"
            ],
            [
             0.5,
             "#f7f7f7"
            ],
            [
             0.6,
             "#e6f5d0"
            ],
            [
             0.7,
             "#b8e186"
            ],
            [
             0.8,
             "#7fbc41"
            ],
            [
             0.9,
             "#4d9221"
            ],
            [
             1,
             "#276419"
            ]
           ],
           "sequential": [
            [
             0,
             "#0d0887"
            ],
            [
             0.1111111111111111,
             "#46039f"
            ],
            [
             0.2222222222222222,
             "#7201a8"
            ],
            [
             0.3333333333333333,
             "#9c179e"
            ],
            [
             0.4444444444444444,
             "#bd3786"
            ],
            [
             0.5555555555555556,
             "#d8576b"
            ],
            [
             0.6666666666666666,
             "#ed7953"
            ],
            [
             0.7777777777777778,
             "#fb9f3a"
            ],
            [
             0.8888888888888888,
             "#fdca26"
            ],
            [
             1,
             "#f0f921"
            ]
           ],
           "sequentialminus": [
            [
             0,
             "#0d0887"
            ],
            [
             0.1111111111111111,
             "#46039f"
            ],
            [
             0.2222222222222222,
             "#7201a8"
            ],
            [
             0.3333333333333333,
             "#9c179e"
            ],
            [
             0.4444444444444444,
             "#bd3786"
            ],
            [
             0.5555555555555556,
             "#d8576b"
            ],
            [
             0.6666666666666666,
             "#ed7953"
            ],
            [
             0.7777777777777778,
             "#fb9f3a"
            ],
            [
             0.8888888888888888,
             "#fdca26"
            ],
            [
             1,
             "#f0f921"
            ]
           ]
          },
          "colorway": [
           "#636efa",
           "#EF553B",
           "#00cc96",
           "#ab63fa",
           "#FFA15A",
           "#19d3f3",
           "#FF6692",
           "#B6E880",
           "#FF97FF",
           "#FECB52"
          ],
          "font": {
           "color": "#f2f5fa",
           "family": "monospace",
           "size": 14
          },
          "geo": {
           "bgcolor": "rgb(17,17,17)",
           "lakecolor": "rgb(17,17,17)",
           "landcolor": "rgb(17,17,17)",
           "showlakes": true,
           "showland": true,
           "subunitcolor": "#506784"
          },
          "hoverlabel": {
           "align": "left"
          },
          "hovermode": "closest",
          "mapbox": {
           "style": "dark"
          },
          "paper_bgcolor": "rgb(17,17,17)",
          "plot_bgcolor": "rgb(17,17,17)",
          "polar": {
           "angularaxis": {
            "gridcolor": "#506784",
            "linecolor": "#506784",
            "ticks": ""
           },
           "bgcolor": "rgb(17,17,17)",
           "radialaxis": {
            "gridcolor": "#506784",
            "linecolor": "#506784",
            "ticks": ""
           }
          },
          "scene": {
           "xaxis": {
            "backgroundcolor": "rgb(17,17,17)",
            "gridcolor": "#506784",
            "gridwidth": 2,
            "linecolor": "#506784",
            "showbackground": true,
            "ticks": "",
            "zerolinecolor": "#C8D4E3"
           },
           "yaxis": {
            "backgroundcolor": "rgb(17,17,17)",
            "gridcolor": "#506784",
            "gridwidth": 2,
            "linecolor": "#506784",
            "showbackground": true,
            "ticks": "",
            "zerolinecolor": "#C8D4E3"
           },
           "zaxis": {
            "backgroundcolor": "rgb(17,17,17)",
            "gridcolor": "#506784",
            "gridwidth": 2,
            "linecolor": "#506784",
            "showbackground": true,
            "ticks": "",
            "zerolinecolor": "#C8D4E3"
           }
          },
          "shapedefaults": {
           "line": {
            "color": "#f2f5fa"
           }
          },
          "sliderdefaults": {
           "bgcolor": "#C8D4E3",
           "bordercolor": "rgb(17,17,17)",
           "borderwidth": 1,
           "tickwidth": 0
          },
          "ternary": {
           "aaxis": {
            "gridcolor": "#506784",
            "linecolor": "#506784",
            "ticks": ""
           },
           "baxis": {
            "gridcolor": "#506784",
            "linecolor": "#506784",
            "ticks": ""
           },
           "bgcolor": "rgb(17,17,17)",
           "caxis": {
            "gridcolor": "#506784",
            "linecolor": "#506784",
            "ticks": ""
           }
          },
          "title": {
           "x": 0.05
          },
          "updatemenudefaults": {
           "bgcolor": "#506784",
           "borderwidth": 0
          },
          "xaxis": {
           "automargin": true,
           "gridcolor": "#283442",
           "linecolor": "#506784",
           "ticks": "",
           "title": {
            "standoff": 15
           },
           "zerolinecolor": "#283442",
           "zerolinewidth": 2
          },
          "yaxis": {
           "automargin": true,
           "gridcolor": "#283442",
           "linecolor": "#506784",
           "ticks": "",
           "title": {
            "standoff": 15
           },
           "zerolinecolor": "#283442",
           "zerolinewidth": 2
          }
         }
        },
        "title": {
         "text": "Boxplot of Age by Target"
        },
        "xaxis": {
         "anchor": "y",
         "categoryarray": [
          0,
          1
         ],
         "categoryorder": "array",
         "domain": [
          0,
          1
         ],
         "title": {
          "text": "Heart Disease"
         }
        },
        "yaxis": {
         "anchor": "x",
         "domain": [
          0,
          1
         ],
         "title": {
          "text": "Age"
         }
        }
       }
      }
     },
     "metadata": {},
     "output_type": "display_data"
    },
    {
     "data": {
      "application/vnd.plotly.v1+json": {
       "config": {
        "plotlyServerURL": "https://plot.ly"
       },
       "data": [
        {
         "alignmentgroup": "True",
         "hovertemplate": "Heart Disease=%{x}<br>Resting Blood Pressure=%{y}<extra></extra>",
         "legendgroup": "0",
         "marker": {
          "color": "#636efa"
         },
         "name": "0",
         "notched": false,
         "offsetgroup": "0",
         "orientation": "v",
         "showlegend": true,
         "type": "box",
         "x": [
          0,
          0,
          0,
          0,
          0,
          0,
          0,
          0,
          0,
          0,
          0,
          0,
          0,
          0,
          0,
          0,
          0,
          0,
          0,
          0,
          0,
          0,
          0,
          0,
          0,
          0,
          0,
          0,
          0,
          0,
          0,
          0,
          0,
          0,
          0,
          0,
          0,
          0,
          0,
          0,
          0,
          0,
          0,
          0,
          0,
          0,
          0,
          0,
          0,
          0,
          0,
          0,
          0,
          0,
          0,
          0,
          0,
          0,
          0,
          0,
          0,
          0,
          0,
          0,
          0,
          0,
          0,
          0,
          0,
          0,
          0,
          0,
          0,
          0,
          0,
          0,
          0,
          0,
          0,
          0,
          0,
          0,
          0,
          0,
          0,
          0,
          0,
          0,
          0,
          0,
          0,
          0,
          0,
          0,
          0,
          0,
          0,
          0,
          0,
          0,
          0,
          0,
          0,
          0,
          0,
          0,
          0,
          0,
          0,
          0,
          0,
          0,
          0,
          0,
          0,
          0,
          0,
          0,
          0,
          0,
          0,
          0,
          0,
          0,
          0,
          0,
          0,
          0,
          0,
          0,
          0,
          0,
          0,
          0,
          0,
          0,
          0,
          0
         ],
         "x0": " ",
         "xaxis": "x",
         "y": [
          125,
          140,
          145,
          148,
          138,
          114,
          160,
          120,
          122,
          132,
          140,
          128,
          124,
          140,
          145,
          136,
          130,
          180,
          120,
          130,
          160,
          150,
          128,
          130,
          178,
          117,
          140,
          120,
          140,
          152,
          154,
          100,
          170,
          136,
          160,
          170,
          140,
          125,
          140,
          130,
          140,
          140,
          118,
          174,
          140,
          144,
          123,
          110,
          110,
          140,
          120,
          152,
          110,
          110,
          110,
          126,
          130,
          120,
          145,
          120,
          170,
          152,
          124,
          134,
          110,
          110,
          192,
          125,
          130,
          125,
          124,
          132,
          130,
          110,
          200,
          120,
          134,
          140,
          165,
          125,
          160,
          100,
          144,
          150,
          135,
          140,
          130,
          125,
          124,
          150,
          132,
          120,
          120,
          120,
          132,
          128,
          150,
          120,
          142,
          160,
          150,
          130,
          108,
          130,
          130,
          132,
          130,
          164,
          134,
          112,
          110,
          120,
          146,
          110,
          126,
          110,
          180,
          130,
          108,
          150,
          120,
          112,
          150,
          140,
          128,
          112,
          150,
          125,
          145,
          112,
          128,
          138,
          138,
          118,
          140,
          128,
          160,
          120
         ],
         "y0": " ",
         "yaxis": "y"
        },
        {
         "alignmentgroup": "True",
         "hovertemplate": "Heart Disease=%{x}<br>Resting Blood Pressure=%{y}<extra></extra>",
         "legendgroup": "1",
         "marker": {
          "color": "#EF553B"
         },
         "name": "1",
         "notched": false,
         "offsetgroup": "1",
         "orientation": "v",
         "showlegend": true,
         "type": "box",
         "x": [
          1,
          1,
          1,
          1,
          1,
          1,
          1,
          1,
          1,
          1,
          1,
          1,
          1,
          1,
          1,
          1,
          1,
          1,
          1,
          1,
          1,
          1,
          1,
          1,
          1,
          1,
          1,
          1,
          1,
          1,
          1,
          1,
          1,
          1,
          1,
          1,
          1,
          1,
          1,
          1,
          1,
          1,
          1,
          1,
          1,
          1,
          1,
          1,
          1,
          1,
          1,
          1,
          1,
          1,
          1,
          1,
          1,
          1,
          1,
          1,
          1,
          1,
          1,
          1,
          1,
          1,
          1,
          1,
          1,
          1,
          1,
          1,
          1,
          1,
          1,
          1,
          1,
          1,
          1,
          1,
          1,
          1,
          1,
          1,
          1,
          1,
          1,
          1,
          1,
          1,
          1,
          1,
          1,
          1,
          1,
          1,
          1,
          1,
          1,
          1,
          1,
          1,
          1,
          1,
          1,
          1,
          1,
          1,
          1,
          1,
          1,
          1,
          1,
          1,
          1,
          1,
          1,
          1,
          1,
          1,
          1,
          1,
          1,
          1,
          1,
          1,
          1,
          1,
          1,
          1,
          1,
          1,
          1,
          1,
          1,
          1,
          1,
          1,
          1,
          1,
          1,
          1,
          1,
          1,
          1,
          1,
          1,
          1,
          1,
          1,
          1,
          1,
          1,
          1,
          1,
          1,
          1,
          1,
          1,
          1,
          1,
          1,
          1,
          1
         ],
         "x0": " ",
         "xaxis": "x",
         "y": [
          100,
          112,
          118,
          140,
          120,
          140,
          106,
          104,
          135,
          120,
          130,
          129,
          125,
          138,
          128,
          160,
          120,
          132,
          140,
          135,
          146,
          150,
          138,
          120,
          130,
          130,
          150,
          130,
          120,
          138,
          124,
          134,
          120,
          108,
          124,
          128,
          138,
          128,
          140,
          122,
          150,
          108,
          118,
          142,
          120,
          140,
          150,
          120,
          138,
          140,
          130,
          180,
          110,
          118,
          112,
          120,
          152,
          140,
          140,
          115,
          120,
          100,
          120,
          130,
          112,
          150,
          120,
          94,
          110,
          130,
          128,
          112,
          130,
          160,
          115,
          102,
          170,
          148,
          120,
          130,
          140,
          150,
          118,
          128,
          120,
          126,
          130,
          132,
          125,
          130,
          138,
          140,
          138,
          120,
          122,
          110,
          110,
          120,
          160,
          132,
          105,
          130,
          122,
          130,
          140,
          160,
          120,
          150,
          120,
          105,
          94,
          136,
          140,
          120,
          128,
          130,
          130,
          130,
          110,
          125,
          155,
          172,
          110,
          138,
          130,
          130,
          105,
          110,
          142,
          140,
          130,
          145,
          156,
          102,
          160,
          150,
          112,
          130,
          134,
          130,
          130,
          135,
          140,
          125,
          152,
          178,
          138,
          120,
          140,
          118,
          110,
          135,
          101,
          130,
          140,
          115,
          140,
          120,
          150,
          135,
          120,
          108,
          120,
          108
         ],
         "y0": " ",
         "yaxis": "y"
        }
       ],
       "layout": {
        "boxmode": "overlay",
        "legend": {
         "title": {
          "text": "Heart Disease"
         },
         "tracegroupgap": 0
        },
        "template": {
         "data": {
          "bar": [
           {
            "error_x": {
             "color": "#f2f5fa"
            },
            "error_y": {
             "color": "#f2f5fa"
            },
            "marker": {
             "line": {
              "color": "rgb(17,17,17)",
              "width": 0.5
             },
             "pattern": {
              "fillmode": "overlay",
              "size": 10,
              "solidity": 0.2
             }
            },
            "type": "bar"
           }
          ],
          "barpolar": [
           {
            "marker": {
             "line": {
              "color": "rgb(17,17,17)",
              "width": 0.5
             },
             "pattern": {
              "fillmode": "overlay",
              "size": 10,
              "solidity": 0.2
             }
            },
            "type": "barpolar"
           }
          ],
          "carpet": [
           {
            "aaxis": {
             "endlinecolor": "#A2B1C6",
             "gridcolor": "#506784",
             "linecolor": "#506784",
             "minorgridcolor": "#506784",
             "startlinecolor": "#A2B1C6"
            },
            "baxis": {
             "endlinecolor": "#A2B1C6",
             "gridcolor": "#506784",
             "linecolor": "#506784",
             "minorgridcolor": "#506784",
             "startlinecolor": "#A2B1C6"
            },
            "type": "carpet"
           }
          ],
          "choropleth": [
           {
            "colorbar": {
             "outlinewidth": 0,
             "ticks": ""
            },
            "type": "choropleth"
           }
          ],
          "contour": [
           {
            "colorbar": {
             "outlinewidth": 0,
             "ticks": ""
            },
            "colorscale": [
             [
              0,
              "#0d0887"
             ],
             [
              0.1111111111111111,
              "#46039f"
             ],
             [
              0.2222222222222222,
              "#7201a8"
             ],
             [
              0.3333333333333333,
              "#9c179e"
             ],
             [
              0.4444444444444444,
              "#bd3786"
             ],
             [
              0.5555555555555556,
              "#d8576b"
             ],
             [
              0.6666666666666666,
              "#ed7953"
             ],
             [
              0.7777777777777778,
              "#fb9f3a"
             ],
             [
              0.8888888888888888,
              "#fdca26"
             ],
             [
              1,
              "#f0f921"
             ]
            ],
            "type": "contour"
           }
          ],
          "contourcarpet": [
           {
            "colorbar": {
             "outlinewidth": 0,
             "ticks": ""
            },
            "type": "contourcarpet"
           }
          ],
          "heatmap": [
           {
            "colorbar": {
             "outlinewidth": 0,
             "ticks": ""
            },
            "colorscale": [
             [
              0,
              "#0d0887"
             ],
             [
              0.1111111111111111,
              "#46039f"
             ],
             [
              0.2222222222222222,
              "#7201a8"
             ],
             [
              0.3333333333333333,
              "#9c179e"
             ],
             [
              0.4444444444444444,
              "#bd3786"
             ],
             [
              0.5555555555555556,
              "#d8576b"
             ],
             [
              0.6666666666666666,
              "#ed7953"
             ],
             [
              0.7777777777777778,
              "#fb9f3a"
             ],
             [
              0.8888888888888888,
              "#fdca26"
             ],
             [
              1,
              "#f0f921"
             ]
            ],
            "type": "heatmap"
           }
          ],
          "heatmapgl": [
           {
            "colorbar": {
             "outlinewidth": 0,
             "ticks": ""
            },
            "colorscale": [
             [
              0,
              "#0d0887"
             ],
             [
              0.1111111111111111,
              "#46039f"
             ],
             [
              0.2222222222222222,
              "#7201a8"
             ],
             [
              0.3333333333333333,
              "#9c179e"
             ],
             [
              0.4444444444444444,
              "#bd3786"
             ],
             [
              0.5555555555555556,
              "#d8576b"
             ],
             [
              0.6666666666666666,
              "#ed7953"
             ],
             [
              0.7777777777777778,
              "#fb9f3a"
             ],
             [
              0.8888888888888888,
              "#fdca26"
             ],
             [
              1,
              "#f0f921"
             ]
            ],
            "type": "heatmapgl"
           }
          ],
          "histogram": [
           {
            "marker": {
             "pattern": {
              "fillmode": "overlay",
              "size": 10,
              "solidity": 0.2
             }
            },
            "type": "histogram"
           }
          ],
          "histogram2d": [
           {
            "colorbar": {
             "outlinewidth": 0,
             "ticks": ""
            },
            "colorscale": [
             [
              0,
              "#0d0887"
             ],
             [
              0.1111111111111111,
              "#46039f"
             ],
             [
              0.2222222222222222,
              "#7201a8"
             ],
             [
              0.3333333333333333,
              "#9c179e"
             ],
             [
              0.4444444444444444,
              "#bd3786"
             ],
             [
              0.5555555555555556,
              "#d8576b"
             ],
             [
              0.6666666666666666,
              "#ed7953"
             ],
             [
              0.7777777777777778,
              "#fb9f3a"
             ],
             [
              0.8888888888888888,
              "#fdca26"
             ],
             [
              1,
              "#f0f921"
             ]
            ],
            "type": "histogram2d"
           }
          ],
          "histogram2dcontour": [
           {
            "colorbar": {
             "outlinewidth": 0,
             "ticks": ""
            },
            "colorscale": [
             [
              0,
              "#0d0887"
             ],
             [
              0.1111111111111111,
              "#46039f"
             ],
             [
              0.2222222222222222,
              "#7201a8"
             ],
             [
              0.3333333333333333,
              "#9c179e"
             ],
             [
              0.4444444444444444,
              "#bd3786"
             ],
             [
              0.5555555555555556,
              "#d8576b"
             ],
             [
              0.6666666666666666,
              "#ed7953"
             ],
             [
              0.7777777777777778,
              "#fb9f3a"
             ],
             [
              0.8888888888888888,
              "#fdca26"
             ],
             [
              1,
              "#f0f921"
             ]
            ],
            "type": "histogram2dcontour"
           }
          ],
          "mesh3d": [
           {
            "colorbar": {
             "outlinewidth": 0,
             "ticks": ""
            },
            "type": "mesh3d"
           }
          ],
          "parcoords": [
           {
            "line": {
             "colorbar": {
              "outlinewidth": 0,
              "ticks": ""
             }
            },
            "type": "parcoords"
           }
          ],
          "pie": [
           {
            "automargin": true,
            "type": "pie"
           }
          ],
          "scatter": [
           {
            "marker": {
             "line": {
              "color": "#283442"
             }
            },
            "type": "scatter"
           }
          ],
          "scatter3d": [
           {
            "line": {
             "colorbar": {
              "outlinewidth": 0,
              "ticks": ""
             }
            },
            "marker": {
             "colorbar": {
              "outlinewidth": 0,
              "ticks": ""
             }
            },
            "type": "scatter3d"
           }
          ],
          "scattercarpet": [
           {
            "marker": {
             "colorbar": {
              "outlinewidth": 0,
              "ticks": ""
             }
            },
            "type": "scattercarpet"
           }
          ],
          "scattergeo": [
           {
            "marker": {
             "colorbar": {
              "outlinewidth": 0,
              "ticks": ""
             }
            },
            "type": "scattergeo"
           }
          ],
          "scattergl": [
           {
            "marker": {
             "line": {
              "color": "#283442"
             }
            },
            "type": "scattergl"
           }
          ],
          "scattermapbox": [
           {
            "marker": {
             "colorbar": {
              "outlinewidth": 0,
              "ticks": ""
             }
            },
            "type": "scattermapbox"
           }
          ],
          "scatterpolar": [
           {
            "marker": {
             "colorbar": {
              "outlinewidth": 0,
              "ticks": ""
             }
            },
            "type": "scatterpolar"
           }
          ],
          "scatterpolargl": [
           {
            "marker": {
             "colorbar": {
              "outlinewidth": 0,
              "ticks": ""
             }
            },
            "type": "scatterpolargl"
           }
          ],
          "scatterternary": [
           {
            "marker": {
             "colorbar": {
              "outlinewidth": 0,
              "ticks": ""
             }
            },
            "type": "scatterternary"
           }
          ],
          "surface": [
           {
            "colorbar": {
             "outlinewidth": 0,
             "ticks": ""
            },
            "colorscale": [
             [
              0,
              "#0d0887"
             ],
             [
              0.1111111111111111,
              "#46039f"
             ],
             [
              0.2222222222222222,
              "#7201a8"
             ],
             [
              0.3333333333333333,
              "#9c179e"
             ],
             [
              0.4444444444444444,
              "#bd3786"
             ],
             [
              0.5555555555555556,
              "#d8576b"
             ],
             [
              0.6666666666666666,
              "#ed7953"
             ],
             [
              0.7777777777777778,
              "#fb9f3a"
             ],
             [
              0.8888888888888888,
              "#fdca26"
             ],
             [
              1,
              "#f0f921"
             ]
            ],
            "type": "surface"
           }
          ],
          "table": [
           {
            "cells": {
             "fill": {
              "color": "#506784"
             },
             "line": {
              "color": "rgb(17,17,17)"
             }
            },
            "header": {
             "fill": {
              "color": "#2a3f5f"
             },
             "line": {
              "color": "rgb(17,17,17)"
             }
            },
            "type": "table"
           }
          ]
         },
         "layout": {
          "annotationdefaults": {
           "arrowcolor": "#f2f5fa",
           "arrowhead": 0,
           "arrowwidth": 1
          },
          "autotypenumbers": "strict",
          "coloraxis": {
           "colorbar": {
            "outlinewidth": 0,
            "ticks": ""
           }
          },
          "colorscale": {
           "diverging": [
            [
             0,
             "#8e0152"
            ],
            [
             0.1,
             "#c51b7d"
            ],
            [
             0.2,
             "#de77ae"
            ],
            [
             0.3,
             "#f1b6da"
            ],
            [
             0.4,
             "#fde0ef"
            ],
            [
             0.5,
             "#f7f7f7"
            ],
            [
             0.6,
             "#e6f5d0"
            ],
            [
             0.7,
             "#b8e186"
            ],
            [
             0.8,
             "#7fbc41"
            ],
            [
             0.9,
             "#4d9221"
            ],
            [
             1,
             "#276419"
            ]
           ],
           "sequential": [
            [
             0,
             "#0d0887"
            ],
            [
             0.1111111111111111,
             "#46039f"
            ],
            [
             0.2222222222222222,
             "#7201a8"
            ],
            [
             0.3333333333333333,
             "#9c179e"
            ],
            [
             0.4444444444444444,
             "#bd3786"
            ],
            [
             0.5555555555555556,
             "#d8576b"
            ],
            [
             0.6666666666666666,
             "#ed7953"
            ],
            [
             0.7777777777777778,
             "#fb9f3a"
            ],
            [
             0.8888888888888888,
             "#fdca26"
            ],
            [
             1,
             "#f0f921"
            ]
           ],
           "sequentialminus": [
            [
             0,
             "#0d0887"
            ],
            [
             0.1111111111111111,
             "#46039f"
            ],
            [
             0.2222222222222222,
             "#7201a8"
            ],
            [
             0.3333333333333333,
             "#9c179e"
            ],
            [
             0.4444444444444444,
             "#bd3786"
            ],
            [
             0.5555555555555556,
             "#d8576b"
            ],
            [
             0.6666666666666666,
             "#ed7953"
            ],
            [
             0.7777777777777778,
             "#fb9f3a"
            ],
            [
             0.8888888888888888,
             "#fdca26"
            ],
            [
             1,
             "#f0f921"
            ]
           ]
          },
          "colorway": [
           "#636efa",
           "#EF553B",
           "#00cc96",
           "#ab63fa",
           "#FFA15A",
           "#19d3f3",
           "#FF6692",
           "#B6E880",
           "#FF97FF",
           "#FECB52"
          ],
          "font": {
           "color": "#f2f5fa",
           "family": "monospace",
           "size": 14
          },
          "geo": {
           "bgcolor": "rgb(17,17,17)",
           "lakecolor": "rgb(17,17,17)",
           "landcolor": "rgb(17,17,17)",
           "showlakes": true,
           "showland": true,
           "subunitcolor": "#506784"
          },
          "hoverlabel": {
           "align": "left"
          },
          "hovermode": "closest",
          "mapbox": {
           "style": "dark"
          },
          "paper_bgcolor": "rgb(17,17,17)",
          "plot_bgcolor": "rgb(17,17,17)",
          "polar": {
           "angularaxis": {
            "gridcolor": "#506784",
            "linecolor": "#506784",
            "ticks": ""
           },
           "bgcolor": "rgb(17,17,17)",
           "radialaxis": {
            "gridcolor": "#506784",
            "linecolor": "#506784",
            "ticks": ""
           }
          },
          "scene": {
           "xaxis": {
            "backgroundcolor": "rgb(17,17,17)",
            "gridcolor": "#506784",
            "gridwidth": 2,
            "linecolor": "#506784",
            "showbackground": true,
            "ticks": "",
            "zerolinecolor": "#C8D4E3"
           },
           "yaxis": {
            "backgroundcolor": "rgb(17,17,17)",
            "gridcolor": "#506784",
            "gridwidth": 2,
            "linecolor": "#506784",
            "showbackground": true,
            "ticks": "",
            "zerolinecolor": "#C8D4E3"
           },
           "zaxis": {
            "backgroundcolor": "rgb(17,17,17)",
            "gridcolor": "#506784",
            "gridwidth": 2,
            "linecolor": "#506784",
            "showbackground": true,
            "ticks": "",
            "zerolinecolor": "#C8D4E3"
           }
          },
          "shapedefaults": {
           "line": {
            "color": "#f2f5fa"
           }
          },
          "sliderdefaults": {
           "bgcolor": "#C8D4E3",
           "bordercolor": "rgb(17,17,17)",
           "borderwidth": 1,
           "tickwidth": 0
          },
          "ternary": {
           "aaxis": {
            "gridcolor": "#506784",
            "linecolor": "#506784",
            "ticks": ""
           },
           "baxis": {
            "gridcolor": "#506784",
            "linecolor": "#506784",
            "ticks": ""
           },
           "bgcolor": "rgb(17,17,17)",
           "caxis": {
            "gridcolor": "#506784",
            "linecolor": "#506784",
            "ticks": ""
           }
          },
          "title": {
           "x": 0.05
          },
          "updatemenudefaults": {
           "bgcolor": "#506784",
           "borderwidth": 0
          },
          "xaxis": {
           "automargin": true,
           "gridcolor": "#283442",
           "linecolor": "#506784",
           "ticks": "",
           "title": {
            "standoff": 15
           },
           "zerolinecolor": "#283442",
           "zerolinewidth": 2
          },
          "yaxis": {
           "automargin": true,
           "gridcolor": "#283442",
           "linecolor": "#506784",
           "ticks": "",
           "title": {
            "standoff": 15
           },
           "zerolinecolor": "#283442",
           "zerolinewidth": 2
          }
         }
        },
        "title": {
         "text": "Boxplot of Resting Blood Pressure by Target"
        },
        "xaxis": {
         "anchor": "y",
         "categoryarray": [
          0,
          1
         ],
         "categoryorder": "array",
         "domain": [
          0,
          1
         ],
         "title": {
          "text": "Heart Disease"
         }
        },
        "yaxis": {
         "anchor": "x",
         "domain": [
          0,
          1
         ],
         "title": {
          "text": "Resting Blood Pressure"
         }
        }
       }
      }
     },
     "metadata": {},
     "output_type": "display_data"
    },
    {
     "data": {
      "application/vnd.plotly.v1+json": {
       "config": {
        "plotlyServerURL": "https://plot.ly"
       },
       "data": [
        {
         "alignmentgroup": "True",
         "hovertemplate": "Heart Disease=%{x}<br>Cholesterol=%{y}<extra></extra>",
         "legendgroup": "0",
         "marker": {
          "color": "#636efa"
         },
         "name": "0",
         "notched": false,
         "offsetgroup": "0",
         "orientation": "v",
         "showlegend": true,
         "type": "box",
         "x": [
          0,
          0,
          0,
          0,
          0,
          0,
          0,
          0,
          0,
          0,
          0,
          0,
          0,
          0,
          0,
          0,
          0,
          0,
          0,
          0,
          0,
          0,
          0,
          0,
          0,
          0,
          0,
          0,
          0,
          0,
          0,
          0,
          0,
          0,
          0,
          0,
          0,
          0,
          0,
          0,
          0,
          0,
          0,
          0,
          0,
          0,
          0,
          0,
          0,
          0,
          0,
          0,
          0,
          0,
          0,
          0,
          0,
          0,
          0,
          0,
          0,
          0,
          0,
          0,
          0,
          0,
          0,
          0,
          0,
          0,
          0,
          0,
          0,
          0,
          0,
          0,
          0,
          0,
          0,
          0,
          0,
          0,
          0,
          0,
          0,
          0,
          0,
          0,
          0,
          0,
          0,
          0,
          0,
          0,
          0,
          0,
          0,
          0,
          0,
          0,
          0,
          0,
          0,
          0,
          0,
          0,
          0,
          0,
          0,
          0,
          0,
          0,
          0,
          0,
          0,
          0,
          0,
          0,
          0,
          0,
          0,
          0,
          0,
          0,
          0,
          0,
          0,
          0,
          0,
          0,
          0,
          0,
          0,
          0,
          0,
          0,
          0,
          0
         ],
         "x0": " ",
         "xaxis": "x",
         "y": [
          212,
          203,
          174,
          203,
          294,
          318,
          289,
          249,
          286,
          341,
          298,
          204,
          266,
          185,
          307,
          319,
          256,
          327,
          169,
          131,
          269,
          231,
          229,
          330,
          228,
          230,
          241,
          188,
          217,
          212,
          232,
          299,
          288,
          315,
          164,
          326,
          207,
          249,
          177,
          256,
          187,
          233,
          149,
          249,
          268,
          193,
          282,
          248,
          275,
          299,
          281,
          223,
          206,
          197,
          335,
          218,
          254,
          177,
          282,
          260,
          225,
          274,
          197,
          234,
          167,
          172,
          283,
          300,
          330,
          304,
          274,
          184,
          283,
          239,
          288,
          246,
          409,
          293,
          289,
          309,
          286,
          234,
          200,
          243,
          254,
          311,
          236,
          258,
          261,
          244,
          353,
          198,
          231,
          237,
          224,
          259,
          270,
          267,
          309,
          246,
          276,
          322,
          269,
          206,
          253,
          247,
          263,
          176,
          204,
          230,
          229,
          284,
          218,
          239,
          282,
          264,
          274,
          305,
          243,
          225,
          229,
          230,
          407,
          254,
          216,
          290,
          258,
          254,
          212,
          212,
          205,
          282,
          166,
          219,
          335,
          255,
          273,
          188
         ],
         "y0": " ",
         "yaxis": "y"
        },
        {
         "alignmentgroup": "True",
         "hovertemplate": "Heart Disease=%{x}<br>Cholesterol=%{y}<extra></extra>",
         "legendgroup": "1",
         "marker": {
          "color": "#EF553B"
         },
         "name": "1",
         "notched": false,
         "offsetgroup": "1",
         "orientation": "v",
         "showlegend": true,
         "type": "box",
         "x": [
          1,
          1,
          1,
          1,
          1,
          1,
          1,
          1,
          1,
          1,
          1,
          1,
          1,
          1,
          1,
          1,
          1,
          1,
          1,
          1,
          1,
          1,
          1,
          1,
          1,
          1,
          1,
          1,
          1,
          1,
          1,
          1,
          1,
          1,
          1,
          1,
          1,
          1,
          1,
          1,
          1,
          1,
          1,
          1,
          1,
          1,
          1,
          1,
          1,
          1,
          1,
          1,
          1,
          1,
          1,
          1,
          1,
          1,
          1,
          1,
          1,
          1,
          1,
          1,
          1,
          1,
          1,
          1,
          1,
          1,
          1,
          1,
          1,
          1,
          1,
          1,
          1,
          1,
          1,
          1,
          1,
          1,
          1,
          1,
          1,
          1,
          1,
          1,
          1,
          1,
          1,
          1,
          1,
          1,
          1,
          1,
          1,
          1,
          1,
          1,
          1,
          1,
          1,
          1,
          1,
          1,
          1,
          1,
          1,
          1,
          1,
          1,
          1,
          1,
          1,
          1,
          1,
          1,
          1,
          1,
          1,
          1,
          1,
          1,
          1,
          1,
          1,
          1,
          1,
          1,
          1,
          1,
          1,
          1,
          1,
          1,
          1,
          1,
          1,
          1,
          1,
          1,
          1,
          1,
          1,
          1,
          1,
          1,
          1,
          1,
          1,
          1,
          1,
          1,
          1,
          1,
          1,
          1,
          1,
          1,
          1,
          1,
          1,
          1
         ],
         "x0": " ",
         "xaxis": "x",
         "y": [
          248,
          149,
          210,
          308,
          244,
          211,
          223,
          208,
          252,
          209,
          233,
          196,
          213,
          271,
          263,
          360,
          258,
          342,
          226,
          203,
          278,
          283,
          175,
          193,
          245,
          204,
          212,
          197,
          215,
          257,
          255,
          201,
          220,
          267,
          209,
          208,
          236,
          303,
          197,
          213,
          126,
          309,
          186,
          226,
          295,
          417,
          240,
          302,
          223,
          192,
          256,
          325,
          235,
          182,
          204,
          295,
          298,
          321,
          199,
          564,
          157,
          222,
          354,
          315,
          160,
          247,
          240,
          199,
          211,
          180,
          308,
          250,
          221,
          234,
          260,
          318,
          227,
          244,
          240,
          266,
          261,
          232,
          242,
          205,
          236,
          306,
          269,
          288,
          245,
          219,
          220,
          394,
          183,
          226,
          222,
          265,
          211,
          263,
          228,
          207,
          198,
          234,
          192,
          204,
          313,
          302,
          340,
          243,
          325,
          204,
          227,
          196,
          294,
          269,
          216,
          264,
          275,
          250,
          214,
          273,
          269,
          199,
          201,
          243,
          231,
          246,
          240,
          175,
          177,
          221,
          303,
          233,
          245,
          265,
          201,
          168,
          268,
          253,
          271,
          197,
          214,
          234,
          239,
          220,
          277,
          270,
          234,
          219,
          235,
          277,
          254,
          304,
          197,
          262,
          195,
          303,
          239,
          177,
          226,
          250,
          178,
          233,
          211,
          141
         ],
         "y0": " ",
         "yaxis": "y"
        }
       ],
       "layout": {
        "boxmode": "overlay",
        "legend": {
         "title": {
          "text": "Heart Disease"
         },
         "tracegroupgap": 0
        },
        "template": {
         "data": {
          "bar": [
           {
            "error_x": {
             "color": "#f2f5fa"
            },
            "error_y": {
             "color": "#f2f5fa"
            },
            "marker": {
             "line": {
              "color": "rgb(17,17,17)",
              "width": 0.5
             },
             "pattern": {
              "fillmode": "overlay",
              "size": 10,
              "solidity": 0.2
             }
            },
            "type": "bar"
           }
          ],
          "barpolar": [
           {
            "marker": {
             "line": {
              "color": "rgb(17,17,17)",
              "width": 0.5
             },
             "pattern": {
              "fillmode": "overlay",
              "size": 10,
              "solidity": 0.2
             }
            },
            "type": "barpolar"
           }
          ],
          "carpet": [
           {
            "aaxis": {
             "endlinecolor": "#A2B1C6",
             "gridcolor": "#506784",
             "linecolor": "#506784",
             "minorgridcolor": "#506784",
             "startlinecolor": "#A2B1C6"
            },
            "baxis": {
             "endlinecolor": "#A2B1C6",
             "gridcolor": "#506784",
             "linecolor": "#506784",
             "minorgridcolor": "#506784",
             "startlinecolor": "#A2B1C6"
            },
            "type": "carpet"
           }
          ],
          "choropleth": [
           {
            "colorbar": {
             "outlinewidth": 0,
             "ticks": ""
            },
            "type": "choropleth"
           }
          ],
          "contour": [
           {
            "colorbar": {
             "outlinewidth": 0,
             "ticks": ""
            },
            "colorscale": [
             [
              0,
              "#0d0887"
             ],
             [
              0.1111111111111111,
              "#46039f"
             ],
             [
              0.2222222222222222,
              "#7201a8"
             ],
             [
              0.3333333333333333,
              "#9c179e"
             ],
             [
              0.4444444444444444,
              "#bd3786"
             ],
             [
              0.5555555555555556,
              "#d8576b"
             ],
             [
              0.6666666666666666,
              "#ed7953"
             ],
             [
              0.7777777777777778,
              "#fb9f3a"
             ],
             [
              0.8888888888888888,
              "#fdca26"
             ],
             [
              1,
              "#f0f921"
             ]
            ],
            "type": "contour"
           }
          ],
          "contourcarpet": [
           {
            "colorbar": {
             "outlinewidth": 0,
             "ticks": ""
            },
            "type": "contourcarpet"
           }
          ],
          "heatmap": [
           {
            "colorbar": {
             "outlinewidth": 0,
             "ticks": ""
            },
            "colorscale": [
             [
              0,
              "#0d0887"
             ],
             [
              0.1111111111111111,
              "#46039f"
             ],
             [
              0.2222222222222222,
              "#7201a8"
             ],
             [
              0.3333333333333333,
              "#9c179e"
             ],
             [
              0.4444444444444444,
              "#bd3786"
             ],
             [
              0.5555555555555556,
              "#d8576b"
             ],
             [
              0.6666666666666666,
              "#ed7953"
             ],
             [
              0.7777777777777778,
              "#fb9f3a"
             ],
             [
              0.8888888888888888,
              "#fdca26"
             ],
             [
              1,
              "#f0f921"
             ]
            ],
            "type": "heatmap"
           }
          ],
          "heatmapgl": [
           {
            "colorbar": {
             "outlinewidth": 0,
             "ticks": ""
            },
            "colorscale": [
             [
              0,
              "#0d0887"
             ],
             [
              0.1111111111111111,
              "#46039f"
             ],
             [
              0.2222222222222222,
              "#7201a8"
             ],
             [
              0.3333333333333333,
              "#9c179e"
             ],
             [
              0.4444444444444444,
              "#bd3786"
             ],
             [
              0.5555555555555556,
              "#d8576b"
             ],
             [
              0.6666666666666666,
              "#ed7953"
             ],
             [
              0.7777777777777778,
              "#fb9f3a"
             ],
             [
              0.8888888888888888,
              "#fdca26"
             ],
             [
              1,
              "#f0f921"
             ]
            ],
            "type": "heatmapgl"
           }
          ],
          "histogram": [
           {
            "marker": {
             "pattern": {
              "fillmode": "overlay",
              "size": 10,
              "solidity": 0.2
             }
            },
            "type": "histogram"
           }
          ],
          "histogram2d": [
           {
            "colorbar": {
             "outlinewidth": 0,
             "ticks": ""
            },
            "colorscale": [
             [
              0,
              "#0d0887"
             ],
             [
              0.1111111111111111,
              "#46039f"
             ],
             [
              0.2222222222222222,
              "#7201a8"
             ],
             [
              0.3333333333333333,
              "#9c179e"
             ],
             [
              0.4444444444444444,
              "#bd3786"
             ],
             [
              0.5555555555555556,
              "#d8576b"
             ],
             [
              0.6666666666666666,
              "#ed7953"
             ],
             [
              0.7777777777777778,
              "#fb9f3a"
             ],
             [
              0.8888888888888888,
              "#fdca26"
             ],
             [
              1,
              "#f0f921"
             ]
            ],
            "type": "histogram2d"
           }
          ],
          "histogram2dcontour": [
           {
            "colorbar": {
             "outlinewidth": 0,
             "ticks": ""
            },
            "colorscale": [
             [
              0,
              "#0d0887"
             ],
             [
              0.1111111111111111,
              "#46039f"
             ],
             [
              0.2222222222222222,
              "#7201a8"
             ],
             [
              0.3333333333333333,
              "#9c179e"
             ],
             [
              0.4444444444444444,
              "#bd3786"
             ],
             [
              0.5555555555555556,
              "#d8576b"
             ],
             [
              0.6666666666666666,
              "#ed7953"
             ],
             [
              0.7777777777777778,
              "#fb9f3a"
             ],
             [
              0.8888888888888888,
              "#fdca26"
             ],
             [
              1,
              "#f0f921"
             ]
            ],
            "type": "histogram2dcontour"
           }
          ],
          "mesh3d": [
           {
            "colorbar": {
             "outlinewidth": 0,
             "ticks": ""
            },
            "type": "mesh3d"
           }
          ],
          "parcoords": [
           {
            "line": {
             "colorbar": {
              "outlinewidth": 0,
              "ticks": ""
             }
            },
            "type": "parcoords"
           }
          ],
          "pie": [
           {
            "automargin": true,
            "type": "pie"
           }
          ],
          "scatter": [
           {
            "marker": {
             "line": {
              "color": "#283442"
             }
            },
            "type": "scatter"
           }
          ],
          "scatter3d": [
           {
            "line": {
             "colorbar": {
              "outlinewidth": 0,
              "ticks": ""
             }
            },
            "marker": {
             "colorbar": {
              "outlinewidth": 0,
              "ticks": ""
             }
            },
            "type": "scatter3d"
           }
          ],
          "scattercarpet": [
           {
            "marker": {
             "colorbar": {
              "outlinewidth": 0,
              "ticks": ""
             }
            },
            "type": "scattercarpet"
           }
          ],
          "scattergeo": [
           {
            "marker": {
             "colorbar": {
              "outlinewidth": 0,
              "ticks": ""
             }
            },
            "type": "scattergeo"
           }
          ],
          "scattergl": [
           {
            "marker": {
             "line": {
              "color": "#283442"
             }
            },
            "type": "scattergl"
           }
          ],
          "scattermapbox": [
           {
            "marker": {
             "colorbar": {
              "outlinewidth": 0,
              "ticks": ""
             }
            },
            "type": "scattermapbox"
           }
          ],
          "scatterpolar": [
           {
            "marker": {
             "colorbar": {
              "outlinewidth": 0,
              "ticks": ""
             }
            },
            "type": "scatterpolar"
           }
          ],
          "scatterpolargl": [
           {
            "marker": {
             "colorbar": {
              "outlinewidth": 0,
              "ticks": ""
             }
            },
            "type": "scatterpolargl"
           }
          ],
          "scatterternary": [
           {
            "marker": {
             "colorbar": {
              "outlinewidth": 0,
              "ticks": ""
             }
            },
            "type": "scatterternary"
           }
          ],
          "surface": [
           {
            "colorbar": {
             "outlinewidth": 0,
             "ticks": ""
            },
            "colorscale": [
             [
              0,
              "#0d0887"
             ],
             [
              0.1111111111111111,
              "#46039f"
             ],
             [
              0.2222222222222222,
              "#7201a8"
             ],
             [
              0.3333333333333333,
              "#9c179e"
             ],
             [
              0.4444444444444444,
              "#bd3786"
             ],
             [
              0.5555555555555556,
              "#d8576b"
             ],
             [
              0.6666666666666666,
              "#ed7953"
             ],
             [
              0.7777777777777778,
              "#fb9f3a"
             ],
             [
              0.8888888888888888,
              "#fdca26"
             ],
             [
              1,
              "#f0f921"
             ]
            ],
            "type": "surface"
           }
          ],
          "table": [
           {
            "cells": {
             "fill": {
              "color": "#506784"
             },
             "line": {
              "color": "rgb(17,17,17)"
             }
            },
            "header": {
             "fill": {
              "color": "#2a3f5f"
             },
             "line": {
              "color": "rgb(17,17,17)"
             }
            },
            "type": "table"
           }
          ]
         },
         "layout": {
          "annotationdefaults": {
           "arrowcolor": "#f2f5fa",
           "arrowhead": 0,
           "arrowwidth": 1
          },
          "autotypenumbers": "strict",
          "coloraxis": {
           "colorbar": {
            "outlinewidth": 0,
            "ticks": ""
           }
          },
          "colorscale": {
           "diverging": [
            [
             0,
             "#8e0152"
            ],
            [
             0.1,
             "#c51b7d"
            ],
            [
             0.2,
             "#de77ae"
            ],
            [
             0.3,
             "#f1b6da"
            ],
            [
             0.4,
             "#fde0ef"
            ],
            [
             0.5,
             "#f7f7f7"
            ],
            [
             0.6,
             "#e6f5d0"
            ],
            [
             0.7,
             "#b8e186"
            ],
            [
             0.8,
             "#7fbc41"
            ],
            [
             0.9,
             "#4d9221"
            ],
            [
             1,
             "#276419"
            ]
           ],
           "sequential": [
            [
             0,
             "#0d0887"
            ],
            [
             0.1111111111111111,
             "#46039f"
            ],
            [
             0.2222222222222222,
             "#7201a8"
            ],
            [
             0.3333333333333333,
             "#9c179e"
            ],
            [
             0.4444444444444444,
             "#bd3786"
            ],
            [
             0.5555555555555556,
             "#d8576b"
            ],
            [
             0.6666666666666666,
             "#ed7953"
            ],
            [
             0.7777777777777778,
             "#fb9f3a"
            ],
            [
             0.8888888888888888,
             "#fdca26"
            ],
            [
             1,
             "#f0f921"
            ]
           ],
           "sequentialminus": [
            [
             0,
             "#0d0887"
            ],
            [
             0.1111111111111111,
             "#46039f"
            ],
            [
             0.2222222222222222,
             "#7201a8"
            ],
            [
             0.3333333333333333,
             "#9c179e"
            ],
            [
             0.4444444444444444,
             "#bd3786"
            ],
            [
             0.5555555555555556,
             "#d8576b"
            ],
            [
             0.6666666666666666,
             "#ed7953"
            ],
            [
             0.7777777777777778,
             "#fb9f3a"
            ],
            [
             0.8888888888888888,
             "#fdca26"
            ],
            [
             1,
             "#f0f921"
            ]
           ]
          },
          "colorway": [
           "#636efa",
           "#EF553B",
           "#00cc96",
           "#ab63fa",
           "#FFA15A",
           "#19d3f3",
           "#FF6692",
           "#B6E880",
           "#FF97FF",
           "#FECB52"
          ],
          "font": {
           "color": "#f2f5fa",
           "family": "monospace",
           "size": 14
          },
          "geo": {
           "bgcolor": "rgb(17,17,17)",
           "lakecolor": "rgb(17,17,17)",
           "landcolor": "rgb(17,17,17)",
           "showlakes": true,
           "showland": true,
           "subunitcolor": "#506784"
          },
          "hoverlabel": {
           "align": "left"
          },
          "hovermode": "closest",
          "mapbox": {
           "style": "dark"
          },
          "paper_bgcolor": "rgb(17,17,17)",
          "plot_bgcolor": "rgb(17,17,17)",
          "polar": {
           "angularaxis": {
            "gridcolor": "#506784",
            "linecolor": "#506784",
            "ticks": ""
           },
           "bgcolor": "rgb(17,17,17)",
           "radialaxis": {
            "gridcolor": "#506784",
            "linecolor": "#506784",
            "ticks": ""
           }
          },
          "scene": {
           "xaxis": {
            "backgroundcolor": "rgb(17,17,17)",
            "gridcolor": "#506784",
            "gridwidth": 2,
            "linecolor": "#506784",
            "showbackground": true,
            "ticks": "",
            "zerolinecolor": "#C8D4E3"
           },
           "yaxis": {
            "backgroundcolor": "rgb(17,17,17)",
            "gridcolor": "#506784",
            "gridwidth": 2,
            "linecolor": "#506784",
            "showbackground": true,
            "ticks": "",
            "zerolinecolor": "#C8D4E3"
           },
           "zaxis": {
            "backgroundcolor": "rgb(17,17,17)",
            "gridcolor": "#506784",
            "gridwidth": 2,
            "linecolor": "#506784",
            "showbackground": true,
            "ticks": "",
            "zerolinecolor": "#C8D4E3"
           }
          },
          "shapedefaults": {
           "line": {
            "color": "#f2f5fa"
           }
          },
          "sliderdefaults": {
           "bgcolor": "#C8D4E3",
           "bordercolor": "rgb(17,17,17)",
           "borderwidth": 1,
           "tickwidth": 0
          },
          "ternary": {
           "aaxis": {
            "gridcolor": "#506784",
            "linecolor": "#506784",
            "ticks": ""
           },
           "baxis": {
            "gridcolor": "#506784",
            "linecolor": "#506784",
            "ticks": ""
           },
           "bgcolor": "rgb(17,17,17)",
           "caxis": {
            "gridcolor": "#506784",
            "linecolor": "#506784",
            "ticks": ""
           }
          },
          "title": {
           "x": 0.05
          },
          "updatemenudefaults": {
           "bgcolor": "#506784",
           "borderwidth": 0
          },
          "xaxis": {
           "automargin": true,
           "gridcolor": "#283442",
           "linecolor": "#506784",
           "ticks": "",
           "title": {
            "standoff": 15
           },
           "zerolinecolor": "#283442",
           "zerolinewidth": 2
          },
          "yaxis": {
           "automargin": true,
           "gridcolor": "#283442",
           "linecolor": "#506784",
           "ticks": "",
           "title": {
            "standoff": 15
           },
           "zerolinecolor": "#283442",
           "zerolinewidth": 2
          }
         }
        },
        "title": {
         "text": "Boxplot of Cholesterol by Target"
        },
        "xaxis": {
         "anchor": "y",
         "categoryarray": [
          0,
          1
         ],
         "categoryorder": "array",
         "domain": [
          0,
          1
         ],
         "title": {
          "text": "Heart Disease"
         }
        },
        "yaxis": {
         "anchor": "x",
         "domain": [
          0,
          1
         ],
         "title": {
          "text": "Cholesterol"
         }
        }
       }
      }
     },
     "metadata": {},
     "output_type": "display_data"
    },
    {
     "data": {
      "application/vnd.plotly.v1+json": {
       "config": {
        "plotlyServerURL": "https://plot.ly"
       },
       "data": [
        {
         "alignmentgroup": "True",
         "hovertemplate": "Heart Disease=%{x}<br>Max Heart Rate=%{y}<extra></extra>",
         "legendgroup": "0",
         "marker": {
          "color": "#636efa"
         },
         "name": "0",
         "notched": false,
         "offsetgroup": "0",
         "orientation": "v",
         "showlegend": true,
         "type": "box",
         "x": [
          0,
          0,
          0,
          0,
          0,
          0,
          0,
          0,
          0,
          0,
          0,
          0,
          0,
          0,
          0,
          0,
          0,
          0,
          0,
          0,
          0,
          0,
          0,
          0,
          0,
          0,
          0,
          0,
          0,
          0,
          0,
          0,
          0,
          0,
          0,
          0,
          0,
          0,
          0,
          0,
          0,
          0,
          0,
          0,
          0,
          0,
          0,
          0,
          0,
          0,
          0,
          0,
          0,
          0,
          0,
          0,
          0,
          0,
          0,
          0,
          0,
          0,
          0,
          0,
          0,
          0,
          0,
          0,
          0,
          0,
          0,
          0,
          0,
          0,
          0,
          0,
          0,
          0,
          0,
          0,
          0,
          0,
          0,
          0,
          0,
          0,
          0,
          0,
          0,
          0,
          0,
          0,
          0,
          0,
          0,
          0,
          0,
          0,
          0,
          0,
          0,
          0,
          0,
          0,
          0,
          0,
          0,
          0,
          0,
          0,
          0,
          0,
          0,
          0,
          0,
          0,
          0,
          0,
          0,
          0,
          0,
          0,
          0,
          0,
          0,
          0,
          0,
          0,
          0,
          0,
          0,
          0,
          0,
          0,
          0,
          0,
          0,
          0
         ],
         "x0": " ",
         "xaxis": "x",
         "y": [
          168,
          155,
          125,
          161,
          106,
          140,
          145,
          144,
          116,
          136,
          122,
          156,
          109,
          155,
          146,
          152,
          142,
          117,
          144,
          115,
          112,
          147,
          150,
          169,
          165,
          160,
          123,
          139,
          111,
          150,
          164,
          125,
          159,
          125,
          145,
          140,
          138,
          144,
          162,
          150,
          144,
          163,
          126,
          143,
          160,
          141,
          95,
          158,
          118,
          173,
          103,
          181,
          108,
          177,
          143,
          134,
          147,
          120,
          142,
          140,
          146,
          88,
          136,
          145,
          114,
          158,
          195,
          171,
          132,
          162,
          166,
          105,
          103,
          126,
          133,
          96,
          150,
          170,
          124,
          131,
          108,
          156,
          126,
          128,
          127,
          120,
          174,
          141,
          141,
          154,
          132,
          130,
          182,
          71,
          173,
          130,
          111,
          99,
          147,
          120,
          112,
          109,
          169,
          132,
          144,
          143,
          97,
          90,
          162,
          165,
          168,
          160,
          105,
          142,
          156,
          132,
          150,
          142,
          152,
          114,
          129,
          160,
          154,
          146,
          131,
          153,
          157,
          163,
          132,
          132,
          130,
          174,
          125,
          140,
          158,
          161,
          125,
          113
         ],
         "y0": " ",
         "yaxis": "y"
        },
        {
         "alignmentgroup": "True",
         "hovertemplate": "Heart Disease=%{x}<br>Max Heart Rate=%{y}<extra></extra>",
         "legendgroup": "1",
         "marker": {
          "color": "#EF553B"
         },
         "name": "1",
         "notched": false,
         "offsetgroup": "1",
         "orientation": "v",
         "showlegend": true,
         "type": "box",
         "x": [
          1,
          1,
          1,
          1,
          1,
          1,
          1,
          1,
          1,
          1,
          1,
          1,
          1,
          1,
          1,
          1,
          1,
          1,
          1,
          1,
          1,
          1,
          1,
          1,
          1,
          1,
          1,
          1,
          1,
          1,
          1,
          1,
          1,
          1,
          1,
          1,
          1,
          1,
          1,
          1,
          1,
          1,
          1,
          1,
          1,
          1,
          1,
          1,
          1,
          1,
          1,
          1,
          1,
          1,
          1,
          1,
          1,
          1,
          1,
          1,
          1,
          1,
          1,
          1,
          1,
          1,
          1,
          1,
          1,
          1,
          1,
          1,
          1,
          1,
          1,
          1,
          1,
          1,
          1,
          1,
          1,
          1,
          1,
          1,
          1,
          1,
          1,
          1,
          1,
          1,
          1,
          1,
          1,
          1,
          1,
          1,
          1,
          1,
          1,
          1,
          1,
          1,
          1,
          1,
          1,
          1,
          1,
          1,
          1,
          1,
          1,
          1,
          1,
          1,
          1,
          1,
          1,
          1,
          1,
          1,
          1,
          1,
          1,
          1,
          1,
          1,
          1,
          1,
          1,
          1,
          1,
          1,
          1,
          1,
          1,
          1,
          1,
          1,
          1,
          1,
          1,
          1,
          1,
          1,
          1,
          1,
          1,
          1,
          1,
          1,
          1,
          1,
          1,
          1,
          1,
          1,
          1,
          1,
          1,
          1,
          1,
          1,
          1,
          1
         ],
         "x0": " ",
         "xaxis": "x",
         "y": [
          122,
          125,
          192,
          142,
          162,
          165,
          142,
          148,
          172,
          173,
          179,
          163,
          125,
          182,
          105,
          151,
          147,
          166,
          178,
          132,
          152,
          162,
          173,
          162,
          180,
          202,
          157,
          152,
          170,
          156,
          175,
          158,
          170,
          167,
          163,
          140,
          152,
          159,
          116,
          165,
          173,
          156,
          190,
          111,
          162,
          157,
          171,
          151,
          169,
          148,
          149,
          154,
          153,
          174,
          143,
          157,
          178,
          182,
          178,
          160,
          182,
          143,
          163,
          162,
          138,
          171,
          169,
          179,
          144,
          150,
          170,
          179,
          163,
          131,
          185,
          160,
          155,
          178,
          194,
          171,
          186,
          165,
          149,
          184,
          178,
          163,
          163,
          159,
          166,
          188,
          152,
          157,
          182,
          169,
          186,
          130,
          161,
          173,
          138,
          168,
          168,
          175,
          174,
          172,
          133,
          162,
          172,
          137,
          172,
          172,
          154,
          169,
          153,
          121,
          115,
          143,
          139,
          187,
          158,
          152,
          148,
          162,
          126,
          152,
          146,
          173,
          154,
          123,
          160,
          164,
          122,
          150,
          143,
          122,
          163,
          174,
          172,
          179,
          162,
          131,
          168,
          161,
          160,
          144,
          172,
          145,
          160,
          158,
          180,
          151,
          159,
          170,
          156,
          155,
          179,
          181,
          151,
          140,
          114,
          161,
          96,
          147,
          115,
          175
         ],
         "y0": " ",
         "yaxis": "y"
        }
       ],
       "layout": {
        "boxmode": "overlay",
        "legend": {
         "title": {
          "text": "Heart Disease"
         },
         "tracegroupgap": 0
        },
        "template": {
         "data": {
          "bar": [
           {
            "error_x": {
             "color": "#f2f5fa"
            },
            "error_y": {
             "color": "#f2f5fa"
            },
            "marker": {
             "line": {
              "color": "rgb(17,17,17)",
              "width": 0.5
             },
             "pattern": {
              "fillmode": "overlay",
              "size": 10,
              "solidity": 0.2
             }
            },
            "type": "bar"
           }
          ],
          "barpolar": [
           {
            "marker": {
             "line": {
              "color": "rgb(17,17,17)",
              "width": 0.5
             },
             "pattern": {
              "fillmode": "overlay",
              "size": 10,
              "solidity": 0.2
             }
            },
            "type": "barpolar"
           }
          ],
          "carpet": [
           {
            "aaxis": {
             "endlinecolor": "#A2B1C6",
             "gridcolor": "#506784",
             "linecolor": "#506784",
             "minorgridcolor": "#506784",
             "startlinecolor": "#A2B1C6"
            },
            "baxis": {
             "endlinecolor": "#A2B1C6",
             "gridcolor": "#506784",
             "linecolor": "#506784",
             "minorgridcolor": "#506784",
             "startlinecolor": "#A2B1C6"
            },
            "type": "carpet"
           }
          ],
          "choropleth": [
           {
            "colorbar": {
             "outlinewidth": 0,
             "ticks": ""
            },
            "type": "choropleth"
           }
          ],
          "contour": [
           {
            "colorbar": {
             "outlinewidth": 0,
             "ticks": ""
            },
            "colorscale": [
             [
              0,
              "#0d0887"
             ],
             [
              0.1111111111111111,
              "#46039f"
             ],
             [
              0.2222222222222222,
              "#7201a8"
             ],
             [
              0.3333333333333333,
              "#9c179e"
             ],
             [
              0.4444444444444444,
              "#bd3786"
             ],
             [
              0.5555555555555556,
              "#d8576b"
             ],
             [
              0.6666666666666666,
              "#ed7953"
             ],
             [
              0.7777777777777778,
              "#fb9f3a"
             ],
             [
              0.8888888888888888,
              "#fdca26"
             ],
             [
              1,
              "#f0f921"
             ]
            ],
            "type": "contour"
           }
          ],
          "contourcarpet": [
           {
            "colorbar": {
             "outlinewidth": 0,
             "ticks": ""
            },
            "type": "contourcarpet"
           }
          ],
          "heatmap": [
           {
            "colorbar": {
             "outlinewidth": 0,
             "ticks": ""
            },
            "colorscale": [
             [
              0,
              "#0d0887"
             ],
             [
              0.1111111111111111,
              "#46039f"
             ],
             [
              0.2222222222222222,
              "#7201a8"
             ],
             [
              0.3333333333333333,
              "#9c179e"
             ],
             [
              0.4444444444444444,
              "#bd3786"
             ],
             [
              0.5555555555555556,
              "#d8576b"
             ],
             [
              0.6666666666666666,
              "#ed7953"
             ],
             [
              0.7777777777777778,
              "#fb9f3a"
             ],
             [
              0.8888888888888888,
              "#fdca26"
             ],
             [
              1,
              "#f0f921"
             ]
            ],
            "type": "heatmap"
           }
          ],
          "heatmapgl": [
           {
            "colorbar": {
             "outlinewidth": 0,
             "ticks": ""
            },
            "colorscale": [
             [
              0,
              "#0d0887"
             ],
             [
              0.1111111111111111,
              "#46039f"
             ],
             [
              0.2222222222222222,
              "#7201a8"
             ],
             [
              0.3333333333333333,
              "#9c179e"
             ],
             [
              0.4444444444444444,
              "#bd3786"
             ],
             [
              0.5555555555555556,
              "#d8576b"
             ],
             [
              0.6666666666666666,
              "#ed7953"
             ],
             [
              0.7777777777777778,
              "#fb9f3a"
             ],
             [
              0.8888888888888888,
              "#fdca26"
             ],
             [
              1,
              "#f0f921"
             ]
            ],
            "type": "heatmapgl"
           }
          ],
          "histogram": [
           {
            "marker": {
             "pattern": {
              "fillmode": "overlay",
              "size": 10,
              "solidity": 0.2
             }
            },
            "type": "histogram"
           }
          ],
          "histogram2d": [
           {
            "colorbar": {
             "outlinewidth": 0,
             "ticks": ""
            },
            "colorscale": [
             [
              0,
              "#0d0887"
             ],
             [
              0.1111111111111111,
              "#46039f"
             ],
             [
              0.2222222222222222,
              "#7201a8"
             ],
             [
              0.3333333333333333,
              "#9c179e"
             ],
             [
              0.4444444444444444,
              "#bd3786"
             ],
             [
              0.5555555555555556,
              "#d8576b"
             ],
             [
              0.6666666666666666,
              "#ed7953"
             ],
             [
              0.7777777777777778,
              "#fb9f3a"
             ],
             [
              0.8888888888888888,
              "#fdca26"
             ],
             [
              1,
              "#f0f921"
             ]
            ],
            "type": "histogram2d"
           }
          ],
          "histogram2dcontour": [
           {
            "colorbar": {
             "outlinewidth": 0,
             "ticks": ""
            },
            "colorscale": [
             [
              0,
              "#0d0887"
             ],
             [
              0.1111111111111111,
              "#46039f"
             ],
             [
              0.2222222222222222,
              "#7201a8"
             ],
             [
              0.3333333333333333,
              "#9c179e"
             ],
             [
              0.4444444444444444,
              "#bd3786"
             ],
             [
              0.5555555555555556,
              "#d8576b"
             ],
             [
              0.6666666666666666,
              "#ed7953"
             ],
             [
              0.7777777777777778,
              "#fb9f3a"
             ],
             [
              0.8888888888888888,
              "#fdca26"
             ],
             [
              1,
              "#f0f921"
             ]
            ],
            "type": "histogram2dcontour"
           }
          ],
          "mesh3d": [
           {
            "colorbar": {
             "outlinewidth": 0,
             "ticks": ""
            },
            "type": "mesh3d"
           }
          ],
          "parcoords": [
           {
            "line": {
             "colorbar": {
              "outlinewidth": 0,
              "ticks": ""
             }
            },
            "type": "parcoords"
           }
          ],
          "pie": [
           {
            "automargin": true,
            "type": "pie"
           }
          ],
          "scatter": [
           {
            "marker": {
             "line": {
              "color": "#283442"
             }
            },
            "type": "scatter"
           }
          ],
          "scatter3d": [
           {
            "line": {
             "colorbar": {
              "outlinewidth": 0,
              "ticks": ""
             }
            },
            "marker": {
             "colorbar": {
              "outlinewidth": 0,
              "ticks": ""
             }
            },
            "type": "scatter3d"
           }
          ],
          "scattercarpet": [
           {
            "marker": {
             "colorbar": {
              "outlinewidth": 0,
              "ticks": ""
             }
            },
            "type": "scattercarpet"
           }
          ],
          "scattergeo": [
           {
            "marker": {
             "colorbar": {
              "outlinewidth": 0,
              "ticks": ""
             }
            },
            "type": "scattergeo"
           }
          ],
          "scattergl": [
           {
            "marker": {
             "line": {
              "color": "#283442"
             }
            },
            "type": "scattergl"
           }
          ],
          "scattermapbox": [
           {
            "marker": {
             "colorbar": {
              "outlinewidth": 0,
              "ticks": ""
             }
            },
            "type": "scattermapbox"
           }
          ],
          "scatterpolar": [
           {
            "marker": {
             "colorbar": {
              "outlinewidth": 0,
              "ticks": ""
             }
            },
            "type": "scatterpolar"
           }
          ],
          "scatterpolargl": [
           {
            "marker": {
             "colorbar": {
              "outlinewidth": 0,
              "ticks": ""
             }
            },
            "type": "scatterpolargl"
           }
          ],
          "scatterternary": [
           {
            "marker": {
             "colorbar": {
              "outlinewidth": 0,
              "ticks": ""
             }
            },
            "type": "scatterternary"
           }
          ],
          "surface": [
           {
            "colorbar": {
             "outlinewidth": 0,
             "ticks": ""
            },
            "colorscale": [
             [
              0,
              "#0d0887"
             ],
             [
              0.1111111111111111,
              "#46039f"
             ],
             [
              0.2222222222222222,
              "#7201a8"
             ],
             [
              0.3333333333333333,
              "#9c179e"
             ],
             [
              0.4444444444444444,
              "#bd3786"
             ],
             [
              0.5555555555555556,
              "#d8576b"
             ],
             [
              0.6666666666666666,
              "#ed7953"
             ],
             [
              0.7777777777777778,
              "#fb9f3a"
             ],
             [
              0.8888888888888888,
              "#fdca26"
             ],
             [
              1,
              "#f0f921"
             ]
            ],
            "type": "surface"
           }
          ],
          "table": [
           {
            "cells": {
             "fill": {
              "color": "#506784"
             },
             "line": {
              "color": "rgb(17,17,17)"
             }
            },
            "header": {
             "fill": {
              "color": "#2a3f5f"
             },
             "line": {
              "color": "rgb(17,17,17)"
             }
            },
            "type": "table"
           }
          ]
         },
         "layout": {
          "annotationdefaults": {
           "arrowcolor": "#f2f5fa",
           "arrowhead": 0,
           "arrowwidth": 1
          },
          "autotypenumbers": "strict",
          "coloraxis": {
           "colorbar": {
            "outlinewidth": 0,
            "ticks": ""
           }
          },
          "colorscale": {
           "diverging": [
            [
             0,
             "#8e0152"
            ],
            [
             0.1,
             "#c51b7d"
            ],
            [
             0.2,
             "#de77ae"
            ],
            [
             0.3,
             "#f1b6da"
            ],
            [
             0.4,
             "#fde0ef"
            ],
            [
             0.5,
             "#f7f7f7"
            ],
            [
             0.6,
             "#e6f5d0"
            ],
            [
             0.7,
             "#b8e186"
            ],
            [
             0.8,
             "#7fbc41"
            ],
            [
             0.9,
             "#4d9221"
            ],
            [
             1,
             "#276419"
            ]
           ],
           "sequential": [
            [
             0,
             "#0d0887"
            ],
            [
             0.1111111111111111,
             "#46039f"
            ],
            [
             0.2222222222222222,
             "#7201a8"
            ],
            [
             0.3333333333333333,
             "#9c179e"
            ],
            [
             0.4444444444444444,
             "#bd3786"
            ],
            [
             0.5555555555555556,
             "#d8576b"
            ],
            [
             0.6666666666666666,
             "#ed7953"
            ],
            [
             0.7777777777777778,
             "#fb9f3a"
            ],
            [
             0.8888888888888888,
             "#fdca26"
            ],
            [
             1,
             "#f0f921"
            ]
           ],
           "sequentialminus": [
            [
             0,
             "#0d0887"
            ],
            [
             0.1111111111111111,
             "#46039f"
            ],
            [
             0.2222222222222222,
             "#7201a8"
            ],
            [
             0.3333333333333333,
             "#9c179e"
            ],
            [
             0.4444444444444444,
             "#bd3786"
            ],
            [
             0.5555555555555556,
             "#d8576b"
            ],
            [
             0.6666666666666666,
             "#ed7953"
            ],
            [
             0.7777777777777778,
             "#fb9f3a"
            ],
            [
             0.8888888888888888,
             "#fdca26"
            ],
            [
             1,
             "#f0f921"
            ]
           ]
          },
          "colorway": [
           "#636efa",
           "#EF553B",
           "#00cc96",
           "#ab63fa",
           "#FFA15A",
           "#19d3f3",
           "#FF6692",
           "#B6E880",
           "#FF97FF",
           "#FECB52"
          ],
          "font": {
           "color": "#f2f5fa",
           "family": "monospace",
           "size": 14
          },
          "geo": {
           "bgcolor": "rgb(17,17,17)",
           "lakecolor": "rgb(17,17,17)",
           "landcolor": "rgb(17,17,17)",
           "showlakes": true,
           "showland": true,
           "subunitcolor": "#506784"
          },
          "hoverlabel": {
           "align": "left"
          },
          "hovermode": "closest",
          "mapbox": {
           "style": "dark"
          },
          "paper_bgcolor": "rgb(17,17,17)",
          "plot_bgcolor": "rgb(17,17,17)",
          "polar": {
           "angularaxis": {
            "gridcolor": "#506784",
            "linecolor": "#506784",
            "ticks": ""
           },
           "bgcolor": "rgb(17,17,17)",
           "radialaxis": {
            "gridcolor": "#506784",
            "linecolor": "#506784",
            "ticks": ""
           }
          },
          "scene": {
           "xaxis": {
            "backgroundcolor": "rgb(17,17,17)",
            "gridcolor": "#506784",
            "gridwidth": 2,
            "linecolor": "#506784",
            "showbackground": true,
            "ticks": "",
            "zerolinecolor": "#C8D4E3"
           },
           "yaxis": {
            "backgroundcolor": "rgb(17,17,17)",
            "gridcolor": "#506784",
            "gridwidth": 2,
            "linecolor": "#506784",
            "showbackground": true,
            "ticks": "",
            "zerolinecolor": "#C8D4E3"
           },
           "zaxis": {
            "backgroundcolor": "rgb(17,17,17)",
            "gridcolor": "#506784",
            "gridwidth": 2,
            "linecolor": "#506784",
            "showbackground": true,
            "ticks": "",
            "zerolinecolor": "#C8D4E3"
           }
          },
          "shapedefaults": {
           "line": {
            "color": "#f2f5fa"
           }
          },
          "sliderdefaults": {
           "bgcolor": "#C8D4E3",
           "bordercolor": "rgb(17,17,17)",
           "borderwidth": 1,
           "tickwidth": 0
          },
          "ternary": {
           "aaxis": {
            "gridcolor": "#506784",
            "linecolor": "#506784",
            "ticks": ""
           },
           "baxis": {
            "gridcolor": "#506784",
            "linecolor": "#506784",
            "ticks": ""
           },
           "bgcolor": "rgb(17,17,17)",
           "caxis": {
            "gridcolor": "#506784",
            "linecolor": "#506784",
            "ticks": ""
           }
          },
          "title": {
           "x": 0.05
          },
          "updatemenudefaults": {
           "bgcolor": "#506784",
           "borderwidth": 0
          },
          "xaxis": {
           "automargin": true,
           "gridcolor": "#283442",
           "linecolor": "#506784",
           "ticks": "",
           "title": {
            "standoff": 15
           },
           "zerolinecolor": "#283442",
           "zerolinewidth": 2
          },
          "yaxis": {
           "automargin": true,
           "gridcolor": "#283442",
           "linecolor": "#506784",
           "ticks": "",
           "title": {
            "standoff": 15
           },
           "zerolinecolor": "#283442",
           "zerolinewidth": 2
          }
         }
        },
        "title": {
         "text": "Boxplot of Max Heart Rate by Target"
        },
        "xaxis": {
         "anchor": "y",
         "categoryarray": [
          0,
          1
         ],
         "categoryorder": "array",
         "domain": [
          0,
          1
         ],
         "title": {
          "text": "Heart Disease"
         }
        },
        "yaxis": {
         "anchor": "x",
         "domain": [
          0,
          1
         ],
         "title": {
          "text": "Max Heart Rate"
         }
        }
       }
      }
     },
     "metadata": {},
     "output_type": "display_data"
    },
    {
     "data": {
      "application/vnd.plotly.v1+json": {
       "config": {
        "plotlyServerURL": "https://plot.ly"
       },
       "data": [
        {
         "alignmentgroup": "True",
         "hovertemplate": "Heart Disease=%{x}<br>Oldpeak=%{y}<extra></extra>",
         "legendgroup": "0",
         "marker": {
          "color": "#636efa"
         },
         "name": "0",
         "notched": false,
         "offsetgroup": "0",
         "orientation": "v",
         "showlegend": true,
         "type": "box",
         "x": [
          0,
          0,
          0,
          0,
          0,
          0,
          0,
          0,
          0,
          0,
          0,
          0,
          0,
          0,
          0,
          0,
          0,
          0,
          0,
          0,
          0,
          0,
          0,
          0,
          0,
          0,
          0,
          0,
          0,
          0,
          0,
          0,
          0,
          0,
          0,
          0,
          0,
          0,
          0,
          0,
          0,
          0,
          0,
          0,
          0,
          0,
          0,
          0,
          0,
          0,
          0,
          0,
          0,
          0,
          0,
          0,
          0,
          0,
          0,
          0,
          0,
          0,
          0,
          0,
          0,
          0,
          0,
          0,
          0,
          0,
          0,
          0,
          0,
          0,
          0,
          0,
          0,
          0,
          0,
          0,
          0,
          0,
          0,
          0,
          0,
          0,
          0,
          0,
          0,
          0,
          0,
          0,
          0,
          0,
          0,
          0,
          0,
          0,
          0,
          0,
          0,
          0,
          0,
          0,
          0,
          0,
          0,
          0,
          0,
          0,
          0,
          0,
          0,
          0,
          0,
          0,
          0,
          0,
          0,
          0,
          0,
          0,
          0,
          0,
          0,
          0,
          0,
          0,
          0,
          0,
          0,
          0,
          0,
          0,
          0,
          0,
          0,
          0
         ],
         "x0": " ",
         "xaxis": "x",
         "y": [
          1,
          3.1,
          2.6,
          0,
          1.9,
          4.4,
          0.8,
          0.8,
          3.2,
          3,
          4.2,
          1,
          2.2,
          3,
          1,
          0,
          0.6,
          3.4,
          2.8,
          1.2,
          2.9,
          3.6,
          0.4,
          0,
          1,
          1.4,
          0.2,
          2,
          5.6,
          0.8,
          0,
          0.9,
          0.2,
          1.8,
          6.2,
          3.4,
          1.9,
          1.2,
          0,
          0,
          4,
          0.6,
          0.8,
          0,
          3.6,
          3.4,
          2,
          0.6,
          1,
          1.6,
          1.4,
          0,
          0,
          0,
          3,
          2.2,
          1.4,
          2.5,
          2.8,
          3.6,
          2.8,
          1.2,
          0,
          2.6,
          2,
          0,
          0,
          0,
          1.8,
          0,
          0.5,
          2.1,
          1.6,
          2.8,
          4,
          2.2,
          1.9,
          1.2,
          1,
          1.8,
          1.5,
          0.1,
          0.9,
          2.6,
          2.8,
          1.8,
          0,
          2.8,
          0.3,
          1.4,
          1.2,
          1.6,
          3.8,
          1,
          3.2,
          3,
          0.8,
          1.8,
          0,
          0,
          0.6,
          2.4,
          1.8,
          2.4,
          1.4,
          0.1,
          1.2,
          1,
          0.8,
          2.5,
          1,
          1.8,
          2,
          1.2,
          0,
          1.2,
          1.6,
          1.2,
          0,
          1,
          2.6,
          0,
          4,
          2,
          2.2,
          0,
          2.6,
          0.2,
          2,
          0.1,
          2,
          1.4,
          3.6,
          1.2,
          0,
          0,
          0,
          1.4
         ],
         "y0": " ",
         "yaxis": "y"
        },
        {
         "alignmentgroup": "True",
         "hovertemplate": "Heart Disease=%{x}<br>Oldpeak=%{y}<extra></extra>",
         "legendgroup": "1",
         "marker": {
          "color": "#EF553B"
         },
         "name": "1",
         "notched": false,
         "offsetgroup": "1",
         "orientation": "v",
         "showlegend": true,
         "type": "box",
         "x": [
          1,
          1,
          1,
          1,
          1,
          1,
          1,
          1,
          1,
          1,
          1,
          1,
          1,
          1,
          1,
          1,
          1,
          1,
          1,
          1,
          1,
          1,
          1,
          1,
          1,
          1,
          1,
          1,
          1,
          1,
          1,
          1,
          1,
          1,
          1,
          1,
          1,
          1,
          1,
          1,
          1,
          1,
          1,
          1,
          1,
          1,
          1,
          1,
          1,
          1,
          1,
          1,
          1,
          1,
          1,
          1,
          1,
          1,
          1,
          1,
          1,
          1,
          1,
          1,
          1,
          1,
          1,
          1,
          1,
          1,
          1,
          1,
          1,
          1,
          1,
          1,
          1,
          1,
          1,
          1,
          1,
          1,
          1,
          1,
          1,
          1,
          1,
          1,
          1,
          1,
          1,
          1,
          1,
          1,
          1,
          1,
          1,
          1,
          1,
          1,
          1,
          1,
          1,
          1,
          1,
          1,
          1,
          1,
          1,
          1,
          1,
          1,
          1,
          1,
          1,
          1,
          1,
          1,
          1,
          1,
          1,
          1,
          1,
          1,
          1,
          1,
          1,
          1,
          1,
          1,
          1,
          1,
          1,
          1,
          1,
          1,
          1,
          1,
          1,
          1,
          1,
          1,
          1,
          1,
          1,
          1,
          1,
          1,
          1,
          1,
          1,
          1,
          1,
          1,
          1,
          1,
          1,
          1,
          1,
          1,
          1,
          1,
          1,
          1
         ],
         "x0": " ",
         "xaxis": "x",
         "y": [
          1,
          1.6,
          0.7,
          1.5,
          1.1,
          0,
          0.3,
          3,
          0,
          0,
          0.4,
          0,
          1.4,
          0,
          0.2,
          0.8,
          0.4,
          1.2,
          0,
          0,
          0,
          1,
          0,
          1.9,
          0.2,
          0,
          1.6,
          1.2,
          0,
          0,
          0,
          0.8,
          0,
          0,
          0,
          0,
          0.2,
          0,
          1.1,
          0.2,
          0.2,
          0,
          0,
          0,
          0,
          0.8,
          0.9,
          0.4,
          0,
          0.4,
          0.5,
          0,
          0,
          0,
          0.1,
          0.6,
          1.2,
          0,
          1.4,
          1.6,
          0,
          1.2,
          0.6,
          1.9,
          0,
          1.5,
          0,
          0,
          1.8,
          0,
          0,
          0,
          0,
          0.1,
          0,
          0,
          0.6,
          0.8,
          0.8,
          0.6,
          0,
          1.6,
          0.3,
          0,
          0.8,
          0,
          0,
          0,
          2.4,
          0,
          0,
          1.2,
          1.4,
          0,
          0,
          0,
          0,
          0,
          2.3,
          0,
          0,
          0.6,
          0,
          1.4,
          0.2,
          0.4,
          0,
          1,
          0.2,
          0,
          0,
          0.1,
          1.3,
          0.2,
          0,
          0.4,
          0.2,
          3.5,
          1.6,
          0.5,
          0.8,
          0.5,
          1.5,
          0,
          1.8,
          0,
          0.6,
          0.6,
          1.4,
          0,
          2,
          2.3,
          0,
          0.6,
          0,
          1.6,
          0,
          0,
          0,
          0.6,
          2,
          0.5,
          1.2,
          0.4,
          0,
          4.2,
          0,
          1.6,
          0,
          1,
          0,
          0,
          0,
          0,
          0,
          1.2,
          1.8,
          0.4,
          2.6,
          1.4,
          0,
          0.1,
          1.5,
          0.6
         ],
         "y0": " ",
         "yaxis": "y"
        }
       ],
       "layout": {
        "boxmode": "overlay",
        "legend": {
         "title": {
          "text": "Heart Disease"
         },
         "tracegroupgap": 0
        },
        "template": {
         "data": {
          "bar": [
           {
            "error_x": {
             "color": "#f2f5fa"
            },
            "error_y": {
             "color": "#f2f5fa"
            },
            "marker": {
             "line": {
              "color": "rgb(17,17,17)",
              "width": 0.5
             },
             "pattern": {
              "fillmode": "overlay",
              "size": 10,
              "solidity": 0.2
             }
            },
            "type": "bar"
           }
          ],
          "barpolar": [
           {
            "marker": {
             "line": {
              "color": "rgb(17,17,17)",
              "width": 0.5
             },
             "pattern": {
              "fillmode": "overlay",
              "size": 10,
              "solidity": 0.2
             }
            },
            "type": "barpolar"
           }
          ],
          "carpet": [
           {
            "aaxis": {
             "endlinecolor": "#A2B1C6",
             "gridcolor": "#506784",
             "linecolor": "#506784",
             "minorgridcolor": "#506784",
             "startlinecolor": "#A2B1C6"
            },
            "baxis": {
             "endlinecolor": "#A2B1C6",
             "gridcolor": "#506784",
             "linecolor": "#506784",
             "minorgridcolor": "#506784",
             "startlinecolor": "#A2B1C6"
            },
            "type": "carpet"
           }
          ],
          "choropleth": [
           {
            "colorbar": {
             "outlinewidth": 0,
             "ticks": ""
            },
            "type": "choropleth"
           }
          ],
          "contour": [
           {
            "colorbar": {
             "outlinewidth": 0,
             "ticks": ""
            },
            "colorscale": [
             [
              0,
              "#0d0887"
             ],
             [
              0.1111111111111111,
              "#46039f"
             ],
             [
              0.2222222222222222,
              "#7201a8"
             ],
             [
              0.3333333333333333,
              "#9c179e"
             ],
             [
              0.4444444444444444,
              "#bd3786"
             ],
             [
              0.5555555555555556,
              "#d8576b"
             ],
             [
              0.6666666666666666,
              "#ed7953"
             ],
             [
              0.7777777777777778,
              "#fb9f3a"
             ],
             [
              0.8888888888888888,
              "#fdca26"
             ],
             [
              1,
              "#f0f921"
             ]
            ],
            "type": "contour"
           }
          ],
          "contourcarpet": [
           {
            "colorbar": {
             "outlinewidth": 0,
             "ticks": ""
            },
            "type": "contourcarpet"
           }
          ],
          "heatmap": [
           {
            "colorbar": {
             "outlinewidth": 0,
             "ticks": ""
            },
            "colorscale": [
             [
              0,
              "#0d0887"
             ],
             [
              0.1111111111111111,
              "#46039f"
             ],
             [
              0.2222222222222222,
              "#7201a8"
             ],
             [
              0.3333333333333333,
              "#9c179e"
             ],
             [
              0.4444444444444444,
              "#bd3786"
             ],
             [
              0.5555555555555556,
              "#d8576b"
             ],
             [
              0.6666666666666666,
              "#ed7953"
             ],
             [
              0.7777777777777778,
              "#fb9f3a"
             ],
             [
              0.8888888888888888,
              "#fdca26"
             ],
             [
              1,
              "#f0f921"
             ]
            ],
            "type": "heatmap"
           }
          ],
          "heatmapgl": [
           {
            "colorbar": {
             "outlinewidth": 0,
             "ticks": ""
            },
            "colorscale": [
             [
              0,
              "#0d0887"
             ],
             [
              0.1111111111111111,
              "#46039f"
             ],
             [
              0.2222222222222222,
              "#7201a8"
             ],
             [
              0.3333333333333333,
              "#9c179e"
             ],
             [
              0.4444444444444444,
              "#bd3786"
             ],
             [
              0.5555555555555556,
              "#d8576b"
             ],
             [
              0.6666666666666666,
              "#ed7953"
             ],
             [
              0.7777777777777778,
              "#fb9f3a"
             ],
             [
              0.8888888888888888,
              "#fdca26"
             ],
             [
              1,
              "#f0f921"
             ]
            ],
            "type": "heatmapgl"
           }
          ],
          "histogram": [
           {
            "marker": {
             "pattern": {
              "fillmode": "overlay",
              "size": 10,
              "solidity": 0.2
             }
            },
            "type": "histogram"
           }
          ],
          "histogram2d": [
           {
            "colorbar": {
             "outlinewidth": 0,
             "ticks": ""
            },
            "colorscale": [
             [
              0,
              "#0d0887"
             ],
             [
              0.1111111111111111,
              "#46039f"
             ],
             [
              0.2222222222222222,
              "#7201a8"
             ],
             [
              0.3333333333333333,
              "#9c179e"
             ],
             [
              0.4444444444444444,
              "#bd3786"
             ],
             [
              0.5555555555555556,
              "#d8576b"
             ],
             [
              0.6666666666666666,
              "#ed7953"
             ],
             [
              0.7777777777777778,
              "#fb9f3a"
             ],
             [
              0.8888888888888888,
              "#fdca26"
             ],
             [
              1,
              "#f0f921"
             ]
            ],
            "type": "histogram2d"
           }
          ],
          "histogram2dcontour": [
           {
            "colorbar": {
             "outlinewidth": 0,
             "ticks": ""
            },
            "colorscale": [
             [
              0,
              "#0d0887"
             ],
             [
              0.1111111111111111,
              "#46039f"
             ],
             [
              0.2222222222222222,
              "#7201a8"
             ],
             [
              0.3333333333333333,
              "#9c179e"
             ],
             [
              0.4444444444444444,
              "#bd3786"
             ],
             [
              0.5555555555555556,
              "#d8576b"
             ],
             [
              0.6666666666666666,
              "#ed7953"
             ],
             [
              0.7777777777777778,
              "#fb9f3a"
             ],
             [
              0.8888888888888888,
              "#fdca26"
             ],
             [
              1,
              "#f0f921"
             ]
            ],
            "type": "histogram2dcontour"
           }
          ],
          "mesh3d": [
           {
            "colorbar": {
             "outlinewidth": 0,
             "ticks": ""
            },
            "type": "mesh3d"
           }
          ],
          "parcoords": [
           {
            "line": {
             "colorbar": {
              "outlinewidth": 0,
              "ticks": ""
             }
            },
            "type": "parcoords"
           }
          ],
          "pie": [
           {
            "automargin": true,
            "type": "pie"
           }
          ],
          "scatter": [
           {
            "marker": {
             "line": {
              "color": "#283442"
             }
            },
            "type": "scatter"
           }
          ],
          "scatter3d": [
           {
            "line": {
             "colorbar": {
              "outlinewidth": 0,
              "ticks": ""
             }
            },
            "marker": {
             "colorbar": {
              "outlinewidth": 0,
              "ticks": ""
             }
            },
            "type": "scatter3d"
           }
          ],
          "scattercarpet": [
           {
            "marker": {
             "colorbar": {
              "outlinewidth": 0,
              "ticks": ""
             }
            },
            "type": "scattercarpet"
           }
          ],
          "scattergeo": [
           {
            "marker": {
             "colorbar": {
              "outlinewidth": 0,
              "ticks": ""
             }
            },
            "type": "scattergeo"
           }
          ],
          "scattergl": [
           {
            "marker": {
             "line": {
              "color": "#283442"
             }
            },
            "type": "scattergl"
           }
          ],
          "scattermapbox": [
           {
            "marker": {
             "colorbar": {
              "outlinewidth": 0,
              "ticks": ""
             }
            },
            "type": "scattermapbox"
           }
          ],
          "scatterpolar": [
           {
            "marker": {
             "colorbar": {
              "outlinewidth": 0,
              "ticks": ""
             }
            },
            "type": "scatterpolar"
           }
          ],
          "scatterpolargl": [
           {
            "marker": {
             "colorbar": {
              "outlinewidth": 0,
              "ticks": ""
             }
            },
            "type": "scatterpolargl"
           }
          ],
          "scatterternary": [
           {
            "marker": {
             "colorbar": {
              "outlinewidth": 0,
              "ticks": ""
             }
            },
            "type": "scatterternary"
           }
          ],
          "surface": [
           {
            "colorbar": {
             "outlinewidth": 0,
             "ticks": ""
            },
            "colorscale": [
             [
              0,
              "#0d0887"
             ],
             [
              0.1111111111111111,
              "#46039f"
             ],
             [
              0.2222222222222222,
              "#7201a8"
             ],
             [
              0.3333333333333333,
              "#9c179e"
             ],
             [
              0.4444444444444444,
              "#bd3786"
             ],
             [
              0.5555555555555556,
              "#d8576b"
             ],
             [
              0.6666666666666666,
              "#ed7953"
             ],
             [
              0.7777777777777778,
              "#fb9f3a"
             ],
             [
              0.8888888888888888,
              "#fdca26"
             ],
             [
              1,
              "#f0f921"
             ]
            ],
            "type": "surface"
           }
          ],
          "table": [
           {
            "cells": {
             "fill": {
              "color": "#506784"
             },
             "line": {
              "color": "rgb(17,17,17)"
             }
            },
            "header": {
             "fill": {
              "color": "#2a3f5f"
             },
             "line": {
              "color": "rgb(17,17,17)"
             }
            },
            "type": "table"
           }
          ]
         },
         "layout": {
          "annotationdefaults": {
           "arrowcolor": "#f2f5fa",
           "arrowhead": 0,
           "arrowwidth": 1
          },
          "autotypenumbers": "strict",
          "coloraxis": {
           "colorbar": {
            "outlinewidth": 0,
            "ticks": ""
           }
          },
          "colorscale": {
           "diverging": [
            [
             0,
             "#8e0152"
            ],
            [
             0.1,
             "#c51b7d"
            ],
            [
             0.2,
             "#de77ae"
            ],
            [
             0.3,
             "#f1b6da"
            ],
            [
             0.4,
             "#fde0ef"
            ],
            [
             0.5,
             "#f7f7f7"
            ],
            [
             0.6,
             "#e6f5d0"
            ],
            [
             0.7,
             "#b8e186"
            ],
            [
             0.8,
             "#7fbc41"
            ],
            [
             0.9,
             "#4d9221"
            ],
            [
             1,
             "#276419"
            ]
           ],
           "sequential": [
            [
             0,
             "#0d0887"
            ],
            [
             0.1111111111111111,
             "#46039f"
            ],
            [
             0.2222222222222222,
             "#7201a8"
            ],
            [
             0.3333333333333333,
             "#9c179e"
            ],
            [
             0.4444444444444444,
             "#bd3786"
            ],
            [
             0.5555555555555556,
             "#d8576b"
            ],
            [
             0.6666666666666666,
             "#ed7953"
            ],
            [
             0.7777777777777778,
             "#fb9f3a"
            ],
            [
             0.8888888888888888,
             "#fdca26"
            ],
            [
             1,
             "#f0f921"
            ]
           ],
           "sequentialminus": [
            [
             0,
             "#0d0887"
            ],
            [
             0.1111111111111111,
             "#46039f"
            ],
            [
             0.2222222222222222,
             "#7201a8"
            ],
            [
             0.3333333333333333,
             "#9c179e"
            ],
            [
             0.4444444444444444,
             "#bd3786"
            ],
            [
             0.5555555555555556,
             "#d8576b"
            ],
            [
             0.6666666666666666,
             "#ed7953"
            ],
            [
             0.7777777777777778,
             "#fb9f3a"
            ],
            [
             0.8888888888888888,
             "#fdca26"
            ],
            [
             1,
             "#f0f921"
            ]
           ]
          },
          "colorway": [
           "#636efa",
           "#EF553B",
           "#00cc96",
           "#ab63fa",
           "#FFA15A",
           "#19d3f3",
           "#FF6692",
           "#B6E880",
           "#FF97FF",
           "#FECB52"
          ],
          "font": {
           "color": "#f2f5fa",
           "family": "monospace",
           "size": 14
          },
          "geo": {
           "bgcolor": "rgb(17,17,17)",
           "lakecolor": "rgb(17,17,17)",
           "landcolor": "rgb(17,17,17)",
           "showlakes": true,
           "showland": true,
           "subunitcolor": "#506784"
          },
          "hoverlabel": {
           "align": "left"
          },
          "hovermode": "closest",
          "mapbox": {
           "style": "dark"
          },
          "paper_bgcolor": "rgb(17,17,17)",
          "plot_bgcolor": "rgb(17,17,17)",
          "polar": {
           "angularaxis": {
            "gridcolor": "#506784",
            "linecolor": "#506784",
            "ticks": ""
           },
           "bgcolor": "rgb(17,17,17)",
           "radialaxis": {
            "gridcolor": "#506784",
            "linecolor": "#506784",
            "ticks": ""
           }
          },
          "scene": {
           "xaxis": {
            "backgroundcolor": "rgb(17,17,17)",
            "gridcolor": "#506784",
            "gridwidth": 2,
            "linecolor": "#506784",
            "showbackground": true,
            "ticks": "",
            "zerolinecolor": "#C8D4E3"
           },
           "yaxis": {
            "backgroundcolor": "rgb(17,17,17)",
            "gridcolor": "#506784",
            "gridwidth": 2,
            "linecolor": "#506784",
            "showbackground": true,
            "ticks": "",
            "zerolinecolor": "#C8D4E3"
           },
           "zaxis": {
            "backgroundcolor": "rgb(17,17,17)",
            "gridcolor": "#506784",
            "gridwidth": 2,
            "linecolor": "#506784",
            "showbackground": true,
            "ticks": "",
            "zerolinecolor": "#C8D4E3"
           }
          },
          "shapedefaults": {
           "line": {
            "color": "#f2f5fa"
           }
          },
          "sliderdefaults": {
           "bgcolor": "#C8D4E3",
           "bordercolor": "rgb(17,17,17)",
           "borderwidth": 1,
           "tickwidth": 0
          },
          "ternary": {
           "aaxis": {
            "gridcolor": "#506784",
            "linecolor": "#506784",
            "ticks": ""
           },
           "baxis": {
            "gridcolor": "#506784",
            "linecolor": "#506784",
            "ticks": ""
           },
           "bgcolor": "rgb(17,17,17)",
           "caxis": {
            "gridcolor": "#506784",
            "linecolor": "#506784",
            "ticks": ""
           }
          },
          "title": {
           "x": 0.05
          },
          "updatemenudefaults": {
           "bgcolor": "#506784",
           "borderwidth": 0
          },
          "xaxis": {
           "automargin": true,
           "gridcolor": "#283442",
           "linecolor": "#506784",
           "ticks": "",
           "title": {
            "standoff": 15
           },
           "zerolinecolor": "#283442",
           "zerolinewidth": 2
          },
          "yaxis": {
           "automargin": true,
           "gridcolor": "#283442",
           "linecolor": "#506784",
           "ticks": "",
           "title": {
            "standoff": 15
           },
           "zerolinecolor": "#283442",
           "zerolinewidth": 2
          }
         }
        },
        "title": {
         "text": "Boxplot of Oldpeak by Target"
        },
        "xaxis": {
         "anchor": "y",
         "categoryarray": [
          0,
          1
         ],
         "categoryorder": "array",
         "domain": [
          0,
          1
         ],
         "title": {
          "text": "Heart Disease"
         }
        },
        "yaxis": {
         "anchor": "x",
         "domain": [
          0,
          1
         ],
         "title": {
          "text": "Oldpeak"
         }
        }
       }
      }
     },
     "metadata": {},
     "output_type": "display_data"
    }
   ],
   "source": [
    "# show boxplots for selected columns, separate plots\n",
    "def plot_boxplots(df, columns, column_mapping):\n",
    "    for col in columns:\n",
    "        fig = px.box(\n",
    "            df,\n",
    "            x='target',\n",
    "            y=col,\n",
    "            color='target',\n",
    "            title=f'Boxplot of {column_mapping[col]} by Target',\n",
    "            labels=column_mapping\n",
    "        )\n",
    "\n",
    "        # update layout\n",
    "        fig.update_layout(\n",
    "            xaxis_title='Heart Disease',\n",
    "            yaxis_title=column_mapping[col],\n",
    "        )\n",
    "\n",
    "        # save the plot\n",
    "        fig.write_image(f\"eda/boxplots/{col}.png\")\n",
    "\n",
    "        fig.show()\n",
    "\n",
    "# plot boxplots\n",
    "plot_boxplots(heart_disease_df, columns_to_include, column_mapping)\n"
   ]
  },
  {
   "cell_type": "markdown",
   "metadata": {},
   "source": [
    "### 1. Boxplot of Age by Heart Disease\n",
    "\n",
    "- **Heart Disease (0)**: The median age is around 55, with the interquartile range (IQR) extending from approximately 48 to 60. There is one outlier below 40.\n",
    "- **Heart Disease (1)**: The median age is slightly higher, around 58, with the IQR extending from approximately 52 to 65. The age range is broader, extending from around 30 to 77.\n",
    "- **Observation**: Individuals with heart disease tend to be slightly older on average compared to those without heart disease.\n",
    "\n",
    "### 2. Oldpeak by Heart Disease\n",
    "- **Oldpeak** measures ST depression induced by exercise relative to rest.\n",
    "- **Heart Disease (0)**: The median Oldpeak value is around 1, with the interquartile range (IQR) extending from approximately 0.5 to 2. There are a few outliers above 4.\n",
    "- **Heart Disease (1)**: The median Oldpeak value is lower, around 0.5, with the IQR extending from approximately 0 to 1.5. There are several outliers above 2.\n",
    "- **Observation**: Individuals without heart disease tend to have higher Oldpeak values compared to those with heart disease.\n",
    "\n",
    "### 3. Max Heart Rate by Heart Disease\n",
    "- **Max Heart Rate** measures the maximum heart rate achieved during exercise.\n",
    "- **Heart Disease (0)**: The median max heart rate is around 150, with the IQR extending from approximately 130 to 170. There are a few outliers below 100.\n",
    "- **Heart Disease (1)**: The median max heart rate is lower, around 140, with the IQR extending from approximately 120 to 160. There are several outliers below 120.\n",
    "- **Observation**: Individuals with heart disease tend to have lower maximum heart rates compared to those without heart disease.\n",
    "\n",
    "### 4. Resting Blood Pressure by Heart Disease\n",
    "- **Resting Blood Pressure** measures the blood pressure at rest.\n",
    "- **Heart Disease (0)**: The median resting blood pressure is around 130, with the IQR extending from approximately 120 to 140. There are a few outliers above 180.\n",
    "- **Heart Disease (1)**: The median resting blood pressure is higher, around 140, with the IQR extending from approximately 130 to 160. There are several outliers above 180.\n",
    "- **Observation**: Individuals with heart disease tend to have higher resting blood pressure compared to those without heart disease.\n",
    "\n",
    "### 5. Cholesterol by Heart Disease\n",
    "- **Cholesterol** measures the cholesterol level in the blood.\n",
    "- **Heart Disease (0)**: The median cholesterol level is around 240, with the IQR extending from approximately 210 to 270. There are a few outliers above 400.\n",
    "- **Heart Disease (1)**: The median cholesterol level is slightly lower, around 230, with the IQR extending from approximately 200 to 260. There are several outliers above 300.\n",
    "- **Observation**: Individuals with heart disease tend to have slightly lower cholesterol levels compared to those without heart disease, but the difference is not as pronounced as in other metrics.\n",
    "\n",
    "### Summary\n",
    "- **Oldpeak** and **Max Heart Rate** show a clear distinction between individuals with and without heart disease, with higher Oldpeak and lower max heart rates associated with heart disease.\n",
    "- **Resting Blood Pressure** is higher in individuals with heart disease.\n",
    "- **Cholesterol** levels are slightly lower in individuals with heart disease, but the difference is less significant.\n"
   ]
  },
  {
   "cell_type": "markdown",
   "metadata": {},
   "source": [
    "## Pairplot"
   ]
  },
  {
   "cell_type": "code",
   "execution_count": 92,
   "metadata": {},
   "outputs": [],
   "source": [
    "df = heart_disease_df"
   ]
  },
  {
   "cell_type": "code",
   "execution_count": 176,
   "metadata": {},
   "outputs": [
    {
     "data": {
      "application/vnd.plotly.v1+json": {
       "config": {
        "plotlyServerURL": "https://plot.ly"
       },
       "data": [
        {
         "hoverinfo": "x+y",
         "name": "age",
         "showlegend": false,
         "type": "histogram",
         "x": [
          52,
          53,
          70,
          61,
          62,
          58,
          58,
          55,
          46,
          54,
          71,
          43,
          34,
          51,
          52,
          51,
          54,
          50,
          58,
          60,
          67,
          45,
          63,
          42,
          61,
          44,
          58,
          56,
          55,
          44,
          57,
          70,
          50,
          46,
          51,
          59,
          64,
          57,
          65,
          54,
          61,
          55,
          42,
          41,
          66,
          66,
          60,
          58,
          57,
          38,
          49,
          55,
          56,
          48,
          67,
          57,
          29,
          67,
          59,
          59,
          53,
          42,
          37,
          62,
          59,
          61,
          56,
          59,
          48,
          47,
          48,
          63,
          52,
          50,
          49,
          44,
          59,
          62,
          68,
          54,
          62,
          62,
          45,
          57,
          53,
          65,
          76,
          43,
          57,
          54,
          52,
          47,
          51,
          62,
          40,
          54,
          44,
          53,
          57,
          59,
          63,
          43,
          42,
          60,
          65,
          61,
          60,
          66,
          52,
          57,
          51,
          58,
          64,
          41,
          57,
          63,
          61,
          34,
          47,
          40,
          51,
          41,
          52,
          39,
          54,
          58,
          63,
          40,
          67,
          41,
          77,
          51,
          48,
          56,
          57,
          43,
          45,
          43,
          56,
          56,
          39,
          54,
          56,
          64,
          56,
          64,
          60,
          42,
          45,
          57,
          64,
          41,
          56,
          69,
          67,
          58,
          45,
          60,
          50,
          64,
          42,
          42,
          50,
          49,
          65,
          46,
          57,
          51,
          54,
          44,
          52,
          56,
          60,
          41,
          49,
          57,
          62,
          54,
          51,
          44,
          39,
          55,
          35,
          62,
          35,
          38,
          44,
          48,
          67,
          58,
          71,
          43,
          44,
          66,
          57,
          41,
          45,
          35,
          41,
          64,
          71,
          58,
          58,
          61,
          58,
          52,
          46,
          51,
          52,
          62,
          56,
          74,
          53,
          53,
          48,
          45,
          66,
          57,
          70,
          63,
          37,
          54,
          60,
          54,
          60,
          65,
          52,
          43,
          62,
          57,
          46,
          59,
          59,
          62,
          53,
          58,
          48,
          58,
          51,
          58,
          46,
          59,
          64,
          58,
          59,
          35,
          63,
          45,
          68,
          70,
          42,
          51,
          54,
          57,
          47,
          65,
          41,
          67,
          47,
          52,
          63,
          49,
          69,
          58,
          41,
          58,
          59,
          54,
          44,
          58,
          67,
          59,
          60,
          53,
          50,
          44,
          68,
          67,
          50,
          54,
          46,
          55,
          64,
          63,
          66,
          55,
          43,
          69,
          65,
          61,
          65,
          66,
          55,
          39,
          60,
          52,
          64,
          68,
          44,
          52,
          59,
          54
         ],
         "xaxis": "x",
         "yaxis": "y"
        },
        {
         "hoverinfo": "x+y",
         "marker": {
          "color": [
           0,
           0,
           0,
           0,
           0,
           1,
           0,
           0,
           0,
           0,
           1,
           0,
           1,
           0,
           0,
           1,
           0,
           1,
           1,
           0,
           1,
           1,
           1,
           1,
           0,
           1,
           0,
           0,
           0,
           0,
           0,
           0,
           1,
           0,
           1,
           1,
           1,
           0,
           1,
           1,
           0,
           1,
           1,
           1,
           0,
           1,
           0,
           1,
           0,
           1,
           0,
           0,
           1,
           1,
           0,
           0,
           1,
           0,
           1,
           0,
           1,
           0,
           1,
           0,
           0,
           0,
           0,
           0,
           0,
           1,
           1,
           0,
           1,
           0,
           0,
           1,
           0,
           0,
           0,
           1,
           1,
           1,
           1,
           1,
           0,
           0,
           1,
           1,
           1,
           1,
           1,
           0,
           0,
           0,
           0,
           0,
           0,
           1,
           0,
           0,
           0,
           0,
           1,
           0,
           1,
           0,
           1,
           1,
           1,
           1,
           1,
           0,
           1,
           1,
           0,
           0,
           0,
           1,
           1,
           0,
           1,
           0,
           1,
           1,
           0,
           0,
           0,
           1,
           1,
           1,
           0,
           1,
           0,
           0,
           1,
           1,
           1,
           1,
           0,
           1,
           1,
           0,
           0,
           0,
           0,
           1,
           0,
           1,
           1,
           0,
           0,
           1,
           1,
           1,
           0,
           0,
           1,
           1,
           0,
           1,
           1,
           1,
           0,
           1,
           0,
           0,
           0,
           1,
           1,
           1,
           1,
           1,
           0,
           1,
           1,
           0,
           0,
           1,
           1,
           1,
           1,
           0,
           0,
           1,
           1,
           0,
           1,
           1,
           0,
           0,
           1,
           1,
           1,
           1,
           1,
           1,
           1,
           1,
           1,
           1,
           1,
           1,
           0,
           1,
           0,
           1,
           1,
           1,
           1,
           0,
           1,
           1,
           1,
           1,
           1,
           0,
           0,
           0,
           0,
           0,
           1,
           1,
           0,
           1,
           0,
           1,
           1,
           0,
           0,
           1,
           1,
           0,
           0,
           1,
           1,
           0,
           0,
           1,
           1,
           0,
           1,
           1,
           1,
           0,
           0,
           0,
           1,
           0,
           0,
           1,
           1,
           0,
           1,
           1,
           0,
           0,
           1,
           0,
           1,
           0,
           0,
           1,
           0,
           1,
           1,
           0,
           1,
           1,
           0,
           1,
           1,
           1,
           0,
           1,
           1,
           1,
           1,
           0,
           1,
           1,
           1,
           1,
           0,
           1,
           0,
           0,
           1,
           1,
           0,
           0,
           1,
           1,
           1,
           0,
           1,
           1,
           0,
           1,
           1,
           0,
           0,
           0
          ],
          "colorscale": [
           [
            0,
            "rgb(0, 147, 146)"
           ],
           [
            0.16666666666666666,
            "rgb(114, 170, 161)"
           ],
           [
            0.3333333333333333,
            "rgb(177, 199, 179)"
           ],
           [
            0.5,
            "rgb(241, 234, 200)"
           ],
           [
            0.6666666666666666,
            "rgb(229, 185, 173)"
           ],
           [
            0.8333333333333334,
            "rgb(217, 137, 148)"
           ],
           [
            1,
            "rgb(208, 88, 126)"
           ]
          ],
          "showscale": false
         },
         "mode": "markers",
         "showlegend": false,
         "type": "scatter",
         "x": [
          125,
          140,
          145,
          148,
          138,
          100,
          114,
          160,
          120,
          122,
          112,
          132,
          118,
          140,
          128,
          140,
          124,
          120,
          140,
          140,
          106,
          104,
          135,
          120,
          145,
          130,
          136,
          130,
          180,
          120,
          130,
          160,
          129,
          150,
          125,
          138,
          128,
          128,
          160,
          120,
          130,
          132,
          140,
          135,
          178,
          146,
          117,
          150,
          140,
          138,
          120,
          140,
          120,
          130,
          152,
          154,
          130,
          100,
          150,
          170,
          130,
          136,
          120,
          160,
          170,
          140,
          125,
          140,
          130,
          138,
          124,
          140,
          134,
          140,
          118,
          120,
          174,
          140,
          144,
          108,
          124,
          128,
          138,
          128,
          123,
          110,
          140,
          122,
          150,
          108,
          118,
          110,
          140,
          120,
          152,
          110,
          110,
          142,
          110,
          126,
          130,
          120,
          120,
          145,
          140,
          120,
          150,
          120,
          138,
          140,
          130,
          170,
          180,
          110,
          152,
          124,
          134,
          118,
          112,
          110,
          120,
          110,
          152,
          140,
          192,
          125,
          130,
          140,
          115,
          120,
          125,
          100,
          124,
          132,
          120,
          130,
          112,
          150,
          130,
          120,
          94,
          110,
          200,
          120,
          134,
          110,
          140,
          130,
          128,
          165,
          125,
          112,
          130,
          160,
          160,
          100,
          115,
          102,
          144,
          170,
          148,
          120,
          150,
          130,
          135,
          140,
          130,
          140,
          150,
          118,
          128,
          120,
          125,
          126,
          130,
          124,
          150,
          132,
          125,
          130,
          138,
          132,
          120,
          140,
          138,
          120,
          120,
          122,
          120,
          132,
          110,
          110,
          120,
          160,
          132,
          105,
          130,
          122,
          130,
          140,
          160,
          120,
          128,
          150,
          150,
          120,
          105,
          94,
          136,
          120,
          140,
          120,
          128,
          130,
          130,
          142,
          160,
          150,
          130,
          108,
          130,
          110,
          130,
          125,
          130,
          155,
          172,
          132,
          130,
          110,
          138,
          164,
          134,
          130,
          130,
          112,
          110,
          105,
          110,
          120,
          142,
          140,
          130,
          146,
          110,
          126,
          145,
          110,
          180,
          156,
          102,
          130,
          160,
          150,
          108,
          150,
          112,
          120,
          130,
          112,
          150,
          134,
          140,
          130,
          130,
          128,
          135,
          140,
          112,
          125,
          152,
          178,
          150,
          138,
          120,
          140,
          118,
          125,
          110,
          135,
          101,
          130,
          145,
          140,
          112,
          128,
          115,
          140,
          138,
          138,
          120,
          150,
          135,
          118,
          120,
          108,
          140,
          120,
          108,
          128,
          160,
          120
         ],
         "xaxis": "x2",
         "y": [
          52,
          53,
          70,
          61,
          62,
          58,
          58,
          55,
          46,
          54,
          71,
          43,
          34,
          51,
          52,
          51,
          54,
          50,
          58,
          60,
          67,
          45,
          63,
          42,
          61,
          44,
          58,
          56,
          55,
          44,
          57,
          70,
          50,
          46,
          51,
          59,
          64,
          57,
          65,
          54,
          61,
          55,
          42,
          41,
          66,
          66,
          60,
          58,
          57,
          38,
          49,
          55,
          56,
          48,
          67,
          57,
          29,
          67,
          59,
          59,
          53,
          42,
          37,
          62,
          59,
          61,
          56,
          59,
          48,
          47,
          48,
          63,
          52,
          50,
          49,
          44,
          59,
          62,
          68,
          54,
          62,
          62,
          45,
          57,
          53,
          65,
          76,
          43,
          57,
          54,
          52,
          47,
          51,
          62,
          40,
          54,
          44,
          53,
          57,
          59,
          63,
          43,
          42,
          60,
          65,
          61,
          60,
          66,
          52,
          57,
          51,
          58,
          64,
          41,
          57,
          63,
          61,
          34,
          47,
          40,
          51,
          41,
          52,
          39,
          54,
          58,
          63,
          40,
          67,
          41,
          77,
          51,
          48,
          56,
          57,
          43,
          45,
          43,
          56,
          56,
          39,
          54,
          56,
          64,
          56,
          64,
          60,
          42,
          45,
          57,
          64,
          41,
          56,
          69,
          67,
          58,
          45,
          60,
          50,
          64,
          42,
          42,
          50,
          49,
          65,
          46,
          57,
          51,
          54,
          44,
          52,
          56,
          60,
          41,
          49,
          57,
          62,
          54,
          51,
          44,
          39,
          55,
          35,
          62,
          35,
          38,
          44,
          48,
          67,
          58,
          71,
          43,
          44,
          66,
          57,
          41,
          45,
          35,
          41,
          64,
          71,
          58,
          58,
          61,
          58,
          52,
          46,
          51,
          52,
          62,
          56,
          74,
          53,
          53,
          48,
          45,
          66,
          57,
          70,
          63,
          37,
          54,
          60,
          54,
          60,
          65,
          52,
          43,
          62,
          57,
          46,
          59,
          59,
          62,
          53,
          58,
          48,
          58,
          51,
          58,
          46,
          59,
          64,
          58,
          59,
          35,
          63,
          45,
          68,
          70,
          42,
          51,
          54,
          57,
          47,
          65,
          41,
          67,
          47,
          52,
          63,
          49,
          69,
          58,
          41,
          58,
          59,
          54,
          44,
          58,
          67,
          59,
          60,
          53,
          50,
          44,
          68,
          67,
          50,
          54,
          46,
          55,
          64,
          63,
          66,
          55,
          43,
          69,
          65,
          61,
          65,
          66,
          55,
          39,
          60,
          52,
          64,
          68,
          44,
          52,
          59,
          54
         ],
         "yaxis": "y2"
        },
        {
         "hoverinfo": "x+y",
         "marker": {
          "color": [
           0,
           0,
           0,
           0,
           0,
           1,
           0,
           0,
           0,
           0,
           1,
           0,
           1,
           0,
           0,
           1,
           0,
           1,
           1,
           0,
           1,
           1,
           1,
           1,
           0,
           1,
           0,
           0,
           0,
           0,
           0,
           0,
           1,
           0,
           1,
           1,
           1,
           0,
           1,
           1,
           0,
           1,
           1,
           1,
           0,
           1,
           0,
           1,
           0,
           1,
           0,
           0,
           1,
           1,
           0,
           0,
           1,
           0,
           1,
           0,
           1,
           0,
           1,
           0,
           0,
           0,
           0,
           0,
           0,
           1,
           1,
           0,
           1,
           0,
           0,
           1,
           0,
           0,
           0,
           1,
           1,
           1,
           1,
           1,
           0,
           0,
           1,
           1,
           1,
           1,
           1,
           0,
           0,
           0,
           0,
           0,
           0,
           1,
           0,
           0,
           0,
           0,
           1,
           0,
           1,
           0,
           1,
           1,
           1,
           1,
           1,
           0,
           1,
           1,
           0,
           0,
           0,
           1,
           1,
           0,
           1,
           0,
           1,
           1,
           0,
           0,
           0,
           1,
           1,
           1,
           0,
           1,
           0,
           0,
           1,
           1,
           1,
           1,
           0,
           1,
           1,
           0,
           0,
           0,
           0,
           1,
           0,
           1,
           1,
           0,
           0,
           1,
           1,
           1,
           0,
           0,
           1,
           1,
           0,
           1,
           1,
           1,
           0,
           1,
           0,
           0,
           0,
           1,
           1,
           1,
           1,
           1,
           0,
           1,
           1,
           0,
           0,
           1,
           1,
           1,
           1,
           0,
           0,
           1,
           1,
           0,
           1,
           1,
           0,
           0,
           1,
           1,
           1,
           1,
           1,
           1,
           1,
           1,
           1,
           1,
           1,
           1,
           0,
           1,
           0,
           1,
           1,
           1,
           1,
           0,
           1,
           1,
           1,
           1,
           1,
           0,
           0,
           0,
           0,
           0,
           1,
           1,
           0,
           1,
           0,
           1,
           1,
           0,
           0,
           1,
           1,
           0,
           0,
           1,
           1,
           0,
           0,
           1,
           1,
           0,
           1,
           1,
           1,
           0,
           0,
           0,
           1,
           0,
           0,
           1,
           1,
           0,
           1,
           1,
           0,
           0,
           1,
           0,
           1,
           0,
           0,
           1,
           0,
           1,
           1,
           0,
           1,
           1,
           0,
           1,
           1,
           1,
           0,
           1,
           1,
           1,
           1,
           0,
           1,
           1,
           1,
           1,
           0,
           1,
           0,
           0,
           1,
           1,
           0,
           0,
           1,
           1,
           1,
           0,
           1,
           1,
           0,
           1,
           1,
           0,
           0,
           0
          ],
          "colorscale": [
           [
            0,
            "rgb(0, 147, 146)"
           ],
           [
            0.16666666666666666,
            "rgb(114, 170, 161)"
           ],
           [
            0.3333333333333333,
            "rgb(177, 199, 179)"
           ],
           [
            0.5,
            "rgb(241, 234, 200)"
           ],
           [
            0.6666666666666666,
            "rgb(229, 185, 173)"
           ],
           [
            0.8333333333333334,
            "rgb(217, 137, 148)"
           ],
           [
            1,
            "rgb(208, 88, 126)"
           ]
          ],
          "showscale": false
         },
         "mode": "markers",
         "showlegend": false,
         "type": "scatter",
         "x": [
          212,
          203,
          174,
          203,
          294,
          248,
          318,
          289,
          249,
          286,
          149,
          341,
          210,
          298,
          204,
          308,
          266,
          244,
          211,
          185,
          223,
          208,
          252,
          209,
          307,
          233,
          319,
          256,
          327,
          169,
          131,
          269,
          196,
          231,
          213,
          271,
          263,
          229,
          360,
          258,
          330,
          342,
          226,
          203,
          228,
          278,
          230,
          283,
          241,
          175,
          188,
          217,
          193,
          245,
          212,
          232,
          204,
          299,
          212,
          288,
          197,
          315,
          215,
          164,
          326,
          207,
          249,
          177,
          256,
          257,
          255,
          187,
          201,
          233,
          149,
          220,
          249,
          268,
          193,
          267,
          209,
          208,
          236,
          303,
          282,
          248,
          197,
          213,
          126,
          309,
          186,
          275,
          299,
          281,
          223,
          206,
          197,
          226,
          335,
          218,
          254,
          177,
          295,
          282,
          417,
          260,
          240,
          302,
          223,
          192,
          256,
          225,
          325,
          235,
          274,
          197,
          234,
          182,
          204,
          167,
          295,
          172,
          298,
          321,
          283,
          300,
          330,
          199,
          564,
          157,
          304,
          222,
          274,
          184,
          354,
          315,
          160,
          247,
          283,
          240,
          199,
          239,
          288,
          246,
          409,
          211,
          293,
          180,
          308,
          289,
          309,
          250,
          221,
          234,
          286,
          234,
          260,
          318,
          200,
          227,
          244,
          240,
          243,
          266,
          254,
          311,
          236,
          261,
          232,
          242,
          205,
          236,
          258,
          306,
          269,
          261,
          244,
          288,
          245,
          219,
          220,
          353,
          198,
          394,
          183,
          231,
          226,
          222,
          237,
          224,
          265,
          211,
          263,
          228,
          207,
          198,
          234,
          192,
          204,
          313,
          302,
          340,
          259,
          243,
          270,
          325,
          204,
          227,
          196,
          267,
          294,
          269,
          216,
          264,
          275,
          309,
          246,
          276,
          322,
          269,
          250,
          214,
          206,
          273,
          253,
          269,
          199,
          247,
          263,
          201,
          243,
          176,
          204,
          231,
          246,
          230,
          229,
          240,
          175,
          284,
          177,
          221,
          303,
          218,
          239,
          282,
          233,
          264,
          274,
          245,
          265,
          305,
          201,
          168,
          243,
          225,
          268,
          229,
          253,
          230,
          407,
          271,
          254,
          197,
          214,
          216,
          234,
          239,
          290,
          220,
          277,
          270,
          258,
          234,
          219,
          235,
          277,
          254,
          254,
          304,
          197,
          262,
          212,
          195,
          212,
          205,
          303,
          239,
          282,
          166,
          177,
          226,
          250,
          219,
          178,
          233,
          335,
          211,
          141,
          255,
          273,
          188
         ],
         "xaxis": "x3",
         "y": [
          52,
          53,
          70,
          61,
          62,
          58,
          58,
          55,
          46,
          54,
          71,
          43,
          34,
          51,
          52,
          51,
          54,
          50,
          58,
          60,
          67,
          45,
          63,
          42,
          61,
          44,
          58,
          56,
          55,
          44,
          57,
          70,
          50,
          46,
          51,
          59,
          64,
          57,
          65,
          54,
          61,
          55,
          42,
          41,
          66,
          66,
          60,
          58,
          57,
          38,
          49,
          55,
          56,
          48,
          67,
          57,
          29,
          67,
          59,
          59,
          53,
          42,
          37,
          62,
          59,
          61,
          56,
          59,
          48,
          47,
          48,
          63,
          52,
          50,
          49,
          44,
          59,
          62,
          68,
          54,
          62,
          62,
          45,
          57,
          53,
          65,
          76,
          43,
          57,
          54,
          52,
          47,
          51,
          62,
          40,
          54,
          44,
          53,
          57,
          59,
          63,
          43,
          42,
          60,
          65,
          61,
          60,
          66,
          52,
          57,
          51,
          58,
          64,
          41,
          57,
          63,
          61,
          34,
          47,
          40,
          51,
          41,
          52,
          39,
          54,
          58,
          63,
          40,
          67,
          41,
          77,
          51,
          48,
          56,
          57,
          43,
          45,
          43,
          56,
          56,
          39,
          54,
          56,
          64,
          56,
          64,
          60,
          42,
          45,
          57,
          64,
          41,
          56,
          69,
          67,
          58,
          45,
          60,
          50,
          64,
          42,
          42,
          50,
          49,
          65,
          46,
          57,
          51,
          54,
          44,
          52,
          56,
          60,
          41,
          49,
          57,
          62,
          54,
          51,
          44,
          39,
          55,
          35,
          62,
          35,
          38,
          44,
          48,
          67,
          58,
          71,
          43,
          44,
          66,
          57,
          41,
          45,
          35,
          41,
          64,
          71,
          58,
          58,
          61,
          58,
          52,
          46,
          51,
          52,
          62,
          56,
          74,
          53,
          53,
          48,
          45,
          66,
          57,
          70,
          63,
          37,
          54,
          60,
          54,
          60,
          65,
          52,
          43,
          62,
          57,
          46,
          59,
          59,
          62,
          53,
          58,
          48,
          58,
          51,
          58,
          46,
          59,
          64,
          58,
          59,
          35,
          63,
          45,
          68,
          70,
          42,
          51,
          54,
          57,
          47,
          65,
          41,
          67,
          47,
          52,
          63,
          49,
          69,
          58,
          41,
          58,
          59,
          54,
          44,
          58,
          67,
          59,
          60,
          53,
          50,
          44,
          68,
          67,
          50,
          54,
          46,
          55,
          64,
          63,
          66,
          55,
          43,
          69,
          65,
          61,
          65,
          66,
          55,
          39,
          60,
          52,
          64,
          68,
          44,
          52,
          59,
          54
         ],
         "yaxis": "y3"
        },
        {
         "hoverinfo": "x+y",
         "marker": {
          "color": [
           0,
           0,
           0,
           0,
           0,
           1,
           0,
           0,
           0,
           0,
           1,
           0,
           1,
           0,
           0,
           1,
           0,
           1,
           1,
           0,
           1,
           1,
           1,
           1,
           0,
           1,
           0,
           0,
           0,
           0,
           0,
           0,
           1,
           0,
           1,
           1,
           1,
           0,
           1,
           1,
           0,
           1,
           1,
           1,
           0,
           1,
           0,
           1,
           0,
           1,
           0,
           0,
           1,
           1,
           0,
           0,
           1,
           0,
           1,
           0,
           1,
           0,
           1,
           0,
           0,
           0,
           0,
           0,
           0,
           1,
           1,
           0,
           1,
           0,
           0,
           1,
           0,
           0,
           0,
           1,
           1,
           1,
           1,
           1,
           0,
           0,
           1,
           1,
           1,
           1,
           1,
           0,
           0,
           0,
           0,
           0,
           0,
           1,
           0,
           0,
           0,
           0,
           1,
           0,
           1,
           0,
           1,
           1,
           1,
           1,
           1,
           0,
           1,
           1,
           0,
           0,
           0,
           1,
           1,
           0,
           1,
           0,
           1,
           1,
           0,
           0,
           0,
           1,
           1,
           1,
           0,
           1,
           0,
           0,
           1,
           1,
           1,
           1,
           0,
           1,
           1,
           0,
           0,
           0,
           0,
           1,
           0,
           1,
           1,
           0,
           0,
           1,
           1,
           1,
           0,
           0,
           1,
           1,
           0,
           1,
           1,
           1,
           0,
           1,
           0,
           0,
           0,
           1,
           1,
           1,
           1,
           1,
           0,
           1,
           1,
           0,
           0,
           1,
           1,
           1,
           1,
           0,
           0,
           1,
           1,
           0,
           1,
           1,
           0,
           0,
           1,
           1,
           1,
           1,
           1,
           1,
           1,
           1,
           1,
           1,
           1,
           1,
           0,
           1,
           0,
           1,
           1,
           1,
           1,
           0,
           1,
           1,
           1,
           1,
           1,
           0,
           0,
           0,
           0,
           0,
           1,
           1,
           0,
           1,
           0,
           1,
           1,
           0,
           0,
           1,
           1,
           0,
           0,
           1,
           1,
           0,
           0,
           1,
           1,
           0,
           1,
           1,
           1,
           0,
           0,
           0,
           1,
           0,
           0,
           1,
           1,
           0,
           1,
           1,
           0,
           0,
           1,
           0,
           1,
           0,
           0,
           1,
           0,
           1,
           1,
           0,
           1,
           1,
           0,
           1,
           1,
           1,
           0,
           1,
           1,
           1,
           1,
           0,
           1,
           1,
           1,
           1,
           0,
           1,
           0,
           0,
           1,
           1,
           0,
           0,
           1,
           1,
           1,
           0,
           1,
           1,
           0,
           1,
           1,
           0,
           0,
           0
          ],
          "colorscale": [
           [
            0,
            "rgb(0, 147, 146)"
           ],
           [
            0.16666666666666666,
            "rgb(114, 170, 161)"
           ],
           [
            0.3333333333333333,
            "rgb(177, 199, 179)"
           ],
           [
            0.5,
            "rgb(241, 234, 200)"
           ],
           [
            0.6666666666666666,
            "rgb(229, 185, 173)"
           ],
           [
            0.8333333333333334,
            "rgb(217, 137, 148)"
           ],
           [
            1,
            "rgb(208, 88, 126)"
           ]
          ],
          "showscale": false
         },
         "mode": "markers",
         "showlegend": false,
         "type": "scatter",
         "x": [
          168,
          155,
          125,
          161,
          106,
          122,
          140,
          145,
          144,
          116,
          125,
          136,
          192,
          122,
          156,
          142,
          109,
          162,
          165,
          155,
          142,
          148,
          172,
          173,
          146,
          179,
          152,
          142,
          117,
          144,
          115,
          112,
          163,
          147,
          125,
          182,
          105,
          150,
          151,
          147,
          169,
          166,
          178,
          132,
          165,
          152,
          160,
          162,
          123,
          173,
          139,
          111,
          162,
          180,
          150,
          164,
          202,
          125,
          157,
          159,
          152,
          125,
          170,
          145,
          140,
          138,
          144,
          162,
          150,
          156,
          175,
          144,
          158,
          163,
          126,
          170,
          143,
          160,
          141,
          167,
          163,
          140,
          152,
          159,
          95,
          158,
          116,
          165,
          173,
          156,
          190,
          118,
          173,
          103,
          181,
          108,
          177,
          111,
          143,
          134,
          147,
          120,
          162,
          142,
          157,
          140,
          171,
          151,
          169,
          148,
          149,
          146,
          154,
          153,
          88,
          136,
          145,
          174,
          143,
          114,
          157,
          158,
          178,
          182,
          195,
          171,
          132,
          178,
          160,
          182,
          162,
          143,
          166,
          105,
          163,
          162,
          138,
          171,
          103,
          169,
          179,
          126,
          133,
          96,
          150,
          144,
          170,
          150,
          170,
          124,
          131,
          179,
          163,
          131,
          108,
          156,
          185,
          160,
          126,
          155,
          178,
          194,
          128,
          171,
          127,
          120,
          174,
          186,
          165,
          149,
          184,
          178,
          141,
          163,
          163,
          141,
          154,
          159,
          166,
          188,
          152,
          132,
          130,
          157,
          182,
          182,
          169,
          186,
          71,
          173,
          130,
          161,
          173,
          138,
          168,
          168,
          175,
          174,
          172,
          133,
          162,
          172,
          130,
          137,
          111,
          172,
          172,
          154,
          169,
          99,
          153,
          121,
          115,
          143,
          139,
          147,
          120,
          112,
          109,
          169,
          187,
          158,
          132,
          152,
          144,
          148,
          162,
          143,
          97,
          126,
          152,
          90,
          162,
          146,
          173,
          165,
          168,
          154,
          123,
          160,
          160,
          164,
          122,
          105,
          142,
          156,
          150,
          132,
          150,
          143,
          122,
          142,
          163,
          174,
          152,
          114,
          172,
          129,
          179,
          160,
          154,
          162,
          146,
          131,
          168,
          131,
          161,
          160,
          153,
          144,
          172,
          145,
          157,
          160,
          158,
          180,
          151,
          163,
          159,
          170,
          156,
          155,
          132,
          179,
          132,
          130,
          181,
          151,
          174,
          125,
          140,
          114,
          161,
          140,
          96,
          147,
          158,
          115,
          175,
          161,
          125,
          113
         ],
         "xaxis": "x4",
         "y": [
          52,
          53,
          70,
          61,
          62,
          58,
          58,
          55,
          46,
          54,
          71,
          43,
          34,
          51,
          52,
          51,
          54,
          50,
          58,
          60,
          67,
          45,
          63,
          42,
          61,
          44,
          58,
          56,
          55,
          44,
          57,
          70,
          50,
          46,
          51,
          59,
          64,
          57,
          65,
          54,
          61,
          55,
          42,
          41,
          66,
          66,
          60,
          58,
          57,
          38,
          49,
          55,
          56,
          48,
          67,
          57,
          29,
          67,
          59,
          59,
          53,
          42,
          37,
          62,
          59,
          61,
          56,
          59,
          48,
          47,
          48,
          63,
          52,
          50,
          49,
          44,
          59,
          62,
          68,
          54,
          62,
          62,
          45,
          57,
          53,
          65,
          76,
          43,
          57,
          54,
          52,
          47,
          51,
          62,
          40,
          54,
          44,
          53,
          57,
          59,
          63,
          43,
          42,
          60,
          65,
          61,
          60,
          66,
          52,
          57,
          51,
          58,
          64,
          41,
          57,
          63,
          61,
          34,
          47,
          40,
          51,
          41,
          52,
          39,
          54,
          58,
          63,
          40,
          67,
          41,
          77,
          51,
          48,
          56,
          57,
          43,
          45,
          43,
          56,
          56,
          39,
          54,
          56,
          64,
          56,
          64,
          60,
          42,
          45,
          57,
          64,
          41,
          56,
          69,
          67,
          58,
          45,
          60,
          50,
          64,
          42,
          42,
          50,
          49,
          65,
          46,
          57,
          51,
          54,
          44,
          52,
          56,
          60,
          41,
          49,
          57,
          62,
          54,
          51,
          44,
          39,
          55,
          35,
          62,
          35,
          38,
          44,
          48,
          67,
          58,
          71,
          43,
          44,
          66,
          57,
          41,
          45,
          35,
          41,
          64,
          71,
          58,
          58,
          61,
          58,
          52,
          46,
          51,
          52,
          62,
          56,
          74,
          53,
          53,
          48,
          45,
          66,
          57,
          70,
          63,
          37,
          54,
          60,
          54,
          60,
          65,
          52,
          43,
          62,
          57,
          46,
          59,
          59,
          62,
          53,
          58,
          48,
          58,
          51,
          58,
          46,
          59,
          64,
          58,
          59,
          35,
          63,
          45,
          68,
          70,
          42,
          51,
          54,
          57,
          47,
          65,
          41,
          67,
          47,
          52,
          63,
          49,
          69,
          58,
          41,
          58,
          59,
          54,
          44,
          58,
          67,
          59,
          60,
          53,
          50,
          44,
          68,
          67,
          50,
          54,
          46,
          55,
          64,
          63,
          66,
          55,
          43,
          69,
          65,
          61,
          65,
          66,
          55,
          39,
          60,
          52,
          64,
          68,
          44,
          52,
          59,
          54
         ],
         "yaxis": "y4"
        },
        {
         "hoverinfo": "x+y",
         "marker": {
          "color": [
           0,
           0,
           0,
           0,
           0,
           1,
           0,
           0,
           0,
           0,
           1,
           0,
           1,
           0,
           0,
           1,
           0,
           1,
           1,
           0,
           1,
           1,
           1,
           1,
           0,
           1,
           0,
           0,
           0,
           0,
           0,
           0,
           1,
           0,
           1,
           1,
           1,
           0,
           1,
           1,
           0,
           1,
           1,
           1,
           0,
           1,
           0,
           1,
           0,
           1,
           0,
           0,
           1,
           1,
           0,
           0,
           1,
           0,
           1,
           0,
           1,
           0,
           1,
           0,
           0,
           0,
           0,
           0,
           0,
           1,
           1,
           0,
           1,
           0,
           0,
           1,
           0,
           0,
           0,
           1,
           1,
           1,
           1,
           1,
           0,
           0,
           1,
           1,
           1,
           1,
           1,
           0,
           0,
           0,
           0,
           0,
           0,
           1,
           0,
           0,
           0,
           0,
           1,
           0,
           1,
           0,
           1,
           1,
           1,
           1,
           1,
           0,
           1,
           1,
           0,
           0,
           0,
           1,
           1,
           0,
           1,
           0,
           1,
           1,
           0,
           0,
           0,
           1,
           1,
           1,
           0,
           1,
           0,
           0,
           1,
           1,
           1,
           1,
           0,
           1,
           1,
           0,
           0,
           0,
           0,
           1,
           0,
           1,
           1,
           0,
           0,
           1,
           1,
           1,
           0,
           0,
           1,
           1,
           0,
           1,
           1,
           1,
           0,
           1,
           0,
           0,
           0,
           1,
           1,
           1,
           1,
           1,
           0,
           1,
           1,
           0,
           0,
           1,
           1,
           1,
           1,
           0,
           0,
           1,
           1,
           0,
           1,
           1,
           0,
           0,
           1,
           1,
           1,
           1,
           1,
           1,
           1,
           1,
           1,
           1,
           1,
           1,
           0,
           1,
           0,
           1,
           1,
           1,
           1,
           0,
           1,
           1,
           1,
           1,
           1,
           0,
           0,
           0,
           0,
           0,
           1,
           1,
           0,
           1,
           0,
           1,
           1,
           0,
           0,
           1,
           1,
           0,
           0,
           1,
           1,
           0,
           0,
           1,
           1,
           0,
           1,
           1,
           1,
           0,
           0,
           0,
           1,
           0,
           0,
           1,
           1,
           0,
           1,
           1,
           0,
           0,
           1,
           0,
           1,
           0,
           0,
           1,
           0,
           1,
           1,
           0,
           1,
           1,
           0,
           1,
           1,
           1,
           0,
           1,
           1,
           1,
           1,
           0,
           1,
           1,
           1,
           1,
           0,
           1,
           0,
           0,
           1,
           1,
           0,
           0,
           1,
           1,
           1,
           0,
           1,
           1,
           0,
           1,
           1,
           0,
           0,
           0
          ],
          "colorscale": [
           [
            0,
            "rgb(0, 147, 146)"
           ],
           [
            0.16666666666666666,
            "rgb(114, 170, 161)"
           ],
           [
            0.3333333333333333,
            "rgb(177, 199, 179)"
           ],
           [
            0.5,
            "rgb(241, 234, 200)"
           ],
           [
            0.6666666666666666,
            "rgb(229, 185, 173)"
           ],
           [
            0.8333333333333334,
            "rgb(217, 137, 148)"
           ],
           [
            1,
            "rgb(208, 88, 126)"
           ]
          ],
          "showscale": false
         },
         "mode": "markers",
         "showlegend": false,
         "type": "scatter",
         "x": [
          1,
          3.1,
          2.6,
          0,
          1.9,
          1,
          4.4,
          0.8,
          0.8,
          3.2,
          1.6,
          3,
          0.7,
          4.2,
          1,
          1.5,
          2.2,
          1.1,
          0,
          3,
          0.3,
          3,
          0,
          0,
          1,
          0.4,
          0,
          0.6,
          3.4,
          2.8,
          1.2,
          2.9,
          0,
          3.6,
          1.4,
          0,
          0.2,
          0.4,
          0.8,
          0.4,
          0,
          1.2,
          0,
          0,
          1,
          0,
          1.4,
          1,
          0.2,
          0,
          2,
          5.6,
          1.9,
          0.2,
          0.8,
          0,
          0,
          0.9,
          1.6,
          0.2,
          1.2,
          1.8,
          0,
          6.2,
          3.4,
          1.9,
          1.2,
          0,
          0,
          0,
          0,
          4,
          0.8,
          0.6,
          0.8,
          0,
          0,
          3.6,
          3.4,
          0,
          0,
          0,
          0.2,
          0,
          2,
          0.6,
          1.1,
          0.2,
          0.2,
          0,
          0,
          1,
          1.6,
          1.4,
          0,
          0,
          0,
          0,
          3,
          2.2,
          1.4,
          2.5,
          0,
          2.8,
          0.8,
          3.6,
          0.9,
          0.4,
          0,
          0.4,
          0.5,
          2.8,
          0,
          0,
          1.2,
          0,
          2.6,
          0,
          0.1,
          2,
          0.6,
          0,
          1.2,
          0,
          0,
          0,
          1.8,
          1.4,
          1.6,
          0,
          0,
          1.2,
          0.5,
          2.1,
          0.6,
          1.9,
          0,
          1.5,
          1.6,
          0,
          0,
          2.8,
          4,
          2.2,
          1.9,
          1.8,
          1.2,
          0,
          0,
          1,
          1.8,
          0,
          0,
          0.1,
          1.5,
          0.1,
          0,
          0,
          0.9,
          0.6,
          0.8,
          0.8,
          2.6,
          0.6,
          2.8,
          1.8,
          0,
          0,
          1.6,
          0.3,
          0,
          0.8,
          2.8,
          0,
          0,
          0.3,
          1.4,
          0,
          2.4,
          0,
          0,
          1.2,
          1.6,
          1.2,
          1.4,
          3.8,
          0,
          0,
          1,
          3.2,
          0,
          0,
          0,
          2.3,
          0,
          0,
          0.6,
          0,
          1.4,
          0.2,
          0.4,
          0,
          3,
          1,
          0.8,
          0.2,
          0,
          0,
          0.1,
          1.8,
          1.3,
          0.2,
          0,
          0.4,
          0.2,
          0,
          0,
          0.6,
          2.4,
          1.8,
          3.5,
          1.6,
          2.4,
          0.5,
          1.4,
          0.8,
          0.5,
          0.1,
          1.2,
          1.5,
          0,
          1,
          0.8,
          1.8,
          0,
          2.5,
          1,
          0.6,
          0.6,
          1.8,
          1.4,
          0,
          2,
          2,
          1.2,
          0,
          2.3,
          1.2,
          1.6,
          0,
          0.6,
          1.2,
          0,
          1.6,
          0,
          1,
          0,
          2.6,
          0,
          0,
          4,
          0,
          2,
          0.6,
          2,
          2.2,
          0.5,
          1.2,
          0,
          0.4,
          0,
          4.2,
          2.6,
          0,
          1.6,
          0,
          1,
          0.2,
          0,
          0,
          0,
          0,
          2,
          0,
          0.1,
          2,
          1.2,
          1.8,
          1.4,
          3.6,
          0.4,
          2.6,
          1.4,
          1.2,
          0,
          0.1,
          0,
          1.5,
          0.6,
          0,
          0,
          1.4
         ],
         "xaxis": "x5",
         "y": [
          52,
          53,
          70,
          61,
          62,
          58,
          58,
          55,
          46,
          54,
          71,
          43,
          34,
          51,
          52,
          51,
          54,
          50,
          58,
          60,
          67,
          45,
          63,
          42,
          61,
          44,
          58,
          56,
          55,
          44,
          57,
          70,
          50,
          46,
          51,
          59,
          64,
          57,
          65,
          54,
          61,
          55,
          42,
          41,
          66,
          66,
          60,
          58,
          57,
          38,
          49,
          55,
          56,
          48,
          67,
          57,
          29,
          67,
          59,
          59,
          53,
          42,
          37,
          62,
          59,
          61,
          56,
          59,
          48,
          47,
          48,
          63,
          52,
          50,
          49,
          44,
          59,
          62,
          68,
          54,
          62,
          62,
          45,
          57,
          53,
          65,
          76,
          43,
          57,
          54,
          52,
          47,
          51,
          62,
          40,
          54,
          44,
          53,
          57,
          59,
          63,
          43,
          42,
          60,
          65,
          61,
          60,
          66,
          52,
          57,
          51,
          58,
          64,
          41,
          57,
          63,
          61,
          34,
          47,
          40,
          51,
          41,
          52,
          39,
          54,
          58,
          63,
          40,
          67,
          41,
          77,
          51,
          48,
          56,
          57,
          43,
          45,
          43,
          56,
          56,
          39,
          54,
          56,
          64,
          56,
          64,
          60,
          42,
          45,
          57,
          64,
          41,
          56,
          69,
          67,
          58,
          45,
          60,
          50,
          64,
          42,
          42,
          50,
          49,
          65,
          46,
          57,
          51,
          54,
          44,
          52,
          56,
          60,
          41,
          49,
          57,
          62,
          54,
          51,
          44,
          39,
          55,
          35,
          62,
          35,
          38,
          44,
          48,
          67,
          58,
          71,
          43,
          44,
          66,
          57,
          41,
          45,
          35,
          41,
          64,
          71,
          58,
          58,
          61,
          58,
          52,
          46,
          51,
          52,
          62,
          56,
          74,
          53,
          53,
          48,
          45,
          66,
          57,
          70,
          63,
          37,
          54,
          60,
          54,
          60,
          65,
          52,
          43,
          62,
          57,
          46,
          59,
          59,
          62,
          53,
          58,
          48,
          58,
          51,
          58,
          46,
          59,
          64,
          58,
          59,
          35,
          63,
          45,
          68,
          70,
          42,
          51,
          54,
          57,
          47,
          65,
          41,
          67,
          47,
          52,
          63,
          49,
          69,
          58,
          41,
          58,
          59,
          54,
          44,
          58,
          67,
          59,
          60,
          53,
          50,
          44,
          68,
          67,
          50,
          54,
          46,
          55,
          64,
          63,
          66,
          55,
          43,
          69,
          65,
          61,
          65,
          66,
          55,
          39,
          60,
          52,
          64,
          68,
          44,
          52,
          59,
          54
         ],
         "yaxis": "y5"
        },
        {
         "hoverinfo": "x+y",
         "marker": {
          "color": [
           0,
           0,
           0,
           0,
           0,
           1,
           0,
           0,
           0,
           0,
           1,
           0,
           1,
           0,
           0,
           1,
           0,
           1,
           1,
           0,
           1,
           1,
           1,
           1,
           0,
           1,
           0,
           0,
           0,
           0,
           0,
           0,
           1,
           0,
           1,
           1,
           1,
           0,
           1,
           1,
           0,
           1,
           1,
           1,
           0,
           1,
           0,
           1,
           0,
           1,
           0,
           0,
           1,
           1,
           0,
           0,
           1,
           0,
           1,
           0,
           1,
           0,
           1,
           0,
           0,
           0,
           0,
           0,
           0,
           1,
           1,
           0,
           1,
           0,
           0,
           1,
           0,
           0,
           0,
           1,
           1,
           1,
           1,
           1,
           0,
           0,
           1,
           1,
           1,
           1,
           1,
           0,
           0,
           0,
           0,
           0,
           0,
           1,
           0,
           0,
           0,
           0,
           1,
           0,
           1,
           0,
           1,
           1,
           1,
           1,
           1,
           0,
           1,
           1,
           0,
           0,
           0,
           1,
           1,
           0,
           1,
           0,
           1,
           1,
           0,
           0,
           0,
           1,
           1,
           1,
           0,
           1,
           0,
           0,
           1,
           1,
           1,
           1,
           0,
           1,
           1,
           0,
           0,
           0,
           0,
           1,
           0,
           1,
           1,
           0,
           0,
           1,
           1,
           1,
           0,
           0,
           1,
           1,
           0,
           1,
           1,
           1,
           0,
           1,
           0,
           0,
           0,
           1,
           1,
           1,
           1,
           1,
           0,
           1,
           1,
           0,
           0,
           1,
           1,
           1,
           1,
           0,
           0,
           1,
           1,
           0,
           1,
           1,
           0,
           0,
           1,
           1,
           1,
           1,
           1,
           1,
           1,
           1,
           1,
           1,
           1,
           1,
           0,
           1,
           0,
           1,
           1,
           1,
           1,
           0,
           1,
           1,
           1,
           1,
           1,
           0,
           0,
           0,
           0,
           0,
           1,
           1,
           0,
           1,
           0,
           1,
           1,
           0,
           0,
           1,
           1,
           0,
           0,
           1,
           1,
           0,
           0,
           1,
           1,
           0,
           1,
           1,
           1,
           0,
           0,
           0,
           1,
           0,
           0,
           1,
           1,
           0,
           1,
           1,
           0,
           0,
           1,
           0,
           1,
           0,
           0,
           1,
           0,
           1,
           1,
           0,
           1,
           1,
           0,
           1,
           1,
           1,
           0,
           1,
           1,
           1,
           1,
           0,
           1,
           1,
           1,
           1,
           0,
           1,
           0,
           0,
           1,
           1,
           0,
           0,
           1,
           1,
           1,
           0,
           1,
           1,
           0,
           1,
           1,
           0,
           0,
           0
          ],
          "colorscale": [
           [
            0,
            "rgb(0, 147, 146)"
           ],
           [
            0.16666666666666666,
            "rgb(114, 170, 161)"
           ],
           [
            0.3333333333333333,
            "rgb(177, 199, 179)"
           ],
           [
            0.5,
            "rgb(241, 234, 200)"
           ],
           [
            0.6666666666666666,
            "rgb(229, 185, 173)"
           ],
           [
            0.8333333333333334,
            "rgb(217, 137, 148)"
           ],
           [
            1,
            "rgb(208, 88, 126)"
           ]
          ],
          "showscale": false
         },
         "mode": "markers",
         "showlegend": false,
         "type": "scatter",
         "x": [
          52,
          53,
          70,
          61,
          62,
          58,
          58,
          55,
          46,
          54,
          71,
          43,
          34,
          51,
          52,
          51,
          54,
          50,
          58,
          60,
          67,
          45,
          63,
          42,
          61,
          44,
          58,
          56,
          55,
          44,
          57,
          70,
          50,
          46,
          51,
          59,
          64,
          57,
          65,
          54,
          61,
          55,
          42,
          41,
          66,
          66,
          60,
          58,
          57,
          38,
          49,
          55,
          56,
          48,
          67,
          57,
          29,
          67,
          59,
          59,
          53,
          42,
          37,
          62,
          59,
          61,
          56,
          59,
          48,
          47,
          48,
          63,
          52,
          50,
          49,
          44,
          59,
          62,
          68,
          54,
          62,
          62,
          45,
          57,
          53,
          65,
          76,
          43,
          57,
          54,
          52,
          47,
          51,
          62,
          40,
          54,
          44,
          53,
          57,
          59,
          63,
          43,
          42,
          60,
          65,
          61,
          60,
          66,
          52,
          57,
          51,
          58,
          64,
          41,
          57,
          63,
          61,
          34,
          47,
          40,
          51,
          41,
          52,
          39,
          54,
          58,
          63,
          40,
          67,
          41,
          77,
          51,
          48,
          56,
          57,
          43,
          45,
          43,
          56,
          56,
          39,
          54,
          56,
          64,
          56,
          64,
          60,
          42,
          45,
          57,
          64,
          41,
          56,
          69,
          67,
          58,
          45,
          60,
          50,
          64,
          42,
          42,
          50,
          49,
          65,
          46,
          57,
          51,
          54,
          44,
          52,
          56,
          60,
          41,
          49,
          57,
          62,
          54,
          51,
          44,
          39,
          55,
          35,
          62,
          35,
          38,
          44,
          48,
          67,
          58,
          71,
          43,
          44,
          66,
          57,
          41,
          45,
          35,
          41,
          64,
          71,
          58,
          58,
          61,
          58,
          52,
          46,
          51,
          52,
          62,
          56,
          74,
          53,
          53,
          48,
          45,
          66,
          57,
          70,
          63,
          37,
          54,
          60,
          54,
          60,
          65,
          52,
          43,
          62,
          57,
          46,
          59,
          59,
          62,
          53,
          58,
          48,
          58,
          51,
          58,
          46,
          59,
          64,
          58,
          59,
          35,
          63,
          45,
          68,
          70,
          42,
          51,
          54,
          57,
          47,
          65,
          41,
          67,
          47,
          52,
          63,
          49,
          69,
          58,
          41,
          58,
          59,
          54,
          44,
          58,
          67,
          59,
          60,
          53,
          50,
          44,
          68,
          67,
          50,
          54,
          46,
          55,
          64,
          63,
          66,
          55,
          43,
          69,
          65,
          61,
          65,
          66,
          55,
          39,
          60,
          52,
          64,
          68,
          44,
          52,
          59,
          54
         ],
         "xaxis": "x6",
         "y": [
          125,
          140,
          145,
          148,
          138,
          100,
          114,
          160,
          120,
          122,
          112,
          132,
          118,
          140,
          128,
          140,
          124,
          120,
          140,
          140,
          106,
          104,
          135,
          120,
          145,
          130,
          136,
          130,
          180,
          120,
          130,
          160,
          129,
          150,
          125,
          138,
          128,
          128,
          160,
          120,
          130,
          132,
          140,
          135,
          178,
          146,
          117,
          150,
          140,
          138,
          120,
          140,
          120,
          130,
          152,
          154,
          130,
          100,
          150,
          170,
          130,
          136,
          120,
          160,
          170,
          140,
          125,
          140,
          130,
          138,
          124,
          140,
          134,
          140,
          118,
          120,
          174,
          140,
          144,
          108,
          124,
          128,
          138,
          128,
          123,
          110,
          140,
          122,
          150,
          108,
          118,
          110,
          140,
          120,
          152,
          110,
          110,
          142,
          110,
          126,
          130,
          120,
          120,
          145,
          140,
          120,
          150,
          120,
          138,
          140,
          130,
          170,
          180,
          110,
          152,
          124,
          134,
          118,
          112,
          110,
          120,
          110,
          152,
          140,
          192,
          125,
          130,
          140,
          115,
          120,
          125,
          100,
          124,
          132,
          120,
          130,
          112,
          150,
          130,
          120,
          94,
          110,
          200,
          120,
          134,
          110,
          140,
          130,
          128,
          165,
          125,
          112,
          130,
          160,
          160,
          100,
          115,
          102,
          144,
          170,
          148,
          120,
          150,
          130,
          135,
          140,
          130,
          140,
          150,
          118,
          128,
          120,
          125,
          126,
          130,
          124,
          150,
          132,
          125,
          130,
          138,
          132,
          120,
          140,
          138,
          120,
          120,
          122,
          120,
          132,
          110,
          110,
          120,
          160,
          132,
          105,
          130,
          122,
          130,
          140,
          160,
          120,
          128,
          150,
          150,
          120,
          105,
          94,
          136,
          120,
          140,
          120,
          128,
          130,
          130,
          142,
          160,
          150,
          130,
          108,
          130,
          110,
          130,
          125,
          130,
          155,
          172,
          132,
          130,
          110,
          138,
          164,
          134,
          130,
          130,
          112,
          110,
          105,
          110,
          120,
          142,
          140,
          130,
          146,
          110,
          126,
          145,
          110,
          180,
          156,
          102,
          130,
          160,
          150,
          108,
          150,
          112,
          120,
          130,
          112,
          150,
          134,
          140,
          130,
          130,
          128,
          135,
          140,
          112,
          125,
          152,
          178,
          150,
          138,
          120,
          140,
          118,
          125,
          110,
          135,
          101,
          130,
          145,
          140,
          112,
          128,
          115,
          140,
          138,
          138,
          120,
          150,
          135,
          118,
          120,
          108,
          140,
          120,
          108,
          128,
          160,
          120
         ],
         "yaxis": "y6"
        },
        {
         "hoverinfo": "x+y",
         "name": "resting_blood_pressure",
         "showlegend": false,
         "type": "histogram",
         "x": [
          125,
          140,
          145,
          148,
          138,
          100,
          114,
          160,
          120,
          122,
          112,
          132,
          118,
          140,
          128,
          140,
          124,
          120,
          140,
          140,
          106,
          104,
          135,
          120,
          145,
          130,
          136,
          130,
          180,
          120,
          130,
          160,
          129,
          150,
          125,
          138,
          128,
          128,
          160,
          120,
          130,
          132,
          140,
          135,
          178,
          146,
          117,
          150,
          140,
          138,
          120,
          140,
          120,
          130,
          152,
          154,
          130,
          100,
          150,
          170,
          130,
          136,
          120,
          160,
          170,
          140,
          125,
          140,
          130,
          138,
          124,
          140,
          134,
          140,
          118,
          120,
          174,
          140,
          144,
          108,
          124,
          128,
          138,
          128,
          123,
          110,
          140,
          122,
          150,
          108,
          118,
          110,
          140,
          120,
          152,
          110,
          110,
          142,
          110,
          126,
          130,
          120,
          120,
          145,
          140,
          120,
          150,
          120,
          138,
          140,
          130,
          170,
          180,
          110,
          152,
          124,
          134,
          118,
          112,
          110,
          120,
          110,
          152,
          140,
          192,
          125,
          130,
          140,
          115,
          120,
          125,
          100,
          124,
          132,
          120,
          130,
          112,
          150,
          130,
          120,
          94,
          110,
          200,
          120,
          134,
          110,
          140,
          130,
          128,
          165,
          125,
          112,
          130,
          160,
          160,
          100,
          115,
          102,
          144,
          170,
          148,
          120,
          150,
          130,
          135,
          140,
          130,
          140,
          150,
          118,
          128,
          120,
          125,
          126,
          130,
          124,
          150,
          132,
          125,
          130,
          138,
          132,
          120,
          140,
          138,
          120,
          120,
          122,
          120,
          132,
          110,
          110,
          120,
          160,
          132,
          105,
          130,
          122,
          130,
          140,
          160,
          120,
          128,
          150,
          150,
          120,
          105,
          94,
          136,
          120,
          140,
          120,
          128,
          130,
          130,
          142,
          160,
          150,
          130,
          108,
          130,
          110,
          130,
          125,
          130,
          155,
          172,
          132,
          130,
          110,
          138,
          164,
          134,
          130,
          130,
          112,
          110,
          105,
          110,
          120,
          142,
          140,
          130,
          146,
          110,
          126,
          145,
          110,
          180,
          156,
          102,
          130,
          160,
          150,
          108,
          150,
          112,
          120,
          130,
          112,
          150,
          134,
          140,
          130,
          130,
          128,
          135,
          140,
          112,
          125,
          152,
          178,
          150,
          138,
          120,
          140,
          118,
          125,
          110,
          135,
          101,
          130,
          145,
          140,
          112,
          128,
          115,
          140,
          138,
          138,
          120,
          150,
          135,
          118,
          120,
          108,
          140,
          120,
          108,
          128,
          160,
          120
         ],
         "xaxis": "x7",
         "yaxis": "y7"
        },
        {
         "hoverinfo": "x+y",
         "marker": {
          "color": [
           0,
           0,
           0,
           0,
           0,
           1,
           0,
           0,
           0,
           0,
           1,
           0,
           1,
           0,
           0,
           1,
           0,
           1,
           1,
           0,
           1,
           1,
           1,
           1,
           0,
           1,
           0,
           0,
           0,
           0,
           0,
           0,
           1,
           0,
           1,
           1,
           1,
           0,
           1,
           1,
           0,
           1,
           1,
           1,
           0,
           1,
           0,
           1,
           0,
           1,
           0,
           0,
           1,
           1,
           0,
           0,
           1,
           0,
           1,
           0,
           1,
           0,
           1,
           0,
           0,
           0,
           0,
           0,
           0,
           1,
           1,
           0,
           1,
           0,
           0,
           1,
           0,
           0,
           0,
           1,
           1,
           1,
           1,
           1,
           0,
           0,
           1,
           1,
           1,
           1,
           1,
           0,
           0,
           0,
           0,
           0,
           0,
           1,
           0,
           0,
           0,
           0,
           1,
           0,
           1,
           0,
           1,
           1,
           1,
           1,
           1,
           0,
           1,
           1,
           0,
           0,
           0,
           1,
           1,
           0,
           1,
           0,
           1,
           1,
           0,
           0,
           0,
           1,
           1,
           1,
           0,
           1,
           0,
           0,
           1,
           1,
           1,
           1,
           0,
           1,
           1,
           0,
           0,
           0,
           0,
           1,
           0,
           1,
           1,
           0,
           0,
           1,
           1,
           1,
           0,
           0,
           1,
           1,
           0,
           1,
           1,
           1,
           0,
           1,
           0,
           0,
           0,
           1,
           1,
           1,
           1,
           1,
           0,
           1,
           1,
           0,
           0,
           1,
           1,
           1,
           1,
           0,
           0,
           1,
           1,
           0,
           1,
           1,
           0,
           0,
           1,
           1,
           1,
           1,
           1,
           1,
           1,
           1,
           1,
           1,
           1,
           1,
           0,
           1,
           0,
           1,
           1,
           1,
           1,
           0,
           1,
           1,
           1,
           1,
           1,
           0,
           0,
           0,
           0,
           0,
           1,
           1,
           0,
           1,
           0,
           1,
           1,
           0,
           0,
           1,
           1,
           0,
           0,
           1,
           1,
           0,
           0,
           1,
           1,
           0,
           1,
           1,
           1,
           0,
           0,
           0,
           1,
           0,
           0,
           1,
           1,
           0,
           1,
           1,
           0,
           0,
           1,
           0,
           1,
           0,
           0,
           1,
           0,
           1,
           1,
           0,
           1,
           1,
           0,
           1,
           1,
           1,
           0,
           1,
           1,
           1,
           1,
           0,
           1,
           1,
           1,
           1,
           0,
           1,
           0,
           0,
           1,
           1,
           0,
           0,
           1,
           1,
           1,
           0,
           1,
           1,
           0,
           1,
           1,
           0,
           0,
           0
          ],
          "colorscale": [
           [
            0,
            "rgb(0, 147, 146)"
           ],
           [
            0.16666666666666666,
            "rgb(114, 170, 161)"
           ],
           [
            0.3333333333333333,
            "rgb(177, 199, 179)"
           ],
           [
            0.5,
            "rgb(241, 234, 200)"
           ],
           [
            0.6666666666666666,
            "rgb(229, 185, 173)"
           ],
           [
            0.8333333333333334,
            "rgb(217, 137, 148)"
           ],
           [
            1,
            "rgb(208, 88, 126)"
           ]
          ],
          "showscale": false
         },
         "mode": "markers",
         "showlegend": false,
         "type": "scatter",
         "x": [
          212,
          203,
          174,
          203,
          294,
          248,
          318,
          289,
          249,
          286,
          149,
          341,
          210,
          298,
          204,
          308,
          266,
          244,
          211,
          185,
          223,
          208,
          252,
          209,
          307,
          233,
          319,
          256,
          327,
          169,
          131,
          269,
          196,
          231,
          213,
          271,
          263,
          229,
          360,
          258,
          330,
          342,
          226,
          203,
          228,
          278,
          230,
          283,
          241,
          175,
          188,
          217,
          193,
          245,
          212,
          232,
          204,
          299,
          212,
          288,
          197,
          315,
          215,
          164,
          326,
          207,
          249,
          177,
          256,
          257,
          255,
          187,
          201,
          233,
          149,
          220,
          249,
          268,
          193,
          267,
          209,
          208,
          236,
          303,
          282,
          248,
          197,
          213,
          126,
          309,
          186,
          275,
          299,
          281,
          223,
          206,
          197,
          226,
          335,
          218,
          254,
          177,
          295,
          282,
          417,
          260,
          240,
          302,
          223,
          192,
          256,
          225,
          325,
          235,
          274,
          197,
          234,
          182,
          204,
          167,
          295,
          172,
          298,
          321,
          283,
          300,
          330,
          199,
          564,
          157,
          304,
          222,
          274,
          184,
          354,
          315,
          160,
          247,
          283,
          240,
          199,
          239,
          288,
          246,
          409,
          211,
          293,
          180,
          308,
          289,
          309,
          250,
          221,
          234,
          286,
          234,
          260,
          318,
          200,
          227,
          244,
          240,
          243,
          266,
          254,
          311,
          236,
          261,
          232,
          242,
          205,
          236,
          258,
          306,
          269,
          261,
          244,
          288,
          245,
          219,
          220,
          353,
          198,
          394,
          183,
          231,
          226,
          222,
          237,
          224,
          265,
          211,
          263,
          228,
          207,
          198,
          234,
          192,
          204,
          313,
          302,
          340,
          259,
          243,
          270,
          325,
          204,
          227,
          196,
          267,
          294,
          269,
          216,
          264,
          275,
          309,
          246,
          276,
          322,
          269,
          250,
          214,
          206,
          273,
          253,
          269,
          199,
          247,
          263,
          201,
          243,
          176,
          204,
          231,
          246,
          230,
          229,
          240,
          175,
          284,
          177,
          221,
          303,
          218,
          239,
          282,
          233,
          264,
          274,
          245,
          265,
          305,
          201,
          168,
          243,
          225,
          268,
          229,
          253,
          230,
          407,
          271,
          254,
          197,
          214,
          216,
          234,
          239,
          290,
          220,
          277,
          270,
          258,
          234,
          219,
          235,
          277,
          254,
          254,
          304,
          197,
          262,
          212,
          195,
          212,
          205,
          303,
          239,
          282,
          166,
          177,
          226,
          250,
          219,
          178,
          233,
          335,
          211,
          141,
          255,
          273,
          188
         ],
         "xaxis": "x8",
         "y": [
          125,
          140,
          145,
          148,
          138,
          100,
          114,
          160,
          120,
          122,
          112,
          132,
          118,
          140,
          128,
          140,
          124,
          120,
          140,
          140,
          106,
          104,
          135,
          120,
          145,
          130,
          136,
          130,
          180,
          120,
          130,
          160,
          129,
          150,
          125,
          138,
          128,
          128,
          160,
          120,
          130,
          132,
          140,
          135,
          178,
          146,
          117,
          150,
          140,
          138,
          120,
          140,
          120,
          130,
          152,
          154,
          130,
          100,
          150,
          170,
          130,
          136,
          120,
          160,
          170,
          140,
          125,
          140,
          130,
          138,
          124,
          140,
          134,
          140,
          118,
          120,
          174,
          140,
          144,
          108,
          124,
          128,
          138,
          128,
          123,
          110,
          140,
          122,
          150,
          108,
          118,
          110,
          140,
          120,
          152,
          110,
          110,
          142,
          110,
          126,
          130,
          120,
          120,
          145,
          140,
          120,
          150,
          120,
          138,
          140,
          130,
          170,
          180,
          110,
          152,
          124,
          134,
          118,
          112,
          110,
          120,
          110,
          152,
          140,
          192,
          125,
          130,
          140,
          115,
          120,
          125,
          100,
          124,
          132,
          120,
          130,
          112,
          150,
          130,
          120,
          94,
          110,
          200,
          120,
          134,
          110,
          140,
          130,
          128,
          165,
          125,
          112,
          130,
          160,
          160,
          100,
          115,
          102,
          144,
          170,
          148,
          120,
          150,
          130,
          135,
          140,
          130,
          140,
          150,
          118,
          128,
          120,
          125,
          126,
          130,
          124,
          150,
          132,
          125,
          130,
          138,
          132,
          120,
          140,
          138,
          120,
          120,
          122,
          120,
          132,
          110,
          110,
          120,
          160,
          132,
          105,
          130,
          122,
          130,
          140,
          160,
          120,
          128,
          150,
          150,
          120,
          105,
          94,
          136,
          120,
          140,
          120,
          128,
          130,
          130,
          142,
          160,
          150,
          130,
          108,
          130,
          110,
          130,
          125,
          130,
          155,
          172,
          132,
          130,
          110,
          138,
          164,
          134,
          130,
          130,
          112,
          110,
          105,
          110,
          120,
          142,
          140,
          130,
          146,
          110,
          126,
          145,
          110,
          180,
          156,
          102,
          130,
          160,
          150,
          108,
          150,
          112,
          120,
          130,
          112,
          150,
          134,
          140,
          130,
          130,
          128,
          135,
          140,
          112,
          125,
          152,
          178,
          150,
          138,
          120,
          140,
          118,
          125,
          110,
          135,
          101,
          130,
          145,
          140,
          112,
          128,
          115,
          140,
          138,
          138,
          120,
          150,
          135,
          118,
          120,
          108,
          140,
          120,
          108,
          128,
          160,
          120
         ],
         "yaxis": "y8"
        },
        {
         "hoverinfo": "x+y",
         "marker": {
          "color": [
           0,
           0,
           0,
           0,
           0,
           1,
           0,
           0,
           0,
           0,
           1,
           0,
           1,
           0,
           0,
           1,
           0,
           1,
           1,
           0,
           1,
           1,
           1,
           1,
           0,
           1,
           0,
           0,
           0,
           0,
           0,
           0,
           1,
           0,
           1,
           1,
           1,
           0,
           1,
           1,
           0,
           1,
           1,
           1,
           0,
           1,
           0,
           1,
           0,
           1,
           0,
           0,
           1,
           1,
           0,
           0,
           1,
           0,
           1,
           0,
           1,
           0,
           1,
           0,
           0,
           0,
           0,
           0,
           0,
           1,
           1,
           0,
           1,
           0,
           0,
           1,
           0,
           0,
           0,
           1,
           1,
           1,
           1,
           1,
           0,
           0,
           1,
           1,
           1,
           1,
           1,
           0,
           0,
           0,
           0,
           0,
           0,
           1,
           0,
           0,
           0,
           0,
           1,
           0,
           1,
           0,
           1,
           1,
           1,
           1,
           1,
           0,
           1,
           1,
           0,
           0,
           0,
           1,
           1,
           0,
           1,
           0,
           1,
           1,
           0,
           0,
           0,
           1,
           1,
           1,
           0,
           1,
           0,
           0,
           1,
           1,
           1,
           1,
           0,
           1,
           1,
           0,
           0,
           0,
           0,
           1,
           0,
           1,
           1,
           0,
           0,
           1,
           1,
           1,
           0,
           0,
           1,
           1,
           0,
           1,
           1,
           1,
           0,
           1,
           0,
           0,
           0,
           1,
           1,
           1,
           1,
           1,
           0,
           1,
           1,
           0,
           0,
           1,
           1,
           1,
           1,
           0,
           0,
           1,
           1,
           0,
           1,
           1,
           0,
           0,
           1,
           1,
           1,
           1,
           1,
           1,
           1,
           1,
           1,
           1,
           1,
           1,
           0,
           1,
           0,
           1,
           1,
           1,
           1,
           0,
           1,
           1,
           1,
           1,
           1,
           0,
           0,
           0,
           0,
           0,
           1,
           1,
           0,
           1,
           0,
           1,
           1,
           0,
           0,
           1,
           1,
           0,
           0,
           1,
           1,
           0,
           0,
           1,
           1,
           0,
           1,
           1,
           1,
           0,
           0,
           0,
           1,
           0,
           0,
           1,
           1,
           0,
           1,
           1,
           0,
           0,
           1,
           0,
           1,
           0,
           0,
           1,
           0,
           1,
           1,
           0,
           1,
           1,
           0,
           1,
           1,
           1,
           0,
           1,
           1,
           1,
           1,
           0,
           1,
           1,
           1,
           1,
           0,
           1,
           0,
           0,
           1,
           1,
           0,
           0,
           1,
           1,
           1,
           0,
           1,
           1,
           0,
           1,
           1,
           0,
           0,
           0
          ],
          "colorscale": [
           [
            0,
            "rgb(0, 147, 146)"
           ],
           [
            0.16666666666666666,
            "rgb(114, 170, 161)"
           ],
           [
            0.3333333333333333,
            "rgb(177, 199, 179)"
           ],
           [
            0.5,
            "rgb(241, 234, 200)"
           ],
           [
            0.6666666666666666,
            "rgb(229, 185, 173)"
           ],
           [
            0.8333333333333334,
            "rgb(217, 137, 148)"
           ],
           [
            1,
            "rgb(208, 88, 126)"
           ]
          ],
          "showscale": false
         },
         "mode": "markers",
         "showlegend": false,
         "type": "scatter",
         "x": [
          168,
          155,
          125,
          161,
          106,
          122,
          140,
          145,
          144,
          116,
          125,
          136,
          192,
          122,
          156,
          142,
          109,
          162,
          165,
          155,
          142,
          148,
          172,
          173,
          146,
          179,
          152,
          142,
          117,
          144,
          115,
          112,
          163,
          147,
          125,
          182,
          105,
          150,
          151,
          147,
          169,
          166,
          178,
          132,
          165,
          152,
          160,
          162,
          123,
          173,
          139,
          111,
          162,
          180,
          150,
          164,
          202,
          125,
          157,
          159,
          152,
          125,
          170,
          145,
          140,
          138,
          144,
          162,
          150,
          156,
          175,
          144,
          158,
          163,
          126,
          170,
          143,
          160,
          141,
          167,
          163,
          140,
          152,
          159,
          95,
          158,
          116,
          165,
          173,
          156,
          190,
          118,
          173,
          103,
          181,
          108,
          177,
          111,
          143,
          134,
          147,
          120,
          162,
          142,
          157,
          140,
          171,
          151,
          169,
          148,
          149,
          146,
          154,
          153,
          88,
          136,
          145,
          174,
          143,
          114,
          157,
          158,
          178,
          182,
          195,
          171,
          132,
          178,
          160,
          182,
          162,
          143,
          166,
          105,
          163,
          162,
          138,
          171,
          103,
          169,
          179,
          126,
          133,
          96,
          150,
          144,
          170,
          150,
          170,
          124,
          131,
          179,
          163,
          131,
          108,
          156,
          185,
          160,
          126,
          155,
          178,
          194,
          128,
          171,
          127,
          120,
          174,
          186,
          165,
          149,
          184,
          178,
          141,
          163,
          163,
          141,
          154,
          159,
          166,
          188,
          152,
          132,
          130,
          157,
          182,
          182,
          169,
          186,
          71,
          173,
          130,
          161,
          173,
          138,
          168,
          168,
          175,
          174,
          172,
          133,
          162,
          172,
          130,
          137,
          111,
          172,
          172,
          154,
          169,
          99,
          153,
          121,
          115,
          143,
          139,
          147,
          120,
          112,
          109,
          169,
          187,
          158,
          132,
          152,
          144,
          148,
          162,
          143,
          97,
          126,
          152,
          90,
          162,
          146,
          173,
          165,
          168,
          154,
          123,
          160,
          160,
          164,
          122,
          105,
          142,
          156,
          150,
          132,
          150,
          143,
          122,
          142,
          163,
          174,
          152,
          114,
          172,
          129,
          179,
          160,
          154,
          162,
          146,
          131,
          168,
          131,
          161,
          160,
          153,
          144,
          172,
          145,
          157,
          160,
          158,
          180,
          151,
          163,
          159,
          170,
          156,
          155,
          132,
          179,
          132,
          130,
          181,
          151,
          174,
          125,
          140,
          114,
          161,
          140,
          96,
          147,
          158,
          115,
          175,
          161,
          125,
          113
         ],
         "xaxis": "x9",
         "y": [
          125,
          140,
          145,
          148,
          138,
          100,
          114,
          160,
          120,
          122,
          112,
          132,
          118,
          140,
          128,
          140,
          124,
          120,
          140,
          140,
          106,
          104,
          135,
          120,
          145,
          130,
          136,
          130,
          180,
          120,
          130,
          160,
          129,
          150,
          125,
          138,
          128,
          128,
          160,
          120,
          130,
          132,
          140,
          135,
          178,
          146,
          117,
          150,
          140,
          138,
          120,
          140,
          120,
          130,
          152,
          154,
          130,
          100,
          150,
          170,
          130,
          136,
          120,
          160,
          170,
          140,
          125,
          140,
          130,
          138,
          124,
          140,
          134,
          140,
          118,
          120,
          174,
          140,
          144,
          108,
          124,
          128,
          138,
          128,
          123,
          110,
          140,
          122,
          150,
          108,
          118,
          110,
          140,
          120,
          152,
          110,
          110,
          142,
          110,
          126,
          130,
          120,
          120,
          145,
          140,
          120,
          150,
          120,
          138,
          140,
          130,
          170,
          180,
          110,
          152,
          124,
          134,
          118,
          112,
          110,
          120,
          110,
          152,
          140,
          192,
          125,
          130,
          140,
          115,
          120,
          125,
          100,
          124,
          132,
          120,
          130,
          112,
          150,
          130,
          120,
          94,
          110,
          200,
          120,
          134,
          110,
          140,
          130,
          128,
          165,
          125,
          112,
          130,
          160,
          160,
          100,
          115,
          102,
          144,
          170,
          148,
          120,
          150,
          130,
          135,
          140,
          130,
          140,
          150,
          118,
          128,
          120,
          125,
          126,
          130,
          124,
          150,
          132,
          125,
          130,
          138,
          132,
          120,
          140,
          138,
          120,
          120,
          122,
          120,
          132,
          110,
          110,
          120,
          160,
          132,
          105,
          130,
          122,
          130,
          140,
          160,
          120,
          128,
          150,
          150,
          120,
          105,
          94,
          136,
          120,
          140,
          120,
          128,
          130,
          130,
          142,
          160,
          150,
          130,
          108,
          130,
          110,
          130,
          125,
          130,
          155,
          172,
          132,
          130,
          110,
          138,
          164,
          134,
          130,
          130,
          112,
          110,
          105,
          110,
          120,
          142,
          140,
          130,
          146,
          110,
          126,
          145,
          110,
          180,
          156,
          102,
          130,
          160,
          150,
          108,
          150,
          112,
          120,
          130,
          112,
          150,
          134,
          140,
          130,
          130,
          128,
          135,
          140,
          112,
          125,
          152,
          178,
          150,
          138,
          120,
          140,
          118,
          125,
          110,
          135,
          101,
          130,
          145,
          140,
          112,
          128,
          115,
          140,
          138,
          138,
          120,
          150,
          135,
          118,
          120,
          108,
          140,
          120,
          108,
          128,
          160,
          120
         ],
         "yaxis": "y9"
        },
        {
         "hoverinfo": "x+y",
         "marker": {
          "color": [
           0,
           0,
           0,
           0,
           0,
           1,
           0,
           0,
           0,
           0,
           1,
           0,
           1,
           0,
           0,
           1,
           0,
           1,
           1,
           0,
           1,
           1,
           1,
           1,
           0,
           1,
           0,
           0,
           0,
           0,
           0,
           0,
           1,
           0,
           1,
           1,
           1,
           0,
           1,
           1,
           0,
           1,
           1,
           1,
           0,
           1,
           0,
           1,
           0,
           1,
           0,
           0,
           1,
           1,
           0,
           0,
           1,
           0,
           1,
           0,
           1,
           0,
           1,
           0,
           0,
           0,
           0,
           0,
           0,
           1,
           1,
           0,
           1,
           0,
           0,
           1,
           0,
           0,
           0,
           1,
           1,
           1,
           1,
           1,
           0,
           0,
           1,
           1,
           1,
           1,
           1,
           0,
           0,
           0,
           0,
           0,
           0,
           1,
           0,
           0,
           0,
           0,
           1,
           0,
           1,
           0,
           1,
           1,
           1,
           1,
           1,
           0,
           1,
           1,
           0,
           0,
           0,
           1,
           1,
           0,
           1,
           0,
           1,
           1,
           0,
           0,
           0,
           1,
           1,
           1,
           0,
           1,
           0,
           0,
           1,
           1,
           1,
           1,
           0,
           1,
           1,
           0,
           0,
           0,
           0,
           1,
           0,
           1,
           1,
           0,
           0,
           1,
           1,
           1,
           0,
           0,
           1,
           1,
           0,
           1,
           1,
           1,
           0,
           1,
           0,
           0,
           0,
           1,
           1,
           1,
           1,
           1,
           0,
           1,
           1,
           0,
           0,
           1,
           1,
           1,
           1,
           0,
           0,
           1,
           1,
           0,
           1,
           1,
           0,
           0,
           1,
           1,
           1,
           1,
           1,
           1,
           1,
           1,
           1,
           1,
           1,
           1,
           0,
           1,
           0,
           1,
           1,
           1,
           1,
           0,
           1,
           1,
           1,
           1,
           1,
           0,
           0,
           0,
           0,
           0,
           1,
           1,
           0,
           1,
           0,
           1,
           1,
           0,
           0,
           1,
           1,
           0,
           0,
           1,
           1,
           0,
           0,
           1,
           1,
           0,
           1,
           1,
           1,
           0,
           0,
           0,
           1,
           0,
           0,
           1,
           1,
           0,
           1,
           1,
           0,
           0,
           1,
           0,
           1,
           0,
           0,
           1,
           0,
           1,
           1,
           0,
           1,
           1,
           0,
           1,
           1,
           1,
           0,
           1,
           1,
           1,
           1,
           0,
           1,
           1,
           1,
           1,
           0,
           1,
           0,
           0,
           1,
           1,
           0,
           0,
           1,
           1,
           1,
           0,
           1,
           1,
           0,
           1,
           1,
           0,
           0,
           0
          ],
          "colorscale": [
           [
            0,
            "rgb(0, 147, 146)"
           ],
           [
            0.16666666666666666,
            "rgb(114, 170, 161)"
           ],
           [
            0.3333333333333333,
            "rgb(177, 199, 179)"
           ],
           [
            0.5,
            "rgb(241, 234, 200)"
           ],
           [
            0.6666666666666666,
            "rgb(229, 185, 173)"
           ],
           [
            0.8333333333333334,
            "rgb(217, 137, 148)"
           ],
           [
            1,
            "rgb(208, 88, 126)"
           ]
          ],
          "showscale": false
         },
         "mode": "markers",
         "showlegend": false,
         "type": "scatter",
         "x": [
          1,
          3.1,
          2.6,
          0,
          1.9,
          1,
          4.4,
          0.8,
          0.8,
          3.2,
          1.6,
          3,
          0.7,
          4.2,
          1,
          1.5,
          2.2,
          1.1,
          0,
          3,
          0.3,
          3,
          0,
          0,
          1,
          0.4,
          0,
          0.6,
          3.4,
          2.8,
          1.2,
          2.9,
          0,
          3.6,
          1.4,
          0,
          0.2,
          0.4,
          0.8,
          0.4,
          0,
          1.2,
          0,
          0,
          1,
          0,
          1.4,
          1,
          0.2,
          0,
          2,
          5.6,
          1.9,
          0.2,
          0.8,
          0,
          0,
          0.9,
          1.6,
          0.2,
          1.2,
          1.8,
          0,
          6.2,
          3.4,
          1.9,
          1.2,
          0,
          0,
          0,
          0,
          4,
          0.8,
          0.6,
          0.8,
          0,
          0,
          3.6,
          3.4,
          0,
          0,
          0,
          0.2,
          0,
          2,
          0.6,
          1.1,
          0.2,
          0.2,
          0,
          0,
          1,
          1.6,
          1.4,
          0,
          0,
          0,
          0,
          3,
          2.2,
          1.4,
          2.5,
          0,
          2.8,
          0.8,
          3.6,
          0.9,
          0.4,
          0,
          0.4,
          0.5,
          2.8,
          0,
          0,
          1.2,
          0,
          2.6,
          0,
          0.1,
          2,
          0.6,
          0,
          1.2,
          0,
          0,
          0,
          1.8,
          1.4,
          1.6,
          0,
          0,
          1.2,
          0.5,
          2.1,
          0.6,
          1.9,
          0,
          1.5,
          1.6,
          0,
          0,
          2.8,
          4,
          2.2,
          1.9,
          1.8,
          1.2,
          0,
          0,
          1,
          1.8,
          0,
          0,
          0.1,
          1.5,
          0.1,
          0,
          0,
          0.9,
          0.6,
          0.8,
          0.8,
          2.6,
          0.6,
          2.8,
          1.8,
          0,
          0,
          1.6,
          0.3,
          0,
          0.8,
          2.8,
          0,
          0,
          0.3,
          1.4,
          0,
          2.4,
          0,
          0,
          1.2,
          1.6,
          1.2,
          1.4,
          3.8,
          0,
          0,
          1,
          3.2,
          0,
          0,
          0,
          2.3,
          0,
          0,
          0.6,
          0,
          1.4,
          0.2,
          0.4,
          0,
          3,
          1,
          0.8,
          0.2,
          0,
          0,
          0.1,
          1.8,
          1.3,
          0.2,
          0,
          0.4,
          0.2,
          0,
          0,
          0.6,
          2.4,
          1.8,
          3.5,
          1.6,
          2.4,
          0.5,
          1.4,
          0.8,
          0.5,
          0.1,
          1.2,
          1.5,
          0,
          1,
          0.8,
          1.8,
          0,
          2.5,
          1,
          0.6,
          0.6,
          1.8,
          1.4,
          0,
          2,
          2,
          1.2,
          0,
          2.3,
          1.2,
          1.6,
          0,
          0.6,
          1.2,
          0,
          1.6,
          0,
          1,
          0,
          2.6,
          0,
          0,
          4,
          0,
          2,
          0.6,
          2,
          2.2,
          0.5,
          1.2,
          0,
          0.4,
          0,
          4.2,
          2.6,
          0,
          1.6,
          0,
          1,
          0.2,
          0,
          0,
          0,
          0,
          2,
          0,
          0.1,
          2,
          1.2,
          1.8,
          1.4,
          3.6,
          0.4,
          2.6,
          1.4,
          1.2,
          0,
          0.1,
          0,
          1.5,
          0.6,
          0,
          0,
          1.4
         ],
         "xaxis": "x10",
         "y": [
          125,
          140,
          145,
          148,
          138,
          100,
          114,
          160,
          120,
          122,
          112,
          132,
          118,
          140,
          128,
          140,
          124,
          120,
          140,
          140,
          106,
          104,
          135,
          120,
          145,
          130,
          136,
          130,
          180,
          120,
          130,
          160,
          129,
          150,
          125,
          138,
          128,
          128,
          160,
          120,
          130,
          132,
          140,
          135,
          178,
          146,
          117,
          150,
          140,
          138,
          120,
          140,
          120,
          130,
          152,
          154,
          130,
          100,
          150,
          170,
          130,
          136,
          120,
          160,
          170,
          140,
          125,
          140,
          130,
          138,
          124,
          140,
          134,
          140,
          118,
          120,
          174,
          140,
          144,
          108,
          124,
          128,
          138,
          128,
          123,
          110,
          140,
          122,
          150,
          108,
          118,
          110,
          140,
          120,
          152,
          110,
          110,
          142,
          110,
          126,
          130,
          120,
          120,
          145,
          140,
          120,
          150,
          120,
          138,
          140,
          130,
          170,
          180,
          110,
          152,
          124,
          134,
          118,
          112,
          110,
          120,
          110,
          152,
          140,
          192,
          125,
          130,
          140,
          115,
          120,
          125,
          100,
          124,
          132,
          120,
          130,
          112,
          150,
          130,
          120,
          94,
          110,
          200,
          120,
          134,
          110,
          140,
          130,
          128,
          165,
          125,
          112,
          130,
          160,
          160,
          100,
          115,
          102,
          144,
          170,
          148,
          120,
          150,
          130,
          135,
          140,
          130,
          140,
          150,
          118,
          128,
          120,
          125,
          126,
          130,
          124,
          150,
          132,
          125,
          130,
          138,
          132,
          120,
          140,
          138,
          120,
          120,
          122,
          120,
          132,
          110,
          110,
          120,
          160,
          132,
          105,
          130,
          122,
          130,
          140,
          160,
          120,
          128,
          150,
          150,
          120,
          105,
          94,
          136,
          120,
          140,
          120,
          128,
          130,
          130,
          142,
          160,
          150,
          130,
          108,
          130,
          110,
          130,
          125,
          130,
          155,
          172,
          132,
          130,
          110,
          138,
          164,
          134,
          130,
          130,
          112,
          110,
          105,
          110,
          120,
          142,
          140,
          130,
          146,
          110,
          126,
          145,
          110,
          180,
          156,
          102,
          130,
          160,
          150,
          108,
          150,
          112,
          120,
          130,
          112,
          150,
          134,
          140,
          130,
          130,
          128,
          135,
          140,
          112,
          125,
          152,
          178,
          150,
          138,
          120,
          140,
          118,
          125,
          110,
          135,
          101,
          130,
          145,
          140,
          112,
          128,
          115,
          140,
          138,
          138,
          120,
          150,
          135,
          118,
          120,
          108,
          140,
          120,
          108,
          128,
          160,
          120
         ],
         "yaxis": "y10"
        },
        {
         "hoverinfo": "x+y",
         "marker": {
          "color": [
           0,
           0,
           0,
           0,
           0,
           1,
           0,
           0,
           0,
           0,
           1,
           0,
           1,
           0,
           0,
           1,
           0,
           1,
           1,
           0,
           1,
           1,
           1,
           1,
           0,
           1,
           0,
           0,
           0,
           0,
           0,
           0,
           1,
           0,
           1,
           1,
           1,
           0,
           1,
           1,
           0,
           1,
           1,
           1,
           0,
           1,
           0,
           1,
           0,
           1,
           0,
           0,
           1,
           1,
           0,
           0,
           1,
           0,
           1,
           0,
           1,
           0,
           1,
           0,
           0,
           0,
           0,
           0,
           0,
           1,
           1,
           0,
           1,
           0,
           0,
           1,
           0,
           0,
           0,
           1,
           1,
           1,
           1,
           1,
           0,
           0,
           1,
           1,
           1,
           1,
           1,
           0,
           0,
           0,
           0,
           0,
           0,
           1,
           0,
           0,
           0,
           0,
           1,
           0,
           1,
           0,
           1,
           1,
           1,
           1,
           1,
           0,
           1,
           1,
           0,
           0,
           0,
           1,
           1,
           0,
           1,
           0,
           1,
           1,
           0,
           0,
           0,
           1,
           1,
           1,
           0,
           1,
           0,
           0,
           1,
           1,
           1,
           1,
           0,
           1,
           1,
           0,
           0,
           0,
           0,
           1,
           0,
           1,
           1,
           0,
           0,
           1,
           1,
           1,
           0,
           0,
           1,
           1,
           0,
           1,
           1,
           1,
           0,
           1,
           0,
           0,
           0,
           1,
           1,
           1,
           1,
           1,
           0,
           1,
           1,
           0,
           0,
           1,
           1,
           1,
           1,
           0,
           0,
           1,
           1,
           0,
           1,
           1,
           0,
           0,
           1,
           1,
           1,
           1,
           1,
           1,
           1,
           1,
           1,
           1,
           1,
           1,
           0,
           1,
           0,
           1,
           1,
           1,
           1,
           0,
           1,
           1,
           1,
           1,
           1,
           0,
           0,
           0,
           0,
           0,
           1,
           1,
           0,
           1,
           0,
           1,
           1,
           0,
           0,
           1,
           1,
           0,
           0,
           1,
           1,
           0,
           0,
           1,
           1,
           0,
           1,
           1,
           1,
           0,
           0,
           0,
           1,
           0,
           0,
           1,
           1,
           0,
           1,
           1,
           0,
           0,
           1,
           0,
           1,
           0,
           0,
           1,
           0,
           1,
           1,
           0,
           1,
           1,
           0,
           1,
           1,
           1,
           0,
           1,
           1,
           1,
           1,
           0,
           1,
           1,
           1,
           1,
           0,
           1,
           0,
           0,
           1,
           1,
           0,
           0,
           1,
           1,
           1,
           0,
           1,
           1,
           0,
           1,
           1,
           0,
           0,
           0
          ],
          "colorscale": [
           [
            0,
            "rgb(0, 147, 146)"
           ],
           [
            0.16666666666666666,
            "rgb(114, 170, 161)"
           ],
           [
            0.3333333333333333,
            "rgb(177, 199, 179)"
           ],
           [
            0.5,
            "rgb(241, 234, 200)"
           ],
           [
            0.6666666666666666,
            "rgb(229, 185, 173)"
           ],
           [
            0.8333333333333334,
            "rgb(217, 137, 148)"
           ],
           [
            1,
            "rgb(208, 88, 126)"
           ]
          ],
          "showscale": false
         },
         "mode": "markers",
         "showlegend": false,
         "type": "scatter",
         "x": [
          52,
          53,
          70,
          61,
          62,
          58,
          58,
          55,
          46,
          54,
          71,
          43,
          34,
          51,
          52,
          51,
          54,
          50,
          58,
          60,
          67,
          45,
          63,
          42,
          61,
          44,
          58,
          56,
          55,
          44,
          57,
          70,
          50,
          46,
          51,
          59,
          64,
          57,
          65,
          54,
          61,
          55,
          42,
          41,
          66,
          66,
          60,
          58,
          57,
          38,
          49,
          55,
          56,
          48,
          67,
          57,
          29,
          67,
          59,
          59,
          53,
          42,
          37,
          62,
          59,
          61,
          56,
          59,
          48,
          47,
          48,
          63,
          52,
          50,
          49,
          44,
          59,
          62,
          68,
          54,
          62,
          62,
          45,
          57,
          53,
          65,
          76,
          43,
          57,
          54,
          52,
          47,
          51,
          62,
          40,
          54,
          44,
          53,
          57,
          59,
          63,
          43,
          42,
          60,
          65,
          61,
          60,
          66,
          52,
          57,
          51,
          58,
          64,
          41,
          57,
          63,
          61,
          34,
          47,
          40,
          51,
          41,
          52,
          39,
          54,
          58,
          63,
          40,
          67,
          41,
          77,
          51,
          48,
          56,
          57,
          43,
          45,
          43,
          56,
          56,
          39,
          54,
          56,
          64,
          56,
          64,
          60,
          42,
          45,
          57,
          64,
          41,
          56,
          69,
          67,
          58,
          45,
          60,
          50,
          64,
          42,
          42,
          50,
          49,
          65,
          46,
          57,
          51,
          54,
          44,
          52,
          56,
          60,
          41,
          49,
          57,
          62,
          54,
          51,
          44,
          39,
          55,
          35,
          62,
          35,
          38,
          44,
          48,
          67,
          58,
          71,
          43,
          44,
          66,
          57,
          41,
          45,
          35,
          41,
          64,
          71,
          58,
          58,
          61,
          58,
          52,
          46,
          51,
          52,
          62,
          56,
          74,
          53,
          53,
          48,
          45,
          66,
          57,
          70,
          63,
          37,
          54,
          60,
          54,
          60,
          65,
          52,
          43,
          62,
          57,
          46,
          59,
          59,
          62,
          53,
          58,
          48,
          58,
          51,
          58,
          46,
          59,
          64,
          58,
          59,
          35,
          63,
          45,
          68,
          70,
          42,
          51,
          54,
          57,
          47,
          65,
          41,
          67,
          47,
          52,
          63,
          49,
          69,
          58,
          41,
          58,
          59,
          54,
          44,
          58,
          67,
          59,
          60,
          53,
          50,
          44,
          68,
          67,
          50,
          54,
          46,
          55,
          64,
          63,
          66,
          55,
          43,
          69,
          65,
          61,
          65,
          66,
          55,
          39,
          60,
          52,
          64,
          68,
          44,
          52,
          59,
          54
         ],
         "xaxis": "x11",
         "y": [
          212,
          203,
          174,
          203,
          294,
          248,
          318,
          289,
          249,
          286,
          149,
          341,
          210,
          298,
          204,
          308,
          266,
          244,
          211,
          185,
          223,
          208,
          252,
          209,
          307,
          233,
          319,
          256,
          327,
          169,
          131,
          269,
          196,
          231,
          213,
          271,
          263,
          229,
          360,
          258,
          330,
          342,
          226,
          203,
          228,
          278,
          230,
          283,
          241,
          175,
          188,
          217,
          193,
          245,
          212,
          232,
          204,
          299,
          212,
          288,
          197,
          315,
          215,
          164,
          326,
          207,
          249,
          177,
          256,
          257,
          255,
          187,
          201,
          233,
          149,
          220,
          249,
          268,
          193,
          267,
          209,
          208,
          236,
          303,
          282,
          248,
          197,
          213,
          126,
          309,
          186,
          275,
          299,
          281,
          223,
          206,
          197,
          226,
          335,
          218,
          254,
          177,
          295,
          282,
          417,
          260,
          240,
          302,
          223,
          192,
          256,
          225,
          325,
          235,
          274,
          197,
          234,
          182,
          204,
          167,
          295,
          172,
          298,
          321,
          283,
          300,
          330,
          199,
          564,
          157,
          304,
          222,
          274,
          184,
          354,
          315,
          160,
          247,
          283,
          240,
          199,
          239,
          288,
          246,
          409,
          211,
          293,
          180,
          308,
          289,
          309,
          250,
          221,
          234,
          286,
          234,
          260,
          318,
          200,
          227,
          244,
          240,
          243,
          266,
          254,
          311,
          236,
          261,
          232,
          242,
          205,
          236,
          258,
          306,
          269,
          261,
          244,
          288,
          245,
          219,
          220,
          353,
          198,
          394,
          183,
          231,
          226,
          222,
          237,
          224,
          265,
          211,
          263,
          228,
          207,
          198,
          234,
          192,
          204,
          313,
          302,
          340,
          259,
          243,
          270,
          325,
          204,
          227,
          196,
          267,
          294,
          269,
          216,
          264,
          275,
          309,
          246,
          276,
          322,
          269,
          250,
          214,
          206,
          273,
          253,
          269,
          199,
          247,
          263,
          201,
          243,
          176,
          204,
          231,
          246,
          230,
          229,
          240,
          175,
          284,
          177,
          221,
          303,
          218,
          239,
          282,
          233,
          264,
          274,
          245,
          265,
          305,
          201,
          168,
          243,
          225,
          268,
          229,
          253,
          230,
          407,
          271,
          254,
          197,
          214,
          216,
          234,
          239,
          290,
          220,
          277,
          270,
          258,
          234,
          219,
          235,
          277,
          254,
          254,
          304,
          197,
          262,
          212,
          195,
          212,
          205,
          303,
          239,
          282,
          166,
          177,
          226,
          250,
          219,
          178,
          233,
          335,
          211,
          141,
          255,
          273,
          188
         ],
         "yaxis": "y11"
        },
        {
         "hoverinfo": "x+y",
         "marker": {
          "color": [
           0,
           0,
           0,
           0,
           0,
           1,
           0,
           0,
           0,
           0,
           1,
           0,
           1,
           0,
           0,
           1,
           0,
           1,
           1,
           0,
           1,
           1,
           1,
           1,
           0,
           1,
           0,
           0,
           0,
           0,
           0,
           0,
           1,
           0,
           1,
           1,
           1,
           0,
           1,
           1,
           0,
           1,
           1,
           1,
           0,
           1,
           0,
           1,
           0,
           1,
           0,
           0,
           1,
           1,
           0,
           0,
           1,
           0,
           1,
           0,
           1,
           0,
           1,
           0,
           0,
           0,
           0,
           0,
           0,
           1,
           1,
           0,
           1,
           0,
           0,
           1,
           0,
           0,
           0,
           1,
           1,
           1,
           1,
           1,
           0,
           0,
           1,
           1,
           1,
           1,
           1,
           0,
           0,
           0,
           0,
           0,
           0,
           1,
           0,
           0,
           0,
           0,
           1,
           0,
           1,
           0,
           1,
           1,
           1,
           1,
           1,
           0,
           1,
           1,
           0,
           0,
           0,
           1,
           1,
           0,
           1,
           0,
           1,
           1,
           0,
           0,
           0,
           1,
           1,
           1,
           0,
           1,
           0,
           0,
           1,
           1,
           1,
           1,
           0,
           1,
           1,
           0,
           0,
           0,
           0,
           1,
           0,
           1,
           1,
           0,
           0,
           1,
           1,
           1,
           0,
           0,
           1,
           1,
           0,
           1,
           1,
           1,
           0,
           1,
           0,
           0,
           0,
           1,
           1,
           1,
           1,
           1,
           0,
           1,
           1,
           0,
           0,
           1,
           1,
           1,
           1,
           0,
           0,
           1,
           1,
           0,
           1,
           1,
           0,
           0,
           1,
           1,
           1,
           1,
           1,
           1,
           1,
           1,
           1,
           1,
           1,
           1,
           0,
           1,
           0,
           1,
           1,
           1,
           1,
           0,
           1,
           1,
           1,
           1,
           1,
           0,
           0,
           0,
           0,
           0,
           1,
           1,
           0,
           1,
           0,
           1,
           1,
           0,
           0,
           1,
           1,
           0,
           0,
           1,
           1,
           0,
           0,
           1,
           1,
           0,
           1,
           1,
           1,
           0,
           0,
           0,
           1,
           0,
           0,
           1,
           1,
           0,
           1,
           1,
           0,
           0,
           1,
           0,
           1,
           0,
           0,
           1,
           0,
           1,
           1,
           0,
           1,
           1,
           0,
           1,
           1,
           1,
           0,
           1,
           1,
           1,
           1,
           0,
           1,
           1,
           1,
           1,
           0,
           1,
           0,
           0,
           1,
           1,
           0,
           0,
           1,
           1,
           1,
           0,
           1,
           1,
           0,
           1,
           1,
           0,
           0,
           0
          ],
          "colorscale": [
           [
            0,
            "rgb(0, 147, 146)"
           ],
           [
            0.16666666666666666,
            "rgb(114, 170, 161)"
           ],
           [
            0.3333333333333333,
            "rgb(177, 199, 179)"
           ],
           [
            0.5,
            "rgb(241, 234, 200)"
           ],
           [
            0.6666666666666666,
            "rgb(229, 185, 173)"
           ],
           [
            0.8333333333333334,
            "rgb(217, 137, 148)"
           ],
           [
            1,
            "rgb(208, 88, 126)"
           ]
          ],
          "showscale": false
         },
         "mode": "markers",
         "showlegend": false,
         "type": "scatter",
         "x": [
          125,
          140,
          145,
          148,
          138,
          100,
          114,
          160,
          120,
          122,
          112,
          132,
          118,
          140,
          128,
          140,
          124,
          120,
          140,
          140,
          106,
          104,
          135,
          120,
          145,
          130,
          136,
          130,
          180,
          120,
          130,
          160,
          129,
          150,
          125,
          138,
          128,
          128,
          160,
          120,
          130,
          132,
          140,
          135,
          178,
          146,
          117,
          150,
          140,
          138,
          120,
          140,
          120,
          130,
          152,
          154,
          130,
          100,
          150,
          170,
          130,
          136,
          120,
          160,
          170,
          140,
          125,
          140,
          130,
          138,
          124,
          140,
          134,
          140,
          118,
          120,
          174,
          140,
          144,
          108,
          124,
          128,
          138,
          128,
          123,
          110,
          140,
          122,
          150,
          108,
          118,
          110,
          140,
          120,
          152,
          110,
          110,
          142,
          110,
          126,
          130,
          120,
          120,
          145,
          140,
          120,
          150,
          120,
          138,
          140,
          130,
          170,
          180,
          110,
          152,
          124,
          134,
          118,
          112,
          110,
          120,
          110,
          152,
          140,
          192,
          125,
          130,
          140,
          115,
          120,
          125,
          100,
          124,
          132,
          120,
          130,
          112,
          150,
          130,
          120,
          94,
          110,
          200,
          120,
          134,
          110,
          140,
          130,
          128,
          165,
          125,
          112,
          130,
          160,
          160,
          100,
          115,
          102,
          144,
          170,
          148,
          120,
          150,
          130,
          135,
          140,
          130,
          140,
          150,
          118,
          128,
          120,
          125,
          126,
          130,
          124,
          150,
          132,
          125,
          130,
          138,
          132,
          120,
          140,
          138,
          120,
          120,
          122,
          120,
          132,
          110,
          110,
          120,
          160,
          132,
          105,
          130,
          122,
          130,
          140,
          160,
          120,
          128,
          150,
          150,
          120,
          105,
          94,
          136,
          120,
          140,
          120,
          128,
          130,
          130,
          142,
          160,
          150,
          130,
          108,
          130,
          110,
          130,
          125,
          130,
          155,
          172,
          132,
          130,
          110,
          138,
          164,
          134,
          130,
          130,
          112,
          110,
          105,
          110,
          120,
          142,
          140,
          130,
          146,
          110,
          126,
          145,
          110,
          180,
          156,
          102,
          130,
          160,
          150,
          108,
          150,
          112,
          120,
          130,
          112,
          150,
          134,
          140,
          130,
          130,
          128,
          135,
          140,
          112,
          125,
          152,
          178,
          150,
          138,
          120,
          140,
          118,
          125,
          110,
          135,
          101,
          130,
          145,
          140,
          112,
          128,
          115,
          140,
          138,
          138,
          120,
          150,
          135,
          118,
          120,
          108,
          140,
          120,
          108,
          128,
          160,
          120
         ],
         "xaxis": "x12",
         "y": [
          212,
          203,
          174,
          203,
          294,
          248,
          318,
          289,
          249,
          286,
          149,
          341,
          210,
          298,
          204,
          308,
          266,
          244,
          211,
          185,
          223,
          208,
          252,
          209,
          307,
          233,
          319,
          256,
          327,
          169,
          131,
          269,
          196,
          231,
          213,
          271,
          263,
          229,
          360,
          258,
          330,
          342,
          226,
          203,
          228,
          278,
          230,
          283,
          241,
          175,
          188,
          217,
          193,
          245,
          212,
          232,
          204,
          299,
          212,
          288,
          197,
          315,
          215,
          164,
          326,
          207,
          249,
          177,
          256,
          257,
          255,
          187,
          201,
          233,
          149,
          220,
          249,
          268,
          193,
          267,
          209,
          208,
          236,
          303,
          282,
          248,
          197,
          213,
          126,
          309,
          186,
          275,
          299,
          281,
          223,
          206,
          197,
          226,
          335,
          218,
          254,
          177,
          295,
          282,
          417,
          260,
          240,
          302,
          223,
          192,
          256,
          225,
          325,
          235,
          274,
          197,
          234,
          182,
          204,
          167,
          295,
          172,
          298,
          321,
          283,
          300,
          330,
          199,
          564,
          157,
          304,
          222,
          274,
          184,
          354,
          315,
          160,
          247,
          283,
          240,
          199,
          239,
          288,
          246,
          409,
          211,
          293,
          180,
          308,
          289,
          309,
          250,
          221,
          234,
          286,
          234,
          260,
          318,
          200,
          227,
          244,
          240,
          243,
          266,
          254,
          311,
          236,
          261,
          232,
          242,
          205,
          236,
          258,
          306,
          269,
          261,
          244,
          288,
          245,
          219,
          220,
          353,
          198,
          394,
          183,
          231,
          226,
          222,
          237,
          224,
          265,
          211,
          263,
          228,
          207,
          198,
          234,
          192,
          204,
          313,
          302,
          340,
          259,
          243,
          270,
          325,
          204,
          227,
          196,
          267,
          294,
          269,
          216,
          264,
          275,
          309,
          246,
          276,
          322,
          269,
          250,
          214,
          206,
          273,
          253,
          269,
          199,
          247,
          263,
          201,
          243,
          176,
          204,
          231,
          246,
          230,
          229,
          240,
          175,
          284,
          177,
          221,
          303,
          218,
          239,
          282,
          233,
          264,
          274,
          245,
          265,
          305,
          201,
          168,
          243,
          225,
          268,
          229,
          253,
          230,
          407,
          271,
          254,
          197,
          214,
          216,
          234,
          239,
          290,
          220,
          277,
          270,
          258,
          234,
          219,
          235,
          277,
          254,
          254,
          304,
          197,
          262,
          212,
          195,
          212,
          205,
          303,
          239,
          282,
          166,
          177,
          226,
          250,
          219,
          178,
          233,
          335,
          211,
          141,
          255,
          273,
          188
         ],
         "yaxis": "y12"
        },
        {
         "hoverinfo": "x+y",
         "name": "cholestoral",
         "showlegend": false,
         "type": "histogram",
         "x": [
          212,
          203,
          174,
          203,
          294,
          248,
          318,
          289,
          249,
          286,
          149,
          341,
          210,
          298,
          204,
          308,
          266,
          244,
          211,
          185,
          223,
          208,
          252,
          209,
          307,
          233,
          319,
          256,
          327,
          169,
          131,
          269,
          196,
          231,
          213,
          271,
          263,
          229,
          360,
          258,
          330,
          342,
          226,
          203,
          228,
          278,
          230,
          283,
          241,
          175,
          188,
          217,
          193,
          245,
          212,
          232,
          204,
          299,
          212,
          288,
          197,
          315,
          215,
          164,
          326,
          207,
          249,
          177,
          256,
          257,
          255,
          187,
          201,
          233,
          149,
          220,
          249,
          268,
          193,
          267,
          209,
          208,
          236,
          303,
          282,
          248,
          197,
          213,
          126,
          309,
          186,
          275,
          299,
          281,
          223,
          206,
          197,
          226,
          335,
          218,
          254,
          177,
          295,
          282,
          417,
          260,
          240,
          302,
          223,
          192,
          256,
          225,
          325,
          235,
          274,
          197,
          234,
          182,
          204,
          167,
          295,
          172,
          298,
          321,
          283,
          300,
          330,
          199,
          564,
          157,
          304,
          222,
          274,
          184,
          354,
          315,
          160,
          247,
          283,
          240,
          199,
          239,
          288,
          246,
          409,
          211,
          293,
          180,
          308,
          289,
          309,
          250,
          221,
          234,
          286,
          234,
          260,
          318,
          200,
          227,
          244,
          240,
          243,
          266,
          254,
          311,
          236,
          261,
          232,
          242,
          205,
          236,
          258,
          306,
          269,
          261,
          244,
          288,
          245,
          219,
          220,
          353,
          198,
          394,
          183,
          231,
          226,
          222,
          237,
          224,
          265,
          211,
          263,
          228,
          207,
          198,
          234,
          192,
          204,
          313,
          302,
          340,
          259,
          243,
          270,
          325,
          204,
          227,
          196,
          267,
          294,
          269,
          216,
          264,
          275,
          309,
          246,
          276,
          322,
          269,
          250,
          214,
          206,
          273,
          253,
          269,
          199,
          247,
          263,
          201,
          243,
          176,
          204,
          231,
          246,
          230,
          229,
          240,
          175,
          284,
          177,
          221,
          303,
          218,
          239,
          282,
          233,
          264,
          274,
          245,
          265,
          305,
          201,
          168,
          243,
          225,
          268,
          229,
          253,
          230,
          407,
          271,
          254,
          197,
          214,
          216,
          234,
          239,
          290,
          220,
          277,
          270,
          258,
          234,
          219,
          235,
          277,
          254,
          254,
          304,
          197,
          262,
          212,
          195,
          212,
          205,
          303,
          239,
          282,
          166,
          177,
          226,
          250,
          219,
          178,
          233,
          335,
          211,
          141,
          255,
          273,
          188
         ],
         "xaxis": "x13",
         "yaxis": "y13"
        },
        {
         "hoverinfo": "x+y",
         "marker": {
          "color": [
           0,
           0,
           0,
           0,
           0,
           1,
           0,
           0,
           0,
           0,
           1,
           0,
           1,
           0,
           0,
           1,
           0,
           1,
           1,
           0,
           1,
           1,
           1,
           1,
           0,
           1,
           0,
           0,
           0,
           0,
           0,
           0,
           1,
           0,
           1,
           1,
           1,
           0,
           1,
           1,
           0,
           1,
           1,
           1,
           0,
           1,
           0,
           1,
           0,
           1,
           0,
           0,
           1,
           1,
           0,
           0,
           1,
           0,
           1,
           0,
           1,
           0,
           1,
           0,
           0,
           0,
           0,
           0,
           0,
           1,
           1,
           0,
           1,
           0,
           0,
           1,
           0,
           0,
           0,
           1,
           1,
           1,
           1,
           1,
           0,
           0,
           1,
           1,
           1,
           1,
           1,
           0,
           0,
           0,
           0,
           0,
           0,
           1,
           0,
           0,
           0,
           0,
           1,
           0,
           1,
           0,
           1,
           1,
           1,
           1,
           1,
           0,
           1,
           1,
           0,
           0,
           0,
           1,
           1,
           0,
           1,
           0,
           1,
           1,
           0,
           0,
           0,
           1,
           1,
           1,
           0,
           1,
           0,
           0,
           1,
           1,
           1,
           1,
           0,
           1,
           1,
           0,
           0,
           0,
           0,
           1,
           0,
           1,
           1,
           0,
           0,
           1,
           1,
           1,
           0,
           0,
           1,
           1,
           0,
           1,
           1,
           1,
           0,
           1,
           0,
           0,
           0,
           1,
           1,
           1,
           1,
           1,
           0,
           1,
           1,
           0,
           0,
           1,
           1,
           1,
           1,
           0,
           0,
           1,
           1,
           0,
           1,
           1,
           0,
           0,
           1,
           1,
           1,
           1,
           1,
           1,
           1,
           1,
           1,
           1,
           1,
           1,
           0,
           1,
           0,
           1,
           1,
           1,
           1,
           0,
           1,
           1,
           1,
           1,
           1,
           0,
           0,
           0,
           0,
           0,
           1,
           1,
           0,
           1,
           0,
           1,
           1,
           0,
           0,
           1,
           1,
           0,
           0,
           1,
           1,
           0,
           0,
           1,
           1,
           0,
           1,
           1,
           1,
           0,
           0,
           0,
           1,
           0,
           0,
           1,
           1,
           0,
           1,
           1,
           0,
           0,
           1,
           0,
           1,
           0,
           0,
           1,
           0,
           1,
           1,
           0,
           1,
           1,
           0,
           1,
           1,
           1,
           0,
           1,
           1,
           1,
           1,
           0,
           1,
           1,
           1,
           1,
           0,
           1,
           0,
           0,
           1,
           1,
           0,
           0,
           1,
           1,
           1,
           0,
           1,
           1,
           0,
           1,
           1,
           0,
           0,
           0
          ],
          "colorscale": [
           [
            0,
            "rgb(0, 147, 146)"
           ],
           [
            0.16666666666666666,
            "rgb(114, 170, 161)"
           ],
           [
            0.3333333333333333,
            "rgb(177, 199, 179)"
           ],
           [
            0.5,
            "rgb(241, 234, 200)"
           ],
           [
            0.6666666666666666,
            "rgb(229, 185, 173)"
           ],
           [
            0.8333333333333334,
            "rgb(217, 137, 148)"
           ],
           [
            1,
            "rgb(208, 88, 126)"
           ]
          ],
          "showscale": false
         },
         "mode": "markers",
         "showlegend": false,
         "type": "scatter",
         "x": [
          168,
          155,
          125,
          161,
          106,
          122,
          140,
          145,
          144,
          116,
          125,
          136,
          192,
          122,
          156,
          142,
          109,
          162,
          165,
          155,
          142,
          148,
          172,
          173,
          146,
          179,
          152,
          142,
          117,
          144,
          115,
          112,
          163,
          147,
          125,
          182,
          105,
          150,
          151,
          147,
          169,
          166,
          178,
          132,
          165,
          152,
          160,
          162,
          123,
          173,
          139,
          111,
          162,
          180,
          150,
          164,
          202,
          125,
          157,
          159,
          152,
          125,
          170,
          145,
          140,
          138,
          144,
          162,
          150,
          156,
          175,
          144,
          158,
          163,
          126,
          170,
          143,
          160,
          141,
          167,
          163,
          140,
          152,
          159,
          95,
          158,
          116,
          165,
          173,
          156,
          190,
          118,
          173,
          103,
          181,
          108,
          177,
          111,
          143,
          134,
          147,
          120,
          162,
          142,
          157,
          140,
          171,
          151,
          169,
          148,
          149,
          146,
          154,
          153,
          88,
          136,
          145,
          174,
          143,
          114,
          157,
          158,
          178,
          182,
          195,
          171,
          132,
          178,
          160,
          182,
          162,
          143,
          166,
          105,
          163,
          162,
          138,
          171,
          103,
          169,
          179,
          126,
          133,
          96,
          150,
          144,
          170,
          150,
          170,
          124,
          131,
          179,
          163,
          131,
          108,
          156,
          185,
          160,
          126,
          155,
          178,
          194,
          128,
          171,
          127,
          120,
          174,
          186,
          165,
          149,
          184,
          178,
          141,
          163,
          163,
          141,
          154,
          159,
          166,
          188,
          152,
          132,
          130,
          157,
          182,
          182,
          169,
          186,
          71,
          173,
          130,
          161,
          173,
          138,
          168,
          168,
          175,
          174,
          172,
          133,
          162,
          172,
          130,
          137,
          111,
          172,
          172,
          154,
          169,
          99,
          153,
          121,
          115,
          143,
          139,
          147,
          120,
          112,
          109,
          169,
          187,
          158,
          132,
          152,
          144,
          148,
          162,
          143,
          97,
          126,
          152,
          90,
          162,
          146,
          173,
          165,
          168,
          154,
          123,
          160,
          160,
          164,
          122,
          105,
          142,
          156,
          150,
          132,
          150,
          143,
          122,
          142,
          163,
          174,
          152,
          114,
          172,
          129,
          179,
          160,
          154,
          162,
          146,
          131,
          168,
          131,
          161,
          160,
          153,
          144,
          172,
          145,
          157,
          160,
          158,
          180,
          151,
          163,
          159,
          170,
          156,
          155,
          132,
          179,
          132,
          130,
          181,
          151,
          174,
          125,
          140,
          114,
          161,
          140,
          96,
          147,
          158,
          115,
          175,
          161,
          125,
          113
         ],
         "xaxis": "x14",
         "y": [
          212,
          203,
          174,
          203,
          294,
          248,
          318,
          289,
          249,
          286,
          149,
          341,
          210,
          298,
          204,
          308,
          266,
          244,
          211,
          185,
          223,
          208,
          252,
          209,
          307,
          233,
          319,
          256,
          327,
          169,
          131,
          269,
          196,
          231,
          213,
          271,
          263,
          229,
          360,
          258,
          330,
          342,
          226,
          203,
          228,
          278,
          230,
          283,
          241,
          175,
          188,
          217,
          193,
          245,
          212,
          232,
          204,
          299,
          212,
          288,
          197,
          315,
          215,
          164,
          326,
          207,
          249,
          177,
          256,
          257,
          255,
          187,
          201,
          233,
          149,
          220,
          249,
          268,
          193,
          267,
          209,
          208,
          236,
          303,
          282,
          248,
          197,
          213,
          126,
          309,
          186,
          275,
          299,
          281,
          223,
          206,
          197,
          226,
          335,
          218,
          254,
          177,
          295,
          282,
          417,
          260,
          240,
          302,
          223,
          192,
          256,
          225,
          325,
          235,
          274,
          197,
          234,
          182,
          204,
          167,
          295,
          172,
          298,
          321,
          283,
          300,
          330,
          199,
          564,
          157,
          304,
          222,
          274,
          184,
          354,
          315,
          160,
          247,
          283,
          240,
          199,
          239,
          288,
          246,
          409,
          211,
          293,
          180,
          308,
          289,
          309,
          250,
          221,
          234,
          286,
          234,
          260,
          318,
          200,
          227,
          244,
          240,
          243,
          266,
          254,
          311,
          236,
          261,
          232,
          242,
          205,
          236,
          258,
          306,
          269,
          261,
          244,
          288,
          245,
          219,
          220,
          353,
          198,
          394,
          183,
          231,
          226,
          222,
          237,
          224,
          265,
          211,
          263,
          228,
          207,
          198,
          234,
          192,
          204,
          313,
          302,
          340,
          259,
          243,
          270,
          325,
          204,
          227,
          196,
          267,
          294,
          269,
          216,
          264,
          275,
          309,
          246,
          276,
          322,
          269,
          250,
          214,
          206,
          273,
          253,
          269,
          199,
          247,
          263,
          201,
          243,
          176,
          204,
          231,
          246,
          230,
          229,
          240,
          175,
          284,
          177,
          221,
          303,
          218,
          239,
          282,
          233,
          264,
          274,
          245,
          265,
          305,
          201,
          168,
          243,
          225,
          268,
          229,
          253,
          230,
          407,
          271,
          254,
          197,
          214,
          216,
          234,
          239,
          290,
          220,
          277,
          270,
          258,
          234,
          219,
          235,
          277,
          254,
          254,
          304,
          197,
          262,
          212,
          195,
          212,
          205,
          303,
          239,
          282,
          166,
          177,
          226,
          250,
          219,
          178,
          233,
          335,
          211,
          141,
          255,
          273,
          188
         ],
         "yaxis": "y14"
        },
        {
         "hoverinfo": "x+y",
         "marker": {
          "color": [
           0,
           0,
           0,
           0,
           0,
           1,
           0,
           0,
           0,
           0,
           1,
           0,
           1,
           0,
           0,
           1,
           0,
           1,
           1,
           0,
           1,
           1,
           1,
           1,
           0,
           1,
           0,
           0,
           0,
           0,
           0,
           0,
           1,
           0,
           1,
           1,
           1,
           0,
           1,
           1,
           0,
           1,
           1,
           1,
           0,
           1,
           0,
           1,
           0,
           1,
           0,
           0,
           1,
           1,
           0,
           0,
           1,
           0,
           1,
           0,
           1,
           0,
           1,
           0,
           0,
           0,
           0,
           0,
           0,
           1,
           1,
           0,
           1,
           0,
           0,
           1,
           0,
           0,
           0,
           1,
           1,
           1,
           1,
           1,
           0,
           0,
           1,
           1,
           1,
           1,
           1,
           0,
           0,
           0,
           0,
           0,
           0,
           1,
           0,
           0,
           0,
           0,
           1,
           0,
           1,
           0,
           1,
           1,
           1,
           1,
           1,
           0,
           1,
           1,
           0,
           0,
           0,
           1,
           1,
           0,
           1,
           0,
           1,
           1,
           0,
           0,
           0,
           1,
           1,
           1,
           0,
           1,
           0,
           0,
           1,
           1,
           1,
           1,
           0,
           1,
           1,
           0,
           0,
           0,
           0,
           1,
           0,
           1,
           1,
           0,
           0,
           1,
           1,
           1,
           0,
           0,
           1,
           1,
           0,
           1,
           1,
           1,
           0,
           1,
           0,
           0,
           0,
           1,
           1,
           1,
           1,
           1,
           0,
           1,
           1,
           0,
           0,
           1,
           1,
           1,
           1,
           0,
           0,
           1,
           1,
           0,
           1,
           1,
           0,
           0,
           1,
           1,
           1,
           1,
           1,
           1,
           1,
           1,
           1,
           1,
           1,
           1,
           0,
           1,
           0,
           1,
           1,
           1,
           1,
           0,
           1,
           1,
           1,
           1,
           1,
           0,
           0,
           0,
           0,
           0,
           1,
           1,
           0,
           1,
           0,
           1,
           1,
           0,
           0,
           1,
           1,
           0,
           0,
           1,
           1,
           0,
           0,
           1,
           1,
           0,
           1,
           1,
           1,
           0,
           0,
           0,
           1,
           0,
           0,
           1,
           1,
           0,
           1,
           1,
           0,
           0,
           1,
           0,
           1,
           0,
           0,
           1,
           0,
           1,
           1,
           0,
           1,
           1,
           0,
           1,
           1,
           1,
           0,
           1,
           1,
           1,
           1,
           0,
           1,
           1,
           1,
           1,
           0,
           1,
           0,
           0,
           1,
           1,
           0,
           0,
           1,
           1,
           1,
           0,
           1,
           1,
           0,
           1,
           1,
           0,
           0,
           0
          ],
          "colorscale": [
           [
            0,
            "rgb(0, 147, 146)"
           ],
           [
            0.16666666666666666,
            "rgb(114, 170, 161)"
           ],
           [
            0.3333333333333333,
            "rgb(177, 199, 179)"
           ],
           [
            0.5,
            "rgb(241, 234, 200)"
           ],
           [
            0.6666666666666666,
            "rgb(229, 185, 173)"
           ],
           [
            0.8333333333333334,
            "rgb(217, 137, 148)"
           ],
           [
            1,
            "rgb(208, 88, 126)"
           ]
          ],
          "showscale": false
         },
         "mode": "markers",
         "showlegend": false,
         "type": "scatter",
         "x": [
          1,
          3.1,
          2.6,
          0,
          1.9,
          1,
          4.4,
          0.8,
          0.8,
          3.2,
          1.6,
          3,
          0.7,
          4.2,
          1,
          1.5,
          2.2,
          1.1,
          0,
          3,
          0.3,
          3,
          0,
          0,
          1,
          0.4,
          0,
          0.6,
          3.4,
          2.8,
          1.2,
          2.9,
          0,
          3.6,
          1.4,
          0,
          0.2,
          0.4,
          0.8,
          0.4,
          0,
          1.2,
          0,
          0,
          1,
          0,
          1.4,
          1,
          0.2,
          0,
          2,
          5.6,
          1.9,
          0.2,
          0.8,
          0,
          0,
          0.9,
          1.6,
          0.2,
          1.2,
          1.8,
          0,
          6.2,
          3.4,
          1.9,
          1.2,
          0,
          0,
          0,
          0,
          4,
          0.8,
          0.6,
          0.8,
          0,
          0,
          3.6,
          3.4,
          0,
          0,
          0,
          0.2,
          0,
          2,
          0.6,
          1.1,
          0.2,
          0.2,
          0,
          0,
          1,
          1.6,
          1.4,
          0,
          0,
          0,
          0,
          3,
          2.2,
          1.4,
          2.5,
          0,
          2.8,
          0.8,
          3.6,
          0.9,
          0.4,
          0,
          0.4,
          0.5,
          2.8,
          0,
          0,
          1.2,
          0,
          2.6,
          0,
          0.1,
          2,
          0.6,
          0,
          1.2,
          0,
          0,
          0,
          1.8,
          1.4,
          1.6,
          0,
          0,
          1.2,
          0.5,
          2.1,
          0.6,
          1.9,
          0,
          1.5,
          1.6,
          0,
          0,
          2.8,
          4,
          2.2,
          1.9,
          1.8,
          1.2,
          0,
          0,
          1,
          1.8,
          0,
          0,
          0.1,
          1.5,
          0.1,
          0,
          0,
          0.9,
          0.6,
          0.8,
          0.8,
          2.6,
          0.6,
          2.8,
          1.8,
          0,
          0,
          1.6,
          0.3,
          0,
          0.8,
          2.8,
          0,
          0,
          0.3,
          1.4,
          0,
          2.4,
          0,
          0,
          1.2,
          1.6,
          1.2,
          1.4,
          3.8,
          0,
          0,
          1,
          3.2,
          0,
          0,
          0,
          2.3,
          0,
          0,
          0.6,
          0,
          1.4,
          0.2,
          0.4,
          0,
          3,
          1,
          0.8,
          0.2,
          0,
          0,
          0.1,
          1.8,
          1.3,
          0.2,
          0,
          0.4,
          0.2,
          0,
          0,
          0.6,
          2.4,
          1.8,
          3.5,
          1.6,
          2.4,
          0.5,
          1.4,
          0.8,
          0.5,
          0.1,
          1.2,
          1.5,
          0,
          1,
          0.8,
          1.8,
          0,
          2.5,
          1,
          0.6,
          0.6,
          1.8,
          1.4,
          0,
          2,
          2,
          1.2,
          0,
          2.3,
          1.2,
          1.6,
          0,
          0.6,
          1.2,
          0,
          1.6,
          0,
          1,
          0,
          2.6,
          0,
          0,
          4,
          0,
          2,
          0.6,
          2,
          2.2,
          0.5,
          1.2,
          0,
          0.4,
          0,
          4.2,
          2.6,
          0,
          1.6,
          0,
          1,
          0.2,
          0,
          0,
          0,
          0,
          2,
          0,
          0.1,
          2,
          1.2,
          1.8,
          1.4,
          3.6,
          0.4,
          2.6,
          1.4,
          1.2,
          0,
          0.1,
          0,
          1.5,
          0.6,
          0,
          0,
          1.4
         ],
         "xaxis": "x15",
         "y": [
          212,
          203,
          174,
          203,
          294,
          248,
          318,
          289,
          249,
          286,
          149,
          341,
          210,
          298,
          204,
          308,
          266,
          244,
          211,
          185,
          223,
          208,
          252,
          209,
          307,
          233,
          319,
          256,
          327,
          169,
          131,
          269,
          196,
          231,
          213,
          271,
          263,
          229,
          360,
          258,
          330,
          342,
          226,
          203,
          228,
          278,
          230,
          283,
          241,
          175,
          188,
          217,
          193,
          245,
          212,
          232,
          204,
          299,
          212,
          288,
          197,
          315,
          215,
          164,
          326,
          207,
          249,
          177,
          256,
          257,
          255,
          187,
          201,
          233,
          149,
          220,
          249,
          268,
          193,
          267,
          209,
          208,
          236,
          303,
          282,
          248,
          197,
          213,
          126,
          309,
          186,
          275,
          299,
          281,
          223,
          206,
          197,
          226,
          335,
          218,
          254,
          177,
          295,
          282,
          417,
          260,
          240,
          302,
          223,
          192,
          256,
          225,
          325,
          235,
          274,
          197,
          234,
          182,
          204,
          167,
          295,
          172,
          298,
          321,
          283,
          300,
          330,
          199,
          564,
          157,
          304,
          222,
          274,
          184,
          354,
          315,
          160,
          247,
          283,
          240,
          199,
          239,
          288,
          246,
          409,
          211,
          293,
          180,
          308,
          289,
          309,
          250,
          221,
          234,
          286,
          234,
          260,
          318,
          200,
          227,
          244,
          240,
          243,
          266,
          254,
          311,
          236,
          261,
          232,
          242,
          205,
          236,
          258,
          306,
          269,
          261,
          244,
          288,
          245,
          219,
          220,
          353,
          198,
          394,
          183,
          231,
          226,
          222,
          237,
          224,
          265,
          211,
          263,
          228,
          207,
          198,
          234,
          192,
          204,
          313,
          302,
          340,
          259,
          243,
          270,
          325,
          204,
          227,
          196,
          267,
          294,
          269,
          216,
          264,
          275,
          309,
          246,
          276,
          322,
          269,
          250,
          214,
          206,
          273,
          253,
          269,
          199,
          247,
          263,
          201,
          243,
          176,
          204,
          231,
          246,
          230,
          229,
          240,
          175,
          284,
          177,
          221,
          303,
          218,
          239,
          282,
          233,
          264,
          274,
          245,
          265,
          305,
          201,
          168,
          243,
          225,
          268,
          229,
          253,
          230,
          407,
          271,
          254,
          197,
          214,
          216,
          234,
          239,
          290,
          220,
          277,
          270,
          258,
          234,
          219,
          235,
          277,
          254,
          254,
          304,
          197,
          262,
          212,
          195,
          212,
          205,
          303,
          239,
          282,
          166,
          177,
          226,
          250,
          219,
          178,
          233,
          335,
          211,
          141,
          255,
          273,
          188
         ],
         "yaxis": "y15"
        },
        {
         "hoverinfo": "x+y",
         "marker": {
          "color": [
           0,
           0,
           0,
           0,
           0,
           1,
           0,
           0,
           0,
           0,
           1,
           0,
           1,
           0,
           0,
           1,
           0,
           1,
           1,
           0,
           1,
           1,
           1,
           1,
           0,
           1,
           0,
           0,
           0,
           0,
           0,
           0,
           1,
           0,
           1,
           1,
           1,
           0,
           1,
           1,
           0,
           1,
           1,
           1,
           0,
           1,
           0,
           1,
           0,
           1,
           0,
           0,
           1,
           1,
           0,
           0,
           1,
           0,
           1,
           0,
           1,
           0,
           1,
           0,
           0,
           0,
           0,
           0,
           0,
           1,
           1,
           0,
           1,
           0,
           0,
           1,
           0,
           0,
           0,
           1,
           1,
           1,
           1,
           1,
           0,
           0,
           1,
           1,
           1,
           1,
           1,
           0,
           0,
           0,
           0,
           0,
           0,
           1,
           0,
           0,
           0,
           0,
           1,
           0,
           1,
           0,
           1,
           1,
           1,
           1,
           1,
           0,
           1,
           1,
           0,
           0,
           0,
           1,
           1,
           0,
           1,
           0,
           1,
           1,
           0,
           0,
           0,
           1,
           1,
           1,
           0,
           1,
           0,
           0,
           1,
           1,
           1,
           1,
           0,
           1,
           1,
           0,
           0,
           0,
           0,
           1,
           0,
           1,
           1,
           0,
           0,
           1,
           1,
           1,
           0,
           0,
           1,
           1,
           0,
           1,
           1,
           1,
           0,
           1,
           0,
           0,
           0,
           1,
           1,
           1,
           1,
           1,
           0,
           1,
           1,
           0,
           0,
           1,
           1,
           1,
           1,
           0,
           0,
           1,
           1,
           0,
           1,
           1,
           0,
           0,
           1,
           1,
           1,
           1,
           1,
           1,
           1,
           1,
           1,
           1,
           1,
           1,
           0,
           1,
           0,
           1,
           1,
           1,
           1,
           0,
           1,
           1,
           1,
           1,
           1,
           0,
           0,
           0,
           0,
           0,
           1,
           1,
           0,
           1,
           0,
           1,
           1,
           0,
           0,
           1,
           1,
           0,
           0,
           1,
           1,
           0,
           0,
           1,
           1,
           0,
           1,
           1,
           1,
           0,
           0,
           0,
           1,
           0,
           0,
           1,
           1,
           0,
           1,
           1,
           0,
           0,
           1,
           0,
           1,
           0,
           0,
           1,
           0,
           1,
           1,
           0,
           1,
           1,
           0,
           1,
           1,
           1,
           0,
           1,
           1,
           1,
           1,
           0,
           1,
           1,
           1,
           1,
           0,
           1,
           0,
           0,
           1,
           1,
           0,
           0,
           1,
           1,
           1,
           0,
           1,
           1,
           0,
           1,
           1,
           0,
           0,
           0
          ],
          "colorscale": [
           [
            0,
            "rgb(0, 147, 146)"
           ],
           [
            0.16666666666666666,
            "rgb(114, 170, 161)"
           ],
           [
            0.3333333333333333,
            "rgb(177, 199, 179)"
           ],
           [
            0.5,
            "rgb(241, 234, 200)"
           ],
           [
            0.6666666666666666,
            "rgb(229, 185, 173)"
           ],
           [
            0.8333333333333334,
            "rgb(217, 137, 148)"
           ],
           [
            1,
            "rgb(208, 88, 126)"
           ]
          ],
          "showscale": false
         },
         "mode": "markers",
         "showlegend": false,
         "type": "scatter",
         "x": [
          52,
          53,
          70,
          61,
          62,
          58,
          58,
          55,
          46,
          54,
          71,
          43,
          34,
          51,
          52,
          51,
          54,
          50,
          58,
          60,
          67,
          45,
          63,
          42,
          61,
          44,
          58,
          56,
          55,
          44,
          57,
          70,
          50,
          46,
          51,
          59,
          64,
          57,
          65,
          54,
          61,
          55,
          42,
          41,
          66,
          66,
          60,
          58,
          57,
          38,
          49,
          55,
          56,
          48,
          67,
          57,
          29,
          67,
          59,
          59,
          53,
          42,
          37,
          62,
          59,
          61,
          56,
          59,
          48,
          47,
          48,
          63,
          52,
          50,
          49,
          44,
          59,
          62,
          68,
          54,
          62,
          62,
          45,
          57,
          53,
          65,
          76,
          43,
          57,
          54,
          52,
          47,
          51,
          62,
          40,
          54,
          44,
          53,
          57,
          59,
          63,
          43,
          42,
          60,
          65,
          61,
          60,
          66,
          52,
          57,
          51,
          58,
          64,
          41,
          57,
          63,
          61,
          34,
          47,
          40,
          51,
          41,
          52,
          39,
          54,
          58,
          63,
          40,
          67,
          41,
          77,
          51,
          48,
          56,
          57,
          43,
          45,
          43,
          56,
          56,
          39,
          54,
          56,
          64,
          56,
          64,
          60,
          42,
          45,
          57,
          64,
          41,
          56,
          69,
          67,
          58,
          45,
          60,
          50,
          64,
          42,
          42,
          50,
          49,
          65,
          46,
          57,
          51,
          54,
          44,
          52,
          56,
          60,
          41,
          49,
          57,
          62,
          54,
          51,
          44,
          39,
          55,
          35,
          62,
          35,
          38,
          44,
          48,
          67,
          58,
          71,
          43,
          44,
          66,
          57,
          41,
          45,
          35,
          41,
          64,
          71,
          58,
          58,
          61,
          58,
          52,
          46,
          51,
          52,
          62,
          56,
          74,
          53,
          53,
          48,
          45,
          66,
          57,
          70,
          63,
          37,
          54,
          60,
          54,
          60,
          65,
          52,
          43,
          62,
          57,
          46,
          59,
          59,
          62,
          53,
          58,
          48,
          58,
          51,
          58,
          46,
          59,
          64,
          58,
          59,
          35,
          63,
          45,
          68,
          70,
          42,
          51,
          54,
          57,
          47,
          65,
          41,
          67,
          47,
          52,
          63,
          49,
          69,
          58,
          41,
          58,
          59,
          54,
          44,
          58,
          67,
          59,
          60,
          53,
          50,
          44,
          68,
          67,
          50,
          54,
          46,
          55,
          64,
          63,
          66,
          55,
          43,
          69,
          65,
          61,
          65,
          66,
          55,
          39,
          60,
          52,
          64,
          68,
          44,
          52,
          59,
          54
         ],
         "xaxis": "x16",
         "y": [
          168,
          155,
          125,
          161,
          106,
          122,
          140,
          145,
          144,
          116,
          125,
          136,
          192,
          122,
          156,
          142,
          109,
          162,
          165,
          155,
          142,
          148,
          172,
          173,
          146,
          179,
          152,
          142,
          117,
          144,
          115,
          112,
          163,
          147,
          125,
          182,
          105,
          150,
          151,
          147,
          169,
          166,
          178,
          132,
          165,
          152,
          160,
          162,
          123,
          173,
          139,
          111,
          162,
          180,
          150,
          164,
          202,
          125,
          157,
          159,
          152,
          125,
          170,
          145,
          140,
          138,
          144,
          162,
          150,
          156,
          175,
          144,
          158,
          163,
          126,
          170,
          143,
          160,
          141,
          167,
          163,
          140,
          152,
          159,
          95,
          158,
          116,
          165,
          173,
          156,
          190,
          118,
          173,
          103,
          181,
          108,
          177,
          111,
          143,
          134,
          147,
          120,
          162,
          142,
          157,
          140,
          171,
          151,
          169,
          148,
          149,
          146,
          154,
          153,
          88,
          136,
          145,
          174,
          143,
          114,
          157,
          158,
          178,
          182,
          195,
          171,
          132,
          178,
          160,
          182,
          162,
          143,
          166,
          105,
          163,
          162,
          138,
          171,
          103,
          169,
          179,
          126,
          133,
          96,
          150,
          144,
          170,
          150,
          170,
          124,
          131,
          179,
          163,
          131,
          108,
          156,
          185,
          160,
          126,
          155,
          178,
          194,
          128,
          171,
          127,
          120,
          174,
          186,
          165,
          149,
          184,
          178,
          141,
          163,
          163,
          141,
          154,
          159,
          166,
          188,
          152,
          132,
          130,
          157,
          182,
          182,
          169,
          186,
          71,
          173,
          130,
          161,
          173,
          138,
          168,
          168,
          175,
          174,
          172,
          133,
          162,
          172,
          130,
          137,
          111,
          172,
          172,
          154,
          169,
          99,
          153,
          121,
          115,
          143,
          139,
          147,
          120,
          112,
          109,
          169,
          187,
          158,
          132,
          152,
          144,
          148,
          162,
          143,
          97,
          126,
          152,
          90,
          162,
          146,
          173,
          165,
          168,
          154,
          123,
          160,
          160,
          164,
          122,
          105,
          142,
          156,
          150,
          132,
          150,
          143,
          122,
          142,
          163,
          174,
          152,
          114,
          172,
          129,
          179,
          160,
          154,
          162,
          146,
          131,
          168,
          131,
          161,
          160,
          153,
          144,
          172,
          145,
          157,
          160,
          158,
          180,
          151,
          163,
          159,
          170,
          156,
          155,
          132,
          179,
          132,
          130,
          181,
          151,
          174,
          125,
          140,
          114,
          161,
          140,
          96,
          147,
          158,
          115,
          175,
          161,
          125,
          113
         ],
         "yaxis": "y16"
        },
        {
         "hoverinfo": "x+y",
         "marker": {
          "color": [
           0,
           0,
           0,
           0,
           0,
           1,
           0,
           0,
           0,
           0,
           1,
           0,
           1,
           0,
           0,
           1,
           0,
           1,
           1,
           0,
           1,
           1,
           1,
           1,
           0,
           1,
           0,
           0,
           0,
           0,
           0,
           0,
           1,
           0,
           1,
           1,
           1,
           0,
           1,
           1,
           0,
           1,
           1,
           1,
           0,
           1,
           0,
           1,
           0,
           1,
           0,
           0,
           1,
           1,
           0,
           0,
           1,
           0,
           1,
           0,
           1,
           0,
           1,
           0,
           0,
           0,
           0,
           0,
           0,
           1,
           1,
           0,
           1,
           0,
           0,
           1,
           0,
           0,
           0,
           1,
           1,
           1,
           1,
           1,
           0,
           0,
           1,
           1,
           1,
           1,
           1,
           0,
           0,
           0,
           0,
           0,
           0,
           1,
           0,
           0,
           0,
           0,
           1,
           0,
           1,
           0,
           1,
           1,
           1,
           1,
           1,
           0,
           1,
           1,
           0,
           0,
           0,
           1,
           1,
           0,
           1,
           0,
           1,
           1,
           0,
           0,
           0,
           1,
           1,
           1,
           0,
           1,
           0,
           0,
           1,
           1,
           1,
           1,
           0,
           1,
           1,
           0,
           0,
           0,
           0,
           1,
           0,
           1,
           1,
           0,
           0,
           1,
           1,
           1,
           0,
           0,
           1,
           1,
           0,
           1,
           1,
           1,
           0,
           1,
           0,
           0,
           0,
           1,
           1,
           1,
           1,
           1,
           0,
           1,
           1,
           0,
           0,
           1,
           1,
           1,
           1,
           0,
           0,
           1,
           1,
           0,
           1,
           1,
           0,
           0,
           1,
           1,
           1,
           1,
           1,
           1,
           1,
           1,
           1,
           1,
           1,
           1,
           0,
           1,
           0,
           1,
           1,
           1,
           1,
           0,
           1,
           1,
           1,
           1,
           1,
           0,
           0,
           0,
           0,
           0,
           1,
           1,
           0,
           1,
           0,
           1,
           1,
           0,
           0,
           1,
           1,
           0,
           0,
           1,
           1,
           0,
           0,
           1,
           1,
           0,
           1,
           1,
           1,
           0,
           0,
           0,
           1,
           0,
           0,
           1,
           1,
           0,
           1,
           1,
           0,
           0,
           1,
           0,
           1,
           0,
           0,
           1,
           0,
           1,
           1,
           0,
           1,
           1,
           0,
           1,
           1,
           1,
           0,
           1,
           1,
           1,
           1,
           0,
           1,
           1,
           1,
           1,
           0,
           1,
           0,
           0,
           1,
           1,
           0,
           0,
           1,
           1,
           1,
           0,
           1,
           1,
           0,
           1,
           1,
           0,
           0,
           0
          ],
          "colorscale": [
           [
            0,
            "rgb(0, 147, 146)"
           ],
           [
            0.16666666666666666,
            "rgb(114, 170, 161)"
           ],
           [
            0.3333333333333333,
            "rgb(177, 199, 179)"
           ],
           [
            0.5,
            "rgb(241, 234, 200)"
           ],
           [
            0.6666666666666666,
            "rgb(229, 185, 173)"
           ],
           [
            0.8333333333333334,
            "rgb(217, 137, 148)"
           ],
           [
            1,
            "rgb(208, 88, 126)"
           ]
          ],
          "showscale": false
         },
         "mode": "markers",
         "showlegend": false,
         "type": "scatter",
         "x": [
          125,
          140,
          145,
          148,
          138,
          100,
          114,
          160,
          120,
          122,
          112,
          132,
          118,
          140,
          128,
          140,
          124,
          120,
          140,
          140,
          106,
          104,
          135,
          120,
          145,
          130,
          136,
          130,
          180,
          120,
          130,
          160,
          129,
          150,
          125,
          138,
          128,
          128,
          160,
          120,
          130,
          132,
          140,
          135,
          178,
          146,
          117,
          150,
          140,
          138,
          120,
          140,
          120,
          130,
          152,
          154,
          130,
          100,
          150,
          170,
          130,
          136,
          120,
          160,
          170,
          140,
          125,
          140,
          130,
          138,
          124,
          140,
          134,
          140,
          118,
          120,
          174,
          140,
          144,
          108,
          124,
          128,
          138,
          128,
          123,
          110,
          140,
          122,
          150,
          108,
          118,
          110,
          140,
          120,
          152,
          110,
          110,
          142,
          110,
          126,
          130,
          120,
          120,
          145,
          140,
          120,
          150,
          120,
          138,
          140,
          130,
          170,
          180,
          110,
          152,
          124,
          134,
          118,
          112,
          110,
          120,
          110,
          152,
          140,
          192,
          125,
          130,
          140,
          115,
          120,
          125,
          100,
          124,
          132,
          120,
          130,
          112,
          150,
          130,
          120,
          94,
          110,
          200,
          120,
          134,
          110,
          140,
          130,
          128,
          165,
          125,
          112,
          130,
          160,
          160,
          100,
          115,
          102,
          144,
          170,
          148,
          120,
          150,
          130,
          135,
          140,
          130,
          140,
          150,
          118,
          128,
          120,
          125,
          126,
          130,
          124,
          150,
          132,
          125,
          130,
          138,
          132,
          120,
          140,
          138,
          120,
          120,
          122,
          120,
          132,
          110,
          110,
          120,
          160,
          132,
          105,
          130,
          122,
          130,
          140,
          160,
          120,
          128,
          150,
          150,
          120,
          105,
          94,
          136,
          120,
          140,
          120,
          128,
          130,
          130,
          142,
          160,
          150,
          130,
          108,
          130,
          110,
          130,
          125,
          130,
          155,
          172,
          132,
          130,
          110,
          138,
          164,
          134,
          130,
          130,
          112,
          110,
          105,
          110,
          120,
          142,
          140,
          130,
          146,
          110,
          126,
          145,
          110,
          180,
          156,
          102,
          130,
          160,
          150,
          108,
          150,
          112,
          120,
          130,
          112,
          150,
          134,
          140,
          130,
          130,
          128,
          135,
          140,
          112,
          125,
          152,
          178,
          150,
          138,
          120,
          140,
          118,
          125,
          110,
          135,
          101,
          130,
          145,
          140,
          112,
          128,
          115,
          140,
          138,
          138,
          120,
          150,
          135,
          118,
          120,
          108,
          140,
          120,
          108,
          128,
          160,
          120
         ],
         "xaxis": "x17",
         "y": [
          168,
          155,
          125,
          161,
          106,
          122,
          140,
          145,
          144,
          116,
          125,
          136,
          192,
          122,
          156,
          142,
          109,
          162,
          165,
          155,
          142,
          148,
          172,
          173,
          146,
          179,
          152,
          142,
          117,
          144,
          115,
          112,
          163,
          147,
          125,
          182,
          105,
          150,
          151,
          147,
          169,
          166,
          178,
          132,
          165,
          152,
          160,
          162,
          123,
          173,
          139,
          111,
          162,
          180,
          150,
          164,
          202,
          125,
          157,
          159,
          152,
          125,
          170,
          145,
          140,
          138,
          144,
          162,
          150,
          156,
          175,
          144,
          158,
          163,
          126,
          170,
          143,
          160,
          141,
          167,
          163,
          140,
          152,
          159,
          95,
          158,
          116,
          165,
          173,
          156,
          190,
          118,
          173,
          103,
          181,
          108,
          177,
          111,
          143,
          134,
          147,
          120,
          162,
          142,
          157,
          140,
          171,
          151,
          169,
          148,
          149,
          146,
          154,
          153,
          88,
          136,
          145,
          174,
          143,
          114,
          157,
          158,
          178,
          182,
          195,
          171,
          132,
          178,
          160,
          182,
          162,
          143,
          166,
          105,
          163,
          162,
          138,
          171,
          103,
          169,
          179,
          126,
          133,
          96,
          150,
          144,
          170,
          150,
          170,
          124,
          131,
          179,
          163,
          131,
          108,
          156,
          185,
          160,
          126,
          155,
          178,
          194,
          128,
          171,
          127,
          120,
          174,
          186,
          165,
          149,
          184,
          178,
          141,
          163,
          163,
          141,
          154,
          159,
          166,
          188,
          152,
          132,
          130,
          157,
          182,
          182,
          169,
          186,
          71,
          173,
          130,
          161,
          173,
          138,
          168,
          168,
          175,
          174,
          172,
          133,
          162,
          172,
          130,
          137,
          111,
          172,
          172,
          154,
          169,
          99,
          153,
          121,
          115,
          143,
          139,
          147,
          120,
          112,
          109,
          169,
          187,
          158,
          132,
          152,
          144,
          148,
          162,
          143,
          97,
          126,
          152,
          90,
          162,
          146,
          173,
          165,
          168,
          154,
          123,
          160,
          160,
          164,
          122,
          105,
          142,
          156,
          150,
          132,
          150,
          143,
          122,
          142,
          163,
          174,
          152,
          114,
          172,
          129,
          179,
          160,
          154,
          162,
          146,
          131,
          168,
          131,
          161,
          160,
          153,
          144,
          172,
          145,
          157,
          160,
          158,
          180,
          151,
          163,
          159,
          170,
          156,
          155,
          132,
          179,
          132,
          130,
          181,
          151,
          174,
          125,
          140,
          114,
          161,
          140,
          96,
          147,
          158,
          115,
          175,
          161,
          125,
          113
         ],
         "yaxis": "y17"
        },
        {
         "hoverinfo": "x+y",
         "marker": {
          "color": [
           0,
           0,
           0,
           0,
           0,
           1,
           0,
           0,
           0,
           0,
           1,
           0,
           1,
           0,
           0,
           1,
           0,
           1,
           1,
           0,
           1,
           1,
           1,
           1,
           0,
           1,
           0,
           0,
           0,
           0,
           0,
           0,
           1,
           0,
           1,
           1,
           1,
           0,
           1,
           1,
           0,
           1,
           1,
           1,
           0,
           1,
           0,
           1,
           0,
           1,
           0,
           0,
           1,
           1,
           0,
           0,
           1,
           0,
           1,
           0,
           1,
           0,
           1,
           0,
           0,
           0,
           0,
           0,
           0,
           1,
           1,
           0,
           1,
           0,
           0,
           1,
           0,
           0,
           0,
           1,
           1,
           1,
           1,
           1,
           0,
           0,
           1,
           1,
           1,
           1,
           1,
           0,
           0,
           0,
           0,
           0,
           0,
           1,
           0,
           0,
           0,
           0,
           1,
           0,
           1,
           0,
           1,
           1,
           1,
           1,
           1,
           0,
           1,
           1,
           0,
           0,
           0,
           1,
           1,
           0,
           1,
           0,
           1,
           1,
           0,
           0,
           0,
           1,
           1,
           1,
           0,
           1,
           0,
           0,
           1,
           1,
           1,
           1,
           0,
           1,
           1,
           0,
           0,
           0,
           0,
           1,
           0,
           1,
           1,
           0,
           0,
           1,
           1,
           1,
           0,
           0,
           1,
           1,
           0,
           1,
           1,
           1,
           0,
           1,
           0,
           0,
           0,
           1,
           1,
           1,
           1,
           1,
           0,
           1,
           1,
           0,
           0,
           1,
           1,
           1,
           1,
           0,
           0,
           1,
           1,
           0,
           1,
           1,
           0,
           0,
           1,
           1,
           1,
           1,
           1,
           1,
           1,
           1,
           1,
           1,
           1,
           1,
           0,
           1,
           0,
           1,
           1,
           1,
           1,
           0,
           1,
           1,
           1,
           1,
           1,
           0,
           0,
           0,
           0,
           0,
           1,
           1,
           0,
           1,
           0,
           1,
           1,
           0,
           0,
           1,
           1,
           0,
           0,
           1,
           1,
           0,
           0,
           1,
           1,
           0,
           1,
           1,
           1,
           0,
           0,
           0,
           1,
           0,
           0,
           1,
           1,
           0,
           1,
           1,
           0,
           0,
           1,
           0,
           1,
           0,
           0,
           1,
           0,
           1,
           1,
           0,
           1,
           1,
           0,
           1,
           1,
           1,
           0,
           1,
           1,
           1,
           1,
           0,
           1,
           1,
           1,
           1,
           0,
           1,
           0,
           0,
           1,
           1,
           0,
           0,
           1,
           1,
           1,
           0,
           1,
           1,
           0,
           1,
           1,
           0,
           0,
           0
          ],
          "colorscale": [
           [
            0,
            "rgb(0, 147, 146)"
           ],
           [
            0.16666666666666666,
            "rgb(114, 170, 161)"
           ],
           [
            0.3333333333333333,
            "rgb(177, 199, 179)"
           ],
           [
            0.5,
            "rgb(241, 234, 200)"
           ],
           [
            0.6666666666666666,
            "rgb(229, 185, 173)"
           ],
           [
            0.8333333333333334,
            "rgb(217, 137, 148)"
           ],
           [
            1,
            "rgb(208, 88, 126)"
           ]
          ],
          "showscale": false
         },
         "mode": "markers",
         "showlegend": false,
         "type": "scatter",
         "x": [
          212,
          203,
          174,
          203,
          294,
          248,
          318,
          289,
          249,
          286,
          149,
          341,
          210,
          298,
          204,
          308,
          266,
          244,
          211,
          185,
          223,
          208,
          252,
          209,
          307,
          233,
          319,
          256,
          327,
          169,
          131,
          269,
          196,
          231,
          213,
          271,
          263,
          229,
          360,
          258,
          330,
          342,
          226,
          203,
          228,
          278,
          230,
          283,
          241,
          175,
          188,
          217,
          193,
          245,
          212,
          232,
          204,
          299,
          212,
          288,
          197,
          315,
          215,
          164,
          326,
          207,
          249,
          177,
          256,
          257,
          255,
          187,
          201,
          233,
          149,
          220,
          249,
          268,
          193,
          267,
          209,
          208,
          236,
          303,
          282,
          248,
          197,
          213,
          126,
          309,
          186,
          275,
          299,
          281,
          223,
          206,
          197,
          226,
          335,
          218,
          254,
          177,
          295,
          282,
          417,
          260,
          240,
          302,
          223,
          192,
          256,
          225,
          325,
          235,
          274,
          197,
          234,
          182,
          204,
          167,
          295,
          172,
          298,
          321,
          283,
          300,
          330,
          199,
          564,
          157,
          304,
          222,
          274,
          184,
          354,
          315,
          160,
          247,
          283,
          240,
          199,
          239,
          288,
          246,
          409,
          211,
          293,
          180,
          308,
          289,
          309,
          250,
          221,
          234,
          286,
          234,
          260,
          318,
          200,
          227,
          244,
          240,
          243,
          266,
          254,
          311,
          236,
          261,
          232,
          242,
          205,
          236,
          258,
          306,
          269,
          261,
          244,
          288,
          245,
          219,
          220,
          353,
          198,
          394,
          183,
          231,
          226,
          222,
          237,
          224,
          265,
          211,
          263,
          228,
          207,
          198,
          234,
          192,
          204,
          313,
          302,
          340,
          259,
          243,
          270,
          325,
          204,
          227,
          196,
          267,
          294,
          269,
          216,
          264,
          275,
          309,
          246,
          276,
          322,
          269,
          250,
          214,
          206,
          273,
          253,
          269,
          199,
          247,
          263,
          201,
          243,
          176,
          204,
          231,
          246,
          230,
          229,
          240,
          175,
          284,
          177,
          221,
          303,
          218,
          239,
          282,
          233,
          264,
          274,
          245,
          265,
          305,
          201,
          168,
          243,
          225,
          268,
          229,
          253,
          230,
          407,
          271,
          254,
          197,
          214,
          216,
          234,
          239,
          290,
          220,
          277,
          270,
          258,
          234,
          219,
          235,
          277,
          254,
          254,
          304,
          197,
          262,
          212,
          195,
          212,
          205,
          303,
          239,
          282,
          166,
          177,
          226,
          250,
          219,
          178,
          233,
          335,
          211,
          141,
          255,
          273,
          188
         ],
         "xaxis": "x18",
         "y": [
          168,
          155,
          125,
          161,
          106,
          122,
          140,
          145,
          144,
          116,
          125,
          136,
          192,
          122,
          156,
          142,
          109,
          162,
          165,
          155,
          142,
          148,
          172,
          173,
          146,
          179,
          152,
          142,
          117,
          144,
          115,
          112,
          163,
          147,
          125,
          182,
          105,
          150,
          151,
          147,
          169,
          166,
          178,
          132,
          165,
          152,
          160,
          162,
          123,
          173,
          139,
          111,
          162,
          180,
          150,
          164,
          202,
          125,
          157,
          159,
          152,
          125,
          170,
          145,
          140,
          138,
          144,
          162,
          150,
          156,
          175,
          144,
          158,
          163,
          126,
          170,
          143,
          160,
          141,
          167,
          163,
          140,
          152,
          159,
          95,
          158,
          116,
          165,
          173,
          156,
          190,
          118,
          173,
          103,
          181,
          108,
          177,
          111,
          143,
          134,
          147,
          120,
          162,
          142,
          157,
          140,
          171,
          151,
          169,
          148,
          149,
          146,
          154,
          153,
          88,
          136,
          145,
          174,
          143,
          114,
          157,
          158,
          178,
          182,
          195,
          171,
          132,
          178,
          160,
          182,
          162,
          143,
          166,
          105,
          163,
          162,
          138,
          171,
          103,
          169,
          179,
          126,
          133,
          96,
          150,
          144,
          170,
          150,
          170,
          124,
          131,
          179,
          163,
          131,
          108,
          156,
          185,
          160,
          126,
          155,
          178,
          194,
          128,
          171,
          127,
          120,
          174,
          186,
          165,
          149,
          184,
          178,
          141,
          163,
          163,
          141,
          154,
          159,
          166,
          188,
          152,
          132,
          130,
          157,
          182,
          182,
          169,
          186,
          71,
          173,
          130,
          161,
          173,
          138,
          168,
          168,
          175,
          174,
          172,
          133,
          162,
          172,
          130,
          137,
          111,
          172,
          172,
          154,
          169,
          99,
          153,
          121,
          115,
          143,
          139,
          147,
          120,
          112,
          109,
          169,
          187,
          158,
          132,
          152,
          144,
          148,
          162,
          143,
          97,
          126,
          152,
          90,
          162,
          146,
          173,
          165,
          168,
          154,
          123,
          160,
          160,
          164,
          122,
          105,
          142,
          156,
          150,
          132,
          150,
          143,
          122,
          142,
          163,
          174,
          152,
          114,
          172,
          129,
          179,
          160,
          154,
          162,
          146,
          131,
          168,
          131,
          161,
          160,
          153,
          144,
          172,
          145,
          157,
          160,
          158,
          180,
          151,
          163,
          159,
          170,
          156,
          155,
          132,
          179,
          132,
          130,
          181,
          151,
          174,
          125,
          140,
          114,
          161,
          140,
          96,
          147,
          158,
          115,
          175,
          161,
          125,
          113
         ],
         "yaxis": "y18"
        },
        {
         "hoverinfo": "x+y",
         "name": "Max_heart_rate",
         "showlegend": false,
         "type": "histogram",
         "x": [
          168,
          155,
          125,
          161,
          106,
          122,
          140,
          145,
          144,
          116,
          125,
          136,
          192,
          122,
          156,
          142,
          109,
          162,
          165,
          155,
          142,
          148,
          172,
          173,
          146,
          179,
          152,
          142,
          117,
          144,
          115,
          112,
          163,
          147,
          125,
          182,
          105,
          150,
          151,
          147,
          169,
          166,
          178,
          132,
          165,
          152,
          160,
          162,
          123,
          173,
          139,
          111,
          162,
          180,
          150,
          164,
          202,
          125,
          157,
          159,
          152,
          125,
          170,
          145,
          140,
          138,
          144,
          162,
          150,
          156,
          175,
          144,
          158,
          163,
          126,
          170,
          143,
          160,
          141,
          167,
          163,
          140,
          152,
          159,
          95,
          158,
          116,
          165,
          173,
          156,
          190,
          118,
          173,
          103,
          181,
          108,
          177,
          111,
          143,
          134,
          147,
          120,
          162,
          142,
          157,
          140,
          171,
          151,
          169,
          148,
          149,
          146,
          154,
          153,
          88,
          136,
          145,
          174,
          143,
          114,
          157,
          158,
          178,
          182,
          195,
          171,
          132,
          178,
          160,
          182,
          162,
          143,
          166,
          105,
          163,
          162,
          138,
          171,
          103,
          169,
          179,
          126,
          133,
          96,
          150,
          144,
          170,
          150,
          170,
          124,
          131,
          179,
          163,
          131,
          108,
          156,
          185,
          160,
          126,
          155,
          178,
          194,
          128,
          171,
          127,
          120,
          174,
          186,
          165,
          149,
          184,
          178,
          141,
          163,
          163,
          141,
          154,
          159,
          166,
          188,
          152,
          132,
          130,
          157,
          182,
          182,
          169,
          186,
          71,
          173,
          130,
          161,
          173,
          138,
          168,
          168,
          175,
          174,
          172,
          133,
          162,
          172,
          130,
          137,
          111,
          172,
          172,
          154,
          169,
          99,
          153,
          121,
          115,
          143,
          139,
          147,
          120,
          112,
          109,
          169,
          187,
          158,
          132,
          152,
          144,
          148,
          162,
          143,
          97,
          126,
          152,
          90,
          162,
          146,
          173,
          165,
          168,
          154,
          123,
          160,
          160,
          164,
          122,
          105,
          142,
          156,
          150,
          132,
          150,
          143,
          122,
          142,
          163,
          174,
          152,
          114,
          172,
          129,
          179,
          160,
          154,
          162,
          146,
          131,
          168,
          131,
          161,
          160,
          153,
          144,
          172,
          145,
          157,
          160,
          158,
          180,
          151,
          163,
          159,
          170,
          156,
          155,
          132,
          179,
          132,
          130,
          181,
          151,
          174,
          125,
          140,
          114,
          161,
          140,
          96,
          147,
          158,
          115,
          175,
          161,
          125,
          113
         ],
         "xaxis": "x19",
         "yaxis": "y19"
        },
        {
         "hoverinfo": "x+y",
         "marker": {
          "color": [
           0,
           0,
           0,
           0,
           0,
           1,
           0,
           0,
           0,
           0,
           1,
           0,
           1,
           0,
           0,
           1,
           0,
           1,
           1,
           0,
           1,
           1,
           1,
           1,
           0,
           1,
           0,
           0,
           0,
           0,
           0,
           0,
           1,
           0,
           1,
           1,
           1,
           0,
           1,
           1,
           0,
           1,
           1,
           1,
           0,
           1,
           0,
           1,
           0,
           1,
           0,
           0,
           1,
           1,
           0,
           0,
           1,
           0,
           1,
           0,
           1,
           0,
           1,
           0,
           0,
           0,
           0,
           0,
           0,
           1,
           1,
           0,
           1,
           0,
           0,
           1,
           0,
           0,
           0,
           1,
           1,
           1,
           1,
           1,
           0,
           0,
           1,
           1,
           1,
           1,
           1,
           0,
           0,
           0,
           0,
           0,
           0,
           1,
           0,
           0,
           0,
           0,
           1,
           0,
           1,
           0,
           1,
           1,
           1,
           1,
           1,
           0,
           1,
           1,
           0,
           0,
           0,
           1,
           1,
           0,
           1,
           0,
           1,
           1,
           0,
           0,
           0,
           1,
           1,
           1,
           0,
           1,
           0,
           0,
           1,
           1,
           1,
           1,
           0,
           1,
           1,
           0,
           0,
           0,
           0,
           1,
           0,
           1,
           1,
           0,
           0,
           1,
           1,
           1,
           0,
           0,
           1,
           1,
           0,
           1,
           1,
           1,
           0,
           1,
           0,
           0,
           0,
           1,
           1,
           1,
           1,
           1,
           0,
           1,
           1,
           0,
           0,
           1,
           1,
           1,
           1,
           0,
           0,
           1,
           1,
           0,
           1,
           1,
           0,
           0,
           1,
           1,
           1,
           1,
           1,
           1,
           1,
           1,
           1,
           1,
           1,
           1,
           0,
           1,
           0,
           1,
           1,
           1,
           1,
           0,
           1,
           1,
           1,
           1,
           1,
           0,
           0,
           0,
           0,
           0,
           1,
           1,
           0,
           1,
           0,
           1,
           1,
           0,
           0,
           1,
           1,
           0,
           0,
           1,
           1,
           0,
           0,
           1,
           1,
           0,
           1,
           1,
           1,
           0,
           0,
           0,
           1,
           0,
           0,
           1,
           1,
           0,
           1,
           1,
           0,
           0,
           1,
           0,
           1,
           0,
           0,
           1,
           0,
           1,
           1,
           0,
           1,
           1,
           0,
           1,
           1,
           1,
           0,
           1,
           1,
           1,
           1,
           0,
           1,
           1,
           1,
           1,
           0,
           1,
           0,
           0,
           1,
           1,
           0,
           0,
           1,
           1,
           1,
           0,
           1,
           1,
           0,
           1,
           1,
           0,
           0,
           0
          ],
          "colorscale": [
           [
            0,
            "rgb(0, 147, 146)"
           ],
           [
            0.16666666666666666,
            "rgb(114, 170, 161)"
           ],
           [
            0.3333333333333333,
            "rgb(177, 199, 179)"
           ],
           [
            0.5,
            "rgb(241, 234, 200)"
           ],
           [
            0.6666666666666666,
            "rgb(229, 185, 173)"
           ],
           [
            0.8333333333333334,
            "rgb(217, 137, 148)"
           ],
           [
            1,
            "rgb(208, 88, 126)"
           ]
          ],
          "showscale": false
         },
         "mode": "markers",
         "showlegend": false,
         "type": "scatter",
         "x": [
          1,
          3.1,
          2.6,
          0,
          1.9,
          1,
          4.4,
          0.8,
          0.8,
          3.2,
          1.6,
          3,
          0.7,
          4.2,
          1,
          1.5,
          2.2,
          1.1,
          0,
          3,
          0.3,
          3,
          0,
          0,
          1,
          0.4,
          0,
          0.6,
          3.4,
          2.8,
          1.2,
          2.9,
          0,
          3.6,
          1.4,
          0,
          0.2,
          0.4,
          0.8,
          0.4,
          0,
          1.2,
          0,
          0,
          1,
          0,
          1.4,
          1,
          0.2,
          0,
          2,
          5.6,
          1.9,
          0.2,
          0.8,
          0,
          0,
          0.9,
          1.6,
          0.2,
          1.2,
          1.8,
          0,
          6.2,
          3.4,
          1.9,
          1.2,
          0,
          0,
          0,
          0,
          4,
          0.8,
          0.6,
          0.8,
          0,
          0,
          3.6,
          3.4,
          0,
          0,
          0,
          0.2,
          0,
          2,
          0.6,
          1.1,
          0.2,
          0.2,
          0,
          0,
          1,
          1.6,
          1.4,
          0,
          0,
          0,
          0,
          3,
          2.2,
          1.4,
          2.5,
          0,
          2.8,
          0.8,
          3.6,
          0.9,
          0.4,
          0,
          0.4,
          0.5,
          2.8,
          0,
          0,
          1.2,
          0,
          2.6,
          0,
          0.1,
          2,
          0.6,
          0,
          1.2,
          0,
          0,
          0,
          1.8,
          1.4,
          1.6,
          0,
          0,
          1.2,
          0.5,
          2.1,
          0.6,
          1.9,
          0,
          1.5,
          1.6,
          0,
          0,
          2.8,
          4,
          2.2,
          1.9,
          1.8,
          1.2,
          0,
          0,
          1,
          1.8,
          0,
          0,
          0.1,
          1.5,
          0.1,
          0,
          0,
          0.9,
          0.6,
          0.8,
          0.8,
          2.6,
          0.6,
          2.8,
          1.8,
          0,
          0,
          1.6,
          0.3,
          0,
          0.8,
          2.8,
          0,
          0,
          0.3,
          1.4,
          0,
          2.4,
          0,
          0,
          1.2,
          1.6,
          1.2,
          1.4,
          3.8,
          0,
          0,
          1,
          3.2,
          0,
          0,
          0,
          2.3,
          0,
          0,
          0.6,
          0,
          1.4,
          0.2,
          0.4,
          0,
          3,
          1,
          0.8,
          0.2,
          0,
          0,
          0.1,
          1.8,
          1.3,
          0.2,
          0,
          0.4,
          0.2,
          0,
          0,
          0.6,
          2.4,
          1.8,
          3.5,
          1.6,
          2.4,
          0.5,
          1.4,
          0.8,
          0.5,
          0.1,
          1.2,
          1.5,
          0,
          1,
          0.8,
          1.8,
          0,
          2.5,
          1,
          0.6,
          0.6,
          1.8,
          1.4,
          0,
          2,
          2,
          1.2,
          0,
          2.3,
          1.2,
          1.6,
          0,
          0.6,
          1.2,
          0,
          1.6,
          0,
          1,
          0,
          2.6,
          0,
          0,
          4,
          0,
          2,
          0.6,
          2,
          2.2,
          0.5,
          1.2,
          0,
          0.4,
          0,
          4.2,
          2.6,
          0,
          1.6,
          0,
          1,
          0.2,
          0,
          0,
          0,
          0,
          2,
          0,
          0.1,
          2,
          1.2,
          1.8,
          1.4,
          3.6,
          0.4,
          2.6,
          1.4,
          1.2,
          0,
          0.1,
          0,
          1.5,
          0.6,
          0,
          0,
          1.4
         ],
         "xaxis": "x20",
         "y": [
          168,
          155,
          125,
          161,
          106,
          122,
          140,
          145,
          144,
          116,
          125,
          136,
          192,
          122,
          156,
          142,
          109,
          162,
          165,
          155,
          142,
          148,
          172,
          173,
          146,
          179,
          152,
          142,
          117,
          144,
          115,
          112,
          163,
          147,
          125,
          182,
          105,
          150,
          151,
          147,
          169,
          166,
          178,
          132,
          165,
          152,
          160,
          162,
          123,
          173,
          139,
          111,
          162,
          180,
          150,
          164,
          202,
          125,
          157,
          159,
          152,
          125,
          170,
          145,
          140,
          138,
          144,
          162,
          150,
          156,
          175,
          144,
          158,
          163,
          126,
          170,
          143,
          160,
          141,
          167,
          163,
          140,
          152,
          159,
          95,
          158,
          116,
          165,
          173,
          156,
          190,
          118,
          173,
          103,
          181,
          108,
          177,
          111,
          143,
          134,
          147,
          120,
          162,
          142,
          157,
          140,
          171,
          151,
          169,
          148,
          149,
          146,
          154,
          153,
          88,
          136,
          145,
          174,
          143,
          114,
          157,
          158,
          178,
          182,
          195,
          171,
          132,
          178,
          160,
          182,
          162,
          143,
          166,
          105,
          163,
          162,
          138,
          171,
          103,
          169,
          179,
          126,
          133,
          96,
          150,
          144,
          170,
          150,
          170,
          124,
          131,
          179,
          163,
          131,
          108,
          156,
          185,
          160,
          126,
          155,
          178,
          194,
          128,
          171,
          127,
          120,
          174,
          186,
          165,
          149,
          184,
          178,
          141,
          163,
          163,
          141,
          154,
          159,
          166,
          188,
          152,
          132,
          130,
          157,
          182,
          182,
          169,
          186,
          71,
          173,
          130,
          161,
          173,
          138,
          168,
          168,
          175,
          174,
          172,
          133,
          162,
          172,
          130,
          137,
          111,
          172,
          172,
          154,
          169,
          99,
          153,
          121,
          115,
          143,
          139,
          147,
          120,
          112,
          109,
          169,
          187,
          158,
          132,
          152,
          144,
          148,
          162,
          143,
          97,
          126,
          152,
          90,
          162,
          146,
          173,
          165,
          168,
          154,
          123,
          160,
          160,
          164,
          122,
          105,
          142,
          156,
          150,
          132,
          150,
          143,
          122,
          142,
          163,
          174,
          152,
          114,
          172,
          129,
          179,
          160,
          154,
          162,
          146,
          131,
          168,
          131,
          161,
          160,
          153,
          144,
          172,
          145,
          157,
          160,
          158,
          180,
          151,
          163,
          159,
          170,
          156,
          155,
          132,
          179,
          132,
          130,
          181,
          151,
          174,
          125,
          140,
          114,
          161,
          140,
          96,
          147,
          158,
          115,
          175,
          161,
          125,
          113
         ],
         "yaxis": "y20"
        },
        {
         "hoverinfo": "x+y",
         "marker": {
          "color": [
           0,
           0,
           0,
           0,
           0,
           1,
           0,
           0,
           0,
           0,
           1,
           0,
           1,
           0,
           0,
           1,
           0,
           1,
           1,
           0,
           1,
           1,
           1,
           1,
           0,
           1,
           0,
           0,
           0,
           0,
           0,
           0,
           1,
           0,
           1,
           1,
           1,
           0,
           1,
           1,
           0,
           1,
           1,
           1,
           0,
           1,
           0,
           1,
           0,
           1,
           0,
           0,
           1,
           1,
           0,
           0,
           1,
           0,
           1,
           0,
           1,
           0,
           1,
           0,
           0,
           0,
           0,
           0,
           0,
           1,
           1,
           0,
           1,
           0,
           0,
           1,
           0,
           0,
           0,
           1,
           1,
           1,
           1,
           1,
           0,
           0,
           1,
           1,
           1,
           1,
           1,
           0,
           0,
           0,
           0,
           0,
           0,
           1,
           0,
           0,
           0,
           0,
           1,
           0,
           1,
           0,
           1,
           1,
           1,
           1,
           1,
           0,
           1,
           1,
           0,
           0,
           0,
           1,
           1,
           0,
           1,
           0,
           1,
           1,
           0,
           0,
           0,
           1,
           1,
           1,
           0,
           1,
           0,
           0,
           1,
           1,
           1,
           1,
           0,
           1,
           1,
           0,
           0,
           0,
           0,
           1,
           0,
           1,
           1,
           0,
           0,
           1,
           1,
           1,
           0,
           0,
           1,
           1,
           0,
           1,
           1,
           1,
           0,
           1,
           0,
           0,
           0,
           1,
           1,
           1,
           1,
           1,
           0,
           1,
           1,
           0,
           0,
           1,
           1,
           1,
           1,
           0,
           0,
           1,
           1,
           0,
           1,
           1,
           0,
           0,
           1,
           1,
           1,
           1,
           1,
           1,
           1,
           1,
           1,
           1,
           1,
           1,
           0,
           1,
           0,
           1,
           1,
           1,
           1,
           0,
           1,
           1,
           1,
           1,
           1,
           0,
           0,
           0,
           0,
           0,
           1,
           1,
           0,
           1,
           0,
           1,
           1,
           0,
           0,
           1,
           1,
           0,
           0,
           1,
           1,
           0,
           0,
           1,
           1,
           0,
           1,
           1,
           1,
           0,
           0,
           0,
           1,
           0,
           0,
           1,
           1,
           0,
           1,
           1,
           0,
           0,
           1,
           0,
           1,
           0,
           0,
           1,
           0,
           1,
           1,
           0,
           1,
           1,
           0,
           1,
           1,
           1,
           0,
           1,
           1,
           1,
           1,
           0,
           1,
           1,
           1,
           1,
           0,
           1,
           0,
           0,
           1,
           1,
           0,
           0,
           1,
           1,
           1,
           0,
           1,
           1,
           0,
           1,
           1,
           0,
           0,
           0
          ],
          "colorscale": [
           [
            0,
            "rgb(0, 147, 146)"
           ],
           [
            0.16666666666666666,
            "rgb(114, 170, 161)"
           ],
           [
            0.3333333333333333,
            "rgb(177, 199, 179)"
           ],
           [
            0.5,
            "rgb(241, 234, 200)"
           ],
           [
            0.6666666666666666,
            "rgb(229, 185, 173)"
           ],
           [
            0.8333333333333334,
            "rgb(217, 137, 148)"
           ],
           [
            1,
            "rgb(208, 88, 126)"
           ]
          ],
          "showscale": false
         },
         "mode": "markers",
         "showlegend": false,
         "type": "scatter",
         "x": [
          52,
          53,
          70,
          61,
          62,
          58,
          58,
          55,
          46,
          54,
          71,
          43,
          34,
          51,
          52,
          51,
          54,
          50,
          58,
          60,
          67,
          45,
          63,
          42,
          61,
          44,
          58,
          56,
          55,
          44,
          57,
          70,
          50,
          46,
          51,
          59,
          64,
          57,
          65,
          54,
          61,
          55,
          42,
          41,
          66,
          66,
          60,
          58,
          57,
          38,
          49,
          55,
          56,
          48,
          67,
          57,
          29,
          67,
          59,
          59,
          53,
          42,
          37,
          62,
          59,
          61,
          56,
          59,
          48,
          47,
          48,
          63,
          52,
          50,
          49,
          44,
          59,
          62,
          68,
          54,
          62,
          62,
          45,
          57,
          53,
          65,
          76,
          43,
          57,
          54,
          52,
          47,
          51,
          62,
          40,
          54,
          44,
          53,
          57,
          59,
          63,
          43,
          42,
          60,
          65,
          61,
          60,
          66,
          52,
          57,
          51,
          58,
          64,
          41,
          57,
          63,
          61,
          34,
          47,
          40,
          51,
          41,
          52,
          39,
          54,
          58,
          63,
          40,
          67,
          41,
          77,
          51,
          48,
          56,
          57,
          43,
          45,
          43,
          56,
          56,
          39,
          54,
          56,
          64,
          56,
          64,
          60,
          42,
          45,
          57,
          64,
          41,
          56,
          69,
          67,
          58,
          45,
          60,
          50,
          64,
          42,
          42,
          50,
          49,
          65,
          46,
          57,
          51,
          54,
          44,
          52,
          56,
          60,
          41,
          49,
          57,
          62,
          54,
          51,
          44,
          39,
          55,
          35,
          62,
          35,
          38,
          44,
          48,
          67,
          58,
          71,
          43,
          44,
          66,
          57,
          41,
          45,
          35,
          41,
          64,
          71,
          58,
          58,
          61,
          58,
          52,
          46,
          51,
          52,
          62,
          56,
          74,
          53,
          53,
          48,
          45,
          66,
          57,
          70,
          63,
          37,
          54,
          60,
          54,
          60,
          65,
          52,
          43,
          62,
          57,
          46,
          59,
          59,
          62,
          53,
          58,
          48,
          58,
          51,
          58,
          46,
          59,
          64,
          58,
          59,
          35,
          63,
          45,
          68,
          70,
          42,
          51,
          54,
          57,
          47,
          65,
          41,
          67,
          47,
          52,
          63,
          49,
          69,
          58,
          41,
          58,
          59,
          54,
          44,
          58,
          67,
          59,
          60,
          53,
          50,
          44,
          68,
          67,
          50,
          54,
          46,
          55,
          64,
          63,
          66,
          55,
          43,
          69,
          65,
          61,
          65,
          66,
          55,
          39,
          60,
          52,
          64,
          68,
          44,
          52,
          59,
          54
         ],
         "xaxis": "x21",
         "y": [
          1,
          3.1,
          2.6,
          0,
          1.9,
          1,
          4.4,
          0.8,
          0.8,
          3.2,
          1.6,
          3,
          0.7,
          4.2,
          1,
          1.5,
          2.2,
          1.1,
          0,
          3,
          0.3,
          3,
          0,
          0,
          1,
          0.4,
          0,
          0.6,
          3.4,
          2.8,
          1.2,
          2.9,
          0,
          3.6,
          1.4,
          0,
          0.2,
          0.4,
          0.8,
          0.4,
          0,
          1.2,
          0,
          0,
          1,
          0,
          1.4,
          1,
          0.2,
          0,
          2,
          5.6,
          1.9,
          0.2,
          0.8,
          0,
          0,
          0.9,
          1.6,
          0.2,
          1.2,
          1.8,
          0,
          6.2,
          3.4,
          1.9,
          1.2,
          0,
          0,
          0,
          0,
          4,
          0.8,
          0.6,
          0.8,
          0,
          0,
          3.6,
          3.4,
          0,
          0,
          0,
          0.2,
          0,
          2,
          0.6,
          1.1,
          0.2,
          0.2,
          0,
          0,
          1,
          1.6,
          1.4,
          0,
          0,
          0,
          0,
          3,
          2.2,
          1.4,
          2.5,
          0,
          2.8,
          0.8,
          3.6,
          0.9,
          0.4,
          0,
          0.4,
          0.5,
          2.8,
          0,
          0,
          1.2,
          0,
          2.6,
          0,
          0.1,
          2,
          0.6,
          0,
          1.2,
          0,
          0,
          0,
          1.8,
          1.4,
          1.6,
          0,
          0,
          1.2,
          0.5,
          2.1,
          0.6,
          1.9,
          0,
          1.5,
          1.6,
          0,
          0,
          2.8,
          4,
          2.2,
          1.9,
          1.8,
          1.2,
          0,
          0,
          1,
          1.8,
          0,
          0,
          0.1,
          1.5,
          0.1,
          0,
          0,
          0.9,
          0.6,
          0.8,
          0.8,
          2.6,
          0.6,
          2.8,
          1.8,
          0,
          0,
          1.6,
          0.3,
          0,
          0.8,
          2.8,
          0,
          0,
          0.3,
          1.4,
          0,
          2.4,
          0,
          0,
          1.2,
          1.6,
          1.2,
          1.4,
          3.8,
          0,
          0,
          1,
          3.2,
          0,
          0,
          0,
          2.3,
          0,
          0,
          0.6,
          0,
          1.4,
          0.2,
          0.4,
          0,
          3,
          1,
          0.8,
          0.2,
          0,
          0,
          0.1,
          1.8,
          1.3,
          0.2,
          0,
          0.4,
          0.2,
          0,
          0,
          0.6,
          2.4,
          1.8,
          3.5,
          1.6,
          2.4,
          0.5,
          1.4,
          0.8,
          0.5,
          0.1,
          1.2,
          1.5,
          0,
          1,
          0.8,
          1.8,
          0,
          2.5,
          1,
          0.6,
          0.6,
          1.8,
          1.4,
          0,
          2,
          2,
          1.2,
          0,
          2.3,
          1.2,
          1.6,
          0,
          0.6,
          1.2,
          0,
          1.6,
          0,
          1,
          0,
          2.6,
          0,
          0,
          4,
          0,
          2,
          0.6,
          2,
          2.2,
          0.5,
          1.2,
          0,
          0.4,
          0,
          4.2,
          2.6,
          0,
          1.6,
          0,
          1,
          0.2,
          0,
          0,
          0,
          0,
          2,
          0,
          0.1,
          2,
          1.2,
          1.8,
          1.4,
          3.6,
          0.4,
          2.6,
          1.4,
          1.2,
          0,
          0.1,
          0,
          1.5,
          0.6,
          0,
          0,
          1.4
         ],
         "yaxis": "y21"
        },
        {
         "hoverinfo": "x+y",
         "marker": {
          "color": [
           0,
           0,
           0,
           0,
           0,
           1,
           0,
           0,
           0,
           0,
           1,
           0,
           1,
           0,
           0,
           1,
           0,
           1,
           1,
           0,
           1,
           1,
           1,
           1,
           0,
           1,
           0,
           0,
           0,
           0,
           0,
           0,
           1,
           0,
           1,
           1,
           1,
           0,
           1,
           1,
           0,
           1,
           1,
           1,
           0,
           1,
           0,
           1,
           0,
           1,
           0,
           0,
           1,
           1,
           0,
           0,
           1,
           0,
           1,
           0,
           1,
           0,
           1,
           0,
           0,
           0,
           0,
           0,
           0,
           1,
           1,
           0,
           1,
           0,
           0,
           1,
           0,
           0,
           0,
           1,
           1,
           1,
           1,
           1,
           0,
           0,
           1,
           1,
           1,
           1,
           1,
           0,
           0,
           0,
           0,
           0,
           0,
           1,
           0,
           0,
           0,
           0,
           1,
           0,
           1,
           0,
           1,
           1,
           1,
           1,
           1,
           0,
           1,
           1,
           0,
           0,
           0,
           1,
           1,
           0,
           1,
           0,
           1,
           1,
           0,
           0,
           0,
           1,
           1,
           1,
           0,
           1,
           0,
           0,
           1,
           1,
           1,
           1,
           0,
           1,
           1,
           0,
           0,
           0,
           0,
           1,
           0,
           1,
           1,
           0,
           0,
           1,
           1,
           1,
           0,
           0,
           1,
           1,
           0,
           1,
           1,
           1,
           0,
           1,
           0,
           0,
           0,
           1,
           1,
           1,
           1,
           1,
           0,
           1,
           1,
           0,
           0,
           1,
           1,
           1,
           1,
           0,
           0,
           1,
           1,
           0,
           1,
           1,
           0,
           0,
           1,
           1,
           1,
           1,
           1,
           1,
           1,
           1,
           1,
           1,
           1,
           1,
           0,
           1,
           0,
           1,
           1,
           1,
           1,
           0,
           1,
           1,
           1,
           1,
           1,
           0,
           0,
           0,
           0,
           0,
           1,
           1,
           0,
           1,
           0,
           1,
           1,
           0,
           0,
           1,
           1,
           0,
           0,
           1,
           1,
           0,
           0,
           1,
           1,
           0,
           1,
           1,
           1,
           0,
           0,
           0,
           1,
           0,
           0,
           1,
           1,
           0,
           1,
           1,
           0,
           0,
           1,
           0,
           1,
           0,
           0,
           1,
           0,
           1,
           1,
           0,
           1,
           1,
           0,
           1,
           1,
           1,
           0,
           1,
           1,
           1,
           1,
           0,
           1,
           1,
           1,
           1,
           0,
           1,
           0,
           0,
           1,
           1,
           0,
           0,
           1,
           1,
           1,
           0,
           1,
           1,
           0,
           1,
           1,
           0,
           0,
           0
          ],
          "colorscale": [
           [
            0,
            "rgb(0, 147, 146)"
           ],
           [
            0.16666666666666666,
            "rgb(114, 170, 161)"
           ],
           [
            0.3333333333333333,
            "rgb(177, 199, 179)"
           ],
           [
            0.5,
            "rgb(241, 234, 200)"
           ],
           [
            0.6666666666666666,
            "rgb(229, 185, 173)"
           ],
           [
            0.8333333333333334,
            "rgb(217, 137, 148)"
           ],
           [
            1,
            "rgb(208, 88, 126)"
           ]
          ],
          "showscale": false
         },
         "mode": "markers",
         "showlegend": false,
         "type": "scatter",
         "x": [
          125,
          140,
          145,
          148,
          138,
          100,
          114,
          160,
          120,
          122,
          112,
          132,
          118,
          140,
          128,
          140,
          124,
          120,
          140,
          140,
          106,
          104,
          135,
          120,
          145,
          130,
          136,
          130,
          180,
          120,
          130,
          160,
          129,
          150,
          125,
          138,
          128,
          128,
          160,
          120,
          130,
          132,
          140,
          135,
          178,
          146,
          117,
          150,
          140,
          138,
          120,
          140,
          120,
          130,
          152,
          154,
          130,
          100,
          150,
          170,
          130,
          136,
          120,
          160,
          170,
          140,
          125,
          140,
          130,
          138,
          124,
          140,
          134,
          140,
          118,
          120,
          174,
          140,
          144,
          108,
          124,
          128,
          138,
          128,
          123,
          110,
          140,
          122,
          150,
          108,
          118,
          110,
          140,
          120,
          152,
          110,
          110,
          142,
          110,
          126,
          130,
          120,
          120,
          145,
          140,
          120,
          150,
          120,
          138,
          140,
          130,
          170,
          180,
          110,
          152,
          124,
          134,
          118,
          112,
          110,
          120,
          110,
          152,
          140,
          192,
          125,
          130,
          140,
          115,
          120,
          125,
          100,
          124,
          132,
          120,
          130,
          112,
          150,
          130,
          120,
          94,
          110,
          200,
          120,
          134,
          110,
          140,
          130,
          128,
          165,
          125,
          112,
          130,
          160,
          160,
          100,
          115,
          102,
          144,
          170,
          148,
          120,
          150,
          130,
          135,
          140,
          130,
          140,
          150,
          118,
          128,
          120,
          125,
          126,
          130,
          124,
          150,
          132,
          125,
          130,
          138,
          132,
          120,
          140,
          138,
          120,
          120,
          122,
          120,
          132,
          110,
          110,
          120,
          160,
          132,
          105,
          130,
          122,
          130,
          140,
          160,
          120,
          128,
          150,
          150,
          120,
          105,
          94,
          136,
          120,
          140,
          120,
          128,
          130,
          130,
          142,
          160,
          150,
          130,
          108,
          130,
          110,
          130,
          125,
          130,
          155,
          172,
          132,
          130,
          110,
          138,
          164,
          134,
          130,
          130,
          112,
          110,
          105,
          110,
          120,
          142,
          140,
          130,
          146,
          110,
          126,
          145,
          110,
          180,
          156,
          102,
          130,
          160,
          150,
          108,
          150,
          112,
          120,
          130,
          112,
          150,
          134,
          140,
          130,
          130,
          128,
          135,
          140,
          112,
          125,
          152,
          178,
          150,
          138,
          120,
          140,
          118,
          125,
          110,
          135,
          101,
          130,
          145,
          140,
          112,
          128,
          115,
          140,
          138,
          138,
          120,
          150,
          135,
          118,
          120,
          108,
          140,
          120,
          108,
          128,
          160,
          120
         ],
         "xaxis": "x22",
         "y": [
          1,
          3.1,
          2.6,
          0,
          1.9,
          1,
          4.4,
          0.8,
          0.8,
          3.2,
          1.6,
          3,
          0.7,
          4.2,
          1,
          1.5,
          2.2,
          1.1,
          0,
          3,
          0.3,
          3,
          0,
          0,
          1,
          0.4,
          0,
          0.6,
          3.4,
          2.8,
          1.2,
          2.9,
          0,
          3.6,
          1.4,
          0,
          0.2,
          0.4,
          0.8,
          0.4,
          0,
          1.2,
          0,
          0,
          1,
          0,
          1.4,
          1,
          0.2,
          0,
          2,
          5.6,
          1.9,
          0.2,
          0.8,
          0,
          0,
          0.9,
          1.6,
          0.2,
          1.2,
          1.8,
          0,
          6.2,
          3.4,
          1.9,
          1.2,
          0,
          0,
          0,
          0,
          4,
          0.8,
          0.6,
          0.8,
          0,
          0,
          3.6,
          3.4,
          0,
          0,
          0,
          0.2,
          0,
          2,
          0.6,
          1.1,
          0.2,
          0.2,
          0,
          0,
          1,
          1.6,
          1.4,
          0,
          0,
          0,
          0,
          3,
          2.2,
          1.4,
          2.5,
          0,
          2.8,
          0.8,
          3.6,
          0.9,
          0.4,
          0,
          0.4,
          0.5,
          2.8,
          0,
          0,
          1.2,
          0,
          2.6,
          0,
          0.1,
          2,
          0.6,
          0,
          1.2,
          0,
          0,
          0,
          1.8,
          1.4,
          1.6,
          0,
          0,
          1.2,
          0.5,
          2.1,
          0.6,
          1.9,
          0,
          1.5,
          1.6,
          0,
          0,
          2.8,
          4,
          2.2,
          1.9,
          1.8,
          1.2,
          0,
          0,
          1,
          1.8,
          0,
          0,
          0.1,
          1.5,
          0.1,
          0,
          0,
          0.9,
          0.6,
          0.8,
          0.8,
          2.6,
          0.6,
          2.8,
          1.8,
          0,
          0,
          1.6,
          0.3,
          0,
          0.8,
          2.8,
          0,
          0,
          0.3,
          1.4,
          0,
          2.4,
          0,
          0,
          1.2,
          1.6,
          1.2,
          1.4,
          3.8,
          0,
          0,
          1,
          3.2,
          0,
          0,
          0,
          2.3,
          0,
          0,
          0.6,
          0,
          1.4,
          0.2,
          0.4,
          0,
          3,
          1,
          0.8,
          0.2,
          0,
          0,
          0.1,
          1.8,
          1.3,
          0.2,
          0,
          0.4,
          0.2,
          0,
          0,
          0.6,
          2.4,
          1.8,
          3.5,
          1.6,
          2.4,
          0.5,
          1.4,
          0.8,
          0.5,
          0.1,
          1.2,
          1.5,
          0,
          1,
          0.8,
          1.8,
          0,
          2.5,
          1,
          0.6,
          0.6,
          1.8,
          1.4,
          0,
          2,
          2,
          1.2,
          0,
          2.3,
          1.2,
          1.6,
          0,
          0.6,
          1.2,
          0,
          1.6,
          0,
          1,
          0,
          2.6,
          0,
          0,
          4,
          0,
          2,
          0.6,
          2,
          2.2,
          0.5,
          1.2,
          0,
          0.4,
          0,
          4.2,
          2.6,
          0,
          1.6,
          0,
          1,
          0.2,
          0,
          0,
          0,
          0,
          2,
          0,
          0.1,
          2,
          1.2,
          1.8,
          1.4,
          3.6,
          0.4,
          2.6,
          1.4,
          1.2,
          0,
          0.1,
          0,
          1.5,
          0.6,
          0,
          0,
          1.4
         ],
         "yaxis": "y22"
        },
        {
         "hoverinfo": "x+y",
         "marker": {
          "color": [
           0,
           0,
           0,
           0,
           0,
           1,
           0,
           0,
           0,
           0,
           1,
           0,
           1,
           0,
           0,
           1,
           0,
           1,
           1,
           0,
           1,
           1,
           1,
           1,
           0,
           1,
           0,
           0,
           0,
           0,
           0,
           0,
           1,
           0,
           1,
           1,
           1,
           0,
           1,
           1,
           0,
           1,
           1,
           1,
           0,
           1,
           0,
           1,
           0,
           1,
           0,
           0,
           1,
           1,
           0,
           0,
           1,
           0,
           1,
           0,
           1,
           0,
           1,
           0,
           0,
           0,
           0,
           0,
           0,
           1,
           1,
           0,
           1,
           0,
           0,
           1,
           0,
           0,
           0,
           1,
           1,
           1,
           1,
           1,
           0,
           0,
           1,
           1,
           1,
           1,
           1,
           0,
           0,
           0,
           0,
           0,
           0,
           1,
           0,
           0,
           0,
           0,
           1,
           0,
           1,
           0,
           1,
           1,
           1,
           1,
           1,
           0,
           1,
           1,
           0,
           0,
           0,
           1,
           1,
           0,
           1,
           0,
           1,
           1,
           0,
           0,
           0,
           1,
           1,
           1,
           0,
           1,
           0,
           0,
           1,
           1,
           1,
           1,
           0,
           1,
           1,
           0,
           0,
           0,
           0,
           1,
           0,
           1,
           1,
           0,
           0,
           1,
           1,
           1,
           0,
           0,
           1,
           1,
           0,
           1,
           1,
           1,
           0,
           1,
           0,
           0,
           0,
           1,
           1,
           1,
           1,
           1,
           0,
           1,
           1,
           0,
           0,
           1,
           1,
           1,
           1,
           0,
           0,
           1,
           1,
           0,
           1,
           1,
           0,
           0,
           1,
           1,
           1,
           1,
           1,
           1,
           1,
           1,
           1,
           1,
           1,
           1,
           0,
           1,
           0,
           1,
           1,
           1,
           1,
           0,
           1,
           1,
           1,
           1,
           1,
           0,
           0,
           0,
           0,
           0,
           1,
           1,
           0,
           1,
           0,
           1,
           1,
           0,
           0,
           1,
           1,
           0,
           0,
           1,
           1,
           0,
           0,
           1,
           1,
           0,
           1,
           1,
           1,
           0,
           0,
           0,
           1,
           0,
           0,
           1,
           1,
           0,
           1,
           1,
           0,
           0,
           1,
           0,
           1,
           0,
           0,
           1,
           0,
           1,
           1,
           0,
           1,
           1,
           0,
           1,
           1,
           1,
           0,
           1,
           1,
           1,
           1,
           0,
           1,
           1,
           1,
           1,
           0,
           1,
           0,
           0,
           1,
           1,
           0,
           0,
           1,
           1,
           1,
           0,
           1,
           1,
           0,
           1,
           1,
           0,
           0,
           0
          ],
          "colorscale": [
           [
            0,
            "rgb(0, 147, 146)"
           ],
           [
            0.16666666666666666,
            "rgb(114, 170, 161)"
           ],
           [
            0.3333333333333333,
            "rgb(177, 199, 179)"
           ],
           [
            0.5,
            "rgb(241, 234, 200)"
           ],
           [
            0.6666666666666666,
            "rgb(229, 185, 173)"
           ],
           [
            0.8333333333333334,
            "rgb(217, 137, 148)"
           ],
           [
            1,
            "rgb(208, 88, 126)"
           ]
          ],
          "showscale": false
         },
         "mode": "markers",
         "showlegend": false,
         "type": "scatter",
         "x": [
          212,
          203,
          174,
          203,
          294,
          248,
          318,
          289,
          249,
          286,
          149,
          341,
          210,
          298,
          204,
          308,
          266,
          244,
          211,
          185,
          223,
          208,
          252,
          209,
          307,
          233,
          319,
          256,
          327,
          169,
          131,
          269,
          196,
          231,
          213,
          271,
          263,
          229,
          360,
          258,
          330,
          342,
          226,
          203,
          228,
          278,
          230,
          283,
          241,
          175,
          188,
          217,
          193,
          245,
          212,
          232,
          204,
          299,
          212,
          288,
          197,
          315,
          215,
          164,
          326,
          207,
          249,
          177,
          256,
          257,
          255,
          187,
          201,
          233,
          149,
          220,
          249,
          268,
          193,
          267,
          209,
          208,
          236,
          303,
          282,
          248,
          197,
          213,
          126,
          309,
          186,
          275,
          299,
          281,
          223,
          206,
          197,
          226,
          335,
          218,
          254,
          177,
          295,
          282,
          417,
          260,
          240,
          302,
          223,
          192,
          256,
          225,
          325,
          235,
          274,
          197,
          234,
          182,
          204,
          167,
          295,
          172,
          298,
          321,
          283,
          300,
          330,
          199,
          564,
          157,
          304,
          222,
          274,
          184,
          354,
          315,
          160,
          247,
          283,
          240,
          199,
          239,
          288,
          246,
          409,
          211,
          293,
          180,
          308,
          289,
          309,
          250,
          221,
          234,
          286,
          234,
          260,
          318,
          200,
          227,
          244,
          240,
          243,
          266,
          254,
          311,
          236,
          261,
          232,
          242,
          205,
          236,
          258,
          306,
          269,
          261,
          244,
          288,
          245,
          219,
          220,
          353,
          198,
          394,
          183,
          231,
          226,
          222,
          237,
          224,
          265,
          211,
          263,
          228,
          207,
          198,
          234,
          192,
          204,
          313,
          302,
          340,
          259,
          243,
          270,
          325,
          204,
          227,
          196,
          267,
          294,
          269,
          216,
          264,
          275,
          309,
          246,
          276,
          322,
          269,
          250,
          214,
          206,
          273,
          253,
          269,
          199,
          247,
          263,
          201,
          243,
          176,
          204,
          231,
          246,
          230,
          229,
          240,
          175,
          284,
          177,
          221,
          303,
          218,
          239,
          282,
          233,
          264,
          274,
          245,
          265,
          305,
          201,
          168,
          243,
          225,
          268,
          229,
          253,
          230,
          407,
          271,
          254,
          197,
          214,
          216,
          234,
          239,
          290,
          220,
          277,
          270,
          258,
          234,
          219,
          235,
          277,
          254,
          254,
          304,
          197,
          262,
          212,
          195,
          212,
          205,
          303,
          239,
          282,
          166,
          177,
          226,
          250,
          219,
          178,
          233,
          335,
          211,
          141,
          255,
          273,
          188
         ],
         "xaxis": "x23",
         "y": [
          1,
          3.1,
          2.6,
          0,
          1.9,
          1,
          4.4,
          0.8,
          0.8,
          3.2,
          1.6,
          3,
          0.7,
          4.2,
          1,
          1.5,
          2.2,
          1.1,
          0,
          3,
          0.3,
          3,
          0,
          0,
          1,
          0.4,
          0,
          0.6,
          3.4,
          2.8,
          1.2,
          2.9,
          0,
          3.6,
          1.4,
          0,
          0.2,
          0.4,
          0.8,
          0.4,
          0,
          1.2,
          0,
          0,
          1,
          0,
          1.4,
          1,
          0.2,
          0,
          2,
          5.6,
          1.9,
          0.2,
          0.8,
          0,
          0,
          0.9,
          1.6,
          0.2,
          1.2,
          1.8,
          0,
          6.2,
          3.4,
          1.9,
          1.2,
          0,
          0,
          0,
          0,
          4,
          0.8,
          0.6,
          0.8,
          0,
          0,
          3.6,
          3.4,
          0,
          0,
          0,
          0.2,
          0,
          2,
          0.6,
          1.1,
          0.2,
          0.2,
          0,
          0,
          1,
          1.6,
          1.4,
          0,
          0,
          0,
          0,
          3,
          2.2,
          1.4,
          2.5,
          0,
          2.8,
          0.8,
          3.6,
          0.9,
          0.4,
          0,
          0.4,
          0.5,
          2.8,
          0,
          0,
          1.2,
          0,
          2.6,
          0,
          0.1,
          2,
          0.6,
          0,
          1.2,
          0,
          0,
          0,
          1.8,
          1.4,
          1.6,
          0,
          0,
          1.2,
          0.5,
          2.1,
          0.6,
          1.9,
          0,
          1.5,
          1.6,
          0,
          0,
          2.8,
          4,
          2.2,
          1.9,
          1.8,
          1.2,
          0,
          0,
          1,
          1.8,
          0,
          0,
          0.1,
          1.5,
          0.1,
          0,
          0,
          0.9,
          0.6,
          0.8,
          0.8,
          2.6,
          0.6,
          2.8,
          1.8,
          0,
          0,
          1.6,
          0.3,
          0,
          0.8,
          2.8,
          0,
          0,
          0.3,
          1.4,
          0,
          2.4,
          0,
          0,
          1.2,
          1.6,
          1.2,
          1.4,
          3.8,
          0,
          0,
          1,
          3.2,
          0,
          0,
          0,
          2.3,
          0,
          0,
          0.6,
          0,
          1.4,
          0.2,
          0.4,
          0,
          3,
          1,
          0.8,
          0.2,
          0,
          0,
          0.1,
          1.8,
          1.3,
          0.2,
          0,
          0.4,
          0.2,
          0,
          0,
          0.6,
          2.4,
          1.8,
          3.5,
          1.6,
          2.4,
          0.5,
          1.4,
          0.8,
          0.5,
          0.1,
          1.2,
          1.5,
          0,
          1,
          0.8,
          1.8,
          0,
          2.5,
          1,
          0.6,
          0.6,
          1.8,
          1.4,
          0,
          2,
          2,
          1.2,
          0,
          2.3,
          1.2,
          1.6,
          0,
          0.6,
          1.2,
          0,
          1.6,
          0,
          1,
          0,
          2.6,
          0,
          0,
          4,
          0,
          2,
          0.6,
          2,
          2.2,
          0.5,
          1.2,
          0,
          0.4,
          0,
          4.2,
          2.6,
          0,
          1.6,
          0,
          1,
          0.2,
          0,
          0,
          0,
          0,
          2,
          0,
          0.1,
          2,
          1.2,
          1.8,
          1.4,
          3.6,
          0.4,
          2.6,
          1.4,
          1.2,
          0,
          0.1,
          0,
          1.5,
          0.6,
          0,
          0,
          1.4
         ],
         "yaxis": "y23"
        },
        {
         "hoverinfo": "x+y",
         "marker": {
          "color": [
           0,
           0,
           0,
           0,
           0,
           1,
           0,
           0,
           0,
           0,
           1,
           0,
           1,
           0,
           0,
           1,
           0,
           1,
           1,
           0,
           1,
           1,
           1,
           1,
           0,
           1,
           0,
           0,
           0,
           0,
           0,
           0,
           1,
           0,
           1,
           1,
           1,
           0,
           1,
           1,
           0,
           1,
           1,
           1,
           0,
           1,
           0,
           1,
           0,
           1,
           0,
           0,
           1,
           1,
           0,
           0,
           1,
           0,
           1,
           0,
           1,
           0,
           1,
           0,
           0,
           0,
           0,
           0,
           0,
           1,
           1,
           0,
           1,
           0,
           0,
           1,
           0,
           0,
           0,
           1,
           1,
           1,
           1,
           1,
           0,
           0,
           1,
           1,
           1,
           1,
           1,
           0,
           0,
           0,
           0,
           0,
           0,
           1,
           0,
           0,
           0,
           0,
           1,
           0,
           1,
           0,
           1,
           1,
           1,
           1,
           1,
           0,
           1,
           1,
           0,
           0,
           0,
           1,
           1,
           0,
           1,
           0,
           1,
           1,
           0,
           0,
           0,
           1,
           1,
           1,
           0,
           1,
           0,
           0,
           1,
           1,
           1,
           1,
           0,
           1,
           1,
           0,
           0,
           0,
           0,
           1,
           0,
           1,
           1,
           0,
           0,
           1,
           1,
           1,
           0,
           0,
           1,
           1,
           0,
           1,
           1,
           1,
           0,
           1,
           0,
           0,
           0,
           1,
           1,
           1,
           1,
           1,
           0,
           1,
           1,
           0,
           0,
           1,
           1,
           1,
           1,
           0,
           0,
           1,
           1,
           0,
           1,
           1,
           0,
           0,
           1,
           1,
           1,
           1,
           1,
           1,
           1,
           1,
           1,
           1,
           1,
           1,
           0,
           1,
           0,
           1,
           1,
           1,
           1,
           0,
           1,
           1,
           1,
           1,
           1,
           0,
           0,
           0,
           0,
           0,
           1,
           1,
           0,
           1,
           0,
           1,
           1,
           0,
           0,
           1,
           1,
           0,
           0,
           1,
           1,
           0,
           0,
           1,
           1,
           0,
           1,
           1,
           1,
           0,
           0,
           0,
           1,
           0,
           0,
           1,
           1,
           0,
           1,
           1,
           0,
           0,
           1,
           0,
           1,
           0,
           0,
           1,
           0,
           1,
           1,
           0,
           1,
           1,
           0,
           1,
           1,
           1,
           0,
           1,
           1,
           1,
           1,
           0,
           1,
           1,
           1,
           1,
           0,
           1,
           0,
           0,
           1,
           1,
           0,
           0,
           1,
           1,
           1,
           0,
           1,
           1,
           0,
           1,
           1,
           0,
           0,
           0
          ],
          "colorscale": [
           [
            0,
            "rgb(0, 147, 146)"
           ],
           [
            0.16666666666666666,
            "rgb(114, 170, 161)"
           ],
           [
            0.3333333333333333,
            "rgb(177, 199, 179)"
           ],
           [
            0.5,
            "rgb(241, 234, 200)"
           ],
           [
            0.6666666666666666,
            "rgb(229, 185, 173)"
           ],
           [
            0.8333333333333334,
            "rgb(217, 137, 148)"
           ],
           [
            1,
            "rgb(208, 88, 126)"
           ]
          ],
          "showscale": false
         },
         "mode": "markers",
         "showlegend": false,
         "type": "scatter",
         "x": [
          168,
          155,
          125,
          161,
          106,
          122,
          140,
          145,
          144,
          116,
          125,
          136,
          192,
          122,
          156,
          142,
          109,
          162,
          165,
          155,
          142,
          148,
          172,
          173,
          146,
          179,
          152,
          142,
          117,
          144,
          115,
          112,
          163,
          147,
          125,
          182,
          105,
          150,
          151,
          147,
          169,
          166,
          178,
          132,
          165,
          152,
          160,
          162,
          123,
          173,
          139,
          111,
          162,
          180,
          150,
          164,
          202,
          125,
          157,
          159,
          152,
          125,
          170,
          145,
          140,
          138,
          144,
          162,
          150,
          156,
          175,
          144,
          158,
          163,
          126,
          170,
          143,
          160,
          141,
          167,
          163,
          140,
          152,
          159,
          95,
          158,
          116,
          165,
          173,
          156,
          190,
          118,
          173,
          103,
          181,
          108,
          177,
          111,
          143,
          134,
          147,
          120,
          162,
          142,
          157,
          140,
          171,
          151,
          169,
          148,
          149,
          146,
          154,
          153,
          88,
          136,
          145,
          174,
          143,
          114,
          157,
          158,
          178,
          182,
          195,
          171,
          132,
          178,
          160,
          182,
          162,
          143,
          166,
          105,
          163,
          162,
          138,
          171,
          103,
          169,
          179,
          126,
          133,
          96,
          150,
          144,
          170,
          150,
          170,
          124,
          131,
          179,
          163,
          131,
          108,
          156,
          185,
          160,
          126,
          155,
          178,
          194,
          128,
          171,
          127,
          120,
          174,
          186,
          165,
          149,
          184,
          178,
          141,
          163,
          163,
          141,
          154,
          159,
          166,
          188,
          152,
          132,
          130,
          157,
          182,
          182,
          169,
          186,
          71,
          173,
          130,
          161,
          173,
          138,
          168,
          168,
          175,
          174,
          172,
          133,
          162,
          172,
          130,
          137,
          111,
          172,
          172,
          154,
          169,
          99,
          153,
          121,
          115,
          143,
          139,
          147,
          120,
          112,
          109,
          169,
          187,
          158,
          132,
          152,
          144,
          148,
          162,
          143,
          97,
          126,
          152,
          90,
          162,
          146,
          173,
          165,
          168,
          154,
          123,
          160,
          160,
          164,
          122,
          105,
          142,
          156,
          150,
          132,
          150,
          143,
          122,
          142,
          163,
          174,
          152,
          114,
          172,
          129,
          179,
          160,
          154,
          162,
          146,
          131,
          168,
          131,
          161,
          160,
          153,
          144,
          172,
          145,
          157,
          160,
          158,
          180,
          151,
          163,
          159,
          170,
          156,
          155,
          132,
          179,
          132,
          130,
          181,
          151,
          174,
          125,
          140,
          114,
          161,
          140,
          96,
          147,
          158,
          115,
          175,
          161,
          125,
          113
         ],
         "xaxis": "x24",
         "y": [
          1,
          3.1,
          2.6,
          0,
          1.9,
          1,
          4.4,
          0.8,
          0.8,
          3.2,
          1.6,
          3,
          0.7,
          4.2,
          1,
          1.5,
          2.2,
          1.1,
          0,
          3,
          0.3,
          3,
          0,
          0,
          1,
          0.4,
          0,
          0.6,
          3.4,
          2.8,
          1.2,
          2.9,
          0,
          3.6,
          1.4,
          0,
          0.2,
          0.4,
          0.8,
          0.4,
          0,
          1.2,
          0,
          0,
          1,
          0,
          1.4,
          1,
          0.2,
          0,
          2,
          5.6,
          1.9,
          0.2,
          0.8,
          0,
          0,
          0.9,
          1.6,
          0.2,
          1.2,
          1.8,
          0,
          6.2,
          3.4,
          1.9,
          1.2,
          0,
          0,
          0,
          0,
          4,
          0.8,
          0.6,
          0.8,
          0,
          0,
          3.6,
          3.4,
          0,
          0,
          0,
          0.2,
          0,
          2,
          0.6,
          1.1,
          0.2,
          0.2,
          0,
          0,
          1,
          1.6,
          1.4,
          0,
          0,
          0,
          0,
          3,
          2.2,
          1.4,
          2.5,
          0,
          2.8,
          0.8,
          3.6,
          0.9,
          0.4,
          0,
          0.4,
          0.5,
          2.8,
          0,
          0,
          1.2,
          0,
          2.6,
          0,
          0.1,
          2,
          0.6,
          0,
          1.2,
          0,
          0,
          0,
          1.8,
          1.4,
          1.6,
          0,
          0,
          1.2,
          0.5,
          2.1,
          0.6,
          1.9,
          0,
          1.5,
          1.6,
          0,
          0,
          2.8,
          4,
          2.2,
          1.9,
          1.8,
          1.2,
          0,
          0,
          1,
          1.8,
          0,
          0,
          0.1,
          1.5,
          0.1,
          0,
          0,
          0.9,
          0.6,
          0.8,
          0.8,
          2.6,
          0.6,
          2.8,
          1.8,
          0,
          0,
          1.6,
          0.3,
          0,
          0.8,
          2.8,
          0,
          0,
          0.3,
          1.4,
          0,
          2.4,
          0,
          0,
          1.2,
          1.6,
          1.2,
          1.4,
          3.8,
          0,
          0,
          1,
          3.2,
          0,
          0,
          0,
          2.3,
          0,
          0,
          0.6,
          0,
          1.4,
          0.2,
          0.4,
          0,
          3,
          1,
          0.8,
          0.2,
          0,
          0,
          0.1,
          1.8,
          1.3,
          0.2,
          0,
          0.4,
          0.2,
          0,
          0,
          0.6,
          2.4,
          1.8,
          3.5,
          1.6,
          2.4,
          0.5,
          1.4,
          0.8,
          0.5,
          0.1,
          1.2,
          1.5,
          0,
          1,
          0.8,
          1.8,
          0,
          2.5,
          1,
          0.6,
          0.6,
          1.8,
          1.4,
          0,
          2,
          2,
          1.2,
          0,
          2.3,
          1.2,
          1.6,
          0,
          0.6,
          1.2,
          0,
          1.6,
          0,
          1,
          0,
          2.6,
          0,
          0,
          4,
          0,
          2,
          0.6,
          2,
          2.2,
          0.5,
          1.2,
          0,
          0.4,
          0,
          4.2,
          2.6,
          0,
          1.6,
          0,
          1,
          0.2,
          0,
          0,
          0,
          0,
          2,
          0,
          0.1,
          2,
          1.2,
          1.8,
          1.4,
          3.6,
          0.4,
          2.6,
          1.4,
          1.2,
          0,
          0.1,
          0,
          1.5,
          0.6,
          0,
          0,
          1.4
         ],
         "yaxis": "y24"
        },
        {
         "hoverinfo": "x+y",
         "name": "oldpeak",
         "showlegend": false,
         "type": "histogram",
         "x": [
          1,
          3.1,
          2.6,
          0,
          1.9,
          1,
          4.4,
          0.8,
          0.8,
          3.2,
          1.6,
          3,
          0.7,
          4.2,
          1,
          1.5,
          2.2,
          1.1,
          0,
          3,
          0.3,
          3,
          0,
          0,
          1,
          0.4,
          0,
          0.6,
          3.4,
          2.8,
          1.2,
          2.9,
          0,
          3.6,
          1.4,
          0,
          0.2,
          0.4,
          0.8,
          0.4,
          0,
          1.2,
          0,
          0,
          1,
          0,
          1.4,
          1,
          0.2,
          0,
          2,
          5.6,
          1.9,
          0.2,
          0.8,
          0,
          0,
          0.9,
          1.6,
          0.2,
          1.2,
          1.8,
          0,
          6.2,
          3.4,
          1.9,
          1.2,
          0,
          0,
          0,
          0,
          4,
          0.8,
          0.6,
          0.8,
          0,
          0,
          3.6,
          3.4,
          0,
          0,
          0,
          0.2,
          0,
          2,
          0.6,
          1.1,
          0.2,
          0.2,
          0,
          0,
          1,
          1.6,
          1.4,
          0,
          0,
          0,
          0,
          3,
          2.2,
          1.4,
          2.5,
          0,
          2.8,
          0.8,
          3.6,
          0.9,
          0.4,
          0,
          0.4,
          0.5,
          2.8,
          0,
          0,
          1.2,
          0,
          2.6,
          0,
          0.1,
          2,
          0.6,
          0,
          1.2,
          0,
          0,
          0,
          1.8,
          1.4,
          1.6,
          0,
          0,
          1.2,
          0.5,
          2.1,
          0.6,
          1.9,
          0,
          1.5,
          1.6,
          0,
          0,
          2.8,
          4,
          2.2,
          1.9,
          1.8,
          1.2,
          0,
          0,
          1,
          1.8,
          0,
          0,
          0.1,
          1.5,
          0.1,
          0,
          0,
          0.9,
          0.6,
          0.8,
          0.8,
          2.6,
          0.6,
          2.8,
          1.8,
          0,
          0,
          1.6,
          0.3,
          0,
          0.8,
          2.8,
          0,
          0,
          0.3,
          1.4,
          0,
          2.4,
          0,
          0,
          1.2,
          1.6,
          1.2,
          1.4,
          3.8,
          0,
          0,
          1,
          3.2,
          0,
          0,
          0,
          2.3,
          0,
          0,
          0.6,
          0,
          1.4,
          0.2,
          0.4,
          0,
          3,
          1,
          0.8,
          0.2,
          0,
          0,
          0.1,
          1.8,
          1.3,
          0.2,
          0,
          0.4,
          0.2,
          0,
          0,
          0.6,
          2.4,
          1.8,
          3.5,
          1.6,
          2.4,
          0.5,
          1.4,
          0.8,
          0.5,
          0.1,
          1.2,
          1.5,
          0,
          1,
          0.8,
          1.8,
          0,
          2.5,
          1,
          0.6,
          0.6,
          1.8,
          1.4,
          0,
          2,
          2,
          1.2,
          0,
          2.3,
          1.2,
          1.6,
          0,
          0.6,
          1.2,
          0,
          1.6,
          0,
          1,
          0,
          2.6,
          0,
          0,
          4,
          0,
          2,
          0.6,
          2,
          2.2,
          0.5,
          1.2,
          0,
          0.4,
          0,
          4.2,
          2.6,
          0,
          1.6,
          0,
          1,
          0.2,
          0,
          0,
          0,
          0,
          2,
          0,
          0.1,
          2,
          1.2,
          1.8,
          1.4,
          3.6,
          0.4,
          2.6,
          1.4,
          1.2,
          0,
          0.1,
          0,
          1.5,
          0.6,
          0,
          0,
          1.4
         ],
         "xaxis": "x25",
         "yaxis": "y25"
        }
       ],
       "layout": {
        "height": 1500,
        "template": {
         "data": {
          "bar": [
           {
            "error_x": {
             "color": "#f2f5fa"
            },
            "error_y": {
             "color": "#f2f5fa"
            },
            "marker": {
             "line": {
              "color": "rgb(17,17,17)",
              "width": 0.5
             },
             "pattern": {
              "fillmode": "overlay",
              "size": 10,
              "solidity": 0.2
             }
            },
            "type": "bar"
           }
          ],
          "barpolar": [
           {
            "marker": {
             "line": {
              "color": "rgb(17,17,17)",
              "width": 0.5
             },
             "pattern": {
              "fillmode": "overlay",
              "size": 10,
              "solidity": 0.2
             }
            },
            "type": "barpolar"
           }
          ],
          "carpet": [
           {
            "aaxis": {
             "endlinecolor": "#A2B1C6",
             "gridcolor": "#506784",
             "linecolor": "#506784",
             "minorgridcolor": "#506784",
             "startlinecolor": "#A2B1C6"
            },
            "baxis": {
             "endlinecolor": "#A2B1C6",
             "gridcolor": "#506784",
             "linecolor": "#506784",
             "minorgridcolor": "#506784",
             "startlinecolor": "#A2B1C6"
            },
            "type": "carpet"
           }
          ],
          "choropleth": [
           {
            "colorbar": {
             "outlinewidth": 0,
             "ticks": ""
            },
            "type": "choropleth"
           }
          ],
          "contour": [
           {
            "colorbar": {
             "outlinewidth": 0,
             "ticks": ""
            },
            "colorscale": [
             [
              0,
              "#0d0887"
             ],
             [
              0.1111111111111111,
              "#46039f"
             ],
             [
              0.2222222222222222,
              "#7201a8"
             ],
             [
              0.3333333333333333,
              "#9c179e"
             ],
             [
              0.4444444444444444,
              "#bd3786"
             ],
             [
              0.5555555555555556,
              "#d8576b"
             ],
             [
              0.6666666666666666,
              "#ed7953"
             ],
             [
              0.7777777777777778,
              "#fb9f3a"
             ],
             [
              0.8888888888888888,
              "#fdca26"
             ],
             [
              1,
              "#f0f921"
             ]
            ],
            "type": "contour"
           }
          ],
          "contourcarpet": [
           {
            "colorbar": {
             "outlinewidth": 0,
             "ticks": ""
            },
            "type": "contourcarpet"
           }
          ],
          "heatmap": [
           {
            "colorbar": {
             "outlinewidth": 0,
             "ticks": ""
            },
            "colorscale": [
             [
              0,
              "#0d0887"
             ],
             [
              0.1111111111111111,
              "#46039f"
             ],
             [
              0.2222222222222222,
              "#7201a8"
             ],
             [
              0.3333333333333333,
              "#9c179e"
             ],
             [
              0.4444444444444444,
              "#bd3786"
             ],
             [
              0.5555555555555556,
              "#d8576b"
             ],
             [
              0.6666666666666666,
              "#ed7953"
             ],
             [
              0.7777777777777778,
              "#fb9f3a"
             ],
             [
              0.8888888888888888,
              "#fdca26"
             ],
             [
              1,
              "#f0f921"
             ]
            ],
            "type": "heatmap"
           }
          ],
          "heatmapgl": [
           {
            "colorbar": {
             "outlinewidth": 0,
             "ticks": ""
            },
            "colorscale": [
             [
              0,
              "#0d0887"
             ],
             [
              0.1111111111111111,
              "#46039f"
             ],
             [
              0.2222222222222222,
              "#7201a8"
             ],
             [
              0.3333333333333333,
              "#9c179e"
             ],
             [
              0.4444444444444444,
              "#bd3786"
             ],
             [
              0.5555555555555556,
              "#d8576b"
             ],
             [
              0.6666666666666666,
              "#ed7953"
             ],
             [
              0.7777777777777778,
              "#fb9f3a"
             ],
             [
              0.8888888888888888,
              "#fdca26"
             ],
             [
              1,
              "#f0f921"
             ]
            ],
            "type": "heatmapgl"
           }
          ],
          "histogram": [
           {
            "marker": {
             "pattern": {
              "fillmode": "overlay",
              "size": 10,
              "solidity": 0.2
             }
            },
            "type": "histogram"
           }
          ],
          "histogram2d": [
           {
            "colorbar": {
             "outlinewidth": 0,
             "ticks": ""
            },
            "colorscale": [
             [
              0,
              "#0d0887"
             ],
             [
              0.1111111111111111,
              "#46039f"
             ],
             [
              0.2222222222222222,
              "#7201a8"
             ],
             [
              0.3333333333333333,
              "#9c179e"
             ],
             [
              0.4444444444444444,
              "#bd3786"
             ],
             [
              0.5555555555555556,
              "#d8576b"
             ],
             [
              0.6666666666666666,
              "#ed7953"
             ],
             [
              0.7777777777777778,
              "#fb9f3a"
             ],
             [
              0.8888888888888888,
              "#fdca26"
             ],
             [
              1,
              "#f0f921"
             ]
            ],
            "type": "histogram2d"
           }
          ],
          "histogram2dcontour": [
           {
            "colorbar": {
             "outlinewidth": 0,
             "ticks": ""
            },
            "colorscale": [
             [
              0,
              "#0d0887"
             ],
             [
              0.1111111111111111,
              "#46039f"
             ],
             [
              0.2222222222222222,
              "#7201a8"
             ],
             [
              0.3333333333333333,
              "#9c179e"
             ],
             [
              0.4444444444444444,
              "#bd3786"
             ],
             [
              0.5555555555555556,
              "#d8576b"
             ],
             [
              0.6666666666666666,
              "#ed7953"
             ],
             [
              0.7777777777777778,
              "#fb9f3a"
             ],
             [
              0.8888888888888888,
              "#fdca26"
             ],
             [
              1,
              "#f0f921"
             ]
            ],
            "type": "histogram2dcontour"
           }
          ],
          "mesh3d": [
           {
            "colorbar": {
             "outlinewidth": 0,
             "ticks": ""
            },
            "type": "mesh3d"
           }
          ],
          "parcoords": [
           {
            "line": {
             "colorbar": {
              "outlinewidth": 0,
              "ticks": ""
             }
            },
            "type": "parcoords"
           }
          ],
          "pie": [
           {
            "automargin": true,
            "type": "pie"
           }
          ],
          "scatter": [
           {
            "marker": {
             "line": {
              "color": "#283442"
             }
            },
            "type": "scatter"
           }
          ],
          "scatter3d": [
           {
            "line": {
             "colorbar": {
              "outlinewidth": 0,
              "ticks": ""
             }
            },
            "marker": {
             "colorbar": {
              "outlinewidth": 0,
              "ticks": ""
             }
            },
            "type": "scatter3d"
           }
          ],
          "scattercarpet": [
           {
            "marker": {
             "colorbar": {
              "outlinewidth": 0,
              "ticks": ""
             }
            },
            "type": "scattercarpet"
           }
          ],
          "scattergeo": [
           {
            "marker": {
             "colorbar": {
              "outlinewidth": 0,
              "ticks": ""
             }
            },
            "type": "scattergeo"
           }
          ],
          "scattergl": [
           {
            "marker": {
             "line": {
              "color": "#283442"
             }
            },
            "type": "scattergl"
           }
          ],
          "scattermapbox": [
           {
            "marker": {
             "colorbar": {
              "outlinewidth": 0,
              "ticks": ""
             }
            },
            "type": "scattermapbox"
           }
          ],
          "scatterpolar": [
           {
            "marker": {
             "colorbar": {
              "outlinewidth": 0,
              "ticks": ""
             }
            },
            "type": "scatterpolar"
           }
          ],
          "scatterpolargl": [
           {
            "marker": {
             "colorbar": {
              "outlinewidth": 0,
              "ticks": ""
             }
            },
            "type": "scatterpolargl"
           }
          ],
          "scatterternary": [
           {
            "marker": {
             "colorbar": {
              "outlinewidth": 0,
              "ticks": ""
             }
            },
            "type": "scatterternary"
           }
          ],
          "surface": [
           {
            "colorbar": {
             "outlinewidth": 0,
             "ticks": ""
            },
            "colorscale": [
             [
              0,
              "#0d0887"
             ],
             [
              0.1111111111111111,
              "#46039f"
             ],
             [
              0.2222222222222222,
              "#7201a8"
             ],
             [
              0.3333333333333333,
              "#9c179e"
             ],
             [
              0.4444444444444444,
              "#bd3786"
             ],
             [
              0.5555555555555556,
              "#d8576b"
             ],
             [
              0.6666666666666666,
              "#ed7953"
             ],
             [
              0.7777777777777778,
              "#fb9f3a"
             ],
             [
              0.8888888888888888,
              "#fdca26"
             ],
             [
              1,
              "#f0f921"
             ]
            ],
            "type": "surface"
           }
          ],
          "table": [
           {
            "cells": {
             "fill": {
              "color": "#506784"
             },
             "line": {
              "color": "rgb(17,17,17)"
             }
            },
            "header": {
             "fill": {
              "color": "#2a3f5f"
             },
             "line": {
              "color": "rgb(17,17,17)"
             }
            },
            "type": "table"
           }
          ]
         },
         "layout": {
          "annotationdefaults": {
           "arrowcolor": "#f2f5fa",
           "arrowhead": 0,
           "arrowwidth": 1
          },
          "autotypenumbers": "strict",
          "coloraxis": {
           "colorbar": {
            "outlinewidth": 0,
            "ticks": ""
           }
          },
          "colorscale": {
           "diverging": [
            [
             0,
             "#8e0152"
            ],
            [
             0.1,
             "#c51b7d"
            ],
            [
             0.2,
             "#de77ae"
            ],
            [
             0.3,
             "#f1b6da"
            ],
            [
             0.4,
             "#fde0ef"
            ],
            [
             0.5,
             "#f7f7f7"
            ],
            [
             0.6,
             "#e6f5d0"
            ],
            [
             0.7,
             "#b8e186"
            ],
            [
             0.8,
             "#7fbc41"
            ],
            [
             0.9,
             "#4d9221"
            ],
            [
             1,
             "#276419"
            ]
           ],
           "sequential": [
            [
             0,
             "#0d0887"
            ],
            [
             0.1111111111111111,
             "#46039f"
            ],
            [
             0.2222222222222222,
             "#7201a8"
            ],
            [
             0.3333333333333333,
             "#9c179e"
            ],
            [
             0.4444444444444444,
             "#bd3786"
            ],
            [
             0.5555555555555556,
             "#d8576b"
            ],
            [
             0.6666666666666666,
             "#ed7953"
            ],
            [
             0.7777777777777778,
             "#fb9f3a"
            ],
            [
             0.8888888888888888,
             "#fdca26"
            ],
            [
             1,
             "#f0f921"
            ]
           ],
           "sequentialminus": [
            [
             0,
             "#0d0887"
            ],
            [
             0.1111111111111111,
             "#46039f"
            ],
            [
             0.2222222222222222,
             "#7201a8"
            ],
            [
             0.3333333333333333,
             "#9c179e"
            ],
            [
             0.4444444444444444,
             "#bd3786"
            ],
            [
             0.5555555555555556,
             "#d8576b"
            ],
            [
             0.6666666666666666,
             "#ed7953"
            ],
            [
             0.7777777777777778,
             "#fb9f3a"
            ],
            [
             0.8888888888888888,
             "#fdca26"
            ],
            [
             1,
             "#f0f921"
            ]
           ]
          },
          "colorway": [
           "#636efa",
           "#EF553B",
           "#00cc96",
           "#ab63fa",
           "#FFA15A",
           "#19d3f3",
           "#FF6692",
           "#B6E880",
           "#FF97FF",
           "#FECB52"
          ],
          "font": {
           "color": "#f2f5fa",
           "family": "monospace",
           "size": 14
          },
          "geo": {
           "bgcolor": "rgb(17,17,17)",
           "lakecolor": "rgb(17,17,17)",
           "landcolor": "rgb(17,17,17)",
           "showlakes": true,
           "showland": true,
           "subunitcolor": "#506784"
          },
          "hoverlabel": {
           "align": "left"
          },
          "hovermode": "closest",
          "mapbox": {
           "style": "dark"
          },
          "paper_bgcolor": "rgb(17,17,17)",
          "plot_bgcolor": "rgb(17,17,17)",
          "polar": {
           "angularaxis": {
            "gridcolor": "#506784",
            "linecolor": "#506784",
            "ticks": ""
           },
           "bgcolor": "rgb(17,17,17)",
           "radialaxis": {
            "gridcolor": "#506784",
            "linecolor": "#506784",
            "ticks": ""
           }
          },
          "scene": {
           "xaxis": {
            "backgroundcolor": "rgb(17,17,17)",
            "gridcolor": "#506784",
            "gridwidth": 2,
            "linecolor": "#506784",
            "showbackground": true,
            "ticks": "",
            "zerolinecolor": "#C8D4E3"
           },
           "yaxis": {
            "backgroundcolor": "rgb(17,17,17)",
            "gridcolor": "#506784",
            "gridwidth": 2,
            "linecolor": "#506784",
            "showbackground": true,
            "ticks": "",
            "zerolinecolor": "#C8D4E3"
           },
           "zaxis": {
            "backgroundcolor": "rgb(17,17,17)",
            "gridcolor": "#506784",
            "gridwidth": 2,
            "linecolor": "#506784",
            "showbackground": true,
            "ticks": "",
            "zerolinecolor": "#C8D4E3"
           }
          },
          "shapedefaults": {
           "line": {
            "color": "#f2f5fa"
           }
          },
          "sliderdefaults": {
           "bgcolor": "#C8D4E3",
           "bordercolor": "rgb(17,17,17)",
           "borderwidth": 1,
           "tickwidth": 0
          },
          "ternary": {
           "aaxis": {
            "gridcolor": "#506784",
            "linecolor": "#506784",
            "ticks": ""
           },
           "baxis": {
            "gridcolor": "#506784",
            "linecolor": "#506784",
            "ticks": ""
           },
           "bgcolor": "rgb(17,17,17)",
           "caxis": {
            "gridcolor": "#506784",
            "linecolor": "#506784",
            "ticks": ""
           }
          },
          "title": {
           "x": 0.05
          },
          "updatemenudefaults": {
           "bgcolor": "#506784",
           "borderwidth": 0
          },
          "xaxis": {
           "automargin": true,
           "gridcolor": "#283442",
           "linecolor": "#506784",
           "ticks": "",
           "title": {
            "standoff": 15
           },
           "zerolinecolor": "#283442",
           "zerolinewidth": 2
          },
          "yaxis": {
           "automargin": true,
           "gridcolor": "#283442",
           "linecolor": "#506784",
           "ticks": "",
           "title": {
            "standoff": 15
           },
           "zerolinecolor": "#283442",
           "zerolinewidth": 2
          }
         }
        },
        "title": {
         "text": "Pairplot of Selected Variables"
        },
        "width": 1500,
        "xaxis": {
         "anchor": "y",
         "domain": [
          0,
          0.184
         ],
         "matches": "x21",
         "showticklabels": true
        },
        "xaxis10": {
         "anchor": "y10",
         "domain": [
          0.816,
          1
         ],
         "matches": "x25",
         "showticklabels": true
        },
        "xaxis11": {
         "anchor": "y11",
         "domain": [
          0,
          0.184
         ],
         "matches": "x21",
         "showticklabels": true
        },
        "xaxis12": {
         "anchor": "y12",
         "domain": [
          0.204,
          0.388
         ],
         "matches": "x22",
         "showticklabels": true
        },
        "xaxis13": {
         "anchor": "y13",
         "domain": [
          0.408,
          0.592
         ],
         "matches": "x23",
         "showticklabels": true
        },
        "xaxis14": {
         "anchor": "y14",
         "domain": [
          0.6120000000000001,
          0.796
         ],
         "matches": "x24",
         "showticklabels": true
        },
        "xaxis15": {
         "anchor": "y15",
         "domain": [
          0.816,
          1
         ],
         "matches": "x25",
         "showticklabels": true
        },
        "xaxis16": {
         "anchor": "y16",
         "domain": [
          0,
          0.184
         ],
         "matches": "x21",
         "showticklabels": true
        },
        "xaxis17": {
         "anchor": "y17",
         "domain": [
          0.204,
          0.388
         ],
         "matches": "x22",
         "showticklabels": true
        },
        "xaxis18": {
         "anchor": "y18",
         "domain": [
          0.408,
          0.592
         ],
         "matches": "x23",
         "showticklabels": true
        },
        "xaxis19": {
         "anchor": "y19",
         "domain": [
          0.6120000000000001,
          0.796
         ],
         "matches": "x24",
         "showticklabels": true
        },
        "xaxis2": {
         "anchor": "y2",
         "domain": [
          0.204,
          0.388
         ],
         "matches": "x22",
         "showticklabels": true
        },
        "xaxis20": {
         "anchor": "y20",
         "domain": [
          0.816,
          1
         ],
         "matches": "x25",
         "showticklabels": true
        },
        "xaxis21": {
         "anchor": "y21",
         "domain": [
          0,
          0.184
         ],
         "showticklabels": true,
         "title": {
          "text": "Age"
         }
        },
        "xaxis22": {
         "anchor": "y22",
         "domain": [
          0.204,
          0.388
         ],
         "showticklabels": true,
         "title": {
          "text": "Resting Blood Pressure"
         }
        },
        "xaxis23": {
         "anchor": "y23",
         "domain": [
          0.408,
          0.592
         ],
         "showticklabels": true,
         "title": {
          "text": "Cholesterol"
         }
        },
        "xaxis24": {
         "anchor": "y24",
         "domain": [
          0.6120000000000001,
          0.796
         ],
         "showticklabels": true,
         "title": {
          "text": "Max Heart Rate"
         }
        },
        "xaxis25": {
         "anchor": "y25",
         "domain": [
          0.816,
          1
         ],
         "showticklabels": true,
         "title": {
          "text": "Oldpeak"
         }
        },
        "xaxis3": {
         "anchor": "y3",
         "domain": [
          0.408,
          0.592
         ],
         "matches": "x23",
         "showticklabels": true
        },
        "xaxis4": {
         "anchor": "y4",
         "domain": [
          0.6120000000000001,
          0.796
         ],
         "matches": "x24",
         "showticklabels": true
        },
        "xaxis5": {
         "anchor": "y5",
         "domain": [
          0.816,
          1
         ],
         "matches": "x25",
         "showticklabels": true
        },
        "xaxis6": {
         "anchor": "y6",
         "domain": [
          0,
          0.184
         ],
         "matches": "x21",
         "showticklabels": true
        },
        "xaxis7": {
         "anchor": "y7",
         "domain": [
          0.204,
          0.388
         ],
         "matches": "x22",
         "showticklabels": true
        },
        "xaxis8": {
         "anchor": "y8",
         "domain": [
          0.408,
          0.592
         ],
         "matches": "x23",
         "showticklabels": true
        },
        "xaxis9": {
         "anchor": "y9",
         "domain": [
          0.6120000000000001,
          0.796
         ],
         "matches": "x24",
         "showticklabels": true
        },
        "yaxis": {
         "anchor": "x",
         "domain": [
          0.816,
          1
         ],
         "title": {
          "text": "Age"
         }
        },
        "yaxis10": {
         "anchor": "x10",
         "domain": [
          0.6120000000000001,
          0.796
         ]
        },
        "yaxis11": {
         "anchor": "x11",
         "domain": [
          0.408,
          0.592
         ],
         "title": {
          "text": "Cholesterol"
         }
        },
        "yaxis12": {
         "anchor": "x12",
         "domain": [
          0.408,
          0.592
         ]
        },
        "yaxis13": {
         "anchor": "x13",
         "domain": [
          0.408,
          0.592
         ]
        },
        "yaxis14": {
         "anchor": "x14",
         "domain": [
          0.408,
          0.592
         ]
        },
        "yaxis15": {
         "anchor": "x15",
         "domain": [
          0.408,
          0.592
         ]
        },
        "yaxis16": {
         "anchor": "x16",
         "domain": [
          0.204,
          0.388
         ],
         "title": {
          "text": "Max Heart Rate"
         }
        },
        "yaxis17": {
         "anchor": "x17",
         "domain": [
          0.204,
          0.388
         ]
        },
        "yaxis18": {
         "anchor": "x18",
         "domain": [
          0.204,
          0.388
         ]
        },
        "yaxis19": {
         "anchor": "x19",
         "domain": [
          0.204,
          0.388
         ]
        },
        "yaxis2": {
         "anchor": "x2",
         "domain": [
          0.816,
          1
         ]
        },
        "yaxis20": {
         "anchor": "x20",
         "domain": [
          0.204,
          0.388
         ]
        },
        "yaxis21": {
         "anchor": "x21",
         "domain": [
          0,
          0.184
         ],
         "title": {
          "text": "Oldpeak"
         }
        },
        "yaxis22": {
         "anchor": "x22",
         "domain": [
          0,
          0.184
         ]
        },
        "yaxis23": {
         "anchor": "x23",
         "domain": [
          0,
          0.184
         ]
        },
        "yaxis24": {
         "anchor": "x24",
         "domain": [
          0,
          0.184
         ]
        },
        "yaxis25": {
         "anchor": "x25",
         "domain": [
          0,
          0.184
         ]
        },
        "yaxis3": {
         "anchor": "x3",
         "domain": [
          0.816,
          1
         ]
        },
        "yaxis4": {
         "anchor": "x4",
         "domain": [
          0.816,
          1
         ]
        },
        "yaxis5": {
         "anchor": "x5",
         "domain": [
          0.816,
          1
         ]
        },
        "yaxis6": {
         "anchor": "x6",
         "domain": [
          0.6120000000000001,
          0.796
         ],
         "title": {
          "text": "Resting Blood Pressure"
         }
        },
        "yaxis7": {
         "anchor": "x7",
         "domain": [
          0.6120000000000001,
          0.796
         ]
        },
        "yaxis8": {
         "anchor": "x8",
         "domain": [
          0.6120000000000001,
          0.796
         ]
        },
        "yaxis9": {
         "anchor": "x9",
         "domain": [
          0.6120000000000001,
          0.796
         ]
        }
       }
      }
     },
     "metadata": {},
     "output_type": "display_data"
    }
   ],
   "source": [
    "# create subplots for scatter plots\n",
    "import plotly.express as px\n",
    "from plotly.subplots import make_subplots\n",
    "\n",
    "# Create subplots\n",
    "fig = make_subplots(rows=2, cols=2, subplot_titles=('Age vs Maximum Heart Rate', 'Age vs Cholesterol', 'Age vs Resting Blood Pressure', 'Age vs Oldpeak'))\n",
    "\n",
    "# create function to add traces\n",
    "def add_trace(fig, df, x_col, y_col, row, col):\n",
    "    fig.add_trace(go.Scatter(x=df[x_col], y=df[y_col], mode='markers'), row=row, col=col)\n",
    "    # update axes titles\n",
    "    fig.update_xaxes(title_text=x_col, row=row, col=col)\n",
    "    fig.update_yaxes(title_text=y_col, row=row, col=col)\n",
    "    # remove 'trace 0' from tooltip\n",
    "    fig.update_traces(hoverinfo='x+y')\n",
    "\n",
    "\n",
    "#  Columns to include in the pairplot\n",
    "columns_to_include = ['age', 'resting_blood_pressure', 'cholestoral', 'Max_heart_rate', 'oldpeak']\n",
    "\n",
    "# Create subplots\n",
    "num_cols = len(columns_to_include)\n",
    "fig = make_subplots(rows=num_cols, cols=num_cols, \n",
    "                    shared_xaxes=True, shared_yaxes=False, \n",
    "                    vertical_spacing=0.02, horizontal_spacing=0.02)\n",
    "\n",
    "# Add scatter plots and histograms to the subplots\n",
    "for i, col1 in enumerate(columns_to_include):\n",
    "    for j, col2 in enumerate(columns_to_include):\n",
    "        if i == j:\n",
    "            # Add histogram on the diagonal\n",
    "            fig.add_trace(go.Histogram(x=df[col1], name=col1, showlegend=False), row=i+1, col=j+1)\n",
    "        else:\n",
    "            # Add scatter plot for off-diagonal\n",
    "            fig.add_trace(go.Scatter(x=df[col2], y=df[col1], mode='markers', \n",
    "                                     marker=dict(color=df['target'], colorscale='Tealrose', showscale=False),\n",
    "                                     showlegend=False), row=i+1, col=j+1)\n",
    "            # change hover tooltip to x_name: {x}<br>y_name: {y}\n",
    "\n",
    "        # Add axis labels (uses mapping to get full column names)\n",
    "        if i == num_cols - 1:\n",
    "            fig.update_xaxes(title_text=column_mapping[col2], row=i+1, col=j+1)\n",
    "            # change hover tooltip\n",
    "            fig.update_traces(hoverinfo='x+y')\n",
    "            # show xaxis values and tick labels\n",
    "            fig.update_xaxes(showticklabels=True)\n",
    "        if j == 0:\n",
    "            fig.update_yaxes(title_text=column_mapping[col1], row=i+1, col=j+1)\n",
    "\n",
    "# Update layout\n",
    "fig.update_layout(height=1500, width=1500, title_text=\"Pairplot of Selected Variables\")\n",
    "\n",
    "# Show the plot\n",
    "fig.show()\n"
   ]
  },
  {
   "cell_type": "code",
   "execution_count": 177,
   "metadata": {},
   "outputs": [],
   "source": [
    "# save the plot to html, use cdn\n",
    "# fig.write_html(\"eda/pairplot.html\", include_plotlyjs='cdn')\n",
    "# save to png\n",
    "fig.write_image(\"eda/pairplot.png\")\n"
   ]
  }
 ],
 "metadata": {
  "kernelspec": {
   "display_name": "base",
   "language": "python",
   "name": "python3"
  },
  "language_info": {
   "codemirror_mode": {
    "name": "ipython",
    "version": 3
   },
   "file_extension": ".py",
   "mimetype": "text/x-python",
   "name": "python",
   "nbconvert_exporter": "python",
   "pygments_lexer": "ipython3",
   "version": "3.11.5"
  }
 },
 "nbformat": 4,
 "nbformat_minor": 2
}
